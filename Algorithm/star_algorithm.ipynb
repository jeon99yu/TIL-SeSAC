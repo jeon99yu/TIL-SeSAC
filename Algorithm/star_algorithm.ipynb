{
 "cells": [
  {
   "cell_type": "markdown",
   "id": "abb5c9eb",
   "metadata": {},
   "source": [
    "### 01"
   ]
  },
  {
   "cell_type": "code",
   "execution_count": 16,
   "id": "e0db2e45",
   "metadata": {},
   "outputs": [
    {
     "name": "stdout",
     "output_type": "stream",
     "text": [
      "*****\n",
      "*****\n",
      "*****\n",
      "*****\n",
      "*****\n",
      "*****\n"
     ]
    }
   ],
   "source": [
    "n1 = 6\n",
    "n2 = 5\n",
    "\n",
    "for i in range(n1):\n",
    "    for j in range(n2):\n",
    "        print('*', end='')\n",
    "    print()"
   ]
  },
  {
   "cell_type": "markdown",
   "id": "ef2ca147",
   "metadata": {},
   "source": [
    "### 02"
   ]
  },
  {
   "cell_type": "code",
   "execution_count": 17,
   "id": "ff0b44ec",
   "metadata": {},
   "outputs": [
    {
     "name": "stdout",
     "output_type": "stream",
     "text": [
      "\n",
      "*\n",
      "**\n",
      "***\n",
      "****\n",
      "*****\n"
     ]
    }
   ],
   "source": [
    "n = 5\n",
    "\n",
    "for i in range(n+1):\n",
    "    print('*'*i)"
   ]
  },
  {
   "cell_type": "markdown",
   "id": "7a09ae1b",
   "metadata": {},
   "source": [
    "### 03"
   ]
  },
  {
   "cell_type": "code",
   "execution_count": 18,
   "id": "9db78054",
   "metadata": {},
   "outputs": [
    {
     "name": "stdout",
     "output_type": "stream",
     "text": [
      "    *\n",
      "   **\n",
      "  ***\n",
      " ****\n",
      "*****\n"
     ]
    }
   ],
   "source": [
    "n = 5\n",
    "\n",
    "for i in range(1, n+1):\n",
    "    print(' ' * (n-i) + '*' * i)"
   ]
  },
  {
   "cell_type": "markdown",
   "id": "4f0ec8c0",
   "metadata": {},
   "source": [
    "### 04"
   ]
  },
  {
   "cell_type": "code",
   "execution_count": 19,
   "id": "8890c1b2",
   "metadata": {},
   "outputs": [
    {
     "name": "stdout",
     "output_type": "stream",
     "text": [
      "*****\n",
      "****\n",
      "***\n",
      "**\n",
      "*\n"
     ]
    }
   ],
   "source": [
    "n = 5\n",
    "\n",
    "for i in range(n):  \n",
    "    for j in range(n-i):  \n",
    "        print('*', end='')\n",
    "    print()"
   ]
  },
  {
   "cell_type": "markdown",
   "id": "d2f6eb52",
   "metadata": {},
   "source": [
    "### 05"
   ]
  },
  {
   "cell_type": "code",
   "execution_count": 20,
   "id": "daf16d6f",
   "metadata": {},
   "outputs": [
    {
     "name": "stdout",
     "output_type": "stream",
     "text": [
      "*****\n",
      " ****\n",
      "  ***\n",
      "   **\n",
      "    *\n"
     ]
    }
   ],
   "source": [
    "n = 5\n",
    "\n",
    "for i in range(n):\n",
    "    print(' '*i + '*'*(n-i))"
   ]
  },
  {
   "cell_type": "markdown",
   "id": "acca11e7",
   "metadata": {},
   "source": [
    "### 06"
   ]
  },
  {
   "cell_type": "code",
   "execution_count": 21,
   "id": "3ff7e4d4",
   "metadata": {},
   "outputs": [
    {
     "name": "stdout",
     "output_type": "stream",
     "text": [
      "*\n",
      " *\n",
      "  *\n",
      "   *\n",
      "    *\n"
     ]
    }
   ],
   "source": [
    "n = 5\n",
    "\n",
    "for i in range(n): \n",
    "    for j in range(i):\n",
    "        print(' ', end='')\n",
    "\n",
    "    print('*')"
   ]
  }
 ],
 "metadata": {
  "kernelspec": {
   "display_name": "study",
   "language": "python",
   "name": "study"
  },
  "language_info": {
   "codemirror_mode": {
    "name": "ipython",
    "version": 3
   },
   "file_extension": ".py",
   "mimetype": "text/x-python",
   "name": "python",
   "nbconvert_exporter": "python",
   "pygments_lexer": "ipython3",
   "version": "3.7.16"
  }
 },
 "nbformat": 4,
 "nbformat_minor": 5
}

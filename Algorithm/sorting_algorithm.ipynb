{
 "cells": [
  {
   "cell_type": "markdown",
   "id": "42c60dd4",
   "metadata": {},
   "source": [
    "### 그리디 알고리즘\n",
    "\n",
    "- 거스름돈 문제"
   ]
  },
  {
   "cell_type": "code",
   "execution_count": 3,
   "id": "ea32f52f",
   "metadata": {},
   "outputs": [
    {
     "data": {
      "text/plain": [
       "16"
      ]
     },
     "execution_count": 3,
     "metadata": {},
     "output_type": "execute_result"
    }
   ],
   "source": [
    "N = int(input())\n",
    "coins = [500, 100, 50, 10]\n",
    "result = 0\n",
    "\n",
    "# 500원\n",
    "result = result + N // 500\n",
    "# 100원\n",
    "result += N // 100\n",
    "N = N % 100\n",
    "# 50원\n",
    "result += N // 50\n",
    "N = N % 50\n",
    "# 10원\n",
    "result += N // 10\n",
    "N = N % 10\n",
    "\n",
    "result"
   ]
  },
  {
   "cell_type": "code",
   "execution_count": 5,
   "id": "cc0f94a7",
   "metadata": {},
   "outputs": [
    {
     "data": {
      "text/plain": [
       "6"
      ]
     },
     "execution_count": 5,
     "metadata": {},
     "output_type": "execute_result"
    }
   ],
   "source": [
    "N = int(input())\n",
    "coins = [500, 100, 50, 10]\n",
    "result = 0\n",
    "\n",
    "for coin in coins:\n",
    "    result = result + N // coin\n",
    "    N = N % coin\n",
    "    \n",
    "result"
   ]
  },
  {
   "cell_type": "markdown",
   "id": "043cf579",
   "metadata": {},
   "source": [
    "### 정렬\n",
    "-  삽입정렬"
   ]
  },
  {
   "cell_type": "code",
   "execution_count": 8,
   "id": "d39114ac",
   "metadata": {},
   "outputs": [],
   "source": [
    "arr = [3, 0, 1, 8, 7, 2, 5, 4, 9, 6]"
   ]
  },
  {
   "cell_type": "code",
   "execution_count": 3,
   "id": "67661dcb",
   "metadata": {},
   "outputs": [
    {
     "data": {
      "text/plain": [
       "[0, 1, 2, 3, 4, 5, 6, 7, 8, 9]"
      ]
     },
     "execution_count": 3,
     "metadata": {},
     "output_type": "execute_result"
    }
   ],
   "source": [
    "for start_idx in range(1, len(arr)):\n",
    "    # 현재 삽입하려는 값보다 왼쪽에 있는 정렬된 부분에서 비교\n",
    "    idx = start_idx\n",
    "\n",
    "    # 정렬된 왼쪽 부분에서 현재 값보다 큰 값들을 오른쪽으로 밀고, 적절한 위치에 삽입한다\n",
    "    while idx > 0 and arr[idx] < arr[idx - 1]:\n",
    "        # 두 값을 스왑\n",
    "        arr[idx], arr[idx - 1] = arr[idx - 1], arr[idx]\n",
    "        \n",
    "        idx -= 1 # 왼쪽으로 한 칸 이동하면서 계속 비교\n",
    "\n",
    "arr"
   ]
  },
  {
   "cell_type": "markdown",
   "id": "ace7834e",
   "metadata": {},
   "source": [
    "- 선택정렬"
   ]
  },
  {
   "cell_type": "code",
   "execution_count": null,
   "id": "7644fe46",
   "metadata": {},
   "outputs": [
    {
     "data": {
      "text/plain": [
       "[0, 1, 2, 3, 4, 5, 6, 7, 8, 9]"
      ]
     },
     "execution_count": 2,
     "metadata": {},
     "output_type": "execute_result"
    }
   ],
   "source": [
    "arr = [3, 0, 1, 8, 7, 2, 5, 4, 9, 6]\n",
    "\n",
    "for i in range(len(arr)):\n",
    "    min_idx = i  # 현재 위치를 최소값의 인덱스로 가정\n",
    "\n",
    "    for j in range(i+1, len(arr)):\n",
    "        if arr[j] < arr[min_idx]:\n",
    "            min_idx = j # 더 작은 값이 있으면 min_idx 갱신\n",
    "            \n",
    "    # 현재 위치(i)에 가장 작은 값을 갖는 원소를 swap        \n",
    "    arr[i], arr[min_idx] = arr[min_idx], arr[i]\n",
    "\n",
    "arr"
   ]
  },
  {
   "cell_type": "markdown",
   "id": "af90cea9",
   "metadata": {},
   "source": [
    "- 버블정렬"
   ]
  },
  {
   "cell_type": "code",
   "execution_count": null,
   "id": "2145e3a1",
   "metadata": {},
   "outputs": [
    {
     "data": {
      "text/plain": [
       "[0, 1, 2, 3, 4, 5, 6, 7, 8, 9]"
      ]
     },
     "execution_count": 1,
     "metadata": {},
     "output_type": "execute_result"
    }
   ],
   "source": [
    "arr = [3, 0, 1, 8, 7, 2, 5, 4, 9, 6]\n",
    "\n",
    "for i in range(len(arr)):\n",
    "    # 인접한 두 값을 비교하여 더 큰 값을 오른쪽으로\n",
    "    \n",
    "    for j in range(0, len(arr) -i-1): # 이미 정렬된 부분은 비교할 필요x\n",
    "        if arr[j] > arr[j+1]:\n",
    "            # 더 큰 값이 앞에 있으면 두 값을 swap \n",
    "            arr[j], arr[j+1] = arr[j+1], arr[j]\n",
    "\n",
    "arr"
   ]
  },
  {
   "cell_type": "code",
   "execution_count": null,
   "id": "67b3e0f5",
   "metadata": {},
   "outputs": [],
   "source": []
  }
 ],
 "metadata": {
  "kernelspec": {
   "display_name": "study",
   "language": "python",
   "name": "study"
  },
  "language_info": {
   "codemirror_mode": {
    "name": "ipython",
    "version": 3
   },
   "file_extension": ".py",
   "mimetype": "text/x-python",
   "name": "python",
   "nbconvert_exporter": "python",
   "pygments_lexer": "ipython3",
   "version": "3.11.13"
  }
 },
 "nbformat": 4,
 "nbformat_minor": 5
}

{
 "cells": [
  {
   "cell_type": "markdown",
   "id": "7d31fca6",
   "metadata": {},
   "source": [
    "### 도전과제: 파이썬 가위바위보 프로그램"
   ]
  },
  {
   "cell_type": "code",
   "execution_count": null,
   "id": "b2cbb27e",
   "metadata": {},
   "outputs": [
    {
     "name": "stdout",
     "output_type": "stream",
     "text": [
      "> 이전 게임 기록: 9승/12무/10패 (총: 31판)\n",
      "Player: 가위, Computer: 바위 -> [Player 패배]\n",
      "Player: 바위, Computer: 바위 -> [무승부]\n",
      "[INPUT ERROR] '가위/바위/보' 중 하나를 정확히 입력하세요!\n",
      "Player: 보, Computer: 보 -> [무승부]\n",
      "Player: 보, Computer: 보 -> [무승부]\n",
      "Player: 보, Computer: 가위 -> [Player 패배]\n",
      "Player: 보, Computer: 바위 -> [Player 승리]\n",
      "Player: 가위, Computer: 바위 -> [Player 패배]\n",
      "Player: 바위, Computer: 가위 -> [Player 승리]\n"
     ]
    },
    {
     "data": {
      "image/png": "[encoded data removed]",
      "text/plain": [
       "<Figure size 500x300 with 1 Axes>"
      ]
     },
     "metadata": {},
     "output_type": "display_data"
    },
    {
     "name": "stdout",
     "output_type": "stream",
     "text": [
      "> 현재까지 승률: 28.21%\n",
      "Player: 가위, Computer: 바위 -> [Player 패배]\n",
      "Player: 바위, Computer: 보 -> [Player 패배]\n",
      "Player: 보, Computer: 바위 -> [Player 승리]\n",
      "> 현재까지 플레이 횟수: 42회 (12승/15무/15패)\n",
      "[END] 게임을 종료합니다... (최종 승률: 28.57%)\n"
     ]
    }
   ],
   "source": [
    "import random, json, os\n",
    "from matplotlib import pyplot as plt\n",
    "\n",
    "RPS = ['가위', '바위', '보']\n",
    "record_file = 'rps_record.json'\n",
    "\n",
    "# 이전 기록 파일로 불러오기 로직\n",
    "if os.path.exists(record_file):\n",
    "    with open(record_file, 'r') as f:\n",
    "        data = json.load(f)\n",
    "        wins = data.get('wins', 0)\n",
    "        loses = data.get('loses', 0)\n",
    "        draws = data.get('draws', 0)\n",
    "        count = wins + loses + draws\n",
    "        \n",
    "    print(f\"> 이전 게임 기록: {wins}승/{draws}무/{loses}패 (총: {count}판)\")    \n",
    "\n",
    "else:\n",
    "    wins, loses, draws = 0, 0, 0\n",
    "    count = 0\n",
    "\n",
    "while True:\n",
    "    player_input = input(\"가위/바위/보 중 하나를 입력하세요 (종료하려면 '종료' 입력): \")\n",
    "    computer_input = random.choice(RPS)\n",
    "    show_info = f'Player: {player_input}, Computer: {computer_input} -> '\n",
    "\n",
    "    try:\n",
    "        # 게임 종료하기 로직\n",
    "        if player_input == '종료':\n",
    "            print(f'> 현재까지 플레이 횟수: {count}회 ({wins}승/{draws}무/{loses}패)')\n",
    "            if count > 0:\n",
    "                print(f'[END] 게임을 종료합니다... (최종 승률: {((wins / count) * 100):.2f}%)')\n",
    "            else:\n",
    "                print('[END] 게임을 종료합니다... (게임 진행 X)')\n",
    "\n",
    "            # 기록 저장 로직\n",
    "            with open(record_file, 'w') as f:\n",
    "                json.dump({'wins': wins, 'loses': loses, 'draws': draws}, f)\n",
    "            break\n",
    "\n",
    "        # 승률 확인 로직\n",
    "        elif player_input == '승률':\n",
    "            if count > 0:\n",
    "                # 승률 그래프 시각화 추가\n",
    "                plt.figure(figsize=(5, 3))\n",
    "                plt.bar(['win', 'lose', 'draw'], [wins, loses, draws])\n",
    "                plt.title('Rock-Scissors-Paper Winning Rate')\n",
    "                plt.show()\n",
    "                \n",
    "                print(f'> 현재까지 승률: {((wins / count) * 100):.2f}%')\n",
    "            else:\n",
    "                print('아직 게임을 진행한 적이 없습니다!')\n",
    "            continue\n",
    "\n",
    "        # 게임 진행 로직\n",
    "        elif player_input == computer_input:\n",
    "            count += 1\n",
    "            draws += 1\n",
    "            print(show_info + '[무승부]')\n",
    "\n",
    "        elif player_input == '가위':\n",
    "            count += 1\n",
    "            if computer_input == '바위':\n",
    "                loses += 1\n",
    "                print(show_info + '[Player 패배]')\n",
    "            elif computer_input == '보':\n",
    "                wins += 1\n",
    "                print(show_info + '[Player 승리]')\n",
    "\n",
    "        elif player_input == '바위':\n",
    "            count += 1\n",
    "            if computer_input == '보':\n",
    "                loses += 1\n",
    "                print(show_info + '[Player 패배]')\n",
    "            elif computer_input == '가위':\n",
    "                wins += 1\n",
    "                print(show_info + '[Player 승리]')\n",
    "\n",
    "        elif player_input == '보':\n",
    "            count += 1\n",
    "            if computer_input == '가위':\n",
    "                loses += 1\n",
    "                print(show_info + '[Player 패배]')\n",
    "            elif computer_input == '바위':\n",
    "                wins += 1\n",
    "                print(show_info + '[Player 승리]')\n",
    "    \n",
    "        else: # 입력값 예외 처리\n",
    "            raise ValueError('[INPUT ERROR]')\n",
    "\n",
    "    except Exception as err:\n",
    "        print(err, \"'가위/바위/보' 중 하나를 정확히 입력하세요!\")\n"
   ]
  },
  {
   "cell_type": "code",
   "execution_count": null,
   "id": "930496db",
   "metadata": {},
   "outputs": [],
   "source": []
  }
 ],
 "metadata": {
  "kernelspec": {
   "display_name": "study",
   "language": "python",
   "name": "study"
  },
  "language_info": {
   "codemirror_mode": {
    "name": "ipython",
    "version": 3
   },
   "file_extension": ".py",
   "mimetype": "text/x-python",
   "name": "python",
   "nbconvert_exporter": "python",
   "pygments_lexer": "ipython3",
   "version": "3.7.16"
  }
 },
 "nbformat": 4,
 "nbformat_minor": 5
}

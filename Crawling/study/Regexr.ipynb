{
 "cells": [
  {
   "cell_type": "markdown",
   "id": "325ba2ae",
   "metadata": {},
   "source": [
    "# Regex"
   ]
  },
  {
   "cell_type": "markdown",
   "id": "53b9a6f2",
   "metadata": {},
   "source": [
    "### re\n",
    "> import re\n",
    "- 파이썬에서 정규표현식을 사용할 수 있게 하는 라이브러리\n",
    "- html 소스에서 링크주소만 가져오는 패턴"
   ]
  },
  {
   "cell_type": "code",
   "execution_count": 1,
   "id": "5bbb9db8",
   "metadata": {},
   "outputs": [],
   "source": [
    "import re"
   ]
  },
  {
   "cell_type": "code",
   "execution_count": 19,
   "id": "bb2eb3f3",
   "metadata": {},
   "outputs": [],
   "source": [
    "text = 'I like orange! I love orange!'"
   ]
  },
  {
   "cell_type": "code",
   "execution_count": 15,
   "id": "393057f4",
   "metadata": {},
   "outputs": [
    {
     "name": "stdout",
     "output_type": "stream",
     "text": [
      "None\n"
     ]
    }
   ],
   "source": [
    "# match(): 문자열 처음부터(앞에서 부터) 매치여부를 조사, 객체리턴 (잘 안씀)\n",
    "result = re.match('orange', text)\n",
    "print(result)"
   ]
  },
  {
   "cell_type": "code",
   "execution_count": 20,
   "id": "eba44a56",
   "metadata": {},
   "outputs": [
    {
     "name": "stdout",
     "output_type": "stream",
     "text": [
      "<re.Match object; span=(7, 13), match='orange'>\n"
     ]
    }
   ],
   "source": [
    "# search(): 문자열 전체를 조사, 처음검색된 최초문자열 객체리턴\n",
    "result = re.search('orange', text)\n",
    "print(result)"
   ]
  },
  {
   "cell_type": "code",
   "execution_count": 21,
   "id": "736061fe",
   "metadata": {},
   "outputs": [
    {
     "data": {
      "text/plain": [
       "(7, 13)"
      ]
     },
     "execution_count": 21,
     "metadata": {},
     "output_type": "execute_result"
    }
   ],
   "source": [
    "result.group() # 매치된 값 'orange'\n",
    "result.start() # 시작 index\n",
    "result.end() # 끝 index (+1이 되어있음)\n",
    "result.span() # (시작, 끝) tuple로 반환"
   ]
  },
  {
   "cell_type": "code",
   "execution_count": 12,
   "id": "0d02fc98",
   "metadata": {},
   "outputs": [
    {
     "data": {
      "text/plain": [
       "'orange'"
      ]
     },
     "execution_count": 12,
     "metadata": {},
     "output_type": "execute_result"
    }
   ],
   "source": [
    "text[7:13]"
   ]
  },
  {
   "cell_type": "code",
   "execution_count": null,
   "id": "09f30c2b",
   "metadata": {},
   "outputs": [
    {
     "data": {
      "text/plain": [
       "['orange', 'orange']"
      ]
     },
     "execution_count": 23,
     "metadata": {},
     "output_type": "execute_result"
    }
   ],
   "source": [
    "# findall(): 매치되는 모든 문자열 전부 리스트로 리턴\n",
    "re.findall('orange', text)"
   ]
  },
  {
   "cell_type": "code",
   "execution_count": 28,
   "id": "78764849",
   "metadata": {},
   "outputs": [
    {
     "data": {
      "text/plain": [
       "<callable_iterator at 0x28dd80a0808>"
      ]
     },
     "execution_count": 28,
     "metadata": {},
     "output_type": "execute_result"
    }
   ],
   "source": [
    "# finditer(): 매치되는 모든 문자열의 반복가능한 객체로 리턴\n",
    "result = re.finditer('orange', text)\n",
    "result"
   ]
  },
  {
   "cell_type": "code",
   "execution_count": null,
   "id": "e3652457",
   "metadata": {},
   "outputs": [
    {
     "name": "stdout",
     "output_type": "stream",
     "text": [
      "<re.Match object; span=(7, 13), match='orange'>\n",
      "orange\n",
      "<re.Match object; span=(22, 28), match='orange'>\n",
      "orange\n"
     ]
    }
   ],
   "source": [
    "# finditer() 주 사용법\n",
    "for r in result:\n",
    "    print(r)\n",
    "    print(r.group())"
   ]
  },
  {
   "cell_type": "markdown",
   "id": "db836ee1",
   "metadata": {},
   "source": [
    "#### 실습\n",
    "- 해당기사에서 네이버가 총 몇번 나오는지 정규표현식을 이용해 파이썬에서 확인"
   ]
  },
  {
   "cell_type": "code",
   "execution_count": null,
   "id": "c15b0e92",
   "metadata": {},
   "outputs": [
    {
     "data": {
      "text/plain": [
       "13"
      ]
     },
     "execution_count": 31,
     "metadata": {},
     "output_type": "execute_result"
    }
   ],
   "source": [
    "docs = '''전국 언론 노동자들이 시민사회단체와 함께 네이버의 지역 차별을 규탄하고 개선을 촉구하는 무기한 릴레이 시위에 돌입했다.\n",
    "\n",
    "전국언론노조와 전국 민주언론시민연합(민언련)은 1일 오전 11시 30분 경기도 성남시의 네이버 본사(그린팩토리) 앞에서 1인 시위를 시작했다. 이날 시위에는 오정훈 전국언론노동조합위원장, 전대식 지역신문노동조합협의회 의장(부산일보 지부장), 김명래 경인일보지부장, 민진영 경기민주언론시민연합 사무처장 등이 참여했다.\n",
    "\n",
    "이들은 1인 시위를 통해 ‘네이버 뉴스 서비스 지역 언론 배제 개선’을 요구하고 ‘지역 공론장 형성을 위한 네이버의 공적 책임’을 촉구했다. 전국언론노조와 민언련은 매주 월요일마다 네이버 본사 앞 시위를 진행할 예정이다.\n",
    "\n",
    "네이버는 최근 뉴스 서비스에 인공지능 에어스(AiRS) 알고리즘을 적용하는 방식으로 뉴스 편집 기능을 개편했다. 이후 지역 언론사 뉴스의 노출이 현격하게 줄어들었다. 아울러 100여 개 모바일 콘텐츠 제휴 언론사 중 독자가 구독을 선택할 수 있는 ‘채널’ 제휴사 44곳을 선정했는데 이 과정에서 지역 언론을 철저하게 배제했다. \n",
    "\n",
    "이에 반발해 전국언론노조뿐 아니라 한국지방신문협회, 대한민국지방신문협의회 등 지역 신문 단체도 공동 성명을 발표하며 개선을 요구하고 나섰다. 전국시도의회의장협의회는 최근 총회에서 ‘네이버 지역 언론 배제 반대 성명’을 채택하기도 했다. 하지만 이 같은 반발에도 네이버는 뚜렷한 해결책을 내지 않고 있다.\n",
    "\n",
    "오정훈 위원장은 1인 시위에서 “네이버는 해결책을 내놓기는커녕 뉴스제휴평가위원회에만 책임을 떠넘기고 있다”며 “지역 언론 배제 문제의 해결을 위한 대화 요구에 즉각 응답해 뉴스 유통사업자로서의 사회적 역할을 수행해야 한다”고 촉구했다.\n",
    "\n",
    "전대식 의장은 “2005년 당시 네이버는 모든 언론사에 뉴스 유통망을 제공하는 우군이었지만 15년 만에 갑질하고 횡포하는 기업으로 전락했다”며 “지역 언론 종사자들이 만든 콘텐츠가 네이버에서 사라진 현실을 놓고 대화하고 상생적으로 풀어야 한다”면서 협의 창구 개설을 요구했다.\n",
    "\n",
    "민언련은 국내 1위 포털 네이버가 지역 공론장을 만드는 사회적 책임을 외면하는 것은 현 정부의 지방분권 강화 정책에 위배되는 것이라고 지적했다.\n",
    "\n",
    "민진영 사무처장은 “네이버가 지역신문에 대한 보도를 배제하고 시민들과의 소통 창구를 차단하는 것은 현 정부 정책인 지방분권 강화, 민주주의 정착이라는 큰 의제를 거역하는 것”이라며 “이런 행태는 반드시 중단돼야 하고 다양한 소식들이 소비자와 시민에게 전달돼야 한다”고 강조했다.\n",
    "\n",
    "출처 : 제주新보(http://www.jejunews.com)'''\n",
    "\n",
    "len(re.findall('네이버', docs))"
   ]
  },
  {
   "cell_type": "markdown",
   "id": "4b6b36b7",
   "metadata": {},
   "source": [
    "#### ^, $\n",
    "- ^: 문자열의 시작\n",
    "> 표현식: ^I like\n",
    "- $: 문자열의 끝\n",
    "> 표현식: orange!$"
   ]
  },
  {
   "cell_type": "markdown",
   "id": "cb178936",
   "metadata": {},
   "source": [
    "#### \\ 특수문자\n",
    "> 표현식: \\$- \\ ^ $ * + ? . [ ] ( ) | : , - 등"
   ]
  },
  {
   "cell_type": "markdown",
   "id": "ce5d6cf1",
   "metadata": {},
   "source": [
    "#### [ ] 범위 판단응용\n",
    "- 표현식: [0-9]\n",
    "- 표현식: [A-Za-z]\n",
    "- 표현식: [가-힣]\n",
    "- 표현식: [^A-Za-z] -> 앞에 ^는 Not의 의미"
   ]
  },
  {
   "cell_type": "markdown",
   "id": "47a68053",
   "metadata": {},
   "source": [
    "#### ( ) 그룹\n",
    "- 표현식: (orange)\n",
    "- 표현식: (https|http) -> https나 http를 찾을 때"
   ]
  },
  {
   "cell_type": "markdown",
   "id": "21dfd66a",
   "metadata": {},
   "source": [
    "#### ~?: 없거나 한개 /  ~*: 0개이상 / ~+: 1개이상\n",
    "- 표현식: a.c\n",
    "- 표현식: a.?c\n",
    "- 표현식: ab*c (중간에 b가 없어도 추출)\n",
    "- 표현식: ab+c (중간에 b가 하나라도 있어야 추출)"
   ]
  },
  {
   "cell_type": "markdown",
   "id": "dfc80f9d",
   "metadata": {},
   "source": [
    "#### [ ]* / [ ]+\n",
    "- 표현식: [^~]+ -> 띄어쓰기 단위로\n",
    "- 표현식: a[bd]*c -> a와 c사이 bd의 범위"
   ]
  },
  {
   "cell_type": "markdown",
   "id": "7b7cf614",
   "metadata": {},
   "source": [
    "#### { } 개수\n",
    "- 표현식: .{5} -> 5개씩 끊어서\n",
    "- 표현식: [abc]{3} -> abc, bbb,ccc 이렇게 abc 범위중에서 3개씩 끊어서"
   ]
  },
  {
   "cell_type": "markdown",
   "id": "713d2cd4",
   "metadata": {},
   "source": [
    "#### \\d, \\D, \\w, \\W, \\s, \\S (대문자는 Not표현)\n",
    "- \\d = [0-9]\n",
    "- \\D = [^0-9]\n",
    "- \\w = [a-zA-Z0-9_]\n",
    "- \\W = [^a-zA-Z0-9_]\n",
    "- \\s = [ \\t\\n\\r\\f\\v] 공백, 탭, 라인피드, 캐리지리턴, 폼피드, 수직탭\n",
    "- \\S = [^ \\t\\n\\r\\f\\v]"
   ]
  },
  {
   "cell_type": "markdown",
   "id": "abe5d318",
   "metadata": {},
   "source": [
    "#### ?<= : 후방탐색 /  ?= : 전방탐색\n",
    "- 표현식: (?<=ora)nge! -> 후방탐색, ora 뒤에 오는 nge!만 가져오고 싶을 때\n",
    "- 표현식: oran(?=ge!) -> 전방탐색, ge!에 오는 oran만 가져오고 싶을 때"
   ]
  },
  {
   "cell_type": "markdown",
   "id": "63549962",
   "metadata": {},
   "source": [
    "#### 예제) 전화번호 찾기\n",
    "> 표현식 : [0-9]{3}-[0-9]{3,4}-[0-9]{4}"
   ]
  },
  {
   "cell_type": "code",
   "execution_count": 45,
   "id": "7439817c",
   "metadata": {},
   "outputs": [
    {
     "data": {
      "text/plain": [
       "['010-2334-3234', '010-1321-4043', '016-444-3042']"
      ]
     },
     "execution_count": 45,
     "metadata": {},
     "output_type": "execute_result"
    }
   ],
   "source": [
    "numbers = \"\"\"\n",
    "    010-2334-3234\n",
    "    02-302-3033\n",
    "    010-1321-4043\n",
    "    02-01-32\n",
    "    33-3303-3033\n",
    "    016-444-3042\n",
    "    \"\"\"\n",
    "\n",
    "re.findall('\\d{3}-\\d{3,4}-[0-9]{4}', numbers) # 0-9를 \\d로 축약해서 쓸 수 있음"
   ]
  },
  {
   "cell_type": "markdown",
   "id": "8bc9e725",
   "metadata": {},
   "source": [
    "#### re.sub(정규표현식, 치환할문자, 대상문자)\n",
    "- 대상 문자 내에서 정규표현식에 일치하는 문자를 치환할 문자로 변경"
   ]
  },
  {
   "cell_type": "code",
   "execution_count": 49,
   "id": "ca3f5435",
   "metadata": {},
   "outputs": [
    {
     "name": "stdout",
     "output_type": "stream",
     "text": [
      "\n",
      "    수강해야하는 과목\n",
      "    (machine learning, deep learning)\n",
      "    수강한과목\n",
      "    \n",
      "    \n"
     ]
    }
   ],
   "source": [
    "text = \"\"\"\n",
    "    수강해야하는 과목\n",
    "    (machine learning, deep learning)\n",
    "    수강한과목\n",
    "    [python, django, web design]\n",
    "    \"\"\"\n",
    "# \\[   \\]  \n",
    "print(re.sub(\"\\[.+\\]\", \"\", text))"
   ]
  },
  {
   "cell_type": "markdown",
   "id": "5657a29f",
   "metadata": {},
   "source": [
    "#### 실습01\n",
    "- 정상적인 이메일만 추출해주세요"
   ]
  },
  {
   "cell_type": "code",
   "execution_count": 149,
   "id": "e4f6fdd1",
   "metadata": {},
   "outputs": [
    {
     "data": {
      "text/plain": [
       "[]"
      ]
     },
     "execution_count": 149,
     "metadata": {},
     "output_type": "execute_result"
    }
   ],
   "source": [
    "emails = \"\"\"\n",
    "        jkilee@gmail.com\n",
    "        kttredef@naver.com\n",
    "        akdef!aa.com\n",
    "        adekik@best.kr.abcff\n",
    "        abkereff@aacde\n",
    "        adefgree@korea.co.kr\n",
    "        \"\"\"\n",
    "        \n",
    "#re.findall('\\w{2,}+\\@\\w+\\.\\w+(\\.\\w{2})?', emails)\n",
    "re.findall('\\w+@\\w+\\.\\w{2,}$/',emails)\n",
    "re.findall('^[a-zA-Z0-9._%+-]+@[a-zA-Z0-9.-]+\\.[a-zA-Z]{2,}$',emails)\n",
    "# re.findall('[\\w]+@[\\w]+\\.[a-z]', emails)\n",
    "#re.findall('\\w+@\\w+\\.[a-z]{2,3}', emails) \n",
    "# re.findall('[\\w]+@[\\w]+\\.[a-z](?=com)', emails) "
   ]
  },
  {
   "cell_type": "markdown",
   "id": "e2fd31df",
   "metadata": {},
   "source": [
    "#### greedy, lazy 탐색\n",
    "- 표현식: .*\n",
    "- 표현식: .*?"
   ]
  },
  {
   "cell_type": "markdown",
   "id": "58da358e",
   "metadata": {},
   "source": [
    "#### 실습02\n",
    "- 텍스트중에 <내용> 괄호로 묶여진 텍스트를 괄호포함 모두 제거해주세요"
   ]
  },
  {
   "cell_type": "code",
   "execution_count": 131,
   "id": "ac03d297",
   "metadata": {},
   "outputs": [
    {
     "name": "stdout",
     "output_type": "stream",
     "text": [
      "안녕하세요 저는 홍길동 입니다. 나이는 24살 세계 최고의 데이터 분석가가 되고싶습니다.\n",
      "안녕하세요 저는 홍길동 입니다. 나이는 24살 세계 최고의 데이터 분석가가 되고싶습니다.\n"
     ]
    }
   ],
   "source": [
    "text = '안녕하세요 저는 <em>홍길동</em> 입니다. 나이는 24살 세계 최고의 <a href=\"aa.aa.com\">데이터 분석가</a>가 되고싶습니다.'\n",
    "\n",
    "print(re.sub('<.*?>','',text))\n",
    "print(re.sub('<[^\\>]+\\>','',text))\n"
   ]
  },
  {
   "cell_type": "markdown",
   "id": "6f3879b5",
   "metadata": {},
   "source": [
    "#### 실습03\n",
    "1. 정규표현식을 이용 `<span>`내용`</span>`을 각각 추출\n",
    "2. 추출된 항목에서 `<span>`과`</span>` 태그를 모두제거\n",
    "3. 각각 총 3개의 항목을 리스트에 넣기"
   ]
  },
  {
   "cell_type": "code",
   "execution_count": null,
   "id": "40ec734a",
   "metadata": {},
   "outputs": [],
   "source": [
    "news = \"\"\"\n",
    "        <p>\n",
    "        <span>네이버가 뉴스 서비스에 인공지능(AI)을 도입해 페이지 뷰(PV)를 늘리고 이용자를 끌어 모으고 있다.</span>\n",
    "        <span>네이버는 5일 오전 서울 강남구 그랜드 인터컨티넨털 호텔에서 AI 콜로키움 2019를 열고 이 같은 AI 성과와 전략을 소개했다.</span>\n",
    "        <span>이날 기조연설에서 김광현 네이버 서치앤클로바 리더는 \"AI 뉴스 추천 시스템인 에어스(AiRS)를 도입하면서 뉴스 소비량이 확대되고 있다\" 고 말했다.</span>\n",
    "        </p>\n",
    "        \"\"\"\n",
    "        \n",
    "# 1.\n",
    "#spans_A = re.findall('<span>(.*?)</span>', news)\n",
    "result = re.findall('\\<span\\>[^\\<]+\\<\\/span\\>', news)\n",
    "\n",
    "\n",
    "for r in result:\n",
    "        print(r)\n",
    "        \n",
    "# 2.\n",
    "# spans_B = [re.sub('<span>(.*?)</span>', '', news) for news in spans_A]\n",
    "result = [re.sub('\\<[^\\>]+\\>','',news) for news in result]\n",
    "print(result)\n",
    "\n",
    "# 3.\n",
    "result = re.findall('()', news)\n",
    "\n",
    "result\n"
   ]
  },
  {
   "cell_type": "code",
   "execution_count": null,
   "id": "db584629",
   "metadata": {},
   "outputs": [],
   "source": []
  }
 ],
 "metadata": {
  "kernelspec": {
   "display_name": "study",
   "language": "python",
   "name": "study"
  },
  "language_info": {
   "codemirror_mode": {
    "name": "ipython",
    "version": 3
   },
   "file_extension": ".py",
   "mimetype": "text/x-python",
   "name": "python",
   "nbconvert_exporter": "python",
   "pygments_lexer": "ipython3",
   "version": "3.7.16"
  }
 },
 "nbformat": 4,
 "nbformat_minor": 5
}

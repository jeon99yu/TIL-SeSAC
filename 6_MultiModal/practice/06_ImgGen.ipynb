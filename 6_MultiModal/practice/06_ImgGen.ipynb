{
 "cells": [
  {
   "cell_type": "markdown",
   "id": "62eaed5d",
   "metadata": {
    "vscode": {
     "languageId": "raw"
    }
   },
   "source": [
    "## 이미지 생성 실습\n",
    "- DALL-E 3\n"
   ]
  },
  {
   "cell_type": "code",
   "execution_count": null,
   "id": "ebb0d0f5",
   "metadata": {},
   "outputs": [],
   "source": [
    "# 필요한 라이브러리 설치\n",
    "%pip install openai requests pillow python-dotenv"
   ]
  },
  {
   "cell_type": "code",
   "execution_count": null,
   "id": "15c9e89b",
   "metadata": {},
   "outputs": [],
   "source": [
    "# 라이브러리 import\n",
    "import os\n",
    "import requests\n",
    "from openai import OpenAI\n",
    "from PIL import Image\n",
    "from io import BytesIO\n",
    "import matplotlib.pyplot as plt\n",
    "from dotenv import load_dotenv\n",
    "\n",
    "# 환경 변수 로드\n",
    "load_dotenv()\n",
    "\n",
    "# 한글 폰트 설정 (matplotlib에서 한글 표시용)\n",
    "plt.rcParams['font.family'] = 'Malgun Gothic'\n"
   ]
  },
  {
   "cell_type": "code",
   "execution_count": null,
   "id": "6dab7cda",
   "metadata": {},
   "outputs": [],
   "source": [
    "client = OpenAI()"
   ]
  },
  {
   "cell_type": "code",
   "execution_count": null,
   "id": "333d7c93",
   "metadata": {},
   "outputs": [],
   "source": [
    "# helper 함수\n",
    "def generate_image(prompt: str, size: str=\"1024x1024\", quality: str=\"standard\", style: str=\"vivid\"):\n",
    "    \"\"\"\n",
    "    DALL-E 3를 사용하여 이미지를 생성하는 함수\n",
    "    \n",
    "    Args:\n",
    "        prompt: 이미지 생성을 위한 텍스트 프롬프트\n",
    "        size: 이미지 크기 (\"1024x1024\", \"1792x1024\", \"1024x1792\")\n",
    "        quality: 이미지 품질 (\"standard\", \"hd\")\n",
    "        style: 이미지 스타일 (\"vivid\", \"natural\")\n",
    "    \n",
    "    Returns:\n",
    "        PIL.Image: 생성된 이미지\n",
    "    \"\"\"\n",
    "    try:\n",
    "        response = client.images.generate(\n",
    "            # https://platform.openai.com/docs/guides/image-generation?image-generation-model=gpt-image-1\n",
    "            model=\"dall-e-3\", # gpt-image-1\n",
    "            prompt=prompt,\n",
    "            size=size,\n",
    "            quality=quality,\n",
    "            style=style,\n",
    "            n=1,\n",
    "        )\n",
    "        \n",
    "        # 이미지 URL에서 이미지 다운로드\n",
    "        image_url = response.data[0].url\n",
    "        image_response = requests.get(image_url)\n",
    "        image = Image.open(BytesIO(image_response.content))\n",
    "        \n",
    "        print(f\"이미지 생성 완료\")\n",
    "        print(f\"프롬프트:\", prompt)\n",
    "        print(f\"수정된 프롬프트:\", response.data[0].revised_prompt)\n",
    "        \n",
    "        return image\n",
    "    \n",
    "    except Exception as e:\n",
    "        print(f\"이미지 생성 오류 발생:\", e)\n",
    "        return None\n",
    "\n",
    "def display_image(image, title=\"Generated Image\"):\n",
    "    \"\"\"\n",
    "    이미지를 matplotlib을 사용하여 표시하는 함수\n",
    "    \n",
    "    Args:\n",
    "        image (PIL.Image): 표시할 이미지\n",
    "        title (str): 이미지 제목\n",
    "    \"\"\"\n",
    "    if image:\n",
    "        plt.figure(figsize=(10, 10))\n",
    "        plt.imshow(image)\n",
    "        plt.title(title, fontsize=16)\n",
    "        plt.axis('off')\n",
    "        plt.show()\n",
    "    else:\n",
    "        print(\"표시할 이미지가 없습니다.\")\n"
   ]
  },
  {
   "cell_type": "markdown",
   "id": "3032dc8e",
   "metadata": {
    "vscode": {
     "languageId": "raw"
    }
   },
   "source": [
    "### 자연 풍경 이미지 생성\n",
    "\n",
    "- 한국의 정원 이미지 생성"
   ]
  },
  {
   "cell_type": "code",
   "execution_count": null,
   "id": "1a051f0e",
   "metadata": {},
   "outputs": [],
   "source": [
    "prompt1 = \"\"\"\n",
    "A serene Korean traditional garden in spring with cherry blossoms in full bloom. \n",
    "The scene includes a traditional Korean pavilion (gazebo) with curved roof tiles, \n",
    "a small stone bridge over a peaceful pond with koi fish, and pink cherry blossom trees. \n",
    "The garden has carefully arranged rocks, moss, and traditional Korean landscape elements. \n",
    "Soft morning light creates a peaceful and harmonious atmosphere. \n",
    "Photorealistic style with beautiful natural lighting.\n",
    "\"\"\"\n",
    "\n",
    "print(\"한국 전통 정원 이미지 생성 중...\")\n",
    "image1 = generate_image(prompt1, size=\"1024x1024\", quality=\"hd\", style=\"natural\")\n",
    "\n",
    "if image1:\n",
    "    display_image(image1, \"벚꽃이 핀 한국 전통 정원\")\n",
    "    \n",
    "    # 이미지 저장\n",
    "    image1.save(\"korean_garden.png\")\n"
   ]
  },
  {
   "cell_type": "markdown",
   "id": "bd16dc38",
   "metadata": {
    "vscode": {
     "languageId": "raw"
    }
   },
   "source": [
    "### 사이버펑크 스타일 미래지향 도시 이미지 생성\n",
    "\n",
    "- 미래적이고 사이버펑크 스타일의 도시 풍경 생성"
   ]
  },
  {
   "cell_type": "code",
   "execution_count": null,
   "id": "814fd1e4",
   "metadata": {},
   "outputs": [],
   "source": [
    "prompt2 = \"\"\"\n",
    "A futuristic cyberpunk cityscape at night with neon lights and holographic advertisements. \n",
    "Towering skyscrapers with glass facades reflect colorful neon signs in Korean and English. \n",
    "Flying cars move between buildings, and there are holographic billboards floating in the air. \n",
    "The streets below are bustling with people wearing futuristic clothing, and there's a mix of \n",
    "traditional Korean architectural elements integrated with high-tech futuristic design. \n",
    "Rain creates beautiful reflections on the wet streets. Vibrant purple, blue, and pink neon lighting. \n",
    "Cinematic composition with dramatic lighting.\n",
    "\"\"\"\n",
    "\n",
    "print(\"미래지향 사이버펑크 도시 이미지 생성 중...\")\n",
    "image2 = generate_image(prompt2, size=\"1792x1024\", quality=\"hd\", style=\"vivid\")\n",
    "\n",
    "if image2:\n",
    "    display_image(image2, \"미래지향 사이버펑크 도시\")\n",
    "    \n",
    "    # 이미지 저장\n",
    "    image2.save(\"cyberpunk_city.png\")\n"
   ]
  },
  {
   "cell_type": "markdown",
   "id": "e810bdf4",
   "metadata": {
    "vscode": {
     "languageId": "raw"
    }
   },
   "source": [
    "### 생성된 이미지 비교 및 분석\n",
    "\n",
    "- 스타일 설정으로 인한 결과 차이 (natural vs vivid)"
   ]
  },
  {
   "cell_type": "code",
   "execution_count": null,
   "id": "d87c5af5",
   "metadata": {},
   "outputs": [],
   "source": [
    "# 두 이미지를 나란히 비교 표시\n",
    "if image1 and image2:\n",
    "    fig, axes = plt.subplots(1, 2, figsize=(20, 10))\n",
    "    \n",
    "    # 첫 번째 이미지\n",
    "    axes[0].imshow(image1)\n",
    "    axes[0].set_title(\"1: 한국 전통 정원\", fontsize=14)\n",
    "    axes[0].axis('off')\n",
    "    \n",
    "    # 두 번째 이미지\n",
    "    axes[1].imshow(image2)\n",
    "    axes[1].set_title(\"2: 미래지향 사이버펑크 도시\", fontsize=14)\n",
    "    axes[1].axis('off')\n",
    "    \n",
    "    plt.tight_layout()\n",
    "    plt.suptitle(\"DALL-E 3로 생성된 이미지 비교\", fontsize=16, y=1.02)\n",
    "    plt.show()"
   ]
  },
  {
   "cell_type": "markdown",
   "id": "9df52675",
   "metadata": {
    "vscode": {
     "languageId": "raw"
    }
   },
   "source": [
    "### 효과적인 프롬프트를 작성하는 방법\n",
    "\n",
    "- **구성 요소**\n",
    "    1. 주제/대상: 무엇을 그릴지 명확히 지정 (동물, 식물, 특정 사물 등)\n",
    "    2. 스타일: 예술 스타일, 화풍, 렌더링 방식\n",
    "    3. 색상/조명: 색상 팔레트, 조명 효과\n",
    "    4. 구도/각도: 카메라 각도, 원근법\n",
    "    5. 분위기/감정: 전달하고자 하는 느낌\n",
    "    6. 세부사항: 배경, 질감, 추가 요소들\n",
    "\n",
    "- **사용해볼만한 키워드 추천**\n",
    "    - 품질: photorealistic, ultra-detailed, high-resolution, cinematic\n",
    "    - 조명: soft lighting, dramatic lighting, golden hour, neon lighting\n",
    "    - 스타일: minimalist, vintage, modern, fantasy, sci-fi\n",
    "    - 감정: peaceful, dramatic, mysterious, vibrant, serene\n",
    "\n",
    "영어로 프롬프트를 작성하는 것이 좋으며,  \n",
    "GPT와 대화를 통해 기본적인 프롬프트 구조를 잡는 것부터 시작해볼 것"
   ]
  },
  {
   "cell_type": "markdown",
   "id": "fbd1aba6",
   "metadata": {
    "vscode": {
     "languageId": "raw"
    }
   },
   "source": [
    "### 이미지 생성 프롬프트 실습"
   ]
  },
  {
   "cell_type": "code",
   "execution_count": null,
   "id": "be48268d",
   "metadata": {},
   "outputs": [],
   "source": [
    "# 예시 1: 동물\n",
    "# A cute red panda sitting on a tree branch in a bamboo forest, soft natural lighting, photography style\n",
    "\n",
    "# 예시 2: 음식\n",
    "# A beautifully plated Korean bibimbap in a traditional ceramic bowl, colorful vegetables, soft restaurant lighting, food photography\n",
    "\n",
    "# 예시 3: 추상적 개념\n",
    "# An abstract representation of artificial intelligence, flowing data streams, geometric patterns, blue and purple color scheme, digital art style\n",
    "\n",
    "my_prompt = \"프롬프트 작성\"\n",
    "\n",
    "print(f\"프롬프트: {my_prompt}\")\n",
    "my_image = generate_image(my_prompt, size=\"1024x1024\", quality=\"standard\", style=\"vivid\")\n",
    "if my_image:\n",
    "    display_image(my_image, \"사용자 정의 이미지\")\n",
    "    my_image.save(\"my_generated_image.png\")\n"
   ]
  },
  {
   "cell_type": "markdown",
   "id": "a8bf472c",
   "metadata": {
    "vscode": {
     "languageId": "raw"
    }
   },
   "source": [
    "### natural vs vivid 화풍 비교"
   ]
  },
  {
   "cell_type": "code",
   "execution_count": null,
   "id": "c4d4f7dd",
   "metadata": {},
   "outputs": [],
   "source": [
    "test_prompt = \"A beautiful sunset over a mountain lake with reflections\"\n",
    "\n",
    "# Vivid 스타일\n",
    "print(\"1. Vivid 스타일 생성 중...\")\n",
    "image_vivid = generate_image(test_prompt, style=\"vivid\", quality=\"standard\")\n",
    "\n",
    "print(\"\\n\" + \"=\"*50 + \"\\n\")\n",
    "\n",
    "# Natural 스타일  \n",
    "print(\"2. Natural 스타일 생성 중...\")\n",
    "image_natural = generate_image(test_prompt, style=\"natural\", quality=\"standard\")\n",
    "\n",
    "# 결과 비교\n",
    "if image_vivid and image_natural:\n",
    "    fig, axes = plt.subplots(1, 2, figsize=(16, 8))\n",
    "    \n",
    "    axes[0].imshow(image_vivid)\n",
    "    axes[0].set_title(\"Vivid 스타일\", fontsize=12)\n",
    "    axes[0].axis('off')\n",
    "    \n",
    "    axes[1].imshow(image_natural)\n",
    "    axes[1].set_title(\"Natural 스타일\", fontsize=12)\n",
    "    axes[1].axis('off')\n",
    "    \n",
    "    plt.tight_layout()\n",
    "    plt.suptitle(\"스타일 매개변수 비교: Vivid vs Natural\", fontsize=14, y=1.02)\n",
    "    plt.show()\n"
   ]
  },
  {
   "cell_type": "markdown",
   "id": "006d5c6e",
   "metadata": {},
   "source": [
    "**생성된 두 이미지를 비교해보면**\n",
    "- Vivid는 좀 더 색감이 풍부하고 강한 색상과 높은 대비를 가지고 있으며 사실적임\n",
    "- Natural의 경우에는 부드럽고 자연스러운 화풍으로 좀 더 편안한 느낌을 주는 톤을 지님"
   ]
  },
  {
   "cell_type": "markdown",
   "id": "e64c168e",
   "metadata": {
    "vscode": {
     "languageId": "raw"
    }
   },
   "source": [
    "### 실용적인 활용 방안 추천\n",
    "\n",
    "1. **마케팅**: 제품 광고, 소셜미디어 콘텐츠\n",
    "2. **교육**: 교육 자료, 프레젠테이션 이미지\n",
    "3. **창작**: 책 표지, 일러스트레이션\n",
    "4. **프로토타이핑**: 웹사이트, 앱 UI 목업\n",
    "5. **예술**: 디지털 아트, 컨셉 아트\n"
   ]
  },
  {
   "cell_type": "code",
   "execution_count": null,
   "id": "bc10e307",
   "metadata": {},
   "outputs": [],
   "source": []
  },
  {
   "cell_type": "code",
   "execution_count": null,
   "id": "602b0cf6",
   "metadata": {},
   "outputs": [],
   "source": [
    "# gemini nano-banana"
   ]
  },
  {
   "cell_type": "code",
   "execution_count": null,
   "id": "e309cb1e",
   "metadata": {},
   "outputs": [],
   "source": [
    "# https://ai.google.dev/gemini-api/docs/image-generation?utm_source=AISgaias&utm_medium=email&utm_campaign=nano&utm_content=hero_start_building&hl=ko"
   ]
  },
  {
   "cell_type": "code",
   "execution_count": null,
   "id": "304ff1bf",
   "metadata": {},
   "outputs": [],
   "source": [
    "%pip install google-genai"
   ]
  },
  {
   "cell_type": "code",
   "execution_count": null,
   "id": "b2af0530",
   "metadata": {},
   "outputs": [],
   "source": [
    "# GOOGLE_API_KEY 발급\n",
    "# https://aistudio.google.com/apikey"
   ]
  },
  {
   "cell_type": "code",
   "execution_count": null,
   "id": "4724039b",
   "metadata": {},
   "outputs": [],
   "source": [
    "# 이미지 생성\n",
    "from google import genai\n",
    "from google.genai import types\n",
    "from PIL import Image\n",
    "from io import BytesIO\n",
    "\n",
    "from dotenv import load_dotenv\n",
    "\n",
    "load_dotenv()\n",
    "\n",
    "client = genai.Client()\n",
    "\n",
    "prompt = (\n",
    "    \"Create a picture of a nano banana dish in a fancy restaurant with a Gemini theme\"\n",
    ")\n",
    "\n",
    "response = client.models.generate_content(\n",
    "    model=\"gemini-2.5-flash-image-preview\",\n",
    "    contents=[prompt],\n",
    ")\n",
    "\n",
    "for part in response.candidates[0].content.parts:\n",
    "    if part.text is not None:\n",
    "        print(part.text)\n",
    "    elif part.inline_data is not None:\n",
    "        image = Image.open(BytesIO(part.inline_data.data))\n",
    "        image.save(\"generated_image.png\")"
   ]
  },
  {
   "cell_type": "code",
   "execution_count": null,
   "id": "9b77b1ea",
   "metadata": {},
   "outputs": [],
   "source": []
  },
  {
   "cell_type": "code",
   "execution_count": null,
   "id": "1afd4444",
   "metadata": {},
   "outputs": [],
   "source": [
    "# 이미지 편집\n",
    "from google import genai\n",
    "from google.genai import types\n",
    "from PIL import Image\n",
    "from io import BytesIO\n",
    "\n",
    "client = genai.Client()\n",
    "\n",
    "prompt = (\n",
    "    \"Create a picture of my cat eating a nano-banana in a \"\n",
    "    \"fancy restaurant under the Gemini constellation\",\n",
    ")\n",
    "\n",
    "image = Image.open(\"cat.jpg\")\n",
    "\n",
    "response = client.models.generate_content(\n",
    "    model=\"gemini-2.5-flash-image-preview\",\n",
    "    contents=[prompt, image],\n",
    ")\n",
    "\n",
    "for part in response.candidates[0].content.parts:\n",
    "    if part.text is not None:\n",
    "        print(part.text)\n",
    "    elif part.inline_data is not None:\n",
    "        image = Image.open(BytesIO(part.inline_data.data))\n",
    "        image.save(\"generated_image2.png\")"
   ]
  },
  {
   "cell_type": "code",
   "execution_count": null,
   "id": "04da0f20",
   "metadata": {},
   "outputs": [],
   "source": []
  },
  {
   "cell_type": "code",
   "execution_count": null,
   "id": "b1ddc7e1",
   "metadata": {},
   "outputs": [],
   "source": []
  }
 ],
 "metadata": {
  "kernelspec": {
   "display_name": "base",
   "language": "python",
   "name": "python3"
  },
  "language_info": {
   "codemirror_mode": {
    "name": "ipython",
    "version": 3
   },
   "file_extension": ".py",
   "mimetype": "text/x-python",
   "name": "python",
   "nbconvert_exporter": "python",
   "pygments_lexer": "ipython3",
   "version": "3.11.5"
  }
 },
 "nbformat": 4,
 "nbformat_minor": 5
}

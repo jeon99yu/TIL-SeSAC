{
 "cells": [
  {
   "cell_type": "markdown",
   "id": "748a7dba",
   "metadata": {
    "vscode": {
     "languageId": "raw"
    }
   },
   "source": [
    "## GPT 5 Vision을 활용한 이미지 처리\n",
    "\n",
    "### 순서\n",
    "1. 이미지 분석 및 마케팅 아이디어, 짧은 스토리 생성\n",
    "2. 차트/그래프 데이터 분석"
   ]
  },
  {
   "cell_type": "code",
   "execution_count": null,
   "id": "bb460625",
   "metadata": {},
   "outputs": [],
   "source": [
    "## 라이브러리 설치\n",
    "%pip install openai pillow requests matplotlib dotenv"
   ]
  },
  {
   "cell_type": "code",
   "execution_count": 2,
   "id": "d4b99497",
   "metadata": {},
   "outputs": [],
   "source": [
    "from dotenv import load_dotenv\n",
    "import openai\n",
    "import base64\n",
    "from PIL import Image\n",
    "import requests\n",
    "from io import BytesIO\n",
    "import matplotlib.pyplot as plt\n",
    "import os\n",
    "from datetime import datetime\n",
    "\n",
    "load_dotenv()\n",
    "\n",
    "# OpenAI 클라이언트 초기화\n",
    "client = openai.OpenAI()"
   ]
  },
  {
   "cell_type": "code",
   "execution_count": 3,
   "id": "45786549",
   "metadata": {},
   "outputs": [],
   "source": [
    "plt.rc('font', family='Malgun Gothic')"
   ]
  },
  {
   "cell_type": "code",
   "execution_count": 4,
   "id": "160981f2",
   "metadata": {},
   "outputs": [],
   "source": [
    "# helper functions\n",
    "\n",
    "def encode_image_to_base64(image_path):\n",
    "    \"\"\"\n",
    "    이미지 파일을 base64로 인코딩하는 함수\n",
    "    \"\"\"\n",
    "    with open(image_path, \"rb\") as image_file:\n",
    "        return base64.b64encode(image_file.read()).decode('utf-8')\n",
    "\n",
    "def analyze_image_with_gpt5(image_path, prompt, max_tokens=300):\n",
    "    \"\"\"\n",
    "    GPT-5 API를 사용하여 이미지를 분석하는 함수\n",
    "    \"\"\"\n",
    "    # 이미지를 base64로 인코딩\n",
    "    base64_image = encode_image_to_base64(image_path)\n",
    "    \n",
    "    try:\n",
    "        response = client.chat.completions.create(\n",
    "            model=\"gpt-5\", \n",
    "            messages=[\n",
    "                {\n",
    "                    \"role\": \"user\",\n",
    "                    \"content\": [\n",
    "                        {\n",
    "                            \"type\": \"text\",\n",
    "                            \"text\": prompt\n",
    "                        },\n",
    "                        {\n",
    "                            \"type\": \"image_url\",\n",
    "                            \"image_url\": {\n",
    "                                \"url\": f\"data:image/webp;base64,{base64_image}\"\n",
    "                            }\n",
    "                        }\n",
    "                    ]\n",
    "                }\n",
    "            ],\n",
    "            max_completion_tokens=max_tokens\n",
    "        )\n",
    "        \n",
    "        return response.choices[0].message.content\n",
    "    \n",
    "    except Exception as e:\n",
    "        return f\"오류가 발생했습니다: {str(e)}\"\n",
    "\n",
    "def display_image(image_path):\n",
    "    \"\"\"\n",
    "    이미지를 화면에 표시하는 함수\n",
    "    \"\"\"\n",
    "    img = Image.open(image_path)\n",
    "    plt.figure(figsize=(10, 8))\n",
    "    plt.imshow(img)\n",
    "    plt.axis('off')\n",
    "    plt.title(f\"분석 대상 이미지: {os.path.basename(image_path)}\")\n",
    "    plt.show()\n",
    "\n"
   ]
  },
  {
   "cell_type": "markdown",
   "id": "91af4623",
   "metadata": {
    "vscode": {
     "languageId": "raw"
    }
   },
   "source": [
    "### 예제 1: 이미지 분석 및 마케팅 아이디어, 짧은 스토리 생성\n",
    "\n",
    "- 이미지의 내용, 객체, 색상, 분위기 등을 분석\n",
    "- 마케팅 카피 생성\n",
    "- 이미지 기반 스토리텔링"
   ]
  },
  {
   "cell_type": "code",
   "execution_count": 5,
   "id": "c6d23f6f",
   "metadata": {},
   "outputs": [],
   "source": [
    "# 카페 내부 이미지 다운로드 후 경로 저장\n",
    "image_path = '6_MultiModal\\img'"
   ]
  },
  {
   "cell_type": "code",
   "execution_count": null,
   "id": "c38c8df7",
   "metadata": {},
   "outputs": [],
   "source": [
    "# 이미지 표시\n",
    "display_image(image_path)\n",
    "\n",
    "# 다양한 프롬프트로 이미지 분석\n",
    "prompts = [\n",
    "    \"이 이미지를 자세히 분석하고 설명해주세요. 무엇이 보이고, 어떤 분위기인지 알려주세요.\",\n",
    "    \n",
    "    \"이 이미지를 보고 카페 마케팅 문구를 3개 만들어주세요. 감성적이고 매력적인 문구로 작성해주세요.\",\n",
    "    \n",
    "    \"이 장소에서 일어날 수 있는 짧은 스토리를 한국어로 작성해주세요. 등장인물과 상황을 포함해서요.\"\n",
    "]\n",
    "\n",
    "print(\"=\" * 60)\n",
    "print(\"🎯 GPT 5 이미지 분석 결과\")\n",
    "print(\"=\" * 60)\n",
    "\n",
    "for i, prompt in enumerate(prompts, 1):\n",
    "    print(f\"\\n📝 분석 {i}: {prompt[:30]}...\")\n",
    "    print(\"-\" * 50)\n",
    "    \n",
    "    # GPT 5로 이미지 분석\n",
    "    result = analyze_image_with_gpt5(image_path, prompt, max_tokens=500)\n",
    "    \n",
    "    print(f\"💡 결과:\\n{result}\")\n",
    "    print(\"-\" * 50)\n"
   ]
  },
  {
   "cell_type": "markdown",
   "id": "054d20fc",
   "metadata": {
    "vscode": {
     "languageId": "raw"
    }
   },
   "source": [
    "### 예제 2: 차트/그래프 데이터 분석\n",
    "\n",
    "- 차트의 데이터 포인트 읽기\n",
    "- 트렌드 분석 및 해석\n",
    "- 비즈니스 인사이트 도출\n",
    "- 개선 방안 제안\n"
   ]
  },
  {
   "cell_type": "code",
   "execution_count": null,
   "id": "f93297a0",
   "metadata": {},
   "outputs": [],
   "source": [
    "# 샘플 비즈니스 데이터 차트 생성\n",
    "import numpy as np\n",
    "\n",
    "months = ['1월', '2월', '3월', '4월', '5월', '6월', '7월', '8월', '9월', '10월', '11월', '12월']\n",
    "revenue_2023 = [850, 920, 1150, 1080, 1200, 1350, 1500, 1420, 1300, 1450, 1600, 1800]\n",
    "revenue_2024 = [950, 1020, 1250, 1180, 1400, 1550, 1650, 1520, 1480, 1650, 1750, 1950]\n",
    "\n",
    "fig, ((ax1, ax2), (ax3, ax4)) = plt.subplots(2, 2, figsize=(15, 12))\n",
    "fig.suptitle('2023-2024 비즈니스 성과 대시보드', fontsize=16, fontweight='bold')\n",
    "\n",
    "# 1. 라인 차트 - 월별 매출 추이\n",
    "ax1.plot(months, revenue_2023, marker='o', linewidth=2, label='2023년', color='#FF6B6B')\n",
    "ax1.plot(months, revenue_2024, marker='s', linewidth=2, label='2024년', color='#4ECDC4')\n",
    "ax1.set_title('월별 매출 추이 (만원)', fontsize=12, fontweight='bold')\n",
    "ax1.set_ylabel('매출 (만원)')\n",
    "ax1.legend()\n",
    "ax1.grid(True, alpha=0.3)\n",
    "ax1.tick_params(axis='x', rotation=45)\n",
    "\n",
    "# 2. 바 차트 - 분기별 매출 비교\n",
    "quarters = ['Q1', 'Q2', 'Q3', 'Q4']\n",
    "q_2023 = [np.mean(revenue_2023[i:i+3]) for i in range(0, 12, 3)]\n",
    "q_2024 = [np.mean(revenue_2024[i:i+3]) for i in range(0, 12, 3)]\n",
    "\n",
    "x = np.arange(len(quarters))\n",
    "width = 0.35\n",
    "ax2.bar(x - width/2, q_2023, width, label='2023년', color='#FF6B6B', alpha=0.8)\n",
    "ax2.bar(x + width/2, q_2024, width, label='2024년', color='#4ECDC4', alpha=0.8)\n",
    "ax2.set_title('분기별 평균 매출 비교', fontsize=12, fontweight='bold')\n",
    "ax2.set_ylabel('매출 (만원)')\n",
    "ax2.set_xticks(x)\n",
    "ax2.set_xticklabels(quarters)\n",
    "ax2.legend()\n",
    "\n",
    "# 3. 파이 차트 - 2024년 분기별 매출 비중\n",
    "ax3.pie(q_2024, labels=quarters, autopct='%1.1f%%', startangle=90, \n",
    "        colors=['#FF6B6B', '#4ECDC4', '#45B7D1', '#96CEB4'])\n",
    "ax3.set_title('2024년 분기별 매출 비중', fontsize=12, fontweight='bold')\n",
    "\n",
    "# 4. 성장률 차트\n",
    "growth_rate = [(r24/r23 - 1) * 100 for r23, r24 in zip(revenue_2023, revenue_2024)]\n",
    "colors = ['#FF6B6B' if gr < 10 else '#4ECDC4' if gr < 20 else '#45B7D1' for gr in growth_rate]\n",
    "ax4.bar(months, growth_rate, color=colors, alpha=0.8)\n",
    "ax4.set_title('전년 대비 월별 성장률 (%)', fontsize=12, fontweight='bold')\n",
    "ax4.set_ylabel('성장률 (%)')\n",
    "ax4.axhline(y=0, color='black', linestyle='-', alpha=0.3)\n",
    "ax4.tick_params(axis='x', rotation=45)\n",
    "\n",
    "ax4.text(0.02, 0.98, '색상별 성장률:\\n🔴 < 10%\\n🟢 10-20%\\n🔵 > 20%', \n",
    "         transform=ax4.transAxes, verticalalignment='top', \n",
    "         bbox=dict(boxstyle='round', facecolor='wheat', alpha=0.8))\n",
    "\n",
    "plt.tight_layout()\n",
    "\n",
    "# 차트 저장\n",
    "chart_image_path = './business_dashboard.jpg'\n",
    "plt.savefig(chart_image_path, dpi=150, bbox_inches='tight')\n",
    "plt.show()\n"
   ]
  },
  {
   "cell_type": "code",
   "execution_count": null,
   "id": "d0f63886",
   "metadata": {},
   "outputs": [],
   "source": [
    "# 대시보드 분석\n",
    "\n",
    "display_image(chart_image_path)\n",
    "\n",
    "# 비즈니스 분석을 위한 프롬프트\n",
    "business_prompts = [\n",
    "    \"\"\"\n",
    "    이 비즈니스 대시보드를 자세히 분석해주세요. \n",
    "    각 차트에서 보이는 주요 수치와 트렌드를 읽어주시고, \n",
    "    전반적인 비즈니스 성과를 평가해주세요.\n",
    "    \"\"\",\n",
    "    \n",
    "    \"\"\"\n",
    "    이 데이터를 바탕으로 다음을 분석해주세요:\n",
    "    1. 가장 성과가 좋았던 시기와 그 이유\n",
    "    2. 개선이 필요한 영역\n",
    "    3. 향후 3개월 예측 및 권장사항\n",
    "    \"\"\",\n",
    "    \n",
    "    \"\"\"\n",
    "    경영진을 위한 요약 보고서를 작성해주세요. \n",
    "    핵심 성과 지표, 주요 인사이트, 실행 가능한 액션 아이템을 포함해서 \n",
    "    간결하고 임팩트 있게 작성해주세요.\n",
    "    \"\"\"\n",
    "]\n",
    "\n",
    "print(\"=\" * 70)\n",
    "print(\"📊 GPT 5 비즈니스 차트 분석 결과\")\n",
    "print(\"=\" * 70)\n",
    "\n",
    "for i, prompt in enumerate(business_prompts, 1):\n",
    "    print(f\"\\n📈 분석 {i}: 비즈니스 인사이트 추출\")\n",
    "    print(\"-\" * 60)\n",
    "    \n",
    "    # GPT 4V로 차트 분석\n",
    "    result = analyze_image_with_gpt5(chart_image_path, prompt, max_tokens=800)\n",
    "    \n",
    "    print(f\"💼 분석 결과:\\n{result}\")\n",
    "    print(\"-\" * 60)\n"
   ]
  },
  {
   "cell_type": "markdown",
   "id": "4204d87f",
   "metadata": {
    "vscode": {
     "languageId": "raw"
    }
   },
   "source": [
    "### 이미지를 활용해 분석해볼만한 것\n",
    "\n",
    "1. OCR (텍스트 추출)\n",
    "   - 문서, 영수증, 명함에서 텍스트 추출\n",
    "   - 손글씨 인식 및 디지털화\n",
    "\n",
    "2. 제품 분석\n",
    "   - 제품 이미지 분석 및 설명 생성\n",
    "   - 경쟁사 제품 비교 분석\n",
    "\n",
    "3. 의료 이미지 분석\n",
    "   - X-ray, MRI 등 의료 이미지 보조 분석\n",
    "   - 피부 질환 이미지 분석\n",
    "\n",
    "4. 부동산 / 건축\n",
    "   - 건물 외관 분석 및 평가\n",
    "   - 인테리어 디자인 제안\n",
    "\n",
    "5. 교육 콘텐츠\n",
    "   - 수학 문제 해결\n",
    "   - 과학 실험 결과 분석\n",
    "\n",
    "\n",
    "당연하게도 프롬프트는 명확하고 구체적으로 작성해야 답변의 질이 높아짐.  \n",
    "이미지 분석의 경우에는 이미지 품질도 큰 비중을 차지함.  \n",
    "\n",
    "단, 결과를 맹신하지 말 것  \n",
    "개인정보가 포함된 이미지는 업로드하지 말 것  \n"
   ]
  }
 ],
 "metadata": {
  "kernelspec": {
   "display_name": "base",
   "language": "python",
   "name": "python3"
  },
  "language_info": {
   "codemirror_mode": {
    "name": "ipython",
    "version": 3
   },
   "file_extension": ".py",
   "mimetype": "text/x-python",
   "name": "python",
   "nbconvert_exporter": "python",
   "pygments_lexer": "ipython3",
   "version": "3.13.5"
  }
 },
 "nbformat": 4,
 "nbformat_minor": 5
}

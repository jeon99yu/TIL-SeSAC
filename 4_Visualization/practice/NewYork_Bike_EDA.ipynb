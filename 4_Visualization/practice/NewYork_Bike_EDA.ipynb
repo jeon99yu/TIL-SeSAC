{
 "cells": [
  {
   "cell_type": "markdown",
   "id": "92006f21",
   "metadata": {},
   "source": [
    "### NYC Bike 대여 기록 데이터\n",
    "\n",
    "1. 데이터 준비 및 탐색\n",
    "\n",
    "- 데이터셋을 불러오고 기본적인 통계량을 확인하세요.\n",
    "\n",
    "- 데이터의 크기와 결측치의 개수를 확인해보세요.\n",
    "\n",
    "- 데이터의 변수 타입을 확인하고, 범주형 변수와 연속형 변수를 구분해보세요.\n",
    "\n",
    "- 각 데이터에 대해서 확인해보고 싶은 정보를 미리 구상해보세요."
   ]
  },
  {
   "cell_type": "code",
   "execution_count": 1,
   "id": "82935e82",
   "metadata": {},
   "outputs": [],
   "source": [
    "import numpy as np\n",
    "import pandas as pd\n",
    "from matplotlib import pyplot as plt\n",
    "import seaborn as sns"
   ]
  },
  {
   "cell_type": "code",
   "execution_count": 2,
   "id": "46ab5491",
   "metadata": {},
   "outputs": [
    {
     "data": {
      "text/html": [
       "<div>\n",
       "<style scoped>\n",
       "    .dataframe tbody tr th:only-of-type {\n",
       "        vertical-align: middle;\n",
       "    }\n",
       "\n",
       "    .dataframe tbody tr th {\n",
       "        vertical-align: top;\n",
       "    }\n",
       "\n",
       "    .dataframe thead th {\n",
       "        text-align: right;\n",
       "    }\n",
       "</style>\n",
       "<table border=\"1\" class=\"dataframe\">\n",
       "  <thead>\n",
       "    <tr style=\"text-align: right;\">\n",
       "      <th></th>\n",
       "      <th>72033</th>\n",
       "      <th>72034</th>\n",
       "    </tr>\n",
       "  </thead>\n",
       "  <tbody>\n",
       "    <tr>\n",
       "      <th>start_date</th>\n",
       "      <td>2018-05-01</td>\n",
       "      <td>2018-05-01</td>\n",
       "    </tr>\n",
       "    <tr>\n",
       "      <th>end_date</th>\n",
       "      <td>2018-05-01</td>\n",
       "      <td>2018-05-01</td>\n",
       "    </tr>\n",
       "    <tr>\n",
       "      <th>start_hour</th>\n",
       "      <td>22</td>\n",
       "      <td>23</td>\n",
       "    </tr>\n",
       "    <tr>\n",
       "      <th>end_hour</th>\n",
       "      <td>23</td>\n",
       "      <td>23</td>\n",
       "    </tr>\n",
       "    <tr>\n",
       "      <th>trip_duration</th>\n",
       "      <td>427</td>\n",
       "      <td>417</td>\n",
       "    </tr>\n",
       "    <tr>\n",
       "      <th>start_station_id</th>\n",
       "      <td>379</td>\n",
       "      <td>445</td>\n",
       "    </tr>\n",
       "    <tr>\n",
       "      <th>start_station_name</th>\n",
       "      <td>W 31 St &amp; 7 Ave</td>\n",
       "      <td>E 10 St &amp; Avenue A</td>\n",
       "    </tr>\n",
       "    <tr>\n",
       "      <th>start_station_latitude</th>\n",
       "      <td>40.749156</td>\n",
       "      <td>40.727408</td>\n",
       "    </tr>\n",
       "    <tr>\n",
       "      <th>start_station_longitude</th>\n",
       "      <td>-73.9916</td>\n",
       "      <td>-73.98142</td>\n",
       "    </tr>\n",
       "    <tr>\n",
       "      <th>end_station_id</th>\n",
       "      <td>477</td>\n",
       "      <td>285</td>\n",
       "    </tr>\n",
       "    <tr>\n",
       "      <th>end_station_name</th>\n",
       "      <td>W 41 St &amp; 8 Ave</td>\n",
       "      <td>Broadway &amp; E 14 St</td>\n",
       "    </tr>\n",
       "    <tr>\n",
       "      <th>end_station_latitude</th>\n",
       "      <td>40.756405</td>\n",
       "      <td>40.734546</td>\n",
       "    </tr>\n",
       "    <tr>\n",
       "      <th>end_station_longitude</th>\n",
       "      <td>-73.990026</td>\n",
       "      <td>-73.990741</td>\n",
       "    </tr>\n",
       "    <tr>\n",
       "      <th>bike_id</th>\n",
       "      <td>20511</td>\n",
       "      <td>17772</td>\n",
       "    </tr>\n",
       "    <tr>\n",
       "      <th>usertype</th>\n",
       "      <td>Subscriber</td>\n",
       "      <td>Subscriber</td>\n",
       "    </tr>\n",
       "    <tr>\n",
       "      <th>birth_year</th>\n",
       "      <td>1972</td>\n",
       "      <td>1993</td>\n",
       "    </tr>\n",
       "    <tr>\n",
       "      <th>gender</th>\n",
       "      <td>male</td>\n",
       "      <td>male</td>\n",
       "    </tr>\n",
       "    <tr>\n",
       "      <th>day_since_register</th>\n",
       "      <td>14</td>\n",
       "      <td>11</td>\n",
       "    </tr>\n",
       "  </tbody>\n",
       "</table>\n",
       "</div>"
      ],
      "text/plain": [
       "                                   72033               72034\n",
       "start_date                    2018-05-01          2018-05-01\n",
       "end_date                      2018-05-01          2018-05-01\n",
       "start_hour                            22                  23\n",
       "end_hour                              23                  23\n",
       "trip_duration                        427                 417\n",
       "start_station_id                     379                 445\n",
       "start_station_name       W 31 St & 7 Ave  E 10 St & Avenue A\n",
       "start_station_latitude         40.749156           40.727408\n",
       "start_station_longitude         -73.9916           -73.98142\n",
       "end_station_id                       477                 285\n",
       "end_station_name         W 41 St & 8 Ave  Broadway & E 14 St\n",
       "end_station_latitude           40.756405           40.734546\n",
       "end_station_longitude         -73.990026          -73.990741\n",
       "bike_id                            20511               17772\n",
       "usertype                      Subscriber          Subscriber\n",
       "birth_year                          1972                1993\n",
       "gender                              male                male\n",
       "day_since_register                    14                  11"
      ]
     },
     "execution_count": 2,
     "metadata": {},
     "output_type": "execute_result"
    }
   ],
   "source": [
    "df_bike = pd.read_csv('https://raw.githubusercontent.com/BokyungChoi/teaching_in_GrowthHackers/refs/heads/master/Session%2003.%20EDA%20%26%20Data%20Visualization/nyc_citibike.csv')\n",
    "\n",
    "df_bike.tail(2).T"
   ]
  },
  {
   "cell_type": "code",
   "execution_count": 4,
   "id": "c3c2d221",
   "metadata": {},
   "outputs": [
    {
     "data": {
      "text/plain": [
       "(72035, 18)"
      ]
     },
     "execution_count": 4,
     "metadata": {},
     "output_type": "execute_result"
    }
   ],
   "source": [
    "df_bike.shape  # 데이터 크기확인"
   ]
  },
  {
   "cell_type": "code",
   "execution_count": 5,
   "id": "f172f577",
   "metadata": {},
   "outputs": [
    {
     "data": {
      "text/html": [
       "<div>\n",
       "<style scoped>\n",
       "    .dataframe tbody tr th:only-of-type {\n",
       "        vertical-align: middle;\n",
       "    }\n",
       "\n",
       "    .dataframe tbody tr th {\n",
       "        vertical-align: top;\n",
       "    }\n",
       "\n",
       "    .dataframe thead th {\n",
       "        text-align: right;\n",
       "    }\n",
       "</style>\n",
       "<table border=\"1\" class=\"dataframe\">\n",
       "  <thead>\n",
       "    <tr style=\"text-align: right;\">\n",
       "      <th></th>\n",
       "      <th>start_date</th>\n",
       "      <th>end_date</th>\n",
       "      <th>start_hour</th>\n",
       "      <th>end_hour</th>\n",
       "      <th>trip_duration</th>\n",
       "      <th>start_station_id</th>\n",
       "      <th>start_station_name</th>\n",
       "      <th>start_station_latitude</th>\n",
       "      <th>start_station_longitude</th>\n",
       "      <th>end_station_id</th>\n",
       "      <th>end_station_name</th>\n",
       "      <th>end_station_latitude</th>\n",
       "      <th>end_station_longitude</th>\n",
       "      <th>bike_id</th>\n",
       "      <th>usertype</th>\n",
       "      <th>birth_year</th>\n",
       "      <th>gender</th>\n",
       "      <th>day_since_register</th>\n",
       "    </tr>\n",
       "  </thead>\n",
       "  <tbody>\n",
       "    <tr>\n",
       "      <th>0</th>\n",
       "      <td>2018-05-01</td>\n",
       "      <td>2018-05-01</td>\n",
       "      <td>4</td>\n",
       "      <td>4</td>\n",
       "      <td>390</td>\n",
       "      <td>3002</td>\n",
       "      <td>South End Ave &amp; Liberty St</td>\n",
       "      <td>40.711512</td>\n",
       "      <td>-74.015756</td>\n",
       "      <td>79</td>\n",
       "      <td>Franklin St &amp; W Broadway</td>\n",
       "      <td>40.719116</td>\n",
       "      <td>-74.006667</td>\n",
       "      <td>21105</td>\n",
       "      <td>Subscriber</td>\n",
       "      <td>1945</td>\n",
       "      <td>male</td>\n",
       "      <td>36</td>\n",
       "    </tr>\n",
       "    <tr>\n",
       "      <th>1</th>\n",
       "      <td>2018-05-01</td>\n",
       "      <td>2018-05-01</td>\n",
       "      <td>1</td>\n",
       "      <td>1</td>\n",
       "      <td>854</td>\n",
       "      <td>3611</td>\n",
       "      <td>Vernon Blvd &amp; 47 Rd</td>\n",
       "      <td>40.744907</td>\n",
       "      <td>-73.953457</td>\n",
       "      <td>3572</td>\n",
       "      <td>34 Ave &amp; 38 St</td>\n",
       "      <td>40.756913</td>\n",
       "      <td>-73.921631</td>\n",
       "      <td>32219</td>\n",
       "      <td>Subscriber</td>\n",
       "      <td>1998</td>\n",
       "      <td>male</td>\n",
       "      <td>29</td>\n",
       "    </tr>\n",
       "    <tr>\n",
       "      <th>2</th>\n",
       "      <td>2018-05-01</td>\n",
       "      <td>2018-05-01</td>\n",
       "      <td>4</td>\n",
       "      <td>4</td>\n",
       "      <td>526</td>\n",
       "      <td>515</td>\n",
       "      <td>W 43 St &amp; 10 Ave</td>\n",
       "      <td>40.760094</td>\n",
       "      <td>-73.994618</td>\n",
       "      <td>388</td>\n",
       "      <td>W 26 St &amp; 10 Ave</td>\n",
       "      <td>40.749718</td>\n",
       "      <td>-74.002950</td>\n",
       "      <td>33433</td>\n",
       "      <td>Subscriber</td>\n",
       "      <td>1954</td>\n",
       "      <td>male</td>\n",
       "      <td>55</td>\n",
       "    </tr>\n",
       "    <tr>\n",
       "      <th>3</th>\n",
       "      <td>2018-05-01</td>\n",
       "      <td>2018-05-01</td>\n",
       "      <td>3</td>\n",
       "      <td>3</td>\n",
       "      <td>885</td>\n",
       "      <td>3641</td>\n",
       "      <td>Broadway &amp; W 25 St</td>\n",
       "      <td>40.742869</td>\n",
       "      <td>-73.989186</td>\n",
       "      <td>336</td>\n",
       "      <td>Sullivan St &amp; Washington Sq</td>\n",
       "      <td>40.730477</td>\n",
       "      <td>-73.999061</td>\n",
       "      <td>32028</td>\n",
       "      <td>Subscriber</td>\n",
       "      <td>1963</td>\n",
       "      <td>male</td>\n",
       "      <td>32</td>\n",
       "    </tr>\n",
       "    <tr>\n",
       "      <th>4</th>\n",
       "      <td>2018-05-01</td>\n",
       "      <td>2018-05-01</td>\n",
       "      <td>1</td>\n",
       "      <td>1</td>\n",
       "      <td>324</td>\n",
       "      <td>3440</td>\n",
       "      <td>Fulton St &amp; Adams St</td>\n",
       "      <td>40.692418</td>\n",
       "      <td>-73.989495</td>\n",
       "      <td>3308</td>\n",
       "      <td>Kane St &amp; Clinton St</td>\n",
       "      <td>40.686176</td>\n",
       "      <td>-73.996453</td>\n",
       "      <td>26425</td>\n",
       "      <td>Subscriber</td>\n",
       "      <td>1965</td>\n",
       "      <td>male</td>\n",
       "      <td>34</td>\n",
       "    </tr>\n",
       "  </tbody>\n",
       "</table>\n",
       "</div>"
      ],
      "text/plain": [
       "   start_date    end_date  start_hour  end_hour  trip_duration  \\\n",
       "0  2018-05-01  2018-05-01           4         4            390   \n",
       "1  2018-05-01  2018-05-01           1         1            854   \n",
       "2  2018-05-01  2018-05-01           4         4            526   \n",
       "3  2018-05-01  2018-05-01           3         3            885   \n",
       "4  2018-05-01  2018-05-01           1         1            324   \n",
       "\n",
       "   start_station_id          start_station_name  start_station_latitude  \\\n",
       "0              3002  South End Ave & Liberty St               40.711512   \n",
       "1              3611         Vernon Blvd & 47 Rd               40.744907   \n",
       "2               515            W 43 St & 10 Ave               40.760094   \n",
       "3              3641          Broadway & W 25 St               40.742869   \n",
       "4              3440        Fulton St & Adams St               40.692418   \n",
       "\n",
       "   start_station_longitude  end_station_id             end_station_name  \\\n",
       "0               -74.015756              79     Franklin St & W Broadway   \n",
       "1               -73.953457            3572               34 Ave & 38 St   \n",
       "2               -73.994618             388             W 26 St & 10 Ave   \n",
       "3               -73.989186             336  Sullivan St & Washington Sq   \n",
       "4               -73.989495            3308         Kane St & Clinton St   \n",
       "\n",
       "   end_station_latitude  end_station_longitude  bike_id    usertype  \\\n",
       "0             40.719116             -74.006667    21105  Subscriber   \n",
       "1             40.756913             -73.921631    32219  Subscriber   \n",
       "2             40.749718             -74.002950    33433  Subscriber   \n",
       "3             40.730477             -73.999061    32028  Subscriber   \n",
       "4             40.686176             -73.996453    26425  Subscriber   \n",
       "\n",
       "   birth_year gender  day_since_register  \n",
       "0        1945   male                  36  \n",
       "1        1998   male                  29  \n",
       "2        1954   male                  55  \n",
       "3        1963   male                  32  \n",
       "4        1965   male                  34  "
      ]
     },
     "execution_count": 5,
     "metadata": {},
     "output_type": "execute_result"
    }
   ],
   "source": [
    "df_bike.head(5)"
   ]
  },
  {
   "cell_type": "code",
   "execution_count": 6,
   "id": "d66a01e3",
   "metadata": {},
   "outputs": [
    {
     "name": "stdout",
     "output_type": "stream",
     "text": [
      "<class 'pandas.core.frame.DataFrame'>\n",
      "RangeIndex: 72035 entries, 0 to 72034\n",
      "Data columns (total 18 columns):\n",
      " #   Column                   Non-Null Count  Dtype  \n",
      "---  ------                   --------------  -----  \n",
      " 0   start_date               72035 non-null  object \n",
      " 1   end_date                 72035 non-null  object \n",
      " 2   start_hour               72035 non-null  int64  \n",
      " 3   end_hour                 72035 non-null  int64  \n",
      " 4   trip_duration            72035 non-null  int64  \n",
      " 5   start_station_id         72035 non-null  int64  \n",
      " 6   start_station_name       72035 non-null  object \n",
      " 7   start_station_latitude   72035 non-null  float64\n",
      " 8   start_station_longitude  72035 non-null  float64\n",
      " 9   end_station_id           72035 non-null  int64  \n",
      " 10  end_station_name         72035 non-null  object \n",
      " 11  end_station_latitude     72035 non-null  float64\n",
      " 12  end_station_longitude    72035 non-null  float64\n",
      " 13  bike_id                  72035 non-null  int64  \n",
      " 14  usertype                 72035 non-null  object \n",
      " 15  birth_year               72035 non-null  int64  \n",
      " 16  gender                   72035 non-null  object \n",
      " 17  day_since_register       72035 non-null  int64  \n",
      "dtypes: float64(4), int64(8), object(6)\n",
      "memory usage: 9.9+ MB\n"
     ]
    }
   ],
   "source": [
    "df_bike.info() # 변수 타입 및 결측치 확인"
   ]
  },
  {
   "cell_type": "code",
   "execution_count": 7,
   "id": "a061357e",
   "metadata": {},
   "outputs": [
    {
     "data": {
      "text/html": [
       "<div>\n",
       "<style scoped>\n",
       "    .dataframe tbody tr th:only-of-type {\n",
       "        vertical-align: middle;\n",
       "    }\n",
       "\n",
       "    .dataframe tbody tr th {\n",
       "        vertical-align: top;\n",
       "    }\n",
       "\n",
       "    .dataframe thead th {\n",
       "        text-align: right;\n",
       "    }\n",
       "</style>\n",
       "<table border=\"1\" class=\"dataframe\">\n",
       "  <thead>\n",
       "    <tr style=\"text-align: right;\">\n",
       "      <th></th>\n",
       "      <th>start_hour</th>\n",
       "      <th>end_hour</th>\n",
       "      <th>trip_duration</th>\n",
       "      <th>start_station_id</th>\n",
       "      <th>start_station_latitude</th>\n",
       "      <th>start_station_longitude</th>\n",
       "      <th>end_station_id</th>\n",
       "      <th>end_station_latitude</th>\n",
       "      <th>end_station_longitude</th>\n",
       "      <th>bike_id</th>\n",
       "      <th>birth_year</th>\n",
       "      <th>day_since_register</th>\n",
       "    </tr>\n",
       "  </thead>\n",
       "  <tbody>\n",
       "    <tr>\n",
       "      <th>count</th>\n",
       "      <td>72035.000000</td>\n",
       "      <td>72035.000000</td>\n",
       "      <td>7.203500e+04</td>\n",
       "      <td>72035.000000</td>\n",
       "      <td>72035.000000</td>\n",
       "      <td>72035.000000</td>\n",
       "      <td>72035.000000</td>\n",
       "      <td>72035.000000</td>\n",
       "      <td>72035.000000</td>\n",
       "      <td>72035.000000</td>\n",
       "      <td>72035.000000</td>\n",
       "      <td>72035.000000</td>\n",
       "    </tr>\n",
       "    <tr>\n",
       "      <th>mean</th>\n",
       "      <td>14.176775</td>\n",
       "      <td>14.372916</td>\n",
       "      <td>1.046751e+03</td>\n",
       "      <td>1535.681488</td>\n",
       "      <td>40.738587</td>\n",
       "      <td>-73.983531</td>\n",
       "      <td>1537.181287</td>\n",
       "      <td>40.738292</td>\n",
       "      <td>-73.983435</td>\n",
       "      <td>26139.737683</td>\n",
       "      <td>1977.994947</td>\n",
       "      <td>30.468522</td>\n",
       "    </tr>\n",
       "    <tr>\n",
       "      <th>std</th>\n",
       "      <td>4.809857</td>\n",
       "      <td>4.854897</td>\n",
       "      <td>8.139700e+03</td>\n",
       "      <td>1418.093403</td>\n",
       "      <td>0.029777</td>\n",
       "      <td>0.018456</td>\n",
       "      <td>1420.198780</td>\n",
       "      <td>0.029736</td>\n",
       "      <td>0.018639</td>\n",
       "      <td>5793.540983</td>\n",
       "      <td>11.868175</td>\n",
       "      <td>17.341855</td>\n",
       "    </tr>\n",
       "    <tr>\n",
       "      <th>min</th>\n",
       "      <td>0.000000</td>\n",
       "      <td>0.000000</td>\n",
       "      <td>6.100000e+01</td>\n",
       "      <td>72.000000</td>\n",
       "      <td>40.646538</td>\n",
       "      <td>-74.025353</td>\n",
       "      <td>72.000000</td>\n",
       "      <td>40.646538</td>\n",
       "      <td>-74.044247</td>\n",
       "      <td>14529.000000</td>\n",
       "      <td>1885.000000</td>\n",
       "      <td>1.000000</td>\n",
       "    </tr>\n",
       "    <tr>\n",
       "      <th>25%</th>\n",
       "      <td>10.000000</td>\n",
       "      <td>10.000000</td>\n",
       "      <td>3.980000e+02</td>\n",
       "      <td>382.000000</td>\n",
       "      <td>40.718939</td>\n",
       "      <td>-73.995481</td>\n",
       "      <td>382.000000</td>\n",
       "      <td>40.718939</td>\n",
       "      <td>-73.995299</td>\n",
       "      <td>20533.000000</td>\n",
       "      <td>1969.000000</td>\n",
       "      <td>15.000000</td>\n",
       "    </tr>\n",
       "    <tr>\n",
       "      <th>50%</th>\n",
       "      <td>15.000000</td>\n",
       "      <td>15.000000</td>\n",
       "      <td>6.810000e+02</td>\n",
       "      <td>504.000000</td>\n",
       "      <td>40.740343</td>\n",
       "      <td>-73.986580</td>\n",
       "      <td>503.000000</td>\n",
       "      <td>40.739974</td>\n",
       "      <td>-73.986580</td>\n",
       "      <td>27840.000000</td>\n",
       "      <td>1980.000000</td>\n",
       "      <td>30.000000</td>\n",
       "    </tr>\n",
       "    <tr>\n",
       "      <th>75%</th>\n",
       "      <td>18.000000</td>\n",
       "      <td>18.000000</td>\n",
       "      <td>1.201000e+03</td>\n",
       "      <td>3223.000000</td>\n",
       "      <td>40.758997</td>\n",
       "      <td>-73.973747</td>\n",
       "      <td>3224.000000</td>\n",
       "      <td>40.758924</td>\n",
       "      <td>-73.973747</td>\n",
       "      <td>30995.000000</td>\n",
       "      <td>1988.000000</td>\n",
       "      <td>46.000000</td>\n",
       "    </tr>\n",
       "    <tr>\n",
       "      <th>max</th>\n",
       "      <td>23.000000</td>\n",
       "      <td>23.000000</td>\n",
       "      <td>1.344462e+06</td>\n",
       "      <td>3680.000000</td>\n",
       "      <td>40.814394</td>\n",
       "      <td>-73.907744</td>\n",
       "      <td>3680.000000</td>\n",
       "      <td>40.814394</td>\n",
       "      <td>-73.907744</td>\n",
       "      <td>33671.000000</td>\n",
       "      <td>2002.000000</td>\n",
       "      <td>60.000000</td>\n",
       "    </tr>\n",
       "  </tbody>\n",
       "</table>\n",
       "</div>"
      ],
      "text/plain": [
       "         start_hour      end_hour  trip_duration  start_station_id  \\\n",
       "count  72035.000000  72035.000000   7.203500e+04      72035.000000   \n",
       "mean      14.176775     14.372916   1.046751e+03       1535.681488   \n",
       "std        4.809857      4.854897   8.139700e+03       1418.093403   \n",
       "min        0.000000      0.000000   6.100000e+01         72.000000   \n",
       "25%       10.000000     10.000000   3.980000e+02        382.000000   \n",
       "50%       15.000000     15.000000   6.810000e+02        504.000000   \n",
       "75%       18.000000     18.000000   1.201000e+03       3223.000000   \n",
       "max       23.000000     23.000000   1.344462e+06       3680.000000   \n",
       "\n",
       "       start_station_latitude  start_station_longitude  end_station_id  \\\n",
       "count            72035.000000             72035.000000    72035.000000   \n",
       "mean                40.738587               -73.983531     1537.181287   \n",
       "std                  0.029777                 0.018456     1420.198780   \n",
       "min                 40.646538               -74.025353       72.000000   \n",
       "25%                 40.718939               -73.995481      382.000000   \n",
       "50%                 40.740343               -73.986580      503.000000   \n",
       "75%                 40.758997               -73.973747     3224.000000   \n",
       "max                 40.814394               -73.907744     3680.000000   \n",
       "\n",
       "       end_station_latitude  end_station_longitude       bike_id  \\\n",
       "count          72035.000000           72035.000000  72035.000000   \n",
       "mean              40.738292             -73.983435  26139.737683   \n",
       "std                0.029736               0.018639   5793.540983   \n",
       "min               40.646538             -74.044247  14529.000000   \n",
       "25%               40.718939             -73.995299  20533.000000   \n",
       "50%               40.739974             -73.986580  27840.000000   \n",
       "75%               40.758924             -73.973747  30995.000000   \n",
       "max               40.814394             -73.907744  33671.000000   \n",
       "\n",
       "         birth_year  day_since_register  \n",
       "count  72035.000000        72035.000000  \n",
       "mean    1977.994947           30.468522  \n",
       "std       11.868175           17.341855  \n",
       "min     1885.000000            1.000000  \n",
       "25%     1969.000000           15.000000  \n",
       "50%     1980.000000           30.000000  \n",
       "75%     1988.000000           46.000000  \n",
       "max     2002.000000           60.000000  "
      ]
     },
     "execution_count": 7,
     "metadata": {},
     "output_type": "execute_result"
    }
   ],
   "source": [
    "df_bike.describe() # 기초 통계량 확인"
   ]
  },
  {
   "cell_type": "code",
   "execution_count": null,
   "id": "f842b6bc",
   "metadata": {},
   "outputs": [
    {
     "name": "stdout",
     "output_type": "stream",
     "text": [
      "['start_date', 'end_date', 'start_hour', 'end_hour', 'trip_duration', 'start_station_id', 'start_station_name', 'start_station_latitude', 'start_station_longitude', 'end_station_id', 'end_station_name', 'end_station_latitude', 'end_station_longitude', 'bike_id', 'usertype', 'birth_year', 'gender', 'day_since_register']\n"
     ]
    }
   ],
   "source": [
    "# EDA 시 column 정리하는 방법 가이드 -> column리스트 print찍고 목적에 맞게 변수 구분하기\n",
    "print(list(df_bike.columns))\n",
    "\n",
    "\n",
    "['start_date', 'end_date', 'start_hour', 'end_hour', 'trip_duration', 'birth_year', 'day_since_register',\n",
    " 'start_station_latitude', 'start_station_longitude', 'end_station_latitude', 'end_station_longitude', # 연속형\n",
    " 'start_station_id', 'end_station_id', 'bike_id' # 별로 안중요한 id\n",
    " 'start_station_name', 'end_station_name', 'usertype', 'gender' # 카테고리?\n",
    " ]\n",
    "\n"
   ]
  },
  {
   "cell_type": "code",
   "execution_count": null,
   "id": "70f2239d",
   "metadata": {},
   "outputs": [],
   "source": [
    "# 연속형과 범주형구분\n",
    "numeric_col = ['start_date', 'end_date', 'start_hour', 'end_hour', 'trip_duration', 'birth_year', 'day_since_register',\n",
    "               'start_station_latitude', 'start_station_longitude', 'end_station_latitude', 'end_station_longitude']\n",
    "\n",
    "category_col = ['start_station_name', 'end_station_name', 'usertype', 'gender']"
   ]
  },
  {
   "cell_type": "markdown",
   "id": "1f66e9c8",
   "metadata": {},
   "source": [
    "2. 단일 변수 분석\n",
    "\n",
    "- `trip_duration` 칼럼의 기초 통계를 구해보고, 평균 및 중앙값을 비교해보세요. 그래프를 그려 이상치가 존재하는지 확인하고, 이상치를 제거한 후의 분포를 다시 시각화해보세요.\n",
    "\n",
    "- 결과에 대해 나름대로 해석한 결과를 정리해보세요.\n",
    "\n",
    "- `start_hour`의 빈도 분포를 시각화하고, 가장 대여가 많은 시간대는 언제인지 확인하세요. - 그리고 그 결과에 대해 나름대로 해석한 결과를 정리해보세요.\n",
    "\n",
    "- `gender`에 따른 빈도 분포를 시각화하고, 그 결과에 대해 나름대로 해석한 결과를 정리해보세요."
   ]
  },
  {
   "cell_type": "code",
   "execution_count": 13,
   "id": "8846c7d0",
   "metadata": {},
   "outputs": [
    {
     "data": {
      "text/plain": [
       "count    7.203500e+04\n",
       "mean     1.046751e+03\n",
       "std      8.139700e+03\n",
       "min      6.100000e+01\n",
       "25%      3.980000e+02\n",
       "50%      6.810000e+02\n",
       "75%      1.201000e+03\n",
       "max      1.344462e+06\n",
       "Name: trip_duration, dtype: float64"
      ]
     },
     "execution_count": 13,
     "metadata": {},
     "output_type": "execute_result"
    }
   ],
   "source": [
    "df_bike['trip_duration'].describe()"
   ]
  },
  {
   "cell_type": "code",
   "execution_count": null,
   "id": "d6965af8",
   "metadata": {},
   "outputs": [
    {
     "data": {
      "text/plain": [
       "<seaborn.axisgrid.FacetGrid at 0x2509e8a4c50>"
      ]
     },
     "execution_count": 18,
     "metadata": {},
     "output_type": "execute_result"
    },
    {
     "data": {
      "image/png": "[encoded data removed]",
      "text/plain": [
       "<Figure size 511.111x500 with 1 Axes>"
      ]
     },
     "metadata": {},
     "output_type": "display_data"
    }
   ],
   "source": [
    "# 이상치 확인용 시각화\n",
    "sns.catplot(y='trip_duration', data=df_bike, kind='strip')"
   ]
  },
  {
   "cell_type": "markdown",
   "id": "02c2caa8",
   "metadata": {},
   "source": [
    "> 이상치가 너무 심하게 차이나는 것들은 잘못대여하고 곧바로 반납? 혹은 도난? 제거하는게 좋겠다"
   ]
  },
  {
   "cell_type": "code",
   "execution_count": 10,
   "id": "fc43216a",
   "metadata": {},
   "outputs": [],
   "source": [
    "# 이상치 제거기준: (Q1 – 1.5 * IQR) 보다 작거나 (Q3 + 1.5 * IQR)\n",
    "\n",
    "Q1 = df_bike['trip_duration'].quantile(0.25)\n",
    "Q3 = df_bike['trip_duration'].quantile(0.75)\n",
    "IQR = Q3 - Q1\n",
    "\n",
    "lower_bound = Q1 - 1.5 * IQR\n",
    "upper_bound = Q3 + 1.5 * IQR\n",
    "\n",
    "df = df_bike[(df_bike['trip_duration'] >= lower_bound) & (df_bike['trip_duration'] <= upper_bound)]"
   ]
  },
  {
   "cell_type": "code",
   "execution_count": 17,
   "id": "07abf166",
   "metadata": {},
   "outputs": [
    {
     "data": {
      "image/png": "[encoded data removed]",
      "text/plain": [
       "<Figure size 640x480 with 1 Axes>"
      ]
     },
     "metadata": {},
     "output_type": "display_data"
    }
   ],
   "source": [
    "# 이상치 제거 후 분포 시각화\n",
    "sns.histplot(df['trip_duration'])\n",
    "plt.title('Trip Duration Distribution')\n",
    "plt.xlabel('trip_duration')\n",
    "plt.ylabel('Count')\n",
    "plt.show()"
   ]
  },
  {
   "cell_type": "code",
   "execution_count": 23,
   "id": "a53e5c43",
   "metadata": {},
   "outputs": [
    {
     "data": {
      "image/png": "[encoded data removed]",
      "text/plain": [
       "<Figure size 640x480 with 1 Axes>"
      ]
     },
     "metadata": {},
     "output_type": "display_data"
    }
   ],
   "source": [
    "# 빈도 분포 시각화\n",
    "sns.countplot(x='start_hour', data=df)\n",
    "plt.title('Frequency distribution of start_hour')\n",
    "plt.xlabel('Start Hour')\n",
    "plt.ylabel('Count')\n",
    "plt.show()"
   ]
  },
  {
   "cell_type": "markdown",
   "id": "982ee3d3",
   "metadata": {},
   "source": [
    "> 대여 시간이 오전 8시와 17~18시 사이에 가장 많은걸 보면 보통 출근시간대와 퇴근시간대에 많이 분포한다는것을 알 수 있다"
   ]
  },
  {
   "cell_type": "code",
   "execution_count": 22,
   "id": "8e7f7b52",
   "metadata": {},
   "outputs": [
    {
     "data": {
      "image/png": "[encoded data removed]",
      "text/plain": [
       "<Figure size 640x480 with 1 Axes>"
      ]
     },
     "metadata": {},
     "output_type": "display_data"
    }
   ],
   "source": [
    "# 성별 빈도 시각화\n",
    "sns.countplot(x='gender', data=df)\n",
    "plt.title('Gender Frequency')\n",
    "plt.xlabel('Gender')\n",
    "plt.ylabel('Count')\n",
    "plt.show()"
   ]
  },
  {
   "cell_type": "markdown",
   "id": "09097c2d",
   "metadata": {},
   "source": [
    "> unknown은 성별을 기입을 안한건가?"
   ]
  },
  {
   "cell_type": "markdown",
   "id": "f1d2a843",
   "metadata": {},
   "source": [
    "3. 이진 변수 분석\n",
    "\n",
    "- `usertype`과 `gender` 간의 관계를 시각화하고, 구독자와 일반 사용자의 성별에는 어떤 특징이 있는지 분석해보세요."
   ]
  },
  {
   "cell_type": "code",
   "execution_count": 29,
   "id": "716a83b6",
   "metadata": {},
   "outputs": [
    {
     "data": {
      "image/png": "[encoded data removed]",
      "text/plain": [
       "<Figure size 640x480 with 1 Axes>"
      ]
     },
     "metadata": {},
     "output_type": "display_data"
    }
   ],
   "source": [
    "sns.countplot(x='usertype', hue='gender', data=df)\n",
    "plt.title('User Type by Gender')\n",
    "plt.xlabel('User Type')\n",
    "plt.ylabel('Count')\n",
    "plt.show()"
   ]
  },
  {
   "cell_type": "markdown",
   "id": "3387bbaa",
   "metadata": {},
   "source": [
    "> Subscriber(구독자)는 남자 구독자가 여성 구독자보다 훨씬 많다 \\\n",
    "> Customer(일반사용자)는 unknown 비율이 더 높아서 쉽게 유추 불가"
   ]
  },
  {
   "cell_type": "markdown",
   "id": "3b883ba1",
   "metadata": {},
   "source": [
    "4. 다변수 분석\n",
    "\n",
    "- `start_station_name`, `start_hour`, `trip_duration`을 이용하여 버블 차트를 생성하고, 어떤 시작 지점에서 어떤 시간대에 주행 시간이 긴지 분석해보세요.\n",
    "\n",
    "- 히트맵을 사용하여 `start_station_name`과 `start_hour` 간의 관계를 시각화하고, 특정 시간대에 대여가 많은 시작 지점을 찾아보세요."
   ]
  },
  {
   "cell_type": "code",
   "execution_count": null,
   "id": "205794cf",
   "metadata": {},
   "outputs": [],
   "source": []
  }
 ],
 "metadata": {
  "kernelspec": {
   "display_name": "study",
   "language": "python",
   "name": "python3"
  },
  "language_info": {
   "codemirror_mode": {
    "name": "ipython",
    "version": 3
   },
   "file_extension": ".py",
   "mimetype": "text/x-python",
   "name": "python",
   "nbconvert_exporter": "python",
   "pygments_lexer": "ipython3",
   "version": "3.11.13"
  }
 },
 "nbformat": 4,
 "nbformat_minor": 5
}

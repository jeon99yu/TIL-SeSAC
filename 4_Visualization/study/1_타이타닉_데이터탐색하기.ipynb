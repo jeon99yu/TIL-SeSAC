{
 "cells": [
  {
   "cell_type": "code",
   "execution_count": 1,
   "metadata": {
    "_cell_guid": "b1076dfc-b9ad-4769-8c92-a6c4dae69d19",
    "_uuid": "8f2839f25d086af736a60e9eeb907d3b93b6e0e5",
    "executionInfo": {
     "elapsed": 730,
     "status": "ok",
     "timestamp": 1686979606908,
     "user": {
      "displayName": "최재진",
      "userId": "14104918437285699837"
     },
     "user_tz": -540
    },
    "id": "l9Th7R4mGko8",
    "trusted": true
   },
   "outputs": [],
   "source": [
    "import numpy as np\n",
    "import pandas as pd\n",
    "from matplotlib import pyplot as plt\n",
    "import seaborn as sns"
   ]
  },
  {
   "cell_type": "code",
   "execution_count": null,
   "metadata": {
    "colab": {
     "base_uri": "https://localhost:8080/",
     "height": 206
    },
    "executionInfo": {
     "elapsed": 744,
     "status": "ok",
     "timestamp": 1686979608590,
     "user": {
      "displayName": "최재진",
      "userId": "14104918437285699837"
     },
     "user_tz": -540
    },
    "id": "OO0GvHpHG1v7",
    "outputId": "d3433b81-912f-424b-d0d0-4bf51e0d1521"
   },
   "outputs": [
    {
     "data": {
      "text/html": [
       "<div>\n",
       "<style scoped>\n",
       "    .dataframe tbody tr th:only-of-type {\n",
       "        vertical-align: middle;\n",
       "    }\n",
       "\n",
       "    .dataframe tbody tr th {\n",
       "        vertical-align: top;\n",
       "    }\n",
       "\n",
       "    .dataframe thead th {\n",
       "        text-align: right;\n",
       "    }\n",
       "</style>\n",
       "<table border=\"1\" class=\"dataframe\">\n",
       "  <thead>\n",
       "    <tr style=\"text-align: right;\">\n",
       "      <th></th>\n",
       "      <th>889</th>\n",
       "      <th>890</th>\n",
       "    </tr>\n",
       "  </thead>\n",
       "  <tbody>\n",
       "    <tr>\n",
       "      <th>PassengerId</th>\n",
       "      <td>890</td>\n",
       "      <td>891</td>\n",
       "    </tr>\n",
       "    <tr>\n",
       "      <th>Survived</th>\n",
       "      <td>1</td>\n",
       "      <td>0</td>\n",
       "    </tr>\n",
       "    <tr>\n",
       "      <th>Pclass</th>\n",
       "      <td>1</td>\n",
       "      <td>3</td>\n",
       "    </tr>\n",
       "    <tr>\n",
       "      <th>Name</th>\n",
       "      <td>Behr, Mr. Karl Howell</td>\n",
       "      <td>Dooley, Mr. Patrick</td>\n",
       "    </tr>\n",
       "    <tr>\n",
       "      <th>Sex</th>\n",
       "      <td>male</td>\n",
       "      <td>male</td>\n",
       "    </tr>\n",
       "    <tr>\n",
       "      <th>Age</th>\n",
       "      <td>26.0</td>\n",
       "      <td>32.0</td>\n",
       "    </tr>\n",
       "    <tr>\n",
       "      <th>SibSp</th>\n",
       "      <td>0</td>\n",
       "      <td>0</td>\n",
       "    </tr>\n",
       "    <tr>\n",
       "      <th>Parch</th>\n",
       "      <td>0</td>\n",
       "      <td>0</td>\n",
       "    </tr>\n",
       "    <tr>\n",
       "      <th>Ticket</th>\n",
       "      <td>111369</td>\n",
       "      <td>370376</td>\n",
       "    </tr>\n",
       "    <tr>\n",
       "      <th>Fare</th>\n",
       "      <td>30.0</td>\n",
       "      <td>7.75</td>\n",
       "    </tr>\n",
       "    <tr>\n",
       "      <th>Cabin</th>\n",
       "      <td>C148</td>\n",
       "      <td>NaN</td>\n",
       "    </tr>\n",
       "    <tr>\n",
       "      <th>Embarked</th>\n",
       "      <td>C</td>\n",
       "      <td>Q</td>\n",
       "    </tr>\n",
       "  </tbody>\n",
       "</table>\n",
       "</div>"
      ],
      "text/plain": [
       "                               889                  890\n",
       "PassengerId                    890                  891\n",
       "Survived                         1                    0\n",
       "Pclass                           1                    3\n",
       "Name         Behr, Mr. Karl Howell  Dooley, Mr. Patrick\n",
       "Sex                           male                 male\n",
       "Age                           26.0                 32.0\n",
       "SibSp                            0                    0\n",
       "Parch                            0                    0\n",
       "Ticket                      111369               370376\n",
       "Fare                          30.0                 7.75\n",
       "Cabin                         C148                  NaN\n",
       "Embarked                         C                    Q"
      ]
     },
     "execution_count": 4,
     "metadata": {},
     "output_type": "execute_result"
    }
   ],
   "source": [
    "df_titanic = pd.read_csv(\"https://raw.githubusercontent.com/datasciencedojo/datasets/refs/heads/master/titanic.csv\")\n",
    "# df_titanic.tail()\n",
    "df_titanic.tail(2).T # feature 확인"
   ]
  },
  {
   "cell_type": "code",
   "execution_count": null,
   "metadata": {
    "_cell_guid": "79c7e3d0-c299-4dcb-8224-4455121ee9b0",
    "_uuid": "d629ff2d2480ee46fbb7e2d37f6b5fab8052498a",
    "colab": {
     "base_uri": "https://localhost:8080/"
    },
    "executionInfo": {
     "elapsed": 9,
     "status": "ok",
     "timestamp": 1686979608591,
     "user": {
      "displayName": "최재진",
      "userId": "14104918437285699837"
     },
     "user_tz": -540
    },
    "id": "RHz347CjGkpM",
    "outputId": "ce337b52-a363-465d-f5b7-e46934255a1b",
    "trusted": true
   },
   "outputs": [
    {
     "data": {
      "text/plain": [
       "(891, 12)"
      ]
     },
     "execution_count": 5,
     "metadata": {},
     "output_type": "execute_result"
    }
   ],
   "source": [
    "df_titanic.shape # 행=>데이터 개수 / 열=>칼럼(feature) 개수"
   ]
  },
  {
   "cell_type": "code",
   "execution_count": 6,
   "metadata": {
    "colab": {
     "base_uri": "https://localhost:8080/",
     "height": 206
    },
    "executionInfo": {
     "elapsed": 6,
     "status": "ok",
     "timestamp": 1686979608591,
     "user": {
      "displayName": "최재진",
      "userId": "14104918437285699837"
     },
     "user_tz": -540
    },
    "id": "QzJj5nhzGkpQ",
    "outputId": "3b4164a1-59c7-4281-c031-76728fc24c4d",
    "trusted": true
   },
   "outputs": [
    {
     "data": {
      "text/html": [
       "<div>\n",
       "<style scoped>\n",
       "    .dataframe tbody tr th:only-of-type {\n",
       "        vertical-align: middle;\n",
       "    }\n",
       "\n",
       "    .dataframe tbody tr th {\n",
       "        vertical-align: top;\n",
       "    }\n",
       "\n",
       "    .dataframe thead th {\n",
       "        text-align: right;\n",
       "    }\n",
       "</style>\n",
       "<table border=\"1\" class=\"dataframe\">\n",
       "  <thead>\n",
       "    <tr style=\"text-align: right;\">\n",
       "      <th></th>\n",
       "      <th>PassengerId</th>\n",
       "      <th>Survived</th>\n",
       "      <th>Pclass</th>\n",
       "      <th>Name</th>\n",
       "      <th>Sex</th>\n",
       "      <th>Age</th>\n",
       "      <th>SibSp</th>\n",
       "      <th>Parch</th>\n",
       "      <th>Ticket</th>\n",
       "      <th>Fare</th>\n",
       "      <th>Cabin</th>\n",
       "      <th>Embarked</th>\n",
       "    </tr>\n",
       "  </thead>\n",
       "  <tbody>\n",
       "    <tr>\n",
       "      <th>0</th>\n",
       "      <td>1</td>\n",
       "      <td>0</td>\n",
       "      <td>3</td>\n",
       "      <td>Braund, Mr. Owen Harris</td>\n",
       "      <td>male</td>\n",
       "      <td>22.0</td>\n",
       "      <td>1</td>\n",
       "      <td>0</td>\n",
       "      <td>A/5 21171</td>\n",
       "      <td>7.2500</td>\n",
       "      <td>NaN</td>\n",
       "      <td>S</td>\n",
       "    </tr>\n",
       "    <tr>\n",
       "      <th>1</th>\n",
       "      <td>2</td>\n",
       "      <td>1</td>\n",
       "      <td>1</td>\n",
       "      <td>Cumings, Mrs. John Bradley (Florence Briggs Th...</td>\n",
       "      <td>female</td>\n",
       "      <td>38.0</td>\n",
       "      <td>1</td>\n",
       "      <td>0</td>\n",
       "      <td>PC 17599</td>\n",
       "      <td>71.2833</td>\n",
       "      <td>C85</td>\n",
       "      <td>C</td>\n",
       "    </tr>\n",
       "    <tr>\n",
       "      <th>2</th>\n",
       "      <td>3</td>\n",
       "      <td>1</td>\n",
       "      <td>3</td>\n",
       "      <td>Heikkinen, Miss. Laina</td>\n",
       "      <td>female</td>\n",
       "      <td>26.0</td>\n",
       "      <td>0</td>\n",
       "      <td>0</td>\n",
       "      <td>STON/O2. 3101282</td>\n",
       "      <td>7.9250</td>\n",
       "      <td>NaN</td>\n",
       "      <td>S</td>\n",
       "    </tr>\n",
       "    <tr>\n",
       "      <th>3</th>\n",
       "      <td>4</td>\n",
       "      <td>1</td>\n",
       "      <td>1</td>\n",
       "      <td>Futrelle, Mrs. Jacques Heath (Lily May Peel)</td>\n",
       "      <td>female</td>\n",
       "      <td>35.0</td>\n",
       "      <td>1</td>\n",
       "      <td>0</td>\n",
       "      <td>113803</td>\n",
       "      <td>53.1000</td>\n",
       "      <td>C123</td>\n",
       "      <td>S</td>\n",
       "    </tr>\n",
       "    <tr>\n",
       "      <th>4</th>\n",
       "      <td>5</td>\n",
       "      <td>0</td>\n",
       "      <td>3</td>\n",
       "      <td>Allen, Mr. William Henry</td>\n",
       "      <td>male</td>\n",
       "      <td>35.0</td>\n",
       "      <td>0</td>\n",
       "      <td>0</td>\n",
       "      <td>373450</td>\n",
       "      <td>8.0500</td>\n",
       "      <td>NaN</td>\n",
       "      <td>S</td>\n",
       "    </tr>\n",
       "  </tbody>\n",
       "</table>\n",
       "</div>"
      ],
      "text/plain": [
       "   PassengerId  Survived  Pclass  \\\n",
       "0            1         0       3   \n",
       "1            2         1       1   \n",
       "2            3         1       3   \n",
       "3            4         1       1   \n",
       "4            5         0       3   \n",
       "\n",
       "                                                Name     Sex   Age  SibSp  \\\n",
       "0                            Braund, Mr. Owen Harris    male  22.0      1   \n",
       "1  Cumings, Mrs. John Bradley (Florence Briggs Th...  female  38.0      1   \n",
       "2                             Heikkinen, Miss. Laina  female  26.0      0   \n",
       "3       Futrelle, Mrs. Jacques Heath (Lily May Peel)  female  35.0      1   \n",
       "4                           Allen, Mr. William Henry    male  35.0      0   \n",
       "\n",
       "   Parch            Ticket     Fare Cabin Embarked  \n",
       "0      0         A/5 21171   7.2500   NaN        S  \n",
       "1      0          PC 17599  71.2833   C85        C  \n",
       "2      0  STON/O2. 3101282   7.9250   NaN        S  \n",
       "3      0            113803  53.1000  C123        S  \n",
       "4      0            373450   8.0500   NaN        S  "
      ]
     },
     "execution_count": 6,
     "metadata": {},
     "output_type": "execute_result"
    }
   ],
   "source": [
    "df_titanic.head()"
   ]
  },
  {
   "cell_type": "code",
   "execution_count": null,
   "metadata": {
    "colab": {
     "base_uri": "https://localhost:8080/"
    },
    "executionInfo": {
     "elapsed": 3,
     "status": "ok",
     "timestamp": 1686979611130,
     "user": {
      "displayName": "최재진",
      "userId": "14104918437285699837"
     },
     "user_tz": -540
    },
    "id": "UhMhsIBzGkpa",
    "outputId": "1c623c7a-b7e7-40ff-f91a-e65b9840f7e4",
    "trusted": true
   },
   "outputs": [
    {
     "name": "stdout",
     "output_type": "stream",
     "text": [
      "<class 'pandas.core.frame.DataFrame'>\n",
      "RangeIndex: 891 entries, 0 to 890\n",
      "Data columns (total 12 columns):\n",
      " #   Column       Non-Null Count  Dtype  \n",
      "---  ------       --------------  -----  \n",
      " 0   PassengerId  891 non-null    int64  \n",
      " 1   Survived     891 non-null    int64  \n",
      " 2   Pclass       891 non-null    int64  \n",
      " 3   Name         891 non-null    object \n",
      " 4   Sex          891 non-null    object \n",
      " 5   Age          714 non-null    float64\n",
      " 6   SibSp        891 non-null    int64  \n",
      " 7   Parch        891 non-null    int64  \n",
      " 8   Ticket       891 non-null    object \n",
      " 9   Fare         891 non-null    float64\n",
      " 10  Cabin        204 non-null    object \n",
      " 11  Embarked     889 non-null    object \n",
      "dtypes: float64(2), int64(5), object(5)\n",
      "memory usage: 83.7+ KB\n"
     ]
    }
   ],
   "source": [
    "df_titanic.info() # data type, non-null값 개수\n",
    "\n",
    "# 1. null값 어떻게 처리할 것인지?\n",
    "# 2. feature 처리 방향 (범주형 데이터처리, 숫자로 치환(0/1))"
   ]
  },
  {
   "cell_type": "code",
   "execution_count": null,
   "metadata": {
    "colab": {
     "base_uri": "https://localhost:8080/",
     "height": 300
    },
    "executionInfo": {
     "elapsed": 332,
     "status": "ok",
     "timestamp": 1686979613593,
     "user": {
      "displayName": "최재진",
      "userId": "14104918437285699837"
     },
     "user_tz": -540
    },
    "id": "qDIoaUrhGkpj",
    "outputId": "334f93c8-1bf5-4f47-8682-d839abd77626",
    "trusted": true
   },
   "outputs": [
    {
     "data": {
      "text/html": [
       "<div>\n",
       "<style scoped>\n",
       "    .dataframe tbody tr th:only-of-type {\n",
       "        vertical-align: middle;\n",
       "    }\n",
       "\n",
       "    .dataframe tbody tr th {\n",
       "        vertical-align: top;\n",
       "    }\n",
       "\n",
       "    .dataframe thead th {\n",
       "        text-align: right;\n",
       "    }\n",
       "</style>\n",
       "<table border=\"1\" class=\"dataframe\">\n",
       "  <thead>\n",
       "    <tr style=\"text-align: right;\">\n",
       "      <th></th>\n",
       "      <th>PassengerId</th>\n",
       "      <th>Survived</th>\n",
       "      <th>Pclass</th>\n",
       "      <th>Age</th>\n",
       "      <th>SibSp</th>\n",
       "      <th>Parch</th>\n",
       "      <th>Fare</th>\n",
       "    </tr>\n",
       "  </thead>\n",
       "  <tbody>\n",
       "    <tr>\n",
       "      <th>count</th>\n",
       "      <td>891.000000</td>\n",
       "      <td>891.000000</td>\n",
       "      <td>891.000000</td>\n",
       "      <td>714.000000</td>\n",
       "      <td>891.000000</td>\n",
       "      <td>891.000000</td>\n",
       "      <td>891.000000</td>\n",
       "    </tr>\n",
       "    <tr>\n",
       "      <th>mean</th>\n",
       "      <td>446.000000</td>\n",
       "      <td>0.383838</td>\n",
       "      <td>2.308642</td>\n",
       "      <td>29.699118</td>\n",
       "      <td>0.523008</td>\n",
       "      <td>0.381594</td>\n",
       "      <td>32.204208</td>\n",
       "    </tr>\n",
       "    <tr>\n",
       "      <th>std</th>\n",
       "      <td>257.353842</td>\n",
       "      <td>0.486592</td>\n",
       "      <td>0.836071</td>\n",
       "      <td>14.526497</td>\n",
       "      <td>1.102743</td>\n",
       "      <td>0.806057</td>\n",
       "      <td>49.693429</td>\n",
       "    </tr>\n",
       "    <tr>\n",
       "      <th>min</th>\n",
       "      <td>1.000000</td>\n",
       "      <td>0.000000</td>\n",
       "      <td>1.000000</td>\n",
       "      <td>0.420000</td>\n",
       "      <td>0.000000</td>\n",
       "      <td>0.000000</td>\n",
       "      <td>0.000000</td>\n",
       "    </tr>\n",
       "    <tr>\n",
       "      <th>25%</th>\n",
       "      <td>223.500000</td>\n",
       "      <td>0.000000</td>\n",
       "      <td>2.000000</td>\n",
       "      <td>20.125000</td>\n",
       "      <td>0.000000</td>\n",
       "      <td>0.000000</td>\n",
       "      <td>7.910400</td>\n",
       "    </tr>\n",
       "    <tr>\n",
       "      <th>50%</th>\n",
       "      <td>446.000000</td>\n",
       "      <td>0.000000</td>\n",
       "      <td>3.000000</td>\n",
       "      <td>28.000000</td>\n",
       "      <td>0.000000</td>\n",
       "      <td>0.000000</td>\n",
       "      <td>14.454200</td>\n",
       "    </tr>\n",
       "    <tr>\n",
       "      <th>75%</th>\n",
       "      <td>668.500000</td>\n",
       "      <td>1.000000</td>\n",
       "      <td>3.000000</td>\n",
       "      <td>38.000000</td>\n",
       "      <td>1.000000</td>\n",
       "      <td>0.000000</td>\n",
       "      <td>31.000000</td>\n",
       "    </tr>\n",
       "    <tr>\n",
       "      <th>max</th>\n",
       "      <td>891.000000</td>\n",
       "      <td>1.000000</td>\n",
       "      <td>3.000000</td>\n",
       "      <td>80.000000</td>\n",
       "      <td>8.000000</td>\n",
       "      <td>6.000000</td>\n",
       "      <td>512.329200</td>\n",
       "    </tr>\n",
       "  </tbody>\n",
       "</table>\n",
       "</div>"
      ],
      "text/plain": [
       "       PassengerId    Survived      Pclass         Age       SibSp  \\\n",
       "count   891.000000  891.000000  891.000000  714.000000  891.000000   \n",
       "mean    446.000000    0.383838    2.308642   29.699118    0.523008   \n",
       "std     257.353842    0.486592    0.836071   14.526497    1.102743   \n",
       "min       1.000000    0.000000    1.000000    0.420000    0.000000   \n",
       "25%     223.500000    0.000000    2.000000   20.125000    0.000000   \n",
       "50%     446.000000    0.000000    3.000000   28.000000    0.000000   \n",
       "75%     668.500000    1.000000    3.000000   38.000000    1.000000   \n",
       "max     891.000000    1.000000    3.000000   80.000000    8.000000   \n",
       "\n",
       "            Parch        Fare  \n",
       "count  891.000000  891.000000  \n",
       "mean     0.381594   32.204208  \n",
       "std      0.806057   49.693429  \n",
       "min      0.000000    0.000000  \n",
       "25%      0.000000    7.910400  \n",
       "50%      0.000000   14.454200  \n",
       "75%      0.000000   31.000000  \n",
       "max      6.000000  512.329200  "
      ]
     },
     "execution_count": 8,
     "metadata": {},
     "output_type": "execute_result"
    }
   ],
   "source": [
    "# 숫자형 데이터의 경우, 기초통계 (개수, 평균, 표준편차, 최솟값, 25%, 중앙값, 75%, 최대값)\n",
    "df_titanic.describe() "
   ]
  },
  {
   "cell_type": "code",
   "execution_count": 9,
   "metadata": {
    "colab": {
     "base_uri": "https://localhost:8080/",
     "height": 394
    },
    "executionInfo": {
     "elapsed": 334,
     "status": "ok",
     "timestamp": 1686979615938,
     "user": {
      "displayName": "최재진",
      "userId": "14104918437285699837"
     },
     "user_tz": -540
    },
    "id": "D03RuyhoGkpn",
    "outputId": "5ac810a9-5cfe-4bbd-dfac-79717a494fba",
    "trusted": true
   },
   "outputs": [
    {
     "data": {
      "text/html": [
       "<div>\n",
       "<style scoped>\n",
       "    .dataframe tbody tr th:only-of-type {\n",
       "        vertical-align: middle;\n",
       "    }\n",
       "\n",
       "    .dataframe tbody tr th {\n",
       "        vertical-align: top;\n",
       "    }\n",
       "\n",
       "    .dataframe thead th {\n",
       "        text-align: right;\n",
       "    }\n",
       "</style>\n",
       "<table border=\"1\" class=\"dataframe\">\n",
       "  <thead>\n",
       "    <tr style=\"text-align: right;\">\n",
       "      <th></th>\n",
       "      <th>PassengerId</th>\n",
       "      <th>Survived</th>\n",
       "      <th>Pclass</th>\n",
       "      <th>Name</th>\n",
       "      <th>Sex</th>\n",
       "      <th>Age</th>\n",
       "      <th>SibSp</th>\n",
       "      <th>Parch</th>\n",
       "      <th>Ticket</th>\n",
       "      <th>Fare</th>\n",
       "      <th>Cabin</th>\n",
       "      <th>Embarked</th>\n",
       "    </tr>\n",
       "  </thead>\n",
       "  <tbody>\n",
       "    <tr>\n",
       "      <th>count</th>\n",
       "      <td>891.000000</td>\n",
       "      <td>891.000000</td>\n",
       "      <td>891.000000</td>\n",
       "      <td>891</td>\n",
       "      <td>891</td>\n",
       "      <td>714.000000</td>\n",
       "      <td>891.000000</td>\n",
       "      <td>891.000000</td>\n",
       "      <td>891</td>\n",
       "      <td>891.000000</td>\n",
       "      <td>204</td>\n",
       "      <td>889</td>\n",
       "    </tr>\n",
       "    <tr>\n",
       "      <th>unique</th>\n",
       "      <td>NaN</td>\n",
       "      <td>NaN</td>\n",
       "      <td>NaN</td>\n",
       "      <td>891</td>\n",
       "      <td>2</td>\n",
       "      <td>NaN</td>\n",
       "      <td>NaN</td>\n",
       "      <td>NaN</td>\n",
       "      <td>681</td>\n",
       "      <td>NaN</td>\n",
       "      <td>147</td>\n",
       "      <td>3</td>\n",
       "    </tr>\n",
       "    <tr>\n",
       "      <th>top</th>\n",
       "      <td>NaN</td>\n",
       "      <td>NaN</td>\n",
       "      <td>NaN</td>\n",
       "      <td>Braund, Mr. Owen Harris</td>\n",
       "      <td>male</td>\n",
       "      <td>NaN</td>\n",
       "      <td>NaN</td>\n",
       "      <td>NaN</td>\n",
       "      <td>347082</td>\n",
       "      <td>NaN</td>\n",
       "      <td>G6</td>\n",
       "      <td>S</td>\n",
       "    </tr>\n",
       "    <tr>\n",
       "      <th>freq</th>\n",
       "      <td>NaN</td>\n",
       "      <td>NaN</td>\n",
       "      <td>NaN</td>\n",
       "      <td>1</td>\n",
       "      <td>577</td>\n",
       "      <td>NaN</td>\n",
       "      <td>NaN</td>\n",
       "      <td>NaN</td>\n",
       "      <td>7</td>\n",
       "      <td>NaN</td>\n",
       "      <td>4</td>\n",
       "      <td>644</td>\n",
       "    </tr>\n",
       "    <tr>\n",
       "      <th>mean</th>\n",
       "      <td>446.000000</td>\n",
       "      <td>0.383838</td>\n",
       "      <td>2.308642</td>\n",
       "      <td>NaN</td>\n",
       "      <td>NaN</td>\n",
       "      <td>29.699118</td>\n",
       "      <td>0.523008</td>\n",
       "      <td>0.381594</td>\n",
       "      <td>NaN</td>\n",
       "      <td>32.204208</td>\n",
       "      <td>NaN</td>\n",
       "      <td>NaN</td>\n",
       "    </tr>\n",
       "    <tr>\n",
       "      <th>std</th>\n",
       "      <td>257.353842</td>\n",
       "      <td>0.486592</td>\n",
       "      <td>0.836071</td>\n",
       "      <td>NaN</td>\n",
       "      <td>NaN</td>\n",
       "      <td>14.526497</td>\n",
       "      <td>1.102743</td>\n",
       "      <td>0.806057</td>\n",
       "      <td>NaN</td>\n",
       "      <td>49.693429</td>\n",
       "      <td>NaN</td>\n",
       "      <td>NaN</td>\n",
       "    </tr>\n",
       "    <tr>\n",
       "      <th>min</th>\n",
       "      <td>1.000000</td>\n",
       "      <td>0.000000</td>\n",
       "      <td>1.000000</td>\n",
       "      <td>NaN</td>\n",
       "      <td>NaN</td>\n",
       "      <td>0.420000</td>\n",
       "      <td>0.000000</td>\n",
       "      <td>0.000000</td>\n",
       "      <td>NaN</td>\n",
       "      <td>0.000000</td>\n",
       "      <td>NaN</td>\n",
       "      <td>NaN</td>\n",
       "    </tr>\n",
       "    <tr>\n",
       "      <th>25%</th>\n",
       "      <td>223.500000</td>\n",
       "      <td>0.000000</td>\n",
       "      <td>2.000000</td>\n",
       "      <td>NaN</td>\n",
       "      <td>NaN</td>\n",
       "      <td>20.125000</td>\n",
       "      <td>0.000000</td>\n",
       "      <td>0.000000</td>\n",
       "      <td>NaN</td>\n",
       "      <td>7.910400</td>\n",
       "      <td>NaN</td>\n",
       "      <td>NaN</td>\n",
       "    </tr>\n",
       "    <tr>\n",
       "      <th>50%</th>\n",
       "      <td>446.000000</td>\n",
       "      <td>0.000000</td>\n",
       "      <td>3.000000</td>\n",
       "      <td>NaN</td>\n",
       "      <td>NaN</td>\n",
       "      <td>28.000000</td>\n",
       "      <td>0.000000</td>\n",
       "      <td>0.000000</td>\n",
       "      <td>NaN</td>\n",
       "      <td>14.454200</td>\n",
       "      <td>NaN</td>\n",
       "      <td>NaN</td>\n",
       "    </tr>\n",
       "    <tr>\n",
       "      <th>75%</th>\n",
       "      <td>668.500000</td>\n",
       "      <td>1.000000</td>\n",
       "      <td>3.000000</td>\n",
       "      <td>NaN</td>\n",
       "      <td>NaN</td>\n",
       "      <td>38.000000</td>\n",
       "      <td>1.000000</td>\n",
       "      <td>0.000000</td>\n",
       "      <td>NaN</td>\n",
       "      <td>31.000000</td>\n",
       "      <td>NaN</td>\n",
       "      <td>NaN</td>\n",
       "    </tr>\n",
       "    <tr>\n",
       "      <th>max</th>\n",
       "      <td>891.000000</td>\n",
       "      <td>1.000000</td>\n",
       "      <td>3.000000</td>\n",
       "      <td>NaN</td>\n",
       "      <td>NaN</td>\n",
       "      <td>80.000000</td>\n",
       "      <td>8.000000</td>\n",
       "      <td>6.000000</td>\n",
       "      <td>NaN</td>\n",
       "      <td>512.329200</td>\n",
       "      <td>NaN</td>\n",
       "      <td>NaN</td>\n",
       "    </tr>\n",
       "  </tbody>\n",
       "</table>\n",
       "</div>"
      ],
      "text/plain": [
       "        PassengerId    Survived      Pclass                     Name   Sex  \\\n",
       "count    891.000000  891.000000  891.000000                      891   891   \n",
       "unique          NaN         NaN         NaN                      891     2   \n",
       "top             NaN         NaN         NaN  Braund, Mr. Owen Harris  male   \n",
       "freq            NaN         NaN         NaN                        1   577   \n",
       "mean     446.000000    0.383838    2.308642                      NaN   NaN   \n",
       "std      257.353842    0.486592    0.836071                      NaN   NaN   \n",
       "min        1.000000    0.000000    1.000000                      NaN   NaN   \n",
       "25%      223.500000    0.000000    2.000000                      NaN   NaN   \n",
       "50%      446.000000    0.000000    3.000000                      NaN   NaN   \n",
       "75%      668.500000    1.000000    3.000000                      NaN   NaN   \n",
       "max      891.000000    1.000000    3.000000                      NaN   NaN   \n",
       "\n",
       "               Age       SibSp       Parch  Ticket        Fare Cabin Embarked  \n",
       "count   714.000000  891.000000  891.000000     891  891.000000   204      889  \n",
       "unique         NaN         NaN         NaN     681         NaN   147        3  \n",
       "top            NaN         NaN         NaN  347082         NaN    G6        S  \n",
       "freq           NaN         NaN         NaN       7         NaN     4      644  \n",
       "mean     29.699118    0.523008    0.381594     NaN   32.204208   NaN      NaN  \n",
       "std      14.526497    1.102743    0.806057     NaN   49.693429   NaN      NaN  \n",
       "min       0.420000    0.000000    0.000000     NaN    0.000000   NaN      NaN  \n",
       "25%      20.125000    0.000000    0.000000     NaN    7.910400   NaN      NaN  \n",
       "50%      28.000000    0.000000    0.000000     NaN   14.454200   NaN      NaN  \n",
       "75%      38.000000    1.000000    0.000000     NaN   31.000000   NaN      NaN  \n",
       "max      80.000000    8.000000    6.000000     NaN  512.329200   NaN      NaN  "
      ]
     },
     "execution_count": 9,
     "metadata": {},
     "output_type": "execute_result"
    }
   ],
   "source": [
    "df_titanic.describe(include='all')"
   ]
  },
  {
   "cell_type": "code",
   "execution_count": null,
   "metadata": {
    "colab": {
     "base_uri": "https://localhost:8080/",
     "height": 175
    },
    "executionInfo": {
     "elapsed": 488,
     "status": "ok",
     "timestamp": 1686979619120,
     "user": {
      "displayName": "최재진",
      "userId": "14104918437285699837"
     },
     "user_tz": -540
    },
    "id": "uHX5n7BOHOLU",
    "outputId": "3ac25810-5165-4dea-bd03-2b3559fb2f3c"
   },
   "outputs": [
    {
     "data": {
      "text/html": [
       "<div>\n",
       "<style scoped>\n",
       "    .dataframe tbody tr th:only-of-type {\n",
       "        vertical-align: middle;\n",
       "    }\n",
       "\n",
       "    .dataframe tbody tr th {\n",
       "        vertical-align: top;\n",
       "    }\n",
       "\n",
       "    .dataframe thead th {\n",
       "        text-align: right;\n",
       "    }\n",
       "</style>\n",
       "<table border=\"1\" class=\"dataframe\">\n",
       "  <thead>\n",
       "    <tr style=\"text-align: right;\">\n",
       "      <th></th>\n",
       "      <th>Name</th>\n",
       "      <th>Sex</th>\n",
       "      <th>Ticket</th>\n",
       "      <th>Cabin</th>\n",
       "      <th>Embarked</th>\n",
       "    </tr>\n",
       "  </thead>\n",
       "  <tbody>\n",
       "    <tr>\n",
       "      <th>count</th>\n",
       "      <td>891</td>\n",
       "      <td>891</td>\n",
       "      <td>891</td>\n",
       "      <td>204</td>\n",
       "      <td>889</td>\n",
       "    </tr>\n",
       "    <tr>\n",
       "      <th>unique</th>\n",
       "      <td>891</td>\n",
       "      <td>2</td>\n",
       "      <td>681</td>\n",
       "      <td>147</td>\n",
       "      <td>3</td>\n",
       "    </tr>\n",
       "    <tr>\n",
       "      <th>top</th>\n",
       "      <td>Braund, Mr. Owen Harris</td>\n",
       "      <td>male</td>\n",
       "      <td>347082</td>\n",
       "      <td>G6</td>\n",
       "      <td>S</td>\n",
       "    </tr>\n",
       "    <tr>\n",
       "      <th>freq</th>\n",
       "      <td>1</td>\n",
       "      <td>577</td>\n",
       "      <td>7</td>\n",
       "      <td>4</td>\n",
       "      <td>644</td>\n",
       "    </tr>\n",
       "  </tbody>\n",
       "</table>\n",
       "</div>"
      ],
      "text/plain": [
       "                           Name   Sex  Ticket Cabin Embarked\n",
       "count                       891   891     891   204      889\n",
       "unique                      891     2     681   147        3\n",
       "top     Braund, Mr. Owen Harris  male  347082    G6        S\n",
       "freq                          1   577       7     4      644"
      ]
     },
     "execution_count": 10,
     "metadata": {},
     "output_type": "execute_result"
    }
   ],
   "source": [
    "df_titanic.describe(include='O') "
   ]
  },
  {
   "cell_type": "markdown",
   "metadata": {
    "id": "cO2xQtlVHIe7"
   },
   "source": [
    "생존율과 객실등급 간의 상관관계를 분석해보세요."
   ]
  },
  {
   "cell_type": "code",
   "execution_count": null,
   "metadata": {},
   "outputs": [
    {
     "name": "stdout",
     "output_type": "stream",
     "text": [
      "['PassengerId', 'Survived', 'Pclass', 'Name', 'Sex', 'Age', 'SibSp', 'Parch', 'Ticket', 'Fare', 'Cabin', 'Embarked']\n"
     ]
    }
   ],
   "source": [
    "# EDA 시 column 정리하는 방법 가이드 -> column리스트 print찍고 목적에 맞게 변수 구분하기\n",
    "print(list(df_titanic.columns))\n",
    "\n",
    "['Survived', # target Y\n",
    " 'Pclass', 'Name', 'Sex', 'SibSp', 'Parch', 'Ticket', 'Cabin', 'Embarked' # 범주형\n",
    " 'Age', 'Fare', # 연속형\n",
    "]\n",
    "\n",
    "target_column = 'Survived'"
   ]
  },
  {
   "cell_type": "code",
   "execution_count": 12,
   "metadata": {
    "colab": {
     "base_uri": "https://localhost:8080/",
     "height": 35
    },
    "executionInfo": {
     "elapsed": 305,
     "status": "ok",
     "timestamp": 1686979625698,
     "user": {
      "displayName": "최재진",
      "userId": "14104918437285699837"
     },
     "user_tz": -540
    },
    "id": "NTDaP7PpKhkc",
    "outputId": "1b20f1b4-5e69-45ff-cc40-6ae2822f2fe3"
   },
   "outputs": [
    {
     "data": {
      "text/plain": [
       "'PassengerId'"
      ]
     },
     "execution_count": 12,
     "metadata": {},
     "output_type": "execute_result"
    }
   ],
   "source": [
    "col = list(df_titanic)\n",
    "col.pop(0)"
   ]
  },
  {
   "cell_type": "code",
   "execution_count": 13,
   "metadata": {
    "executionInfo": {
     "elapsed": 2,
     "status": "ok",
     "timestamp": 1686979627038,
     "user": {
      "displayName": "최재진",
      "userId": "14104918437285699837"
     },
     "user_tz": -540
    },
    "id": "wD8Og0QrLMOL"
   },
   "outputs": [],
   "source": [
    "col.insert(0, col.pop())"
   ]
  },
  {
   "cell_type": "code",
   "execution_count": 14,
   "metadata": {
    "colab": {
     "base_uri": "https://localhost:8080/",
     "height": 424
    },
    "executionInfo": {
     "elapsed": 3,
     "status": "ok",
     "timestamp": 1686979628261,
     "user": {
      "displayName": "최재진",
      "userId": "14104918437285699837"
     },
     "user_tz": -540
    },
    "id": "l_5YWuqdLDp1",
    "outputId": "4636c8f2-47e1-474e-c6fd-915a15a77c69"
   },
   "outputs": [
    {
     "data": {
      "text/html": [
       "<div>\n",
       "<style scoped>\n",
       "    .dataframe tbody tr th:only-of-type {\n",
       "        vertical-align: middle;\n",
       "    }\n",
       "\n",
       "    .dataframe tbody tr th {\n",
       "        vertical-align: top;\n",
       "    }\n",
       "\n",
       "    .dataframe thead th {\n",
       "        text-align: right;\n",
       "    }\n",
       "</style>\n",
       "<table border=\"1\" class=\"dataframe\">\n",
       "  <thead>\n",
       "    <tr style=\"text-align: right;\">\n",
       "      <th></th>\n",
       "      <th>Embarked</th>\n",
       "      <th>Survived</th>\n",
       "      <th>Pclass</th>\n",
       "    </tr>\n",
       "  </thead>\n",
       "  <tbody>\n",
       "    <tr>\n",
       "      <th>0</th>\n",
       "      <td>S</td>\n",
       "      <td>0</td>\n",
       "      <td>3</td>\n",
       "    </tr>\n",
       "    <tr>\n",
       "      <th>1</th>\n",
       "      <td>C</td>\n",
       "      <td>1</td>\n",
       "      <td>1</td>\n",
       "    </tr>\n",
       "    <tr>\n",
       "      <th>2</th>\n",
       "      <td>S</td>\n",
       "      <td>1</td>\n",
       "      <td>3</td>\n",
       "    </tr>\n",
       "    <tr>\n",
       "      <th>3</th>\n",
       "      <td>S</td>\n",
       "      <td>1</td>\n",
       "      <td>1</td>\n",
       "    </tr>\n",
       "    <tr>\n",
       "      <th>4</th>\n",
       "      <td>S</td>\n",
       "      <td>0</td>\n",
       "      <td>3</td>\n",
       "    </tr>\n",
       "    <tr>\n",
       "      <th>...</th>\n",
       "      <td>...</td>\n",
       "      <td>...</td>\n",
       "      <td>...</td>\n",
       "    </tr>\n",
       "    <tr>\n",
       "      <th>886</th>\n",
       "      <td>S</td>\n",
       "      <td>0</td>\n",
       "      <td>2</td>\n",
       "    </tr>\n",
       "    <tr>\n",
       "      <th>887</th>\n",
       "      <td>S</td>\n",
       "      <td>1</td>\n",
       "      <td>1</td>\n",
       "    </tr>\n",
       "    <tr>\n",
       "      <th>888</th>\n",
       "      <td>S</td>\n",
       "      <td>0</td>\n",
       "      <td>3</td>\n",
       "    </tr>\n",
       "    <tr>\n",
       "      <th>889</th>\n",
       "      <td>C</td>\n",
       "      <td>1</td>\n",
       "      <td>1</td>\n",
       "    </tr>\n",
       "    <tr>\n",
       "      <th>890</th>\n",
       "      <td>Q</td>\n",
       "      <td>0</td>\n",
       "      <td>3</td>\n",
       "    </tr>\n",
       "  </tbody>\n",
       "</table>\n",
       "<p>891 rows × 3 columns</p>\n",
       "</div>"
      ],
      "text/plain": [
       "    Embarked  Survived  Pclass\n",
       "0          S         0       3\n",
       "1          C         1       1\n",
       "2          S         1       3\n",
       "3          S         1       1\n",
       "4          S         0       3\n",
       "..       ...       ...     ...\n",
       "886        S         0       2\n",
       "887        S         1       1\n",
       "888        S         0       3\n",
       "889        C         1       1\n",
       "890        Q         0       3\n",
       "\n",
       "[891 rows x 3 columns]"
      ]
     },
     "execution_count": 14,
     "metadata": {},
     "output_type": "execute_result"
    }
   ],
   "source": [
    "df_titanic[col[:3]]"
   ]
  },
  {
   "cell_type": "code",
   "execution_count": 15,
   "metadata": {
    "colab": {
     "base_uri": "https://localhost:8080/",
     "height": 206
    },
    "executionInfo": {
     "elapsed": 526,
     "status": "ok",
     "timestamp": 1686979630433,
     "user": {
      "displayName": "최재진",
      "userId": "14104918437285699837"
     },
     "user_tz": -540
    },
    "id": "SELy2gX-Ly8y",
    "outputId": "d0c33a57-436a-48c3-83b3-be31b60ae698"
   },
   "outputs": [
    {
     "data": {
      "text/html": [
       "<div>\n",
       "<style scoped>\n",
       "    .dataframe tbody tr th:only-of-type {\n",
       "        vertical-align: middle;\n",
       "    }\n",
       "\n",
       "    .dataframe tbody tr th {\n",
       "        vertical-align: top;\n",
       "    }\n",
       "\n",
       "    .dataframe thead th {\n",
       "        text-align: right;\n",
       "    }\n",
       "</style>\n",
       "<table border=\"1\" class=\"dataframe\">\n",
       "  <thead>\n",
       "    <tr style=\"text-align: right;\">\n",
       "      <th></th>\n",
       "      <th>PassengerId</th>\n",
       "      <th>Survived</th>\n",
       "      <th>Pclass</th>\n",
       "      <th>Name</th>\n",
       "      <th>Sex</th>\n",
       "      <th>Age</th>\n",
       "      <th>SibSp</th>\n",
       "      <th>Parch</th>\n",
       "      <th>Ticket</th>\n",
       "      <th>Fare</th>\n",
       "      <th>Cabin</th>\n",
       "      <th>Embarked</th>\n",
       "    </tr>\n",
       "  </thead>\n",
       "  <tbody>\n",
       "    <tr>\n",
       "      <th>0</th>\n",
       "      <td>1</td>\n",
       "      <td>0</td>\n",
       "      <td>3</td>\n",
       "      <td>Braund, Mr. Owen Harris</td>\n",
       "      <td>male</td>\n",
       "      <td>22.0</td>\n",
       "      <td>1</td>\n",
       "      <td>0</td>\n",
       "      <td>A/5 21171</td>\n",
       "      <td>7.2500</td>\n",
       "      <td>NaN</td>\n",
       "      <td>S</td>\n",
       "    </tr>\n",
       "    <tr>\n",
       "      <th>1</th>\n",
       "      <td>2</td>\n",
       "      <td>1</td>\n",
       "      <td>1</td>\n",
       "      <td>Cumings, Mrs. John Bradley (Florence Briggs Th...</td>\n",
       "      <td>female</td>\n",
       "      <td>38.0</td>\n",
       "      <td>1</td>\n",
       "      <td>0</td>\n",
       "      <td>PC 17599</td>\n",
       "      <td>71.2833</td>\n",
       "      <td>C85</td>\n",
       "      <td>C</td>\n",
       "    </tr>\n",
       "    <tr>\n",
       "      <th>2</th>\n",
       "      <td>3</td>\n",
       "      <td>1</td>\n",
       "      <td>3</td>\n",
       "      <td>Heikkinen, Miss. Laina</td>\n",
       "      <td>female</td>\n",
       "      <td>26.0</td>\n",
       "      <td>0</td>\n",
       "      <td>0</td>\n",
       "      <td>STON/O2. 3101282</td>\n",
       "      <td>7.9250</td>\n",
       "      <td>NaN</td>\n",
       "      <td>S</td>\n",
       "    </tr>\n",
       "    <tr>\n",
       "      <th>3</th>\n",
       "      <td>4</td>\n",
       "      <td>1</td>\n",
       "      <td>1</td>\n",
       "      <td>Futrelle, Mrs. Jacques Heath (Lily May Peel)</td>\n",
       "      <td>female</td>\n",
       "      <td>35.0</td>\n",
       "      <td>1</td>\n",
       "      <td>0</td>\n",
       "      <td>113803</td>\n",
       "      <td>53.1000</td>\n",
       "      <td>C123</td>\n",
       "      <td>S</td>\n",
       "    </tr>\n",
       "    <tr>\n",
       "      <th>4</th>\n",
       "      <td>5</td>\n",
       "      <td>0</td>\n",
       "      <td>3</td>\n",
       "      <td>Allen, Mr. William Henry</td>\n",
       "      <td>male</td>\n",
       "      <td>35.0</td>\n",
       "      <td>0</td>\n",
       "      <td>0</td>\n",
       "      <td>373450</td>\n",
       "      <td>8.0500</td>\n",
       "      <td>NaN</td>\n",
       "      <td>S</td>\n",
       "    </tr>\n",
       "  </tbody>\n",
       "</table>\n",
       "</div>"
      ],
      "text/plain": [
       "   PassengerId  Survived  Pclass  \\\n",
       "0            1         0       3   \n",
       "1            2         1       1   \n",
       "2            3         1       3   \n",
       "3            4         1       1   \n",
       "4            5         0       3   \n",
       "\n",
       "                                                Name     Sex   Age  SibSp  \\\n",
       "0                            Braund, Mr. Owen Harris    male  22.0      1   \n",
       "1  Cumings, Mrs. John Bradley (Florence Briggs Th...  female  38.0      1   \n",
       "2                             Heikkinen, Miss. Laina  female  26.0      0   \n",
       "3       Futrelle, Mrs. Jacques Heath (Lily May Peel)  female  35.0      1   \n",
       "4                           Allen, Mr. William Henry    male  35.0      0   \n",
       "\n",
       "   Parch            Ticket     Fare Cabin Embarked  \n",
       "0      0         A/5 21171   7.2500   NaN        S  \n",
       "1      0          PC 17599  71.2833   C85        C  \n",
       "2      0  STON/O2. 3101282   7.9250   NaN        S  \n",
       "3      0            113803  53.1000  C123        S  \n",
       "4      0            373450   8.0500   NaN        S  "
      ]
     },
     "execution_count": 15,
     "metadata": {},
     "output_type": "execute_result"
    }
   ],
   "source": [
    "df_titanic[:5]"
   ]
  },
  {
   "cell_type": "code",
   "execution_count": 16,
   "metadata": {
    "colab": {
     "base_uri": "https://localhost:8080/",
     "height": 112
    },
    "executionInfo": {
     "elapsed": 3,
     "status": "ok",
     "timestamp": 1686979630732,
     "user": {
      "displayName": "최재진",
      "userId": "14104918437285699837"
     },
     "user_tz": -540
    },
    "id": "sERZ4ysFGkp0",
    "outputId": "c1ec5167-272b-4dda-8c04-bf50776206e4",
    "trusted": true
   },
   "outputs": [
    {
     "data": {
      "text/html": [
       "<div>\n",
       "<style scoped>\n",
       "    .dataframe tbody tr th:only-of-type {\n",
       "        vertical-align: middle;\n",
       "    }\n",
       "\n",
       "    .dataframe tbody tr th {\n",
       "        vertical-align: top;\n",
       "    }\n",
       "\n",
       "    .dataframe thead th {\n",
       "        text-align: right;\n",
       "    }\n",
       "</style>\n",
       "<table border=\"1\" class=\"dataframe\">\n",
       "  <thead>\n",
       "    <tr style=\"text-align: right;\">\n",
       "      <th></th>\n",
       "      <th>Survived</th>\n",
       "      <th>Pclass</th>\n",
       "    </tr>\n",
       "  </thead>\n",
       "  <tbody>\n",
       "    <tr>\n",
       "      <th>Survived</th>\n",
       "      <td>1.000000</td>\n",
       "      <td>-0.338481</td>\n",
       "    </tr>\n",
       "    <tr>\n",
       "      <th>Pclass</th>\n",
       "      <td>-0.338481</td>\n",
       "      <td>1.000000</td>\n",
       "    </tr>\n",
       "  </tbody>\n",
       "</table>\n",
       "</div>"
      ],
      "text/plain": [
       "          Survived    Pclass\n",
       "Survived  1.000000 -0.338481\n",
       "Pclass   -0.338481  1.000000"
      ]
     },
     "execution_count": 16,
     "metadata": {},
     "output_type": "execute_result"
    }
   ],
   "source": [
    "# df_titanic['Survived', 'Pclass'].corr()\n",
    "df_titanic[['Survived', 'Pclass']].corr()"
   ]
  },
  {
   "cell_type": "markdown",
   "metadata": {
    "id": "Un0Myx9yHY6H"
   },
   "source": [
    "생존율과 다음 컬럼값들 간의 상관관계를 분석해보세요.\n",
    "['Pclass', 'Age', 'SibSp', 'Parch', 'Fare']"
   ]
  },
  {
   "cell_type": "markdown",
   "metadata": {
    "id": "rHO6Y2ygHlCs"
   },
   "source": [
    "상관관계 > Table로 표현해보세요.\n"
   ]
  },
  {
   "cell_type": "code",
   "execution_count": 17,
   "metadata": {
    "colab": {
     "base_uri": "https://localhost:8080/",
     "height": 238
    },
    "executionInfo": {
     "elapsed": 5,
     "status": "ok",
     "timestamp": 1686979633034,
     "user": {
      "displayName": "최재진",
      "userId": "14104918437285699837"
     },
     "user_tz": -540
    },
    "id": "qgd3MKTEGkp3",
    "outputId": "da6d7fad-8931-4e96-fe7e-8a5516e93997",
    "trusted": true
   },
   "outputs": [
    {
     "data": {
      "text/html": [
       "<div>\n",
       "<style scoped>\n",
       "    .dataframe tbody tr th:only-of-type {\n",
       "        vertical-align: middle;\n",
       "    }\n",
       "\n",
       "    .dataframe tbody tr th {\n",
       "        vertical-align: top;\n",
       "    }\n",
       "\n",
       "    .dataframe thead th {\n",
       "        text-align: right;\n",
       "    }\n",
       "</style>\n",
       "<table border=\"1\" class=\"dataframe\">\n",
       "  <thead>\n",
       "    <tr style=\"text-align: right;\">\n",
       "      <th></th>\n",
       "      <th>Survived</th>\n",
       "    </tr>\n",
       "  </thead>\n",
       "  <tbody>\n",
       "    <tr>\n",
       "      <th>Survived</th>\n",
       "      <td>1.000000</td>\n",
       "    </tr>\n",
       "    <tr>\n",
       "      <th>Pclass</th>\n",
       "      <td>-0.338481</td>\n",
       "    </tr>\n",
       "    <tr>\n",
       "      <th>Age</th>\n",
       "      <td>-0.077221</td>\n",
       "    </tr>\n",
       "    <tr>\n",
       "      <th>SibSp</th>\n",
       "      <td>-0.035322</td>\n",
       "    </tr>\n",
       "    <tr>\n",
       "      <th>Parch</th>\n",
       "      <td>0.081629</td>\n",
       "    </tr>\n",
       "    <tr>\n",
       "      <th>Fare</th>\n",
       "      <td>0.257307</td>\n",
       "    </tr>\n",
       "  </tbody>\n",
       "</table>\n",
       "</div>"
      ],
      "text/plain": [
       "          Survived\n",
       "Survived  1.000000\n",
       "Pclass   -0.338481\n",
       "Age      -0.077221\n",
       "SibSp    -0.035322\n",
       "Parch     0.081629\n",
       "Fare      0.257307"
      ]
     },
     "execution_count": 17,
     "metadata": {},
     "output_type": "execute_result"
    }
   ],
   "source": [
    "df_titanic[['Survived', 'Pclass', 'Age', 'SibSp', 'Parch', 'Fare']].corr()[['Survived']]"
   ]
  },
  {
   "cell_type": "markdown",
   "metadata": {
    "id": "6XBPEkoRHq_4"
   },
   "source": [
    "상관관계 > heatmap으로 표현해보세요."
   ]
  },
  {
   "cell_type": "code",
   "execution_count": 18,
   "metadata": {
    "colab": {
     "base_uri": "https://localhost:8080/",
     "height": 435
    },
    "executionInfo": {
     "elapsed": 785,
     "status": "ok",
     "timestamp": 1686979634922,
     "user": {
      "displayName": "최재진",
      "userId": "14104918437285699837"
     },
     "user_tz": -540
    },
    "id": "K6j-Y1t-Gkp6",
    "outputId": "adfcb7a1-f9e9-4913-8594-daf322c9bfc4",
    "trusted": true
   },
   "outputs": [
    {
     "data": {
      "image/png": "[encoded data removed]",
      "text/plain": [
       "<Figure size 640x480 with 2 Axes>"
      ]
     },
     "metadata": {},
     "output_type": "display_data"
    }
   ],
   "source": [
    "g = sns.heatmap(df_titanic[['Survived', 'Pclass', 'Age', 'SibSp', 'Parch', 'Fare']].corr(),\n",
    "            cmap='coolwarm', annot=True, fmt='.2f')"
   ]
  },
  {
   "cell_type": "markdown",
   "metadata": {
    "id": "P13Sw2kqHz6e"
   },
   "source": [
    "각각을 bar plot으로 시각화해보세요."
   ]
  },
  {
   "cell_type": "markdown",
   "metadata": {
    "id": "1Q1cxfJp1IB-"
   },
   "source": [
    "검은색 bar는 오차막대(error bar) 이며 신뢰구간(confidence interval) 95%"
   ]
  },
  {
   "cell_type": "code",
   "execution_count": 19,
   "metadata": {
    "colab": {
     "base_uri": "https://localhost:8080/",
     "height": 506
    },
    "executionInfo": {
     "elapsed": 1256,
     "status": "ok",
     "timestamp": 1686979680314,
     "user": {
      "displayName": "최재진",
      "userId": "14104918437285699837"
     },
     "user_tz": -540
    },
    "id": "y8MIgvzKGkp-",
    "outputId": "d2f14616-fc29-4385-d617-185b9fd6279f"
   },
   "outputs": [
    {
     "data": {
      "image/png": "[encoded data removed]",
      "text/plain": [
       "<Figure size 511.111x500 with 1 Axes>"
      ]
     },
     "metadata": {},
     "output_type": "display_data"
    }
   ],
   "source": [
    "g = sns.catplot(x='Pclass', y='Survived', data=df_titanic, kind='bar')"
   ]
  },
  {
   "cell_type": "code",
   "execution_count": 22,
   "metadata": {},
   "outputs": [],
   "source": [
    "my_palette = sns.palettes.SEABORN_PALETTES['pastel']"
   ]
  },
  {
   "cell_type": "code",
   "execution_count": null,
   "metadata": {
    "colab": {
     "base_uri": "https://localhost:8080/",
     "height": 506
    },
    "executionInfo": {
     "elapsed": 1716,
     "status": "ok",
     "timestamp": 1686979693086,
     "user": {
      "displayName": "최재진",
      "userId": "14104918437285699837"
     },
     "user_tz": -540
    },
    "id": "BAY_FTW7GkqC",
    "outputId": "c6dbc302-62fa-420c-cfe8-542deaf27498",
    "trusted": true
   },
   "outputs": [
    {
     "data": {
      "image/png": "[encoded data removed]",
      "text/plain": [
       "<Figure size 558.875x500 with 1 Axes>"
      ]
     },
     "metadata": {},
     "output_type": "display_data"
    }
   ],
   "source": [
    "g = sns.catplot(x='SibSp', y='Survived', data=df_titanic, kind='bar', \n",
    "                hue='SibSp', # 색상주기\n",
    "                #palette=my_palette[:len(df_titanic['SibSp'].unique())]\n",
    "                )"
   ]
  },
  {
   "cell_type": "code",
   "execution_count": 25,
   "metadata": {
    "colab": {
     "base_uri": "https://localhost:8080/",
     "height": 506
    },
    "executionInfo": {
     "elapsed": 3139,
     "status": "ok",
     "timestamp": 1686979703562,
     "user": {
      "displayName": "최재진",
      "userId": "14104918437285699837"
     },
     "user_tz": -540
    },
    "id": "ejYgWIKNGkqF",
    "outputId": "8c5824c9-e3a4-405e-8bd6-0898192c531f",
    "trusted": true
   },
   "outputs": [
    {
     "name": "stderr",
     "output_type": "stream",
     "text": [
      "C:\\Users\\USER\\AppData\\Local\\Temp\\ipykernel_1552\\2444593339.py:1: FutureWarning: \n",
      "\n",
      "Passing `palette` without assigning `hue` is deprecated and will be removed in v0.14.0. Assign the `x` variable to `hue` and set `legend=False` for the same effect.\n",
      "\n",
      "  g = sns.catplot(x='Parch', y='Survived', data=df_titanic, kind='bar',\n"
     ]
    },
    {
     "data": {
      "image/png": "[encoded data removed]",
      "text/plain": [
       "<Figure size 500x500 with 1 Axes>"
      ]
     },
     "metadata": {},
     "output_type": "display_data"
    }
   ],
   "source": [
    "g = sns.catplot(x='Parch', y='Survived', data=df_titanic, kind='bar',\n",
    "                palette=my_palette[:len(df_titanic['SibSp'].unique())])"
   ]
  },
  {
   "cell_type": "markdown",
   "metadata": {
    "id": "9n1_2XgfIBgo"
   },
   "source": [
    "생존자와 사망자 간의 각 나이 분포도를 히스토그램으로 시각화해보세요."
   ]
  },
  {
   "cell_type": "code",
   "execution_count": 26,
   "metadata": {
    "colab": {
     "base_uri": "https://localhost:8080/",
     "height": 960
    },
    "executionInfo": {
     "elapsed": 2087,
     "status": "ok",
     "timestamp": 1686979830390,
     "user": {
      "displayName": "최재진",
      "userId": "14104918437285699837"
     },
     "user_tz": -540
    },
    "id": "FXQEX6LnzGIV",
    "outputId": "a085cb89-1bbc-42ec-87e7-411f03ff5824"
   },
   "outputs": [
    {
     "data": {
      "text/plain": [
       "Survived\n",
       "0    [[Axes(0.125,0.11;0.336957x0.77), Axes(0.56304...\n",
       "1    [[Axes(0.125,0.11;0.336957x0.77), Axes(0.56304...\n",
       "dtype: object"
      ]
     },
     "execution_count": 26,
     "metadata": {},
     "output_type": "execute_result"
    },
    {
     "data": {
      "image/png": "[encoded data removed]",
      "text/plain": [
       "<Figure size 640x480 with 2 Axes>"
      ]
     },
     "metadata": {},
     "output_type": "display_data"
    },
    {
     "data": {
      "image/png": "[encoded data removed]",
      "text/plain": [
       "<Figure size 640x480 with 2 Axes>"
      ]
     },
     "metadata": {},
     "output_type": "display_data"
    }
   ],
   "source": [
    "df_titanic[['Survived', 'Age']].groupby(['Survived']).hist(bins=40)"
   ]
  },
  {
   "cell_type": "code",
   "execution_count": 27,
   "metadata": {
    "colab": {
     "base_uri": "https://localhost:8080/",
     "height": 307
    },
    "executionInfo": {
     "elapsed": 1429,
     "status": "ok",
     "timestamp": 1686979885423,
     "user": {
      "displayName": "최재진",
      "userId": "14104918437285699837"
     },
     "user_tz": -540
    },
    "id": "SUtZ2e6aGkqK",
    "outputId": "22ef68ce-9e85-40d8-923c-eb1c0e9b02ba",
    "trusted": true
   },
   "outputs": [
    {
     "data": {
      "image/png": "[encoded data removed]",
      "text/plain": [
       "<Figure size 600x300 with 2 Axes>"
      ]
     },
     "metadata": {},
     "output_type": "display_data"
    }
   ],
   "source": [
    "# sns subplot 그리기 (col 기준) (row 기준)\n",
    "g = sns.FacetGrid(df_titanic, col='Survived')\n",
    "g = g.map(sns.histplot, 'Age', kde=True) # kde=True, kernel density estimate to smooth the distribution and show on the plot as (one or more) line(s)"
   ]
  },
  {
   "cell_type": "code",
   "execution_count": null,
   "metadata": {
    "colab": {
     "base_uri": "https://localhost:8080/",
     "height": 449
    },
    "executionInfo": {
     "elapsed": 703,
     "status": "ok",
     "timestamp": 1686980011304,
     "user": {
      "displayName": "최재진",
      "userId": "14104918437285699837"
     },
     "user_tz": -540
    },
    "id": "QV5kROdAGkqN",
    "outputId": "b70c7f2a-837b-4e23-cb74-67ba7a23406d",
    "trusted": true
   },
   "outputs": [
    {
     "data": {
      "image/png": "[encoded data removed]",
      "text/plain": [
       "<Figure size 640x480 with 1 Axes>"
      ]
     },
     "metadata": {},
     "output_type": "display_data"
    }
   ],
   "source": [
    "# kde plot\n",
    "g = sns.kdeplot(\n",
    "    df_titanic[\"Age\"][(df_titanic[\"Survived\"] == 0) & (df_titanic[\"Age\"].notnull())], \n",
    "    color=\"Red\", fill= True)\n",
    "g = sns.kdeplot(\n",
    "    df_titanic[\"Age\"][(df_titanic[\"Survived\"] == 1) & (df_titanic[\"Age\"].notnull())], \n",
    "    ax =g, color=\"Blue\", fill= True)\n",
    "\n",
    "g.set_xlabel(\"Age\")\n",
    "g.set_ylabel(\"Frequency\")\n",
    "g = g.legend([\"Not Survived\", \"Survived\"])"
   ]
  },
  {
   "cell_type": "markdown",
   "metadata": {
    "id": "Os5EFCXsItq-"
   },
   "source": [
    "성별에 따른 생존율을 비교해보세요.\n",
    "남자 : 생존율\n",
    "여자 : 생존율"
   ]
  },
  {
   "cell_type": "code",
   "execution_count": 29,
   "metadata": {
    "colab": {
     "base_uri": "https://localhost:8080/",
     "height": 143
    },
    "executionInfo": {
     "elapsed": 475,
     "status": "ok",
     "timestamp": 1686980026791,
     "user": {
      "displayName": "최재진",
      "userId": "14104918437285699837"
     },
     "user_tz": -540
    },
    "id": "K8n_B1TYGkqa",
    "outputId": "f9161937-bc42-433b-e8bf-c543d0954983",
    "trusted": true
   },
   "outputs": [
    {
     "data": {
      "text/html": [
       "<div>\n",
       "<style scoped>\n",
       "    .dataframe tbody tr th:only-of-type {\n",
       "        vertical-align: middle;\n",
       "    }\n",
       "\n",
       "    .dataframe tbody tr th {\n",
       "        vertical-align: top;\n",
       "    }\n",
       "\n",
       "    .dataframe thead th {\n",
       "        text-align: right;\n",
       "    }\n",
       "</style>\n",
       "<table border=\"1\" class=\"dataframe\">\n",
       "  <thead>\n",
       "    <tr style=\"text-align: right;\">\n",
       "      <th></th>\n",
       "      <th>Survived</th>\n",
       "    </tr>\n",
       "    <tr>\n",
       "      <th>Sex</th>\n",
       "      <th></th>\n",
       "    </tr>\n",
       "  </thead>\n",
       "  <tbody>\n",
       "    <tr>\n",
       "      <th>female</th>\n",
       "      <td>0.742038</td>\n",
       "    </tr>\n",
       "    <tr>\n",
       "      <th>male</th>\n",
       "      <td>0.188908</td>\n",
       "    </tr>\n",
       "  </tbody>\n",
       "</table>\n",
       "</div>"
      ],
      "text/plain": [
       "        Survived\n",
       "Sex             \n",
       "female  0.742038\n",
       "male    0.188908"
      ]
     },
     "execution_count": 29,
     "metadata": {},
     "output_type": "execute_result"
    }
   ],
   "source": [
    "df_titanic[['Survived', 'Sex']].groupby(['Sex']).mean()"
   ]
  },
  {
   "cell_type": "code",
   "execution_count": 30,
   "metadata": {
    "colab": {
     "base_uri": "https://localhost:8080/",
     "height": 524
    },
    "executionInfo": {
     "elapsed": 462,
     "status": "ok",
     "timestamp": 1686980037580,
     "user": {
      "displayName": "최재진",
      "userId": "14104918437285699837"
     },
     "user_tz": -540
    },
    "id": "O-sBBFsVGkqX",
    "outputId": "a419621e-3272-45ed-b121-c19fcceffb0e",
    "trusted": true
   },
   "outputs": [
    {
     "data": {
      "text/plain": [
       "<seaborn.axisgrid.FacetGrid at 0x1f916871610>"
      ]
     },
     "execution_count": 30,
     "metadata": {},
     "output_type": "execute_result"
    },
    {
     "data": {
      "image/png": "[encoded data removed]",
      "text/plain": [
       "<Figure size 511.111x500 with 1 Axes>"
      ]
     },
     "metadata": {},
     "output_type": "display_data"
    }
   ],
   "source": [
    "sns.catplot(x='Sex', y='Survived', data=df_titanic, kind='bar')"
   ]
  },
  {
   "cell_type": "markdown",
   "metadata": {
    "id": "OM0G_N8tJAuZ"
   },
   "source": [
    "객실등급에 따른 생존율을 비교해보세요.\n",
    "1등급 : 생존율\n",
    "2등급 : 생존율\n",
    "3등급 : 생존율"
   ]
  },
  {
   "cell_type": "code",
   "execution_count": 31,
   "metadata": {
    "colab": {
     "base_uri": "https://localhost:8080/",
     "height": 525
    },
    "executionInfo": {
     "elapsed": 1411,
     "status": "ok",
     "timestamp": 1686980045808,
     "user": {
      "displayName": "최재진",
      "userId": "14104918437285699837"
     },
     "user_tz": -540
    },
    "id": "0YRJoRzIJKxk",
    "outputId": "0745becb-2065-43ea-d031-c35f622008e6"
   },
   "outputs": [
    {
     "data": {
      "text/plain": [
       "<seaborn.axisgrid.FacetGrid at 0x1f9144c5c90>"
      ]
     },
     "execution_count": 31,
     "metadata": {},
     "output_type": "execute_result"
    },
    {
     "data": {
      "image/png": "[encoded data removed]",
      "text/plain": [
       "<Figure size 511.111x500 with 1 Axes>"
      ]
     },
     "metadata": {},
     "output_type": "display_data"
    }
   ],
   "source": [
    "sns.catplot(x='Pclass', y='Survived', data=df_titanic, kind='bar')"
   ]
  },
  {
   "cell_type": "markdown",
   "metadata": {
    "id": "_EPx26Y6JKcB"
   },
   "source": [
    "하나의 그래프에 객실등급과 성별에 대한 생존율을 함께 시각화해보세요."
   ]
  },
  {
   "cell_type": "code",
   "execution_count": 32,
   "metadata": {
    "colab": {
     "base_uri": "https://localhost:8080/",
     "height": 506
    },
    "executionInfo": {
     "elapsed": 1136,
     "status": "ok",
     "timestamp": 1686980051874,
     "user": {
      "displayName": "최재진",
      "userId": "14104918437285699837"
     },
     "user_tz": -540
    },
    "id": "4KBFhHtTGkqg",
    "outputId": "a7c50c87-3812-45a5-c429-c41f5ec5ea15",
    "trusted": true
   },
   "outputs": [
    {
     "data": {
      "image/png": "[encoded data removed]",
      "text/plain": [
       "<Figure size 598x500 with 1 Axes>"
      ]
     },
     "metadata": {},
     "output_type": "display_data"
    }
   ],
   "source": [
    "g = sns.catplot(x='Pclass', y='Survived', hue='Sex', data=df_titanic, kind='bar')"
   ]
  },
  {
   "cell_type": "markdown",
   "metadata": {
    "id": "q5EmHGXEKdsv"
   },
   "source": [
    "성별에 따른 나이의 분포를 분석해보세요.\n",
    "객실등급에 따른 나이의 분포를 분석해보세요."
   ]
  },
  {
   "cell_type": "code",
   "execution_count": 33,
   "metadata": {
    "colab": {
     "base_uri": "https://localhost:8080/",
     "height": 143
    },
    "executionInfo": {
     "elapsed": 372,
     "status": "ok",
     "timestamp": 1686980055152,
     "user": {
      "displayName": "최재진",
      "userId": "14104918437285699837"
     },
     "user_tz": -540
    },
    "id": "JaompP3x6mp2",
    "outputId": "36f17290-4f8e-41e4-f675-9eeb37be2d51"
   },
   "outputs": [
    {
     "data": {
      "text/html": [
       "<div>\n",
       "<style scoped>\n",
       "    .dataframe tbody tr th:only-of-type {\n",
       "        vertical-align: middle;\n",
       "    }\n",
       "\n",
       "    .dataframe tbody tr th {\n",
       "        vertical-align: top;\n",
       "    }\n",
       "\n",
       "    .dataframe thead th {\n",
       "        text-align: right;\n",
       "    }\n",
       "</style>\n",
       "<table border=\"1\" class=\"dataframe\">\n",
       "  <thead>\n",
       "    <tr style=\"text-align: right;\">\n",
       "      <th></th>\n",
       "      <th>Age</th>\n",
       "    </tr>\n",
       "    <tr>\n",
       "      <th>Sex</th>\n",
       "      <th></th>\n",
       "    </tr>\n",
       "  </thead>\n",
       "  <tbody>\n",
       "    <tr>\n",
       "      <th>female</th>\n",
       "      <td>27.915709</td>\n",
       "    </tr>\n",
       "    <tr>\n",
       "      <th>male</th>\n",
       "      <td>30.726645</td>\n",
       "    </tr>\n",
       "  </tbody>\n",
       "</table>\n",
       "</div>"
      ],
      "text/plain": [
       "              Age\n",
       "Sex              \n",
       "female  27.915709\n",
       "male    30.726645"
      ]
     },
     "execution_count": 33,
     "metadata": {},
     "output_type": "execute_result"
    }
   ],
   "source": [
    "df_titanic[['Age', 'Sex']].groupby(['Sex']).mean()"
   ]
  },
  {
   "cell_type": "code",
   "execution_count": 34,
   "metadata": {
    "colab": {
     "base_uri": "https://localhost:8080/",
     "height": 175
    },
    "executionInfo": {
     "elapsed": 3,
     "status": "ok",
     "timestamp": 1686980055556,
     "user": {
      "displayName": "최재진",
      "userId": "14104918437285699837"
     },
     "user_tz": -540
    },
    "id": "j6fxpH6x63Vo",
    "outputId": "cbf16c9f-10b6-470e-9a6b-2938664589a8"
   },
   "outputs": [
    {
     "data": {
      "text/html": [
       "<div>\n",
       "<style scoped>\n",
       "    .dataframe tbody tr th:only-of-type {\n",
       "        vertical-align: middle;\n",
       "    }\n",
       "\n",
       "    .dataframe tbody tr th {\n",
       "        vertical-align: top;\n",
       "    }\n",
       "\n",
       "    .dataframe thead th {\n",
       "        text-align: right;\n",
       "    }\n",
       "</style>\n",
       "<table border=\"1\" class=\"dataframe\">\n",
       "  <thead>\n",
       "    <tr style=\"text-align: right;\">\n",
       "      <th></th>\n",
       "      <th>Age</th>\n",
       "    </tr>\n",
       "    <tr>\n",
       "      <th>Pclass</th>\n",
       "      <th></th>\n",
       "    </tr>\n",
       "  </thead>\n",
       "  <tbody>\n",
       "    <tr>\n",
       "      <th>1</th>\n",
       "      <td>38.233441</td>\n",
       "    </tr>\n",
       "    <tr>\n",
       "      <th>2</th>\n",
       "      <td>29.877630</td>\n",
       "    </tr>\n",
       "    <tr>\n",
       "      <th>3</th>\n",
       "      <td>25.140620</td>\n",
       "    </tr>\n",
       "  </tbody>\n",
       "</table>\n",
       "</div>"
      ],
      "text/plain": [
       "              Age\n",
       "Pclass           \n",
       "1       38.233441\n",
       "2       29.877630\n",
       "3       25.140620"
      ]
     },
     "execution_count": 34,
     "metadata": {},
     "output_type": "execute_result"
    }
   ],
   "source": [
    "df_titanic[['Age', 'Pclass']].groupby(['Pclass']).mean()"
   ]
  },
  {
   "cell_type": "code",
   "execution_count": 35,
   "metadata": {
    "colab": {
     "base_uri": "https://localhost:8080/",
     "height": 1000
    },
    "executionInfo": {
     "elapsed": 4025,
     "status": "ok",
     "timestamp": 1686980065120,
     "user": {
      "displayName": "최재진",
      "userId": "14104918437285699837"
     },
     "user_tz": -540
    },
    "id": "92RJWK7JGkqr",
    "outputId": "2331256b-f205-49c9-ba60-53fb9baf566d",
    "trusted": true
   },
   "outputs": [
    {
     "name": "stderr",
     "output_type": "stream",
     "text": [
      "c:\\Users\\USER\\anaconda3\\envs\\study\\Lib\\site-packages\\seaborn\\categorical.py:3399: UserWarning: 6.8% of the points cannot be placed; you may want to decrease the size of the markers or use stripplot.\n",
      "  warnings.warn(msg, UserWarning)\n",
      "c:\\Users\\USER\\anaconda3\\envs\\study\\Lib\\site-packages\\seaborn\\categorical.py:3399: UserWarning: 18.3% of the points cannot be placed; you may want to decrease the size of the markers or use stripplot.\n",
      "  warnings.warn(msg, UserWarning)\n",
      "c:\\Users\\USER\\anaconda3\\envs\\study\\Lib\\site-packages\\seaborn\\categorical.py:3399: UserWarning: 18.0% of the points cannot be placed; you may want to decrease the size of the markers or use stripplot.\n",
      "  warnings.warn(msg, UserWarning)\n"
     ]
    },
    {
     "data": {
      "text/plain": [
       "<seaborn.axisgrid.FacetGrid at 0x1f91a512bd0>"
      ]
     },
     "execution_count": 35,
     "metadata": {},
     "output_type": "execute_result"
    },
    {
     "data": {
      "image/png": "[encoded data removed]",
      "text/plain": [
       "<Figure size 511.111x500 with 1 Axes>"
      ]
     },
     "metadata": {},
     "output_type": "display_data"
    },
    {
     "data": {
      "image/png": "[encoded data removed]",
      "text/plain": [
       "<Figure size 511.111x500 with 1 Axes>"
      ]
     },
     "metadata": {},
     "output_type": "display_data"
    },
    {
     "data": {
      "image/png": "[encoded data removed]",
      "text/plain": [
       "<Figure size 511.111x500 with 1 Axes>"
      ]
     },
     "metadata": {},
     "output_type": "display_data"
    },
    {
     "data": {
      "image/png": "[encoded data removed]",
      "text/plain": [
       "<Figure size 511.111x500 with 1 Axes>"
      ]
     },
     "metadata": {},
     "output_type": "display_data"
    }
   ],
   "source": [
    "sns.catplot(x='Sex', y='Age', data=df_titanic, kind='box')\n",
    "sns.catplot(x='Sex', y='Age', data=df_titanic, kind='violin')\n",
    "sns.catplot(x='Pclass', y='Age', data=df_titanic, kind='strip')\n",
    "sns.catplot(x='Pclass', y='Age', data=df_titanic, kind='swarm')"
   ]
  },
  {
   "cell_type": "markdown",
   "metadata": {
    "id": "yCjr3PdUJW4e"
   },
   "source": [
    "항구에 따른 생존율을 시각화해보세요."
   ]
  },
  {
   "cell_type": "code",
   "execution_count": 36,
   "metadata": {
    "colab": {
     "base_uri": "https://localhost:8080/",
     "height": 525
    },
    "executionInfo": {
     "elapsed": 1228,
     "status": "ok",
     "timestamp": 1686980072759,
     "user": {
      "displayName": "최재진",
      "userId": "14104918437285699837"
     },
     "user_tz": -540
    },
    "id": "SvhmtwTvGkql",
    "outputId": "734482f3-8fc0-44d2-942f-e6403bed0db8",
    "trusted": true
   },
   "outputs": [
    {
     "data": {
      "text/plain": [
       "<seaborn.axisgrid.FacetGrid at 0x1f918b665d0>"
      ]
     },
     "execution_count": 36,
     "metadata": {},
     "output_type": "execute_result"
    },
    {
     "data": {
      "image/png": "[encoded data removed]",
      "text/plain": [
       "<Figure size 511.111x500 with 1 Axes>"
      ]
     },
     "metadata": {},
     "output_type": "display_data"
    }
   ],
   "source": [
    "sns.catplot(x='Embarked', y='Survived', data=df_titanic, kind='bar')"
   ]
  },
  {
   "cell_type": "markdown",
   "metadata": {
    "id": "krFqNWM4Jnbo"
   },
   "source": [
    "항구에 따라 생존율의 차이가 있습니다.\n",
    "왜일까?\n",
    "항구에 따라 탑승하는 객실등급 수준의 차이가 있는건 아닐까.. Hoxy..?\n",
    "\n"
   ]
  },
  {
   "cell_type": "code",
   "execution_count": 37,
   "metadata": {
    "colab": {
     "base_uri": "https://localhost:8080/",
     "height": 175
    },
    "executionInfo": {
     "elapsed": 466,
     "status": "ok",
     "timestamp": 1686980076336,
     "user": {
      "displayName": "최재진",
      "userId": "14104918437285699837"
     },
     "user_tz": -540
    },
    "id": "DKs_jMx5_Z1A",
    "outputId": "f6c0dde0-a039-472b-cc99-fdb8d6f11cb9"
   },
   "outputs": [
    {
     "data": {
      "text/html": [
       "<div>\n",
       "<style scoped>\n",
       "    .dataframe tbody tr th:only-of-type {\n",
       "        vertical-align: middle;\n",
       "    }\n",
       "\n",
       "    .dataframe tbody tr th {\n",
       "        vertical-align: top;\n",
       "    }\n",
       "\n",
       "    .dataframe thead th {\n",
       "        text-align: right;\n",
       "    }\n",
       "</style>\n",
       "<table border=\"1\" class=\"dataframe\">\n",
       "  <thead>\n",
       "    <tr style=\"text-align: right;\">\n",
       "      <th></th>\n",
       "      <th>Pclass</th>\n",
       "    </tr>\n",
       "    <tr>\n",
       "      <th>Embarked</th>\n",
       "      <th></th>\n",
       "    </tr>\n",
       "  </thead>\n",
       "  <tbody>\n",
       "    <tr>\n",
       "      <th>C</th>\n",
       "      <td>1.886905</td>\n",
       "    </tr>\n",
       "    <tr>\n",
       "      <th>Q</th>\n",
       "      <td>2.909091</td>\n",
       "    </tr>\n",
       "    <tr>\n",
       "      <th>S</th>\n",
       "      <td>2.350932</td>\n",
       "    </tr>\n",
       "  </tbody>\n",
       "</table>\n",
       "</div>"
      ],
      "text/plain": [
       "            Pclass\n",
       "Embarked          \n",
       "C         1.886905\n",
       "Q         2.909091\n",
       "S         2.350932"
      ]
     },
     "execution_count": 37,
     "metadata": {},
     "output_type": "execute_result"
    }
   ],
   "source": [
    "df_titanic[['Pclass', 'Embarked']].groupby(['Embarked']).mean()"
   ]
  },
  {
   "cell_type": "code",
   "execution_count": 38,
   "metadata": {
    "colab": {
     "base_uri": "https://localhost:8080/",
     "height": 363
    },
    "executionInfo": {
     "elapsed": 297,
     "status": "ok",
     "timestamp": 1686980080259,
     "user": {
      "displayName": "최재진",
      "userId": "14104918437285699837"
     },
     "user_tz": -540
    },
    "id": "gjBlDIp4-yH4",
    "outputId": "d8db1326-3ff1-4ba3-cfe7-1dd384bea2c2"
   },
   "outputs": [
    {
     "data": {
      "text/html": [
       "<div>\n",
       "<style scoped>\n",
       "    .dataframe tbody tr th:only-of-type {\n",
       "        vertical-align: middle;\n",
       "    }\n",
       "\n",
       "    .dataframe tbody tr th {\n",
       "        vertical-align: top;\n",
       "    }\n",
       "\n",
       "    .dataframe thead th {\n",
       "        text-align: right;\n",
       "    }\n",
       "</style>\n",
       "<table border=\"1\" class=\"dataframe\">\n",
       "  <thead>\n",
       "    <tr style=\"text-align: right;\">\n",
       "      <th></th>\n",
       "      <th></th>\n",
       "      <th>PassengerId</th>\n",
       "    </tr>\n",
       "    <tr>\n",
       "      <th>Embarked</th>\n",
       "      <th>Pclass</th>\n",
       "      <th></th>\n",
       "    </tr>\n",
       "  </thead>\n",
       "  <tbody>\n",
       "    <tr>\n",
       "      <th rowspan=\"3\" valign=\"top\">C</th>\n",
       "      <th>1</th>\n",
       "      <td>85</td>\n",
       "    </tr>\n",
       "    <tr>\n",
       "      <th>2</th>\n",
       "      <td>17</td>\n",
       "    </tr>\n",
       "    <tr>\n",
       "      <th>3</th>\n",
       "      <td>66</td>\n",
       "    </tr>\n",
       "    <tr>\n",
       "      <th rowspan=\"3\" valign=\"top\">Q</th>\n",
       "      <th>1</th>\n",
       "      <td>2</td>\n",
       "    </tr>\n",
       "    <tr>\n",
       "      <th>2</th>\n",
       "      <td>3</td>\n",
       "    </tr>\n",
       "    <tr>\n",
       "      <th>3</th>\n",
       "      <td>72</td>\n",
       "    </tr>\n",
       "    <tr>\n",
       "      <th rowspan=\"3\" valign=\"top\">S</th>\n",
       "      <th>1</th>\n",
       "      <td>127</td>\n",
       "    </tr>\n",
       "    <tr>\n",
       "      <th>2</th>\n",
       "      <td>164</td>\n",
       "    </tr>\n",
       "    <tr>\n",
       "      <th>3</th>\n",
       "      <td>353</td>\n",
       "    </tr>\n",
       "  </tbody>\n",
       "</table>\n",
       "</div>"
      ],
      "text/plain": [
       "                 PassengerId\n",
       "Embarked Pclass             \n",
       "C        1                85\n",
       "         2                17\n",
       "         3                66\n",
       "Q        1                 2\n",
       "         2                 3\n",
       "         3                72\n",
       "S        1               127\n",
       "         2               164\n",
       "         3               353"
      ]
     },
     "execution_count": 38,
     "metadata": {},
     "output_type": "execute_result"
    }
   ],
   "source": [
    "count_em_pc = df_titanic[['Pclass', 'Embarked', 'PassengerId']].groupby(['Embarked', 'Pclass']).count()\n",
    "count_em_pc"
   ]
  },
  {
   "cell_type": "markdown",
   "metadata": {
    "id": "1MKwAlqRAued"
   },
   "source": [
    "  count plot을 이용해서 표현해보자."
   ]
  },
  {
   "cell_type": "code",
   "execution_count": 39,
   "metadata": {
    "colab": {
     "base_uri": "https://localhost:8080/",
     "height": 525
    },
    "executionInfo": {
     "elapsed": 2701,
     "status": "ok",
     "timestamp": 1686980298097,
     "user": {
      "displayName": "최재진",
      "userId": "14104918437285699837"
     },
     "user_tz": -540
    },
    "id": "gagP4cbQGkqo",
    "outputId": "1bd7fdd2-ca63-47e3-e56d-85383b634772",
    "trusted": true
   },
   "outputs": [
    {
     "name": "stderr",
     "output_type": "stream",
     "text": [
      "C:\\Users\\USER\\AppData\\Local\\Temp\\ipykernel_1552\\1408359043.py:1: FutureWarning: \n",
      "\n",
      "Passing `palette` without assigning `hue` is deprecated and will be removed in v0.14.0. Assign the `x` variable to `hue` and set `legend=False` for the same effect.\n",
      "\n",
      "  sns.catplot(x=\"Pclass\", col=\"Embarked\",  data=df_titanic,\n"
     ]
    },
    {
     "data": {
      "text/plain": [
       "<seaborn.axisgrid.FacetGrid at 0x1f91a6d36d0>"
      ]
     },
     "execution_count": 39,
     "metadata": {},
     "output_type": "execute_result"
    },
    {
     "data": {
      "image/png": "[encoded data removed]",
      "text/plain": [
       "<Figure size 1500x500 with 3 Axes>"
      ]
     },
     "metadata": {},
     "output_type": "display_data"
    }
   ],
   "source": [
    "sns.catplot(x=\"Pclass\", col=\"Embarked\",  data=df_titanic,\n",
    "                   kind=\"count\", palette=\"muted\")"
   ]
  },
  {
   "cell_type": "markdown",
   "metadata": {
    "id": "4koP3nVKIVxd"
   },
   "source": [
    "항구와 객실등급에 따른 생존율"
   ]
  },
  {
   "cell_type": "code",
   "execution_count": 40,
   "metadata": {
    "colab": {
     "base_uri": "https://localhost:8080/",
     "height": 507
    },
    "executionInfo": {
     "elapsed": 655,
     "status": "ok",
     "timestamp": 1686980379171,
     "user": {
      "displayName": "최재진",
      "userId": "14104918437285699837"
     },
     "user_tz": -540
    },
    "id": "PGz1jEOzIzmb",
    "outputId": "02543d00-3aab-4799-8cc9-13214b9d730b"
   },
   "outputs": [
    {
     "data": {
      "image/png": "[encoded data removed]",
      "text/plain": [
       "<Figure size 511.111x500 with 1 Axes>"
      ]
     },
     "metadata": {},
     "output_type": "display_data"
    }
   ],
   "source": [
    "g = sns.catplot(x='Embarked', y='Survived', data=df_titanic, kind='bar',\n",
    "                   aspect=1)"
   ]
  },
  {
   "cell_type": "code",
   "execution_count": 41,
   "metadata": {
    "colab": {
     "base_uri": "https://localhost:8080/",
     "height": 506
    },
    "executionInfo": {
     "elapsed": 1377,
     "status": "ok",
     "timestamp": 1686980387975,
     "user": {
      "displayName": "최재진",
      "userId": "14104918437285699837"
     },
     "user_tz": -540
    },
    "id": "uLYi9i-h_pq3",
    "outputId": "a029c17e-61ae-4a7c-d6ff-cb933140c03a"
   },
   "outputs": [
    {
     "data": {
      "image/png": "[encoded data removed]",
      "text/plain": [
       "<Figure size 1558.88x500 with 1 Axes>"
      ]
     },
     "metadata": {},
     "output_type": "display_data"
    }
   ],
   "source": [
    "g = sns.catplot(x='Embarked', y='Survived', hue='Pclass', data=df_titanic, kind='bar',\n",
    "                   aspect=3)"
   ]
  },
  {
   "cell_type": "markdown",
   "metadata": {
    "id": "igjroRsgMgKx"
   },
   "source": [
    "요금의 분포를 시각화해보세요."
   ]
  },
  {
   "cell_type": "code",
   "execution_count": 42,
   "metadata": {
    "colab": {
     "base_uri": "https://localhost:8080/",
     "height": 430
    },
    "executionInfo": {
     "elapsed": 778,
     "status": "ok",
     "timestamp": 1686980395011,
     "user": {
      "displayName": "최재진",
      "userId": "14104918437285699837"
     },
     "user_tz": -540
    },
    "id": "rnXoCVyh8YP3",
    "outputId": "57151735-287c-4c09-9550-b601f7224d0a"
   },
   "outputs": [
    {
     "data": {
      "image/png": "[encoded data removed]",
      "text/plain": [
       "<Figure size 640x480 with 1 Axes>"
      ]
     },
     "metadata": {},
     "output_type": "display_data"
    }
   ],
   "source": [
    "plt.hist(df_titanic[\"Fare\"], bins=100)\n",
    "plt.show()"
   ]
  },
  {
   "cell_type": "code",
   "execution_count": 43,
   "metadata": {
    "colab": {
     "base_uri": "https://localhost:8080/",
     "height": 449
    },
    "executionInfo": {
     "elapsed": 834,
     "status": "ok",
     "timestamp": 1686980397309,
     "user": {
      "displayName": "최재진",
      "userId": "14104918437285699837"
     },
     "user_tz": -540
    },
    "id": "uyoVRdB78xx9",
    "outputId": "c7283556-b2ce-4f81-ca7b-d4ac313107b2"
   },
   "outputs": [
    {
     "data": {
      "image/png": "[encoded data removed]",
      "text/plain": [
       "<Figure size 640x480 with 1 Axes>"
      ]
     },
     "metadata": {},
     "output_type": "display_data"
    }
   ],
   "source": [
    "g = sns.kdeplot(df_titanic[\"Fare\"])"
   ]
  },
  {
   "cell_type": "code",
   "execution_count": 44,
   "metadata": {
    "colab": {
     "base_uri": "https://localhost:8080/"
    },
    "executionInfo": {
     "elapsed": 294,
     "status": "ok",
     "timestamp": 1686980399539,
     "user": {
      "displayName": "최재진",
      "userId": "14104918437285699837"
     },
     "user_tz": -540
    },
    "id": "kit_YiNkMd2C",
    "outputId": "35360315-6775-4c75-ea57-821dda312418"
   },
   "outputs": [
    {
     "data": {
      "text/plain": [
       "np.float64(4.787316519674893)"
      ]
     },
     "execution_count": 44,
     "metadata": {},
     "output_type": "execute_result"
    }
   ],
   "source": [
    "df_titanic[\"Fare\"].skew()"
   ]
  },
  {
   "cell_type": "markdown",
   "metadata": {
    "id": "StjDllOZ9CzC"
   },
   "source": [
    "skewness는 -2 이하, 2 이상이 기준"
   ]
  },
  {
   "cell_type": "markdown",
   "metadata": {
    "id": "stGTmhhz8Hij"
   },
   "source": [
    "치우침(Skewness)가 가장 심한 feature가 무엇인지 찾아보세요."
   ]
  },
  {
   "cell_type": "code",
   "execution_count": 51,
   "metadata": {},
   "outputs": [],
   "source": [
    "numeric_columns = ['PassengerId', 'Survived', 'Pclass', 'Age', 'SibSp', 'Parch', 'Fare']"
   ]
  },
  {
   "cell_type": "code",
   "execution_count": 52,
   "metadata": {
    "colab": {
     "base_uri": "https://localhost:8080/"
    },
    "executionInfo": {
     "elapsed": 321,
     "status": "ok",
     "timestamp": 1686980404553,
     "user": {
      "displayName": "최재진",
      "userId": "14104918437285699837"
     },
     "user_tz": -540
    },
    "id": "gG55ZzLODjgd",
    "outputId": "d9659264-e3bf-4d0e-ab2d-9812397596b3"
   },
   "outputs": [],
   "source": [
    "skew = df_titanic[numeric_columns].skew().sort_values(ascending=False) #.drop(['PassengerId'])"
   ]
  },
  {
   "cell_type": "code",
   "execution_count": 53,
   "metadata": {
    "colab": {
     "base_uri": "https://localhost:8080/",
     "height": 238
    },
    "executionInfo": {
     "elapsed": 295,
     "status": "ok",
     "timestamp": 1686980408497,
     "user": {
      "displayName": "최재진",
      "userId": "14104918437285699837"
     },
     "user_tz": -540
    },
    "id": "UeHSZi1fgYvg",
    "outputId": "d6fe2356-0bf7-4a41-a3b1-200304e699c7"
   },
   "outputs": [
    {
     "data": {
      "text/html": [
       "<div>\n",
       "<style scoped>\n",
       "    .dataframe tbody tr th:only-of-type {\n",
       "        vertical-align: middle;\n",
       "    }\n",
       "\n",
       "    .dataframe tbody tr th {\n",
       "        vertical-align: top;\n",
       "    }\n",
       "\n",
       "    .dataframe thead th {\n",
       "        text-align: right;\n",
       "    }\n",
       "</style>\n",
       "<table border=\"1\" class=\"dataframe\">\n",
       "  <thead>\n",
       "    <tr style=\"text-align: right;\">\n",
       "      <th></th>\n",
       "      <th>skew</th>\n",
       "    </tr>\n",
       "  </thead>\n",
       "  <tbody>\n",
       "    <tr>\n",
       "      <th>Fare</th>\n",
       "      <td>4.787317</td>\n",
       "    </tr>\n",
       "    <tr>\n",
       "      <th>SibSp</th>\n",
       "      <td>3.695352</td>\n",
       "    </tr>\n",
       "    <tr>\n",
       "      <th>Parch</th>\n",
       "      <td>2.749117</td>\n",
       "    </tr>\n",
       "    <tr>\n",
       "      <th>Survived</th>\n",
       "      <td>0.478523</td>\n",
       "    </tr>\n",
       "    <tr>\n",
       "      <th>Age</th>\n",
       "      <td>0.389108</td>\n",
       "    </tr>\n",
       "    <tr>\n",
       "      <th>PassengerId</th>\n",
       "      <td>0.000000</td>\n",
       "    </tr>\n",
       "    <tr>\n",
       "      <th>Pclass</th>\n",
       "      <td>-0.630548</td>\n",
       "    </tr>\n",
       "  </tbody>\n",
       "</table>\n",
       "</div>"
      ],
      "text/plain": [
       "                 skew\n",
       "Fare         4.787317\n",
       "SibSp        3.695352\n",
       "Parch        2.749117\n",
       "Survived     0.478523\n",
       "Age          0.389108\n",
       "PassengerId  0.000000\n",
       "Pclass      -0.630548"
      ]
     },
     "execution_count": 53,
     "metadata": {},
     "output_type": "execute_result"
    }
   ],
   "source": [
    "df_skew = pd.DataFrame(skew,\n",
    "                       columns=['skew'])\n",
    "df_skew"
   ]
  },
  {
   "cell_type": "code",
   "execution_count": 54,
   "metadata": {
    "colab": {
     "base_uri": "https://localhost:8080/",
     "height": 238
    },
    "executionInfo": {
     "elapsed": 309,
     "status": "ok",
     "timestamp": 1686980424746,
     "user": {
      "displayName": "최재진",
      "userId": "14104918437285699837"
     },
     "user_tz": -540
    },
    "id": "JOVG_coZPMJK",
    "outputId": "c1d5036f-3914-4874-c557-d00c538cd885"
   },
   "outputs": [
    {
     "data": {
      "text/html": [
       "<div>\n",
       "<style scoped>\n",
       "    .dataframe tbody tr th:only-of-type {\n",
       "        vertical-align: middle;\n",
       "    }\n",
       "\n",
       "    .dataframe tbody tr th {\n",
       "        vertical-align: top;\n",
       "    }\n",
       "\n",
       "    .dataframe thead th {\n",
       "        text-align: right;\n",
       "    }\n",
       "</style>\n",
       "<table border=\"1\" class=\"dataframe\">\n",
       "  <thead>\n",
       "    <tr style=\"text-align: right;\">\n",
       "      <th></th>\n",
       "      <th>skew</th>\n",
       "      <th>feature</th>\n",
       "    </tr>\n",
       "  </thead>\n",
       "  <tbody>\n",
       "    <tr>\n",
       "      <th>Fare</th>\n",
       "      <td>4.787317</td>\n",
       "      <td>Fare</td>\n",
       "    </tr>\n",
       "    <tr>\n",
       "      <th>SibSp</th>\n",
       "      <td>3.695352</td>\n",
       "      <td>SibSp</td>\n",
       "    </tr>\n",
       "    <tr>\n",
       "      <th>Parch</th>\n",
       "      <td>2.749117</td>\n",
       "      <td>Parch</td>\n",
       "    </tr>\n",
       "    <tr>\n",
       "      <th>Survived</th>\n",
       "      <td>0.478523</td>\n",
       "      <td>Survived</td>\n",
       "    </tr>\n",
       "    <tr>\n",
       "      <th>Age</th>\n",
       "      <td>0.389108</td>\n",
       "      <td>Age</td>\n",
       "    </tr>\n",
       "    <tr>\n",
       "      <th>PassengerId</th>\n",
       "      <td>0.000000</td>\n",
       "      <td>PassengerId</td>\n",
       "    </tr>\n",
       "    <tr>\n",
       "      <th>Pclass</th>\n",
       "      <td>-0.630548</td>\n",
       "      <td>Pclass</td>\n",
       "    </tr>\n",
       "  </tbody>\n",
       "</table>\n",
       "</div>"
      ],
      "text/plain": [
       "                 skew      feature\n",
       "Fare         4.787317         Fare\n",
       "SibSp        3.695352        SibSp\n",
       "Parch        2.749117        Parch\n",
       "Survived     0.478523     Survived\n",
       "Age          0.389108          Age\n",
       "PassengerId  0.000000  PassengerId\n",
       "Pclass      -0.630548       Pclass"
      ]
     },
     "execution_count": 54,
     "metadata": {},
     "output_type": "execute_result"
    }
   ],
   "source": [
    "df_skew['feature'] = df_skew.index\n",
    "df_skew"
   ]
  },
  {
   "cell_type": "code",
   "execution_count": 55,
   "metadata": {
    "colab": {
     "base_uri": "https://localhost:8080/",
     "height": 525
    },
    "executionInfo": {
     "elapsed": 479,
     "status": "ok",
     "timestamp": 1686980441182,
     "user": {
      "displayName": "최재진",
      "userId": "14104918437285699837"
     },
     "user_tz": -540
    },
    "id": "fODS1FiVCPir",
    "outputId": "612f2e4f-7a4e-4c09-a507-70d796662f5f"
   },
   "outputs": [
    {
     "data": {
      "text/plain": [
       "<seaborn.axisgrid.FacetGrid at 0x1f91deae5d0>"
      ]
     },
     "execution_count": 55,
     "metadata": {},
     "output_type": "execute_result"
    },
    {
     "data": {
      "image/png": "[encoded data removed]",
      "text/plain": [
       "<Figure size 511.111x500 with 1 Axes>"
      ]
     },
     "metadata": {},
     "output_type": "display_data"
    }
   ],
   "source": [
    "sns.catplot(x='feature', y='skew', data=df_skew, kind='bar')"
   ]
  },
  {
   "cell_type": "markdown",
   "metadata": {
    "id": "M0q_q0-P8Hio"
   },
   "source": [
    "첨도(Kurtosis)가 가장 심한 feature가 무엇인지 찾아보세요."
   ]
  },
  {
   "cell_type": "code",
   "execution_count": null,
   "metadata": {
    "colab": {
     "base_uri": "https://localhost:8080/"
    },
    "executionInfo": {
     "elapsed": 2,
     "status": "ok",
     "timestamp": 1686980444822,
     "user": {
      "displayName": "최재진",
      "userId": "14104918437285699837"
     },
     "user_tz": -540
    },
    "id": "76HOJrYY8Hio",
    "outputId": "4d8fec94-44a7-4059-9ecc-80ac2d7b5c01"
   },
   "outputs": [],
   "source": [
    "df_titanic.kurt().sort_values(ascending=False)"
   ]
  },
  {
   "cell_type": "code",
   "execution_count": 68,
   "metadata": {
    "colab": {
     "base_uri": "https://localhost:8080/",
     "height": 206
    },
    "executionInfo": {
     "elapsed": 328,
     "status": "ok",
     "timestamp": 1686980450592,
     "user": {
      "displayName": "최재진",
      "userId": "14104918437285699837"
     },
     "user_tz": -540
    },
    "id": "qEC6jpUuGkqu",
    "outputId": "fd9ec342-1153-4fdc-8704-f02bd3949c32",
    "trusted": true
   },
   "outputs": [
    {
     "data": {
      "text/html": [
       "\n",
       "  <div id=\"df-127ec27c-1c54-4dd7-abce-ea05fbd3a34c\">\n",
       "    <div class=\"colab-df-container\">\n",
       "      <div>\n",
       "<style scoped>\n",
       "    .dataframe tbody tr th:only-of-type {\n",
       "        vertical-align: middle;\n",
       "    }\n",
       "\n",
       "    .dataframe tbody tr th {\n",
       "        vertical-align: top;\n",
       "    }\n",
       "\n",
       "    .dataframe thead th {\n",
       "        text-align: right;\n",
       "    }\n",
       "</style>\n",
       "<table border=\"1\" class=\"dataframe\">\n",
       "  <thead>\n",
       "    <tr style=\"text-align: right;\">\n",
       "      <th></th>\n",
       "      <th>PassengerId</th>\n",
       "      <th>Survived</th>\n",
       "      <th>Pclass</th>\n",
       "      <th>Name</th>\n",
       "      <th>Sex</th>\n",
       "      <th>Age</th>\n",
       "      <th>SibSp</th>\n",
       "      <th>Parch</th>\n",
       "      <th>Ticket</th>\n",
       "      <th>Fare</th>\n",
       "      <th>Cabin</th>\n",
       "      <th>Embarked</th>\n",
       "    </tr>\n",
       "  </thead>\n",
       "  <tbody>\n",
       "    <tr>\n",
       "      <th>0</th>\n",
       "      <td>1</td>\n",
       "      <td>0</td>\n",
       "      <td>3</td>\n",
       "      <td>Braund, Mr. Owen Harris</td>\n",
       "      <td>male</td>\n",
       "      <td>22.0</td>\n",
       "      <td>1</td>\n",
       "      <td>0</td>\n",
       "      <td>A/5 21171</td>\n",
       "      <td>7.2500</td>\n",
       "      <td>NaN</td>\n",
       "      <td>S</td>\n",
       "    </tr>\n",
       "    <tr>\n",
       "      <th>1</th>\n",
       "      <td>2</td>\n",
       "      <td>1</td>\n",
       "      <td>1</td>\n",
       "      <td>Cumings, Mrs. John Bradley (Florence Briggs Th...</td>\n",
       "      <td>female</td>\n",
       "      <td>38.0</td>\n",
       "      <td>1</td>\n",
       "      <td>0</td>\n",
       "      <td>PC 17599</td>\n",
       "      <td>71.2833</td>\n",
       "      <td>C85</td>\n",
       "      <td>C</td>\n",
       "    </tr>\n",
       "    <tr>\n",
       "      <th>2</th>\n",
       "      <td>3</td>\n",
       "      <td>1</td>\n",
       "      <td>3</td>\n",
       "      <td>Heikkinen, Miss. Laina</td>\n",
       "      <td>female</td>\n",
       "      <td>26.0</td>\n",
       "      <td>0</td>\n",
       "      <td>0</td>\n",
       "      <td>STON/O2. 3101282</td>\n",
       "      <td>7.9250</td>\n",
       "      <td>NaN</td>\n",
       "      <td>S</td>\n",
       "    </tr>\n",
       "    <tr>\n",
       "      <th>3</th>\n",
       "      <td>4</td>\n",
       "      <td>1</td>\n",
       "      <td>1</td>\n",
       "      <td>Futrelle, Mrs. Jacques Heath (Lily May Peel)</td>\n",
       "      <td>female</td>\n",
       "      <td>35.0</td>\n",
       "      <td>1</td>\n",
       "      <td>0</td>\n",
       "      <td>113803</td>\n",
       "      <td>53.1000</td>\n",
       "      <td>C123</td>\n",
       "      <td>S</td>\n",
       "    </tr>\n",
       "    <tr>\n",
       "      <th>4</th>\n",
       "      <td>5</td>\n",
       "      <td>0</td>\n",
       "      <td>3</td>\n",
       "      <td>Allen, Mr. William Henry</td>\n",
       "      <td>male</td>\n",
       "      <td>35.0</td>\n",
       "      <td>0</td>\n",
       "      <td>0</td>\n",
       "      <td>373450</td>\n",
       "      <td>8.0500</td>\n",
       "      <td>NaN</td>\n",
       "      <td>S</td>\n",
       "    </tr>\n",
       "  </tbody>\n",
       "</table>\n",
       "</div>\n",
       "      <button class=\"colab-df-convert\" onclick=\"convertToInteractive('df-127ec27c-1c54-4dd7-abce-ea05fbd3a34c')\"\n",
       "              title=\"Convert this dataframe to an interactive table.\"\n",
       "              style=\"display:none;\">\n",
       "        \n",
       "  <svg xmlns=\"http://www.w3.org/2000/svg\" height=\"24px\"viewBox=\"0 0 24 24\"\n",
       "       width=\"24px\">\n",
       "    <path d=\"M0 0h24v24H0V0z\" fill=\"none\"/>\n",
       "    <path d=\"M18.56 5.44l.94 2.06.94-2.06 2.06-.94-2.06-.94-.94-2.06-.94 2.06-2.06.94zm-11 1L8.5 8.5l.94-2.06 2.06-.94-2.06-.94L8.5 2.5l-.94 2.06-2.06.94zm10 10l.94 2.06.94-2.06 2.06-.94-2.06-.94-.94-2.06-.94 2.06-2.06.94z\"/><path d=\"M17.41 7.96l-1.37-1.37c-.4-.4-.92-.59-1.43-.59-.52 0-1.04.2-1.43.59L10.3 9.45l-7.72 7.72c-.78.78-.78 2.05 0 2.83L4 21.41c.39.39.9.59 1.41.59.51 0 1.02-.2 1.41-.59l7.78-7.78 2.81-2.81c.8-.78.8-2.07 0-2.86zM5.41 20L4 18.59l7.72-7.72 1.47 1.35L5.41 20z\"/>\n",
       "  </svg>\n",
       "      </button>\n",
       "      \n",
       "  <style>\n",
       "    .colab-df-container {\n",
       "      display:flex;\n",
       "      flex-wrap:wrap;\n",
       "      gap: 12px;\n",
       "    }\n",
       "\n",
       "    .colab-df-convert {\n",
       "      background-color: #E8F0FE;\n",
       "      border: none;\n",
       "      border-radius: 50%;\n",
       "      cursor: pointer;\n",
       "      display: none;\n",
       "      fill: #1967D2;\n",
       "      height: 32px;\n",
       "      padding: 0 0 0 0;\n",
       "      width: 32px;\n",
       "    }\n",
       "\n",
       "    .colab-df-convert:hover {\n",
       "      background-color: #E2EBFA;\n",
       "      box-shadow: 0px 1px 2px rgba(60, 64, 67, 0.3), 0px 1px 3px 1px rgba(60, 64, 67, 0.15);\n",
       "      fill: #174EA6;\n",
       "    }\n",
       "\n",
       "    [theme=dark] .colab-df-convert {\n",
       "      background-color: #3B4455;\n",
       "      fill: #D2E3FC;\n",
       "    }\n",
       "\n",
       "    [theme=dark] .colab-df-convert:hover {\n",
       "      background-color: #434B5C;\n",
       "      box-shadow: 0px 1px 3px 1px rgba(0, 0, 0, 0.15);\n",
       "      filter: drop-shadow(0px 1px 2px rgba(0, 0, 0, 0.3));\n",
       "      fill: #FFFFFF;\n",
       "    }\n",
       "  </style>\n",
       "\n",
       "      <script>\n",
       "        const buttonEl =\n",
       "          document.querySelector('#df-127ec27c-1c54-4dd7-abce-ea05fbd3a34c button.colab-df-convert');\n",
       "        buttonEl.style.display =\n",
       "          google.colab.kernel.accessAllowed ? 'block' : 'none';\n",
       "\n",
       "        async function convertToInteractive(key) {\n",
       "          const element = document.querySelector('#df-127ec27c-1c54-4dd7-abce-ea05fbd3a34c');\n",
       "          const dataTable =\n",
       "            await google.colab.kernel.invokeFunction('convertToInteractive',\n",
       "                                                     [key], {});\n",
       "          if (!dataTable) return;\n",
       "\n",
       "          const docLinkHtml = 'Like what you see? Visit the ' +\n",
       "            '<a target=\"_blank\" href=https://colab.research.google.com/notebooks/data_table.ipynb>data table notebook</a>'\n",
       "            + ' to learn more about interactive tables.';\n",
       "          element.innerHTML = '';\n",
       "          dataTable['output_type'] = 'display_data';\n",
       "          await google.colab.output.renderOutput(dataTable, element);\n",
       "          const docLink = document.createElement('div');\n",
       "          docLink.innerHTML = docLinkHtml;\n",
       "          element.appendChild(docLink);\n",
       "        }\n",
       "      </script>\n",
       "    </div>\n",
       "  </div>\n",
       "  "
      ],
      "text/plain": [
       "   PassengerId  Survived  Pclass  \\\n",
       "0            1         0       3   \n",
       "1            2         1       1   \n",
       "2            3         1       3   \n",
       "3            4         1       1   \n",
       "4            5         0       3   \n",
       "\n",
       "                                                Name     Sex   Age  SibSp  \\\n",
       "0                            Braund, Mr. Owen Harris    male  22.0      1   \n",
       "1  Cumings, Mrs. John Bradley (Florence Briggs Th...  female  38.0      1   \n",
       "2                             Heikkinen, Miss. Laina  female  26.0      0   \n",
       "3       Futrelle, Mrs. Jacques Heath (Lily May Peel)  female  35.0      1   \n",
       "4                           Allen, Mr. William Henry    male  35.0      0   \n",
       "\n",
       "   Parch            Ticket     Fare Cabin Embarked  \n",
       "0      0         A/5 21171   7.2500   NaN        S  \n",
       "1      0          PC 17599  71.2833   C85        C  \n",
       "2      0  STON/O2. 3101282   7.9250   NaN        S  \n",
       "3      0            113803  53.1000  C123        S  \n",
       "4      0            373450   8.0500   NaN        S  "
      ]
     },
     "execution_count": 68,
     "metadata": {},
     "output_type": "execute_result"
    }
   ],
   "source": [
    "df_titanic.head()"
   ]
  },
  {
   "cell_type": "code",
   "execution_count": 57,
   "metadata": {
    "colab": {
     "base_uri": "https://localhost:8080/",
     "height": 175
    },
    "executionInfo": {
     "elapsed": 3,
     "status": "ok",
     "timestamp": 1686980452964,
     "user": {
      "displayName": "최재진",
      "userId": "14104918437285699837"
     },
     "user_tz": -540
    },
    "id": "llrBHTpyGkqx",
    "outputId": "8ecce683-7984-4122-f8f4-218967bc3164",
    "trusted": true
   },
   "outputs": [
    {
     "data": {
      "text/html": [
       "<div>\n",
       "<style scoped>\n",
       "    .dataframe tbody tr th:only-of-type {\n",
       "        vertical-align: middle;\n",
       "    }\n",
       "\n",
       "    .dataframe tbody tr th {\n",
       "        vertical-align: top;\n",
       "    }\n",
       "\n",
       "    .dataframe thead th {\n",
       "        text-align: right;\n",
       "    }\n",
       "</style>\n",
       "<table border=\"1\" class=\"dataframe\">\n",
       "  <thead>\n",
       "    <tr style=\"text-align: right;\">\n",
       "      <th></th>\n",
       "      <th>Name</th>\n",
       "      <th>Ticket</th>\n",
       "      <th>Cabin</th>\n",
       "    </tr>\n",
       "  </thead>\n",
       "  <tbody>\n",
       "    <tr>\n",
       "      <th>count</th>\n",
       "      <td>891</td>\n",
       "      <td>891</td>\n",
       "      <td>204</td>\n",
       "    </tr>\n",
       "    <tr>\n",
       "      <th>unique</th>\n",
       "      <td>891</td>\n",
       "      <td>681</td>\n",
       "      <td>147</td>\n",
       "    </tr>\n",
       "    <tr>\n",
       "      <th>top</th>\n",
       "      <td>Braund, Mr. Owen Harris</td>\n",
       "      <td>347082</td>\n",
       "      <td>G6</td>\n",
       "    </tr>\n",
       "    <tr>\n",
       "      <th>freq</th>\n",
       "      <td>1</td>\n",
       "      <td>7</td>\n",
       "      <td>4</td>\n",
       "    </tr>\n",
       "  </tbody>\n",
       "</table>\n",
       "</div>"
      ],
      "text/plain": [
       "                           Name  Ticket Cabin\n",
       "count                       891     891   204\n",
       "unique                      891     681   147\n",
       "top     Braund, Mr. Owen Harris  347082    G6\n",
       "freq                          1       7     4"
      ]
     },
     "execution_count": 57,
     "metadata": {},
     "output_type": "execute_result"
    }
   ],
   "source": [
    "df_titanic[['Name', 'Ticket', 'Cabin']].describe()"
   ]
  },
  {
   "cell_type": "markdown",
   "metadata": {
    "id": "5ft2mnpEGkq0"
   },
   "source": [
    "Name, Ticket, Cabin은 모두 unique값이 많기 때문에, 데이터 자체값으로는 큰의미가 없다. 데이터를 직접 살펴보고, 유의미한 value를 추출할 수 있을지 고민해야한다."
   ]
  },
  {
   "cell_type": "code",
   "execution_count": 58,
   "metadata": {
    "colab": {
     "base_uri": "https://localhost:8080/"
    },
    "executionInfo": {
     "elapsed": 3,
     "status": "ok",
     "timestamp": 1686980454822,
     "user": {
      "displayName": "최재진",
      "userId": "14104918437285699837"
     },
     "user_tz": -540
    },
    "id": "JyvEBqPOGkq0",
    "outputId": "a5059d15-2211-4e6a-f1d4-929c58d70c2c",
    "trusted": true
   },
   "outputs": [
    {
     "data": {
      "text/plain": [
       "0                                Braund, Mr. Owen Harris\n",
       "1      Cumings, Mrs. John Bradley (Florence Briggs Th...\n",
       "2                                 Heikkinen, Miss. Laina\n",
       "3           Futrelle, Mrs. Jacques Heath (Lily May Peel)\n",
       "4                               Allen, Mr. William Henry\n",
       "                             ...                        \n",
       "886                                Montvila, Rev. Juozas\n",
       "887                         Graham, Miss. Margaret Edith\n",
       "888             Johnston, Miss. Catherine Helen \"Carrie\"\n",
       "889                                Behr, Mr. Karl Howell\n",
       "890                                  Dooley, Mr. Patrick\n",
       "Name: Name, Length: 891, dtype: object"
      ]
     },
     "execution_count": 58,
     "metadata": {},
     "output_type": "execute_result"
    }
   ],
   "source": [
    "df_titanic['Name']"
   ]
  },
  {
   "cell_type": "code",
   "execution_count": 59,
   "metadata": {
    "colab": {
     "base_uri": "https://localhost:8080/"
    },
    "executionInfo": {
     "elapsed": 315,
     "status": "ok",
     "timestamp": 1686980460525,
     "user": {
      "displayName": "최재진",
      "userId": "14104918437285699837"
     },
     "user_tz": -540
    },
    "id": "UbYMVnKUkxpH",
    "outputId": "605dae34-48fe-4923-9bef-09898b548695"
   },
   "outputs": [
    {
     "data": {
      "text/plain": [
       "0                                Braund, Mr. Owen Harris\n",
       "1      Cumings, Mrs. John Bradley (Florence Briggs Th...\n",
       "2                                 Heikkinen, Miss. Laina\n",
       "3           Futrelle, Mrs. Jacques Heath (Lily May Peel)\n",
       "4                               Allen, Mr. William Henry\n",
       "                             ...                        \n",
       "886                                Montvila, Rev. Juozas\n",
       "887                         Graham, Miss. Margaret Edith\n",
       "888             Johnston, Miss. Catherine Helen \"Carrie\"\n",
       "889                                Behr, Mr. Karl Howell\n",
       "890                                  Dooley, Mr. Patrick\n",
       "Name: Name, Length: 891, dtype: object"
      ]
     },
     "execution_count": 59,
     "metadata": {},
     "output_type": "execute_result"
    }
   ],
   "source": [
    "df_titanic.Name"
   ]
  },
  {
   "cell_type": "markdown",
   "metadata": {
    "id": "xzLvo-uT6CGx"
   },
   "source": [
    "전체 이름에서, . 앞에 있는 알파벳묶음열(알파벳으로만 이루어진 문자열)을 찾아내고 싶다면?"
   ]
  },
  {
   "cell_type": "code",
   "execution_count": null,
   "metadata": {
    "id": "9GDsOX2_asPV"
   },
   "outputs": [],
   "source": [
    "# .\n",
    "# ?\n",
    "# +\n",
    "# *\n",
    "# []\n",
    "# [^]\n",
    "# ()\n",
    "\n",
    "# 회피용법 \\. \\? \\+ \\* \\[ \\] \\^ \\( \\)\n",
    "\n",
    "# greedy Q : 최대한 긴 문자열로 찾아낸다. = .+\n",
    "# reluctant Q : 최대한 짧은 문자열로 찾아낸다. = .+?\n",
    "\n",
    "\n"
   ]
  },
  {
   "cell_type": "code",
   "execution_count": 60,
   "metadata": {
    "executionInfo": {
     "elapsed": 297,
     "status": "ok",
     "timestamp": 1686980481549,
     "user": {
      "displayName": "최재진",
      "userId": "14104918437285699837"
     },
     "user_tz": -540
    },
    "id": "e7_UXuTQkv7A"
   },
   "outputs": [],
   "source": [
    "df_titanic['Title'] = df_titanic.Name.str.extract('([A-Za-z]+)\\.', expand=True) # 정규표현식 7가지 핵심 문법 ? . + * [] [^] ()"
   ]
  },
  {
   "cell_type": "code",
   "execution_count": 61,
   "metadata": {
    "colab": {
     "base_uri": "https://localhost:8080/"
    },
    "executionInfo": {
     "elapsed": 3,
     "status": "ok",
     "timestamp": 1686980493643,
     "user": {
      "displayName": "최재진",
      "userId": "14104918437285699837"
     },
     "user_tz": -540
    },
    "id": "8lYS-VA4cxIY",
    "outputId": "bc887e6c-4e1a-4da6-a8d0-47c396bb4d06"
   },
   "outputs": [
    {
     "data": {
      "text/plain": [
       "(['def', 'ght', 'xyz'], ['def..ght..xyz'])"
      ]
     },
     "execution_count": 61,
     "metadata": {},
     "output_type": "execute_result"
    }
   ],
   "source": [
    "import re\n",
    "text = 'abc.def..ght..xyz.poi'\n",
    "rq = re.findall('\\.(.+?)\\.', text)\n",
    "gq = re.findall('\\.(.+)\\.', text)\n",
    "rq, gq"
   ]
  },
  {
   "cell_type": "code",
   "execution_count": 62,
   "metadata": {
    "executionInfo": {
     "elapsed": 461,
     "status": "ok",
     "timestamp": 1686980509051,
     "user": {
      "displayName": "최재진",
      "userId": "14104918437285699837"
     },
     "user_tz": -540
    },
    "id": "u_CX-uGs9I8b"
   },
   "outputs": [],
   "source": [
    "df_titanic['Title'] = df_titanic.Name.str.extract(',\\s(.+?)\\.', expand=True) # .+? = 문자열"
   ]
  },
  {
   "cell_type": "code",
   "execution_count": 63,
   "metadata": {
    "colab": {
     "base_uri": "https://localhost:8080/"
    },
    "executionInfo": {
     "elapsed": 4,
     "status": "ok",
     "timestamp": 1686980510259,
     "user": {
      "displayName": "최재진",
      "userId": "14104918437285699837"
     },
     "user_tz": -540
    },
    "id": "pMHB2MCh6sdH",
    "outputId": "5f0f3469-40bc-42ba-f3eb-51f65b870876"
   },
   "outputs": [
    {
     "data": {
      "text/plain": [
       "0        Mr\n",
       "1       Mrs\n",
       "2      Miss\n",
       "3       Mrs\n",
       "4        Mr\n",
       "       ... \n",
       "886     Rev\n",
       "887    Miss\n",
       "888    Miss\n",
       "889      Mr\n",
       "890      Mr\n",
       "Name: Title, Length: 891, dtype: object"
      ]
     },
     "execution_count": 63,
     "metadata": {},
     "output_type": "execute_result"
    }
   ],
   "source": [
    "df_titanic['Title']"
   ]
  },
  {
   "cell_type": "code",
   "execution_count": 64,
   "metadata": {
    "colab": {
     "base_uri": "https://localhost:8080/",
     "height": 614
    },
    "executionInfo": {
     "elapsed": 3,
     "status": "ok",
     "timestamp": 1686980511588,
     "user": {
      "displayName": "최재진",
      "userId": "14104918437285699837"
     },
     "user_tz": -540
    },
    "id": "hUoe-u-den_u",
    "outputId": "d4385b70-6786-4920-c9d0-4626ef2676c5"
   },
   "outputs": [
    {
     "data": {
      "text/html": [
       "<div>\n",
       "<style scoped>\n",
       "    .dataframe tbody tr th:only-of-type {\n",
       "        vertical-align: middle;\n",
       "    }\n",
       "\n",
       "    .dataframe tbody tr th {\n",
       "        vertical-align: top;\n",
       "    }\n",
       "\n",
       "    .dataframe thead th {\n",
       "        text-align: right;\n",
       "    }\n",
       "</style>\n",
       "<table border=\"1\" class=\"dataframe\">\n",
       "  <thead>\n",
       "    <tr style=\"text-align: right;\">\n",
       "      <th>Sex</th>\n",
       "      <th>female</th>\n",
       "      <th>male</th>\n",
       "    </tr>\n",
       "    <tr>\n",
       "      <th>Title</th>\n",
       "      <th></th>\n",
       "      <th></th>\n",
       "    </tr>\n",
       "  </thead>\n",
       "  <tbody>\n",
       "    <tr>\n",
       "      <th>Capt</th>\n",
       "      <td>0</td>\n",
       "      <td>1</td>\n",
       "    </tr>\n",
       "    <tr>\n",
       "      <th>Col</th>\n",
       "      <td>0</td>\n",
       "      <td>2</td>\n",
       "    </tr>\n",
       "    <tr>\n",
       "      <th>Don</th>\n",
       "      <td>0</td>\n",
       "      <td>1</td>\n",
       "    </tr>\n",
       "    <tr>\n",
       "      <th>Dr</th>\n",
       "      <td>1</td>\n",
       "      <td>6</td>\n",
       "    </tr>\n",
       "    <tr>\n",
       "      <th>Jonkheer</th>\n",
       "      <td>0</td>\n",
       "      <td>1</td>\n",
       "    </tr>\n",
       "    <tr>\n",
       "      <th>Lady</th>\n",
       "      <td>1</td>\n",
       "      <td>0</td>\n",
       "    </tr>\n",
       "    <tr>\n",
       "      <th>Major</th>\n",
       "      <td>0</td>\n",
       "      <td>2</td>\n",
       "    </tr>\n",
       "    <tr>\n",
       "      <th>Master</th>\n",
       "      <td>0</td>\n",
       "      <td>40</td>\n",
       "    </tr>\n",
       "    <tr>\n",
       "      <th>Miss</th>\n",
       "      <td>182</td>\n",
       "      <td>0</td>\n",
       "    </tr>\n",
       "    <tr>\n",
       "      <th>Mlle</th>\n",
       "      <td>2</td>\n",
       "      <td>0</td>\n",
       "    </tr>\n",
       "    <tr>\n",
       "      <th>Mme</th>\n",
       "      <td>1</td>\n",
       "      <td>0</td>\n",
       "    </tr>\n",
       "    <tr>\n",
       "      <th>Mr</th>\n",
       "      <td>0</td>\n",
       "      <td>517</td>\n",
       "    </tr>\n",
       "    <tr>\n",
       "      <th>Mrs</th>\n",
       "      <td>125</td>\n",
       "      <td>0</td>\n",
       "    </tr>\n",
       "    <tr>\n",
       "      <th>Ms</th>\n",
       "      <td>1</td>\n",
       "      <td>0</td>\n",
       "    </tr>\n",
       "    <tr>\n",
       "      <th>Rev</th>\n",
       "      <td>0</td>\n",
       "      <td>6</td>\n",
       "    </tr>\n",
       "    <tr>\n",
       "      <th>Sir</th>\n",
       "      <td>0</td>\n",
       "      <td>1</td>\n",
       "    </tr>\n",
       "    <tr>\n",
       "      <th>the Countess</th>\n",
       "      <td>1</td>\n",
       "      <td>0</td>\n",
       "    </tr>\n",
       "  </tbody>\n",
       "</table>\n",
       "</div>"
      ],
      "text/plain": [
       "Sex           female  male\n",
       "Title                     \n",
       "Capt               0     1\n",
       "Col                0     2\n",
       "Don                0     1\n",
       "Dr                 1     6\n",
       "Jonkheer           0     1\n",
       "Lady               1     0\n",
       "Major              0     2\n",
       "Master             0    40\n",
       "Miss             182     0\n",
       "Mlle               2     0\n",
       "Mme                1     0\n",
       "Mr                 0   517\n",
       "Mrs              125     0\n",
       "Ms                 1     0\n",
       "Rev                0     6\n",
       "Sir                0     1\n",
       "the Countess       1     0"
      ]
     },
     "execution_count": 64,
     "metadata": {},
     "output_type": "execute_result"
    }
   ],
   "source": [
    "pd.crosstab(df_titanic['Title'], df_titanic['Sex'])\n"
   ]
  },
  {
   "cell_type": "code",
   "execution_count": 65,
   "metadata": {
    "colab": {
     "base_uri": "https://localhost:8080/"
    },
    "executionInfo": {
     "elapsed": 2,
     "status": "ok",
     "timestamp": 1686980512990,
     "user": {
      "displayName": "최재진",
      "userId": "14104918437285699837"
     },
     "user_tz": -540
    },
    "id": "w4B1deB7euMI",
    "outputId": "0fe45a6a-685e-4628-d8cc-830f868934c7"
   },
   "outputs": [
    {
     "data": {
      "text/plain": [
       "['PassengerId',\n",
       " 'Survived',\n",
       " 'Pclass',\n",
       " 'Name',\n",
       " 'Sex',\n",
       " 'Age',\n",
       " 'SibSp',\n",
       " 'Parch',\n",
       " 'Ticket',\n",
       " 'Fare',\n",
       " 'Cabin',\n",
       " 'Embarked',\n",
       " 'Title']"
      ]
     },
     "execution_count": 65,
     "metadata": {},
     "output_type": "execute_result"
    }
   ],
   "source": [
    "list(df_titanic)"
   ]
  },
  {
   "cell_type": "code",
   "execution_count": 66,
   "metadata": {
    "colab": {
     "base_uri": "https://localhost:8080/",
     "height": 614
    },
    "executionInfo": {
     "elapsed": 3,
     "status": "ok",
     "timestamp": 1686980514143,
     "user": {
      "displayName": "최재진",
      "userId": "14104918437285699837"
     },
     "user_tz": -540
    },
    "id": "YIo89mJQepdy",
    "outputId": "9015c036-c964-4e53-d475-51f8f9e9c245"
   },
   "outputs": [
    {
     "data": {
      "text/html": [
       "<div>\n",
       "<style scoped>\n",
       "    .dataframe tbody tr th:only-of-type {\n",
       "        vertical-align: middle;\n",
       "    }\n",
       "\n",
       "    .dataframe tbody tr th {\n",
       "        vertical-align: top;\n",
       "    }\n",
       "\n",
       "    .dataframe thead th {\n",
       "        text-align: right;\n",
       "    }\n",
       "</style>\n",
       "<table border=\"1\" class=\"dataframe\">\n",
       "  <thead>\n",
       "    <tr style=\"text-align: right;\">\n",
       "      <th>Pclass</th>\n",
       "      <th>1</th>\n",
       "      <th>2</th>\n",
       "      <th>3</th>\n",
       "    </tr>\n",
       "    <tr>\n",
       "      <th>Title</th>\n",
       "      <th></th>\n",
       "      <th></th>\n",
       "      <th></th>\n",
       "    </tr>\n",
       "  </thead>\n",
       "  <tbody>\n",
       "    <tr>\n",
       "      <th>Capt</th>\n",
       "      <td>1</td>\n",
       "      <td>0</td>\n",
       "      <td>0</td>\n",
       "    </tr>\n",
       "    <tr>\n",
       "      <th>Col</th>\n",
       "      <td>2</td>\n",
       "      <td>0</td>\n",
       "      <td>0</td>\n",
       "    </tr>\n",
       "    <tr>\n",
       "      <th>Don</th>\n",
       "      <td>1</td>\n",
       "      <td>0</td>\n",
       "      <td>0</td>\n",
       "    </tr>\n",
       "    <tr>\n",
       "      <th>Dr</th>\n",
       "      <td>5</td>\n",
       "      <td>2</td>\n",
       "      <td>0</td>\n",
       "    </tr>\n",
       "    <tr>\n",
       "      <th>Jonkheer</th>\n",
       "      <td>1</td>\n",
       "      <td>0</td>\n",
       "      <td>0</td>\n",
       "    </tr>\n",
       "    <tr>\n",
       "      <th>Lady</th>\n",
       "      <td>1</td>\n",
       "      <td>0</td>\n",
       "      <td>0</td>\n",
       "    </tr>\n",
       "    <tr>\n",
       "      <th>Major</th>\n",
       "      <td>2</td>\n",
       "      <td>0</td>\n",
       "      <td>0</td>\n",
       "    </tr>\n",
       "    <tr>\n",
       "      <th>Master</th>\n",
       "      <td>3</td>\n",
       "      <td>9</td>\n",
       "      <td>28</td>\n",
       "    </tr>\n",
       "    <tr>\n",
       "      <th>Miss</th>\n",
       "      <td>46</td>\n",
       "      <td>34</td>\n",
       "      <td>102</td>\n",
       "    </tr>\n",
       "    <tr>\n",
       "      <th>Mlle</th>\n",
       "      <td>2</td>\n",
       "      <td>0</td>\n",
       "      <td>0</td>\n",
       "    </tr>\n",
       "    <tr>\n",
       "      <th>Mme</th>\n",
       "      <td>1</td>\n",
       "      <td>0</td>\n",
       "      <td>0</td>\n",
       "    </tr>\n",
       "    <tr>\n",
       "      <th>Mr</th>\n",
       "      <td>107</td>\n",
       "      <td>91</td>\n",
       "      <td>319</td>\n",
       "    </tr>\n",
       "    <tr>\n",
       "      <th>Mrs</th>\n",
       "      <td>42</td>\n",
       "      <td>41</td>\n",
       "      <td>42</td>\n",
       "    </tr>\n",
       "    <tr>\n",
       "      <th>Ms</th>\n",
       "      <td>0</td>\n",
       "      <td>1</td>\n",
       "      <td>0</td>\n",
       "    </tr>\n",
       "    <tr>\n",
       "      <th>Rev</th>\n",
       "      <td>0</td>\n",
       "      <td>6</td>\n",
       "      <td>0</td>\n",
       "    </tr>\n",
       "    <tr>\n",
       "      <th>Sir</th>\n",
       "      <td>1</td>\n",
       "      <td>0</td>\n",
       "      <td>0</td>\n",
       "    </tr>\n",
       "    <tr>\n",
       "      <th>the Countess</th>\n",
       "      <td>1</td>\n",
       "      <td>0</td>\n",
       "      <td>0</td>\n",
       "    </tr>\n",
       "  </tbody>\n",
       "</table>\n",
       "</div>"
      ],
      "text/plain": [
       "Pclass          1   2    3\n",
       "Title                     \n",
       "Capt            1   0    0\n",
       "Col             2   0    0\n",
       "Don             1   0    0\n",
       "Dr              5   2    0\n",
       "Jonkheer        1   0    0\n",
       "Lady            1   0    0\n",
       "Major           2   0    0\n",
       "Master          3   9   28\n",
       "Miss           46  34  102\n",
       "Mlle            2   0    0\n",
       "Mme             1   0    0\n",
       "Mr            107  91  319\n",
       "Mrs            42  41   42\n",
       "Ms              0   1    0\n",
       "Rev             0   6    0\n",
       "Sir             1   0    0\n",
       "the Countess    1   0    0"
      ]
     },
     "execution_count": 66,
     "metadata": {},
     "output_type": "execute_result"
    }
   ],
   "source": [
    "pd.crosstab(df_titanic['Title'], df_titanic['Pclass'])\n"
   ]
  },
  {
   "cell_type": "code",
   "execution_count": 67,
   "metadata": {
    "colab": {
     "base_uri": "https://localhost:8080/",
     "height": 614
    },
    "executionInfo": {
     "elapsed": 4,
     "status": "ok",
     "timestamp": 1686980515148,
     "user": {
      "displayName": "최재진",
      "userId": "14104918437285699837"
     },
     "user_tz": -540
    },
    "id": "8XhvTCq-ku34",
    "outputId": "b1aa58cf-aa20-417f-f9d1-9d33040fe39b"
   },
   "outputs": [
    {
     "data": {
      "text/html": [
       "<div>\n",
       "<style scoped>\n",
       "    .dataframe tbody tr th:only-of-type {\n",
       "        vertical-align: middle;\n",
       "    }\n",
       "\n",
       "    .dataframe tbody tr th {\n",
       "        vertical-align: top;\n",
       "    }\n",
       "\n",
       "    .dataframe thead th {\n",
       "        text-align: right;\n",
       "    }\n",
       "</style>\n",
       "<table border=\"1\" class=\"dataframe\">\n",
       "  <thead>\n",
       "    <tr style=\"text-align: right;\">\n",
       "      <th>Survived</th>\n",
       "      <th>0</th>\n",
       "      <th>1</th>\n",
       "    </tr>\n",
       "    <tr>\n",
       "      <th>Title</th>\n",
       "      <th></th>\n",
       "      <th></th>\n",
       "    </tr>\n",
       "  </thead>\n",
       "  <tbody>\n",
       "    <tr>\n",
       "      <th>Capt</th>\n",
       "      <td>1</td>\n",
       "      <td>0</td>\n",
       "    </tr>\n",
       "    <tr>\n",
       "      <th>Col</th>\n",
       "      <td>1</td>\n",
       "      <td>1</td>\n",
       "    </tr>\n",
       "    <tr>\n",
       "      <th>Don</th>\n",
       "      <td>1</td>\n",
       "      <td>0</td>\n",
       "    </tr>\n",
       "    <tr>\n",
       "      <th>Dr</th>\n",
       "      <td>4</td>\n",
       "      <td>3</td>\n",
       "    </tr>\n",
       "    <tr>\n",
       "      <th>Jonkheer</th>\n",
       "      <td>1</td>\n",
       "      <td>0</td>\n",
       "    </tr>\n",
       "    <tr>\n",
       "      <th>Lady</th>\n",
       "      <td>0</td>\n",
       "      <td>1</td>\n",
       "    </tr>\n",
       "    <tr>\n",
       "      <th>Major</th>\n",
       "      <td>1</td>\n",
       "      <td>1</td>\n",
       "    </tr>\n",
       "    <tr>\n",
       "      <th>Master</th>\n",
       "      <td>17</td>\n",
       "      <td>23</td>\n",
       "    </tr>\n",
       "    <tr>\n",
       "      <th>Miss</th>\n",
       "      <td>55</td>\n",
       "      <td>127</td>\n",
       "    </tr>\n",
       "    <tr>\n",
       "      <th>Mlle</th>\n",
       "      <td>0</td>\n",
       "      <td>2</td>\n",
       "    </tr>\n",
       "    <tr>\n",
       "      <th>Mme</th>\n",
       "      <td>0</td>\n",
       "      <td>1</td>\n",
       "    </tr>\n",
       "    <tr>\n",
       "      <th>Mr</th>\n",
       "      <td>436</td>\n",
       "      <td>81</td>\n",
       "    </tr>\n",
       "    <tr>\n",
       "      <th>Mrs</th>\n",
       "      <td>26</td>\n",
       "      <td>99</td>\n",
       "    </tr>\n",
       "    <tr>\n",
       "      <th>Ms</th>\n",
       "      <td>0</td>\n",
       "      <td>1</td>\n",
       "    </tr>\n",
       "    <tr>\n",
       "      <th>Rev</th>\n",
       "      <td>6</td>\n",
       "      <td>0</td>\n",
       "    </tr>\n",
       "    <tr>\n",
       "      <th>Sir</th>\n",
       "      <td>0</td>\n",
       "      <td>1</td>\n",
       "    </tr>\n",
       "    <tr>\n",
       "      <th>the Countess</th>\n",
       "      <td>0</td>\n",
       "      <td>1</td>\n",
       "    </tr>\n",
       "  </tbody>\n",
       "</table>\n",
       "</div>"
      ],
      "text/plain": [
       "Survived        0    1\n",
       "Title                 \n",
       "Capt            1    0\n",
       "Col             1    1\n",
       "Don             1    0\n",
       "Dr              4    3\n",
       "Jonkheer        1    0\n",
       "Lady            0    1\n",
       "Major           1    1\n",
       "Master         17   23\n",
       "Miss           55  127\n",
       "Mlle            0    2\n",
       "Mme             0    1\n",
       "Mr            436   81\n",
       "Mrs            26   99\n",
       "Ms              0    1\n",
       "Rev             6    0\n",
       "Sir             0    1\n",
       "the Countess    0    1"
      ]
     },
     "execution_count": 67,
     "metadata": {},
     "output_type": "execute_result"
    }
   ],
   "source": [
    "pd.crosstab(df_titanic['Title'], df_titanic['Survived'])"
   ]
  },
  {
   "cell_type": "code",
   "execution_count": 68,
   "metadata": {
    "colab": {
     "base_uri": "https://localhost:8080/"
    },
    "executionInfo": {
     "elapsed": 2,
     "status": "ok",
     "timestamp": 1686980515915,
     "user": {
      "displayName": "최재진",
      "userId": "14104918437285699837"
     },
     "user_tz": -540
    },
    "id": "XXs8Xc3rhr4f",
    "outputId": "0d473a47-c4f1-4113-8b08-5979d1fcd8f1"
   },
   "outputs": [
    {
     "data": {
      "text/plain": [
       "0                             [Braund,  Mr. Owen Harris]\n",
       "1      [Cumings,  Mrs. John Bradley (Florence Briggs ...\n",
       "2                              [Heikkinen,  Miss. Laina]\n",
       "3        [Futrelle,  Mrs. Jacques Heath (Lily May Peel)]\n",
       "4                            [Allen,  Mr. William Henry]\n",
       "                             ...                        \n",
       "886                             [Montvila,  Rev. Juozas]\n",
       "887                      [Graham,  Miss. Margaret Edith]\n",
       "888          [Johnston,  Miss. Catherine Helen \"Carrie\"]\n",
       "889                             [Behr,  Mr. Karl Howell]\n",
       "890                               [Dooley,  Mr. Patrick]\n",
       "Name: Name, Length: 891, dtype: object"
      ]
     },
     "execution_count": 68,
     "metadata": {},
     "output_type": "execute_result"
    }
   ],
   "source": [
    "df_titanic['Name'].str.split(',')"
   ]
  },
  {
   "cell_type": "markdown",
   "metadata": {
    "id": "YLIPcp-jK2Cc"
   },
   "source": [
    "이름에서 Mr, Miss 등 성별 혹은 직위를 나타내는 칭호가 있다. 이것은 생존율에 쓸만하지 않을까?\n",
    "\n",
    "  이녀석만 따로 빼내자."
   ]
  },
  {
   "cell_type": "code",
   "execution_count": 69,
   "metadata": {
    "colab": {
     "base_uri": "https://localhost:8080/"
    },
    "executionInfo": {
     "elapsed": 3,
     "status": "ok",
     "timestamp": 1686980519315,
     "user": {
      "displayName": "최재진",
      "userId": "14104918437285699837"
     },
     "user_tz": -540
    },
    "id": "ZR-kx8ecGkq3",
    "outputId": "9a0a1cf7-1f33-475e-a650-3d4c42984c08",
    "trusted": true
   },
   "outputs": [
    {
     "data": {
      "text/plain": [
       "[' Mr. Owen Harris',\n",
       " ' Mrs. John Bradley (Florence Briggs Thayer)',\n",
       " ' Miss. Laina',\n",
       " ' Mrs. Jacques Heath (Lily May Peel)',\n",
       " ' Mr. William Henry',\n",
       " ' Mr. James',\n",
       " ' Mr. Timothy J',\n",
       " ' Master. Gosta Leonard',\n",
       " ' Mrs. Oscar W (Elisabeth Vilhelmina Berg)',\n",
       " ' Mrs. Nicholas (Adele Achem)',\n",
       " ' Miss. Marguerite Rut',\n",
       " ' Miss. Elizabeth',\n",
       " ' Mr. William Henry',\n",
       " ' Mr. Anders Johan',\n",
       " ' Miss. Hulda Amanda Adolfina',\n",
       " ' Mrs. (Mary D Kingcome) ',\n",
       " ' Master. Eugene',\n",
       " ' Mr. Charles Eugene',\n",
       " ' Mrs. Julius (Emelia Maria Vandemoortele)',\n",
       " ' Mrs. Fatima',\n",
       " ' Mr. Joseph J',\n",
       " ' Mr. Lawrence',\n",
       " ' Miss. Anna \"Annie\"',\n",
       " ' Mr. William Thompson',\n",
       " ' Miss. Torborg Danira',\n",
       " ' Mrs. Carl Oscar (Selma Augusta Emilia Johansson)',\n",
       " ' Mr. Farred Chehab',\n",
       " ' Mr. Charles Alexander',\n",
       " ' Miss. Ellen \"Nellie\"',\n",
       " ' Mr. Lalio',\n",
       " ' Don. Manuel E',\n",
       " ' Mrs. William Augustus (Marie Eugenie)',\n",
       " ' Miss. Mary Agatha',\n",
       " ' Mr. Edward H',\n",
       " ' Mr. Edgar Joseph',\n",
       " ' Mr. Alexander Oskar',\n",
       " ' Mr. Hanna',\n",
       " ' Mr. Ernest Charles',\n",
       " ' Miss. Augusta Maria',\n",
       " ' Miss. Jamila',\n",
       " ' Mrs. Johan (Johanna Persdotter Larsson)',\n",
       " ' Mrs. William John Robert (Dorothy Ann Wonnacott)',\n",
       " ' Mr. Theodor',\n",
       " ' Miss. Simonne Marie Anne Andree',\n",
       " ' Miss. Margaret Delia',\n",
       " ' Mr. William John',\n",
       " ' Mr. Denis',\n",
       " ' Miss. Bridget',\n",
       " ' Mr. Youssef',\n",
       " ' Mrs. Josef (Josefine Franchi)',\n",
       " ' Master. Juha Niilo',\n",
       " ' Mr. Richard Cater',\n",
       " ' Mrs. Henry Sleeper (Myna Haxtun)',\n",
       " ' Mrs. Lizzie (Elizabeth Anne Wilkinson)',\n",
       " ' Mr. Engelhart Cornelius',\n",
       " ' Mr. Hugh',\n",
       " ' Miss. Emily',\n",
       " ' Mr. Mansouer',\n",
       " ' Miss. Constance Mirium',\n",
       " ' Master. William Frederick',\n",
       " ' Mr. Orsen',\n",
       " ' Miss. Amelie',\n",
       " ' Mr. Henry Birkhardt',\n",
       " ' Master. Harald',\n",
       " ' Mr. Albert A',\n",
       " ' Master. Gerios',\n",
       " ' Mrs. (Elizabeth Ramell)',\n",
       " ' Mr. Ernest James',\n",
       " ' Miss. Erna Alexandra',\n",
       " ' Mr. Vincenz',\n",
       " ' Mr. Stephen Curnow',\n",
       " ' Miss. Lillian Amy',\n",
       " ' Mr. Ambrose Jr',\n",
       " ' Mr. Apostolos',\n",
       " ' Mr. Lee',\n",
       " ' Mr. Sigurd Hansen',\n",
       " ' Mr. Ivan',\n",
       " ' Mr. Rahamin Haim',\n",
       " ' Master. Alden Gates',\n",
       " ' Miss. Elizabeth',\n",
       " ' Mr. Achille',\n",
       " ' Mr. Jan Baptist',\n",
       " ' Miss. Brigdet Delia',\n",
       " ' Mr. Francisco M',\n",
       " ' Miss. Bertha',\n",
       " ' Mrs. Karl Alfred (Maria Mathilda Gustafsson)',\n",
       " ' Mr. William Neal',\n",
       " ' Mr. Selman Francis',\n",
       " ' Miss. Mabel Helen',\n",
       " ' Mr. Francesco',\n",
       " ' Mr. Emil',\n",
       " ' Mr. Paul Edvin',\n",
       " ' Mr. Herbert Fuller',\n",
       " ' Mr. Bertram Frank',\n",
       " ' Mr. Daniel',\n",
       " ' Mr. Charles Joseph',\n",
       " ' Mr. George B',\n",
       " ' Mr. William Bertram',\n",
       " ' Mrs. John T (Ada Julia Bone)',\n",
       " ' Mr. Sinai',\n",
       " ' Miss. Matilda',\n",
       " ' Mr. Pastcho (\"Pentcho\")',\n",
       " ' Mr. Richard Frasar',\n",
       " ' Mr. Gustaf Joel',\n",
       " ' Mr. Anders Vilhelm',\n",
       " ' Mr. Stoytcho',\n",
       " ' Miss. Anna Kristine',\n",
       " ' Mr. Albert Johan',\n",
       " ' Mr. Tido',\n",
       " ' Miss. Bertha',\n",
       " ' Mr. Walter Chamberlain',\n",
       " ' Miss. Hileni',\n",
       " ' Mr. David John',\n",
       " ' Miss. Katriina',\n",
       " ' Miss. Malake',\n",
       " ' Mr. Edvard',\n",
       " ' Mr. Patrick',\n",
       " ' Mr. William John Robert',\n",
       " ' Mr. Quigg Edmond',\n",
       " ' Miss. Ellis Anna Maria',\n",
       " ' Mr. Stanley George',\n",
       " ' Mr. Leonard Charles',\n",
       " ' Mr. Nicholas',\n",
       " ' Miss. Susan',\n",
       " ' Mr. Percival Wayland',\n",
       " ' Master. Elias',\n",
       " ' Mr. Martin',\n",
       " ' Mr. Fridtjof Arne',\n",
       " ' Miss. Anna',\n",
       " ' Mr. Johan',\n",
       " ' Mr. Jozef',\n",
       " ' Mr. Domingos Fernandeo',\n",
       " ' Mrs. Alexander A (Grace Charity Laury)',\n",
       " ' Mrs. Leopold (Mathilde Francoise Pede)',\n",
       " ' Mr. Samuel James Hayden',\n",
       " ' Mr. Emile',\n",
       " ' Miss. Helen Monypeny',\n",
       " ' Mr. Jacques Heath',\n",
       " ' Mr. Olaf Elon',\n",
       " ' Mr. Victor',\n",
       " ' Mrs. Joseph (Sultana)',\n",
       " ' Miss. Anna Sofia',\n",
       " ' Mrs. Pekka Pietari (Elin Matilda Dolck)',\n",
       " ' Mr. Jeremiah',\n",
       " ' Mr. Edgardo Samuel',\n",
       " ' Mr. Joseph Charles',\n",
       " ' Mr. August Edvard (\"Wennerstrom\")',\n",
       " ' Miss. Robina Maggie \"Ruby\"',\n",
       " ' Mr. Michel (\"Louis M Hoffman\")',\n",
       " ' Rev. Thomas Roussel Davids',\n",
       " ' Rev. Robert James',\n",
       " ' Mrs. Thomas (Edith Wearne)',\n",
       " ' Mr. Alfonzo',\n",
       " ' Mr. Austin Blyler',\n",
       " ' Mr. Ole Martin',\n",
       " ' Mr. Charles Duane',\n",
       " ' Miss. Katherine \"Katie\"',\n",
       " ' Mr. Harry',\n",
       " ' Mr. Mile',\n",
       " ' Master. Thomas Henry',\n",
       " ' Mr. John Hatfield',\n",
       " ' Mrs. James (Elizabeth \"Bessie\" Inglis Milne)',\n",
       " ' Mr. John Viktor',\n",
       " ' Mr. Jovo',\n",
       " ' Master. Eino Viljami',\n",
       " ' Master. Frank John William \"Frankie\"',\n",
       " ' Mrs. (Edith Martha Bowerman)',\n",
       " ' Mrs. William (Anna Bernhardina Karlsson)',\n",
       " ' Mr. John D',\n",
       " ' Mr. Lee',\n",
       " ' Mr. Wyckoff',\n",
       " ' Master. Arthur',\n",
       " ' Miss. Eleanor Ileen',\n",
       " ' Mr. Antti Wilhelm',\n",
       " ' Mr. James Clinch',\n",
       " ' Mr. Klas Albin',\n",
       " ' Master. Henry Forbes',\n",
       " ' Miss. Ann Elizabeth',\n",
       " ' Mr. Reginald',\n",
       " ' Mr. Lionel',\n",
       " ' Miss. Constance Gladys',\n",
       " ' Mr. Rene',\n",
       " ' Master. Clarence Gustaf Hugo',\n",
       " ' Master. Richard F',\n",
       " ' Miss. Luise Gretchen',\n",
       " ' Mr. Hugh Roscoe',\n",
       " ' Mrs. Thomas (Johanna \"Hannah\" Godfrey)',\n",
       " ' Mr. Charles Hallace (\"Mr C Rolmane\")',\n",
       " ' Mr. John',\n",
       " ' Mr. Stjepan',\n",
       " ' Mrs. (Rosa)',\n",
       " ' Mr. William',\n",
       " ' Miss. Carla Christine Nielsine',\n",
       " ' Master. Michel M',\n",
       " ' Mrs. James Joseph (Margaret Tobin)',\n",
       " ' Miss. Elise',\n",
       " ' Mr. Robert',\n",
       " ' Mr. Karl Siegwart Andreas',\n",
       " ' Miss. Margaret \"Maggie\"',\n",
       " ' Miss. Henriette (\"Mrs Harbeck\")',\n",
       " ' Mr. Nestor Cyriel',\n",
       " ' Mr. Frederick',\n",
       " ' Mr. Jakob Alfred',\n",
       " ' Mr. Gerious',\n",
       " ' Mr. Gurshon \"Gus\"',\n",
       " ' Miss. Telma Matilda',\n",
       " ' Mr. Karl Alfred',\n",
       " ' Mr. Nassef Cassem',\n",
       " ' Miss. Helen \"Ellen\"',\n",
       " ' Mr. Henry',\n",
       " ' Mr. Ahmed',\n",
       " ' Miss. Clear Annie',\n",
       " ' Mr. John Henry',\n",
       " ' Mr. Hans Kristensen',\n",
       " ' Mr. Philip',\n",
       " ' Miss. Madeleine',\n",
       " ' Miss. Eliina',\n",
       " ' Mr. Sidney Samuel',\n",
       " ' Miss. Albina',\n",
       " ' Mr. Walter',\n",
       " ' Mr. Victor Francis',\n",
       " ' Mr. James H',\n",
       " ' Mr. George Henry',\n",
       " ' Mr. Christo',\n",
       " ' Mr. Frederick Maxfield',\n",
       " ' Mr. Karl Ivar Sven',\n",
       " ' Mr. William John',\n",
       " ' Mr. John Hall (\"Henry\")',\n",
       " ' Mr. Arne Jonas',\n",
       " ' Miss. Mathilde',\n",
       " ' Mrs. Henry Birkhardt (Irene Wallach)',\n",
       " ' Mr. Bengt Edvin',\n",
       " ' Mr. Ernst Adolf',\n",
       " ' Miss. Lillian Gertrud',\n",
       " ' Mr. Robert William Norman',\n",
       " ' Miss. Alice Phoebe',\n",
       " ' Mr. Stephen',\n",
       " ' Miss. Marjorie \"Lottie\"',\n",
       " ' Mr. Frederick William',\n",
       " ' Mr. George Henry',\n",
       " ' Miss. Thamine',\n",
       " ' Miss. Katherine \"Kate\"',\n",
       " ' Mr. Reginald Charles',\n",
       " ' Mr. Matti Alexanteri',\n",
       " ' Mr. Sleiman',\n",
       " ' Dr. William Edward',\n",
       " ' Miss. Agda Thorilda Viktoria',\n",
       " ' Mrs. William (Anna)',\n",
       " ' Mr. Richard Leonard',\n",
       " ' Rev. Ernest Courtenay',\n",
       " ' Mr. James George',\n",
       " ' Mrs. Wilhelm (Elna Matilda Persson)',\n",
       " ' Mr. William Thomas',\n",
       " ' Mr. William Arthur',\n",
       " ' Mrs. Viktor (Helena Wilhelmina)',\n",
       " ' Mrs. Darwis (Hanne Youssef Razi)',\n",
       " ' Mrs. Gertrude Maybelle',\n",
       " ' Miss. Gladys',\n",
       " ' Miss. Anna',\n",
       " ' Mrs. (Lutie Davis)',\n",
       " ' Mr. Thomas',\n",
       " ' Master. Edvin Rojj Felix',\n",
       " ' Mr. Emil',\n",
       " ' Mr. William',\n",
       " ' Miss. Delia',\n",
       " ' Mr. David',\n",
       " ' Mr. Ernesti Arvid',\n",
       " ' Mr. Ernst Ulrik',\n",
       " ' Mrs. William Thompson (Edith Junkins)',\n",
       " ' Miss. Amelia',\n",
       " ' Mr. Alexander',\n",
       " ' Mr. William Henry',\n",
       " ' Mrs. (Elizabeth Anne Maidment)',\n",
       " ' Mr. Charles H',\n",
       " ' Miss. Hanora \"Nora\"',\n",
       " ' Miss. Kornelia Theodosia',\n",
       " ' Miss. Augusta Charlotta',\n",
       " ' Mr. Francis \"Frank\"',\n",
       " ' Master. Eric',\n",
       " ' Mrs. Stanton (Rosa Hunt)',\n",
       " ' Mr. Frank',\n",
       " ' Mr. Nils Johan Goransson',\n",
       " ' Mr. Alfons',\n",
       " ' Mr. Edward Arthur',\n",
       " ' Mr. Richard William',\n",
       " ' Mr. Ivan',\n",
       " ' Mr. Theodore',\n",
       " ' Mr. Penko',\n",
       " ' Mr. Masabumi',\n",
       " ' Miss. Kate',\n",
       " ' Miss. Ellen \"Nellie\"',\n",
       " ' Mrs. Dickinson H (Helen Walton)',\n",
       " ' Mr. Rene Jacques',\n",
       " ' Miss. Aloisia',\n",
       " ' Mr. Ivan',\n",
       " ' Mr. Ervin G',\n",
       " ' Mr. Mansour',\n",
       " ' Miss. Helen Loraine',\n",
       " ' Mr. Adolphe',\n",
       " ' Mrs. James (Helene DeLaudeniere Chaput)',\n",
       " ' Miss. Anna Katherine \"Annie Kate\"',\n",
       " ' Mr. Bernard',\n",
       " ' Mr. William Cahoone Jr',\n",
       " ' Miss. Nora A',\n",
       " ' Mr. Howard Hugh \"Harry\"',\n",
       " ' Master. Hudson Trevor',\n",
       " ' Miss. Margaret',\n",
       " ' Mrs. Victor de Satode (Maria Josefa Perez de Soto y Vallejo)',\n",
       " ' Mr. Samuel',\n",
       " ' Miss. Laura Mabel',\n",
       " ' Miss. Margaret Bechstein',\n",
       " ' Miss. Emily Borie',\n",
       " ' Mrs. William (Anna Sylfven)',\n",
       " ' Mr. Ignjac',\n",
       " ' Mr. Benjamin',\n",
       " ' Miss. Helmina Josefina',\n",
       " ' Mrs. Sinai (Miriam Sternin)',\n",
       " ' Dr. Ernest',\n",
       " ' Miss. Mary Natalie',\n",
       " ' Mrs. Frederic Oakley (Margaretta Corning Stone)',\n",
       " ' Mr. Samuel',\n",
       " ' Mr. Yoto',\n",
       " ' Miss. Hilda Mary',\n",
       " ' Mrs. Albert Francis (Sylvia Mae Harbaugh)',\n",
       " ' Mr. George John Jr',\n",
       " ' Miss. Marie Grice',\n",
       " ' Mr. Johan Hansen',\n",
       " ' Mrs. (Ada E Hall)',\n",
       " ' Mrs. Frank John (Emily Alice Brown)',\n",
       " ' Miss. Jean Gertrude',\n",
       " ' Miss. Agnes',\n",
       " ' Mr. Austen',\n",
       " ' Mr. George Edward',\n",
       " ' Mr. Leo Edmondus',\n",
       " ' Mrs. Henry William (Clara Heinsheimer)',\n",
       " ' Mr. Mitto',\n",
       " ' Mr. Thomas Clinton',\n",
       " ' Miss. Elizabeth Margaret',\n",
       " ' Mr. Karl Edwart',\n",
       " ' Mr. Stephen Weart',\n",
       " ' Master. Edmond Roger',\n",
       " ' Miss. Alice Elizabeth',\n",
       " ' Mr. Erik Gustaf',\n",
       " ' Mr. Charles Frederick Waddington',\n",
       " ' Mr. Stanley Hubert',\n",
       " ' Miss. Amelia \"Mildred\"',\n",
       " ' Miss. Marion Elsie',\n",
       " ' Mrs. Thomas Henry (Mary E Finck)',\n",
       " ' Master. William Loch \"William\"',\n",
       " ' Mr. Jovan',\n",
       " ' Mr. Nils Martin',\n",
       " ' Mr. Fletcher Fellows',\n",
       " ' Mr. Tannous',\n",
       " ' Mr. Josef',\n",
       " ' Mr. Wazli',\n",
       " ' Mr. Leo Peter',\n",
       " ' Miss. Elsie Edith',\n",
       " ' Miss. Annie Clemmer',\n",
       " ' Miss. Mary',\n",
       " ' Miss. Helen Mary \"Ellie\"',\n",
       " ' Mr. Wilhelm',\n",
       " ' Mr. Sebastiano',\n",
       " ' Mrs. (Catherine David)',\n",
       " ' Mr. Adola',\n",
       " ' Mr. Thomas',\n",
       " ' Mr. Mauritz Nils Martin',\n",
       " ' Mrs. Frank Manley (Anna Sophia Atkinson)',\n",
       " ' Mrs. (Mantoura Boulos)',\n",
       " ' Miss. Annie',\n",
       " ' Mme. Leontine Pauline',\n",
       " ' Mr. George Achilles',\n",
       " ' Mr. Jakob Alfred',\n",
       " ' Mr. William Thomas',\n",
       " ' Mr. Sante',\n",
       " ' Miss. Stina Viola',\n",
       " ' Mrs. Edgar Joseph (Leila Saks)',\n",
       " ' Miss. Aurora Adelia',\n",
       " ' Mr. Harry Elkins',\n",
       " ' Mr. Tannous',\n",
       " ' Mr. Karl Gideon',\n",
       " ' Miss. Rosalie',\n",
       " ' Miss. Maria (\"Mary\")',\n",
       " ' Mr. Juho',\n",
       " ' Mrs. Alexander Oskar (Mary Aline Towner)',\n",
       " ' Mr. Vasil',\n",
       " ' Mr. Charles Henry',\n",
       " ' Master. Sidney Leonard',\n",
       " ' Miss. Kate',\n",
       " ' Mr. Matthew',\n",
       " ' Miss. Bertha',\n",
       " ' Mr. William Ernest',\n",
       " ' Mr. Carl Olof',\n",
       " ' Mr. Johan Birger',\n",
       " ' Miss. Marjorie',\n",
       " ' Mrs. Hjalmar (Agnes Charlotta Bengtsson)',\n",
       " ' Mr. Erik',\n",
       " ' Miss. Elina',\n",
       " ' Mr. Peter David',\n",
       " ' Dr. Alfred',\n",
       " ' Mrs. William H (Jessie L)',\n",
       " ' Mr. Juha',\n",
       " ' Mr. John',\n",
       " ' Miss. Mari Aina',\n",
       " ' Mr. Pekka Pietari',\n",
       " ' Miss. Marija',\n",
       " ' Mr. Shadrach',\n",
       " ' Mr. Carl/Charles Peter',\n",
       " ' Master. William Rowe',\n",
       " ' Mr. Hans Martin Monsen',\n",
       " ' Miss. Ida',\n",
       " ' Mr. Todor',\n",
       " ' Mr. Henry',\n",
       " ' Miss. Daisy E',\n",
       " ' Mr. Alfred Fleming',\n",
       " ' Mr. Johan Julian',\n",
       " ' Mrs. Thomas (Annie Louise Rowley)',\n",
       " ' Mrs. James Vivian (Lulu Thorne Christian)',\n",
       " ' Miss. Lyyli Karoliina',\n",
       " ' Mr. William John',\n",
       " ' Miss. Catharina',\n",
       " ' Mr. Stanio',\n",
       " ' Mr. David',\n",
       " ' Mr. Leo',\n",
       " ' Mrs. Ernst Gilbert (Anna Sigrid Maria Brogren)',\n",
       " ' Mr. Viktor Richard',\n",
       " ' Mr. Phillippe',\n",
       " ' Mrs. Charles V (Ada Maria Winfield)',\n",
       " ' Miss. Kate Florence (\"Mrs Kate Louise Phillips Marshall\")',\n",
       " ' Mr. James',\n",
       " ' Mr. Berk (Berk Trembisky)',\n",
       " ' Mr. Mauritz Hakan',\n",
       " ' Mrs. Percival (Florence Kate White)',\n",
       " ' Mrs. Charles Alexander (Alice Adelaide Slow)',\n",
       " ' Mr. Nikolai Erland',\n",
       " ' Mr. William Baird',\n",
       " ' Miss. Lucile Polk',\n",
       " ' Miss. Doolina Margaret \"Daisy\"',\n",
       " ' Mrs. Sidney (Emily Hocking)',\n",
       " ' Mr. Mark',\n",
       " ' Mr. Johan Henrik Johannesson',\n",
       " ' Mrs. Benjamin (Esther Ada Bloomfield)',\n",
       " ' Mr. Leon',\n",
       " ' Mr. Johan Emil',\n",
       " ' Ms. Encarnacion',\n",
       " ' Mr. Bernt',\n",
       " ' Master. Washington',\n",
       " ' Miss. Madeleine Violet',\n",
       " ' Mr. Frederic Kimber',\n",
       " ' Miss. Marie Catherine',\n",
       " ' Major. Arthur Godfrey',\n",
       " ' Mr. Edwy Arthur',\n",
       " ' Mr. Ingvald Olai Olsen',\n",
       " ' Mr. Benjamin Laventall',\n",
       " ' Mr. Samuel L',\n",
       " ' Mr. Joseph',\n",
       " ' Mr. Ivan',\n",
       " ' Mr. Francis Davis',\n",
       " ' Mrs. Frederick R (Marion)',\n",
       " ' Miss. Ellen',\n",
       " ' Mr. Maurice',\n",
       " ' Mr. Harry',\n",
       " ' Mr. William',\n",
       " ' Mr. Arthur H',\n",
       " ' Mr. Jacob Christian',\n",
       " ' Mr. Simon',\n",
       " ' Mr. Manuel Estanslas',\n",
       " ' Mr. William',\n",
       " ' Mr. John Montgomery',\n",
       " ' Mr. James',\n",
       " ' Miss. Helene Barbara',\n",
       " ' Mr. Arthur',\n",
       " ' Mr. Luka',\n",
       " ' Mrs. Edwy Arthur (Ada Mary Worth)',\n",
       " ' Mrs. Amin S (Marie Marthe Thuillard)',\n",
       " ' Miss. Ida Sofia',\n",
       " ' Mr. George Quincy',\n",
       " ' Mr. Peter Henry',\n",
       " ' Mr. Lewis Richard',\n",
       " ' Mr. Nils August',\n",
       " ' Miss. Hildur E',\n",
       " ' Master. Harold Victor',\n",
       " ' Mr. Anthony Wood \"Archie\"',\n",
       " ' Mr. Richard Henry',\n",
       " ' Mrs. (Hedwig)',\n",
       " ' Mr. Dickinson H',\n",
       " ' Miss. Jeannie',\n",
       " ' Mrs. Frederick Maxfield (Jane Anne Forby)',\n",
       " ' Mr. Edward Austin',\n",
       " ' Mr. Francis William',\n",
       " ' Master. Eden Leslie \"Neville\"',\n",
       " ' Mr. Konrad Mathias Reiersen',\n",
       " ' Mr. Einar',\n",
       " ' Mr. Harry Markland',\n",
       " ' Mr. Ramon',\n",
       " ' Mr. Edward Roland',\n",
       " ' Mr. Gerious',\n",
       " ' Miss. Elizabeth Mussey',\n",
       " ' Mr. Frederick William',\n",
       " ' Mrs. Hudson J C (Bessie Waldo Daniels)',\n",
       " ' Mr. Olof',\n",
       " ' Mr. Petar',\n",
       " ' Miss. Mary',\n",
       " ' Miss. Bridget Mary',\n",
       " ' Miss. Kristina Sofia',\n",
       " ' Miss. Roberta',\n",
       " ' Mr. Victor de Satode',\n",
       " ' Mrs. Frederick Charles (Jane Richards)',\n",
       " ' Mr. George (\"George Arthur Brayton\")',\n",
       " ' Mr. Henry Margido',\n",
       " ' Mr. Fang',\n",
       " ' Mr. Eugene Patrick',\n",
       " ' Mr. James',\n",
       " ' Mr. James Robert',\n",
       " ' Mrs. Martin (Elizabeth L. Barrett)',\n",
       " ' Mr. Satio',\n",
       " ' Mr. William Anderson',\n",
       " ' Mrs. (Amelia Milley)',\n",
       " ' Mr. Patrick',\n",
       " ' Mrs. William A (Florence \"Mary\" Agnes Hughes)',\n",
       " ' Mr. Stefo',\n",
       " ' Miss. Anne',\n",
       " ' Mr. Janko',\n",
       " ' Mr. Sarkis',\n",
       " ' Mrs. Louis Albert (Ida Sophia Fischer)',\n",
       " ' Mr. Fared',\n",
       " ' Mr. James',\n",
       " ' Miss. Lucy',\n",
       " ' Mr. John',\n",
       " ' Mr. Johan Werner',\n",
       " ' Mr. Richard George',\n",
       " ' Miss. Phyllis May',\n",
       " ' Mr. Nakli',\n",
       " ' Mr. Joseph Jr',\n",
       " ' Mrs. Catherine (Catherine Rizk)',\n",
       " ' Miss. Marija',\n",
       " ' Miss. Eva Miriam',\n",
       " ' Major. Archibald Willingham',\n",
       " ' Miss. Bertha',\n",
       " ' Mr. Samuel Beard',\n",
       " ' Miss. Hedwig Margaritha',\n",
       " ' Miss. Harriet R',\n",
       " ' Miss. Ingeborg Constanzia',\n",
       " ' Miss. Sigrid Elisabeth',\n",
       " ' Mr. Edward',\n",
       " ' Mr. Walter Donald',\n",
       " ' Mr. Arthur Ernest',\n",
       " ' Mrs. Edward (Ethel Clarke)',\n",
       " ' Mr. Julian',\n",
       " ' Mr. Frank John',\n",
       " ' Master. John Morgan Jr',\n",
       " ' Mr. John Borland Jr',\n",
       " ' Mr. Percival James R',\n",
       " ' Mr. Timothy',\n",
       " ' Mr. Fahim (\"Philip Zenni\")',\n",
       " ' Miss. Velin',\n",
       " ' Mr. George',\n",
       " ' Lady. (Lucille Christiana Sutherland) (\"Mrs Morgan\")',\n",
       " ' Mr. Victor',\n",
       " ' Mrs. Emil (Tillie Mandelbaum)',\n",
       " ' Mrs. Guillaume Joseph (Emma)',\n",
       " ' Mr. Thomas Rowan',\n",
       " ' Mr. Husein',\n",
       " ' Mr. Robert Douglas',\n",
       " ' Mr. John',\n",
       " ' Miss. (Marion Ogden)',\n",
       " ' Mr. Alfred J',\n",
       " ' Mr. Ilia',\n",
       " ' Mrs. Nils (Alma Cornelia Berglund)',\n",
       " ' Mr. Tannous',\n",
       " ' Mr. Carl',\n",
       " ' Mr. George',\n",
       " ' Mrs. Edward Dale (Charlotte Lamson)',\n",
       " ' Mr. John Irwin (\"Irving\")',\n",
       " ' Miss. Mary',\n",
       " ' Mr. Alfred George John',\n",
       " ' Mr. George',\n",
       " ' Miss. Ethel',\n",
       " ' Mrs. William Baird (Alice Munger)',\n",
       " ' Mrs. Joseph (Maria Elias)',\n",
       " ' Mr. Eiriik',\n",
       " ' Miss. Julie Rachel',\n",
       " ' Mrs. John Borland (Marian Longstreth Morris)',\n",
       " ' Mr. William James',\n",
       " ' Mr. John Hugo',\n",
       " ' Mr. Uscher',\n",
       " ' Miss. Ruth',\n",
       " ' Mr. John Denzil',\n",
       " ' Mr. Maxmillian',\n",
       " ' Mr. Eliezer',\n",
       " ' Mr. Joseph',\n",
       " ' Mr. Matti',\n",
       " ' Mrs. Walter Bertram (Martha Eustis)',\n",
       " ' Mr. William James',\n",
       " ' Miss. Mary',\n",
       " ' Mr. John Henry',\n",
       " ' Mr. Jean Baptiste',\n",
       " ' Miss. Jessie Wills',\n",
       " ' Mr. Alfred',\n",
       " ' Mr. Hanna',\n",
       " ' Sir. Cosmo Edmund (\"Mr Morgan\")',\n",
       " ' Mrs. Sidney Samuel (Amy Frances Christy)',\n",
       " ' Mr. Petco',\n",
       " ' Mr. Charles H',\n",
       " ' Mr. Ernst William',\n",
       " ' Mr. Harry (\"Mr E Haven\")',\n",
       " ' Mr. Edvard Bengtsson',\n",
       " ' Mr. Milan',\n",
       " ' Mr. Robert Williams',\n",
       " ' Mrs. Joseph (Juliette Marie Louise Lafargue)',\n",
       " ' Miss. Elizabeth W',\n",
       " ' Mrs. Anders Johan (Alfrida Konstantia Brogren)',\n",
       " ' Mr. Jose Neto',\n",
       " ' Miss. Margaret Jane',\n",
       " ' Mr. John',\n",
       " ' Mr. William Alfred',\n",
       " ' Miss. Alice',\n",
       " ' Mr. Ernst Gilbert',\n",
       " ' Mrs. William Arthur (Cordelia K Stanlick)',\n",
       " ' Miss. Marion Louise',\n",
       " ' Mr. Lawrence',\n",
       " ' Mr. Antoni',\n",
       " ' Mr. Edwin Nelson Jr',\n",
       " ' Mr. Sahid',\n",
       " ' Mr. Henry Damsgaard',\n",
       " ' Mr. David John \"Dai\"',\n",
       " ' Mr. Frederick',\n",
       " ' Rev. Charles Leonard',\n",
       " ' Miss. Gretchen Fiske',\n",
       " ' Mr. Guentcho',\n",
       " ' Mr. Patrick D',\n",
       " ' Mr. Algernon Henry Wilson',\n",
       " ' Mr. Johan Svensson',\n",
       " ' Dr. Max',\n",
       " ' Mr. William Henry Marsh',\n",
       " ' Miss. Mabel',\n",
       " ' Miss. Mary',\n",
       " ' Mr. Antti Gustaf',\n",
       " ' Mr. Harvey',\n",
       " ' Mrs. Juha (Maria Emilia Ojala)',\n",
       " ' Mr. Percival',\n",
       " ' Mr. Hans Peder',\n",
       " ' Mlle. Emma',\n",
       " ' Miss. Margit Elizabeth',\n",
       " ' Mr. Choong',\n",
       " ' Miss. Eugenie',\n",
       " ' Mr. Henry Sleeper',\n",
       " ' Mr. Liudevit',\n",
       " ' Col. Oberst Alfons',\n",
       " ' Mr. Edward',\n",
       " ' Miss. Amy Zillah Elsie',\n",
       " ' Mr. Mito',\n",
       " ' Miss. Elsie',\n",
       " ' Mr. Johannes Halvorsen',\n",
       " ' Miss. Hanora \"Norah\"',\n",
       " ' Miss. Hanora \"Nora\"',\n",
       " ' Mr. Leonard Mark',\n",
       " ' Mr. Alexander',\n",
       " ' Mrs. John (Catherine)',\n",
       " ' Mr. George Floyd',\n",
       " ' Mr. Arthur Webster',\n",
       " ' Dr. Henry William',\n",
       " ' Mr. Mohamed',\n",
       " ' Mr. Edward Pomeroy',\n",
       " ' Mr. Peju',\n",
       " ' Mr. Eino William',\n",
       " ' Mr. Lewis',\n",
       " ' Mr. Reginald Fenton',\n",
       " ' Mr. Knud Paust',\n",
       " ' Mr. Jacob',\n",
       " ' Mrs. Elmer Zebley (Juliet Cummins Wright)',\n",
       " ' Mrs. Thomas William Solomon (Elizabeth Catherine Ford)',\n",
       " ' Mr. Thornton',\n",
       " ' Mr. Henry Michael',\n",
       " ' Mr. Charles',\n",
       " ' Mr. Ennis Hastings',\n",
       " ' Mr. Gustaf Hjalmar',\n",
       " ' Mr. Frederick Charles',\n",
       " ' Miss. Anna Sofia',\n",
       " ' Mrs. Frederick (Augusta Tyler)',\n",
       " ' Mr. Thomas Drake Martinez',\n",
       " ' Miss. Katie',\n",
       " ' Mr. Hammad',\n",
       " ' Mr. Thor Anderson',\n",
       " ' Mr. Charles Edward',\n",
       " ' Mr. Thomas William Solomon',\n",
       " ' Mr. Joseph Philippe Lemercier',\n",
       " ' Mr. Jaako Arnold',\n",
       " ' Mr. Branko',\n",
       " ' Mr. Eberhard Thelander',\n",
       " ' Miss. Georgette Alexandra',\n",
       " ' Mr. Albert Adrian',\n",
       " ' Miss. Manca',\n",
       " ' Mr. Ali',\n",
       " ' Mr. Khalil',\n",
       " ' Col. John',\n",
       " ' Mr. Charles Henry',\n",
       " ' Mr. James',\n",
       " ' Miss. Katherine \"Katie\"',\n",
       " ' Mr. John Borland',\n",
       " ' Mr. Adolf Mathias Nicolai Olsen',\n",
       " ' Mrs. John Jacob (Madeleine Talmadge Force)',\n",
       " ' Mr. Spencer Victor',\n",
       " ' Miss. Saiide',\n",
       " ' Mr. Martin',\n",
       " ' Mr. Henrik Juul',\n",
       " ' Mr. Henry Samuel (\"Mr Henry Marshall\")',\n",
       " ' Mrs. Florence \"Fannie\"',\n",
       " ' Mr. Edward Pennington',\n",
       " ' Miss. Alice',\n",
       " ' Master. Halim Gonios (\"William George\")',\n",
       " ' Mlle. Berthe Antonine (\"Mrs de Villiers\")',\n",
       " ' Mr. Herman',\n",
       " ' Mr. Elmer Zebley',\n",
       " ' Mr. August Viktor',\n",
       " ' Mr. Samuel',\n",
       " ' Mr. Peter Andreas Lauritz Andersen',\n",
       " ' Miss. Caroline Louise',\n",
       " ' Miss. Edwina Celia \"Winnie\"',\n",
       " ' Mr. Michael',\n",
       " ' Mr. Malkolm Joackim',\n",
       " ' Miss. Annie Jessie \"Nina\"',\n",
       " ' Mr. Svend Lauritz',\n",
       " ' Mr. William Henry',\n",
       " ' Mr. Henry Price',\n",
       " ' Mr. Norman Campbell',\n",
       " ' Mr. Luka',\n",
       " ' Mrs. Peter Henry (Lillian Jefferys)',\n",
       " ' Miss. Margareth',\n",
       " ' Mr. Kurt Arnold Gottfrid',\n",
       " ' Miss. Pieta Sofia',\n",
       " ' Miss. Elisabeth Walton',\n",
       " ' Mr. Houssein G N',\n",
       " ' Mr. Robert J',\n",
       " ' Mr. William John',\n",
       " ' Mr. Moses Aaron',\n",
       " ' Mr. Leslie',\n",
       " ' Mrs. Edward (Margaret Ann Watson)',\n",
       " ' Mr. Gustave J',\n",
       " ' Mr. Kanio',\n",
       " ' Mr. Minko',\n",
       " ' Mr. Walter James',\n",
       " ' Mr. Tyrell William',\n",
       " ' Miss. Susan Parker \"Suzette\"',\n",
       " ' Mr. Neal',\n",
       " ' Mr. Juho',\n",
       " ' Capt. Edward Gifford',\n",
       " ' Mr. Rossmore Edward',\n",
       " ' Miss. Anna',\n",
       " ' Mr. Daniel Warner',\n",
       " ' Mr. Michael',\n",
       " ' Miss. Joan',\n",
       " ' Master. Meier',\n",
       " ' Mr. Johannes Joseph',\n",
       " ' Mr. Lalio',\n",
       " ' Mrs. Samuel (Jane Laver)',\n",
       " ' Master. Viljo',\n",
       " ' Mr. August Sigfrid',\n",
       " ' Mr. Percy Andrew',\n",
       " ' Mr. Thomas Leonard',\n",
       " ' the Countess. of (Lucy Noel Martha Dyer-Edwards)',\n",
       " ' Mr. John',\n",
       " ' Mr. Iisakki Antino Aijo',\n",
       " ' Mr. Hanna Assi',\n",
       " ' Mrs. William Ernest (Lucile Polk)',\n",
       " ' Mr. Hans Linus',\n",
       " ' Mrs. John C (Anna Andrews)',\n",
       " ' Dr. Arthur Jackson',\n",
       " ' Miss. Mary',\n",
       " ' Mr. Daniel J',\n",
       " ' Mr. Daniel Danielsen',\n",
       " ' Mr. Rene Aime',\n",
       " ' Mr. Niels Peder',\n",
       " ' Mrs. (Mary)',\n",
       " ' Mr. Dibo',\n",
       " ' Mrs. Elizabeth (Eliza Needs)',\n",
       " ' Mr. Pehr Fabian Oliver Malkolm',\n",
       " ' Mr. Roger',\n",
       " ' Miss. Virginia Ethel',\n",
       " ' Mr. Thomas J',\n",
       " ' Mrs. Edward Scott (Elisabeth Walton McMillan)',\n",
       " ' Miss. Banoura',\n",
       " ' Mrs. Albert Adrian (Vera Gillespie)',\n",
       " ' Mr. Milton Clyde',\n",
       " ' Mr. Andrew G',\n",
       " ' Mr. William',\n",
       " ' Mr. Abraham (David Lishin)',\n",
       " ' Miss. Anna Sofia',\n",
       " ' Master. George Hugh',\n",
       " ' Master. Bertram Vere',\n",
       " ' Mr. Benjamin',\n",
       " ' Mr. Andrew \"Andy\"',\n",
       " ' Mr. Alfred',\n",
       " ' Miss. Stella Anna',\n",
       " ' Mr. William Fisher',\n",
       " ' Mr. Ristiu',\n",
       " ' Mr. Richard',\n",
       " ' Dr. Alice (Farnham)',\n",
       " ' Mrs. Mara',\n",
       " ' Mr. Yousseff',\n",
       " ' Mrs. Jean Baptiste (Rosalie Paula Govaert)',\n",
       " ' Mr. Martin',\n",
       " ' Mrs. Harvey (Charlotte Annie Tate)',\n",
       " ' Master. William Thornton II',\n",
       " ' Master. Assad Alexander',\n",
       " ' Mr. Oskar Arvid',\n",
       " ' Mr. Karl Johan',\n",
       " ' Mr. Thomas Jr',\n",
       " ' Miss. Ellen Natalia',\n",
       " ' Mr. August',\n",
       " ' Mrs. Norman Campbell (Bertha Griggs)',\n",
       " ' Mr. William',\n",
       " ' Mr. James',\n",
       " ' Mr. Richard James',\n",
       " ' Miss. Ebba Iris Alfrida',\n",
       " ' Mr. Ernest Portage',\n",
       " ' Mr. Richard',\n",
       " ' Miss. Wendla Maria',\n",
       " ' Mr. Albert',\n",
       " ' Mr. John Fredrik Alexander',\n",
       " ' Master. Karl Thorsten',\n",
       " ' Mrs. Charles Melville (Clara Jennings Gregg)',\n",
       " ' Mr. Nikola',\n",
       " ' Jonkheer. John George',\n",
       " ' Mrs. (Beila)',\n",
       " ' Master. Urho Abraham',\n",
       " ' Mr. John',\n",
       " ' Mr. Len',\n",
       " ' Master. Andre',\n",
       " ' Mr. Thomas Joseph',\n",
       " ' Mrs. George Nelson (Martha Evelyn)',\n",
       " ' Mrs. Antoni (Selini Alexander)',\n",
       " ' Master. George Sibley',\n",
       " ' Mr. Amin',\n",
       " ' Mr. Albert',\n",
       " ' Mr. Owen George',\n",
       " ' Miss. Sara Rebecca',\n",
       " ' Mr. Jakob',\n",
       " ' Mr. Maurice',\n",
       " ' Mr. Chang',\n",
       " ' Mr. Pierre',\n",
       " ' Mr. Ilmari Rudolf',\n",
       " ' Mr. Thomas Charles',\n",
       " ' Miss. Augusta',\n",
       " ' Mr. Peter L',\n",
       " ' Mr. Jeso',\n",
       " ' Mr. Anthony',\n",
       " ' Mr. Douglas Bullen',\n",
       " ' Mr. Marin',\n",
       " ' Rev. John',\n",
       " ' Mrs. Samuel L (Edwiga Grabowska)',\n",
       " ' Master. Sigvard Harald Elias',\n",
       " ' Mr. Johan',\n",
       " ' Miss. Nourelain',\n",
       " ' Miss. Mary Conover',\n",
       " ' Mrs. Ernest Courtenay (Lilian Hughes)',\n",
       " ' Mrs. Sam (Leah Rosen)',\n",
       " ' Mrs. George Dennick (Mary Hitchcock)',\n",
       " ' Mr. Peter Denis ',\n",
       " ' Mrs. Solomon (Latifa Qurban)',\n",
       " ' Mr. Raihed',\n",
       " ' Mr. Claus Peter',\n",
       " ' Mr. Frederick Edward',\n",
       " ' Mrs. Frederick Joel (Margaret Welles Barron)',\n",
       " ' Miss. Dorothy Edith \"Dolly\"',\n",
       " ' Mr. John William',\n",
       " ' Mrs. (Karolina)',\n",
       " ' Miss. Asuncion',\n",
       " ' Mr. Washington Augustus II',\n",
       " ' Mr. Philemon',\n",
       " ' Master. Harold Theodor',\n",
       " ' Mr. Cerin',\n",
       " ' Mrs. Richard Leonard (Sallie Monypeny)',\n",
       " ' Mr. Frans Olof',\n",
       " ' Mr. Victor',\n",
       " ' Mrs. Samuel (Hannah Wizosky)',\n",
       " ' Miss. Adele Kiamie \"Jane\"',\n",
       " ' Mr. Alfred Ossian',\n",
       " ' Mr. Nedelio',\n",
       " ' Mr. Kristo',\n",
       " ' Mrs. Thomas Jr (Lily Alexenia Wilson)',\n",
       " ' Mrs. William (Imanita Parrish Hall)',\n",
       " ' Mr. Johann',\n",
       " ' Miss. Gerda Ulrika',\n",
       " ' Mr. Frederick James',\n",
       " ' Mr. Henry Jr',\n",
       " ' Mrs. William (Margaret Norton)',\n",
       " ' Rev. Juozas',\n",
       " ' Miss. Margaret Edith',\n",
       " ' Miss. Catherine Helen \"Carrie\"',\n",
       " ' Mr. Karl Howell',\n",
       " ' Mr. Patrick']"
      ]
     },
     "execution_count": 69,
     "metadata": {},
     "output_type": "execute_result"
    }
   ],
   "source": [
    "[i.split(\",\")[1] for i in df_titanic[\"Name\"]]"
   ]
  },
  {
   "cell_type": "code",
   "execution_count": 70,
   "metadata": {
    "colab": {
     "base_uri": "https://localhost:8080/"
    },
    "executionInfo": {
     "elapsed": 3,
     "status": "ok",
     "timestamp": 1686980522023,
     "user": {
      "displayName": "최재진",
      "userId": "14104918437285699837"
     },
     "user_tz": -540
    },
    "id": "2giloqY4Gkq6",
    "outputId": "7a606eb2-b747-4827-d8c5-c25ad3b356f3",
    "trusted": true
   },
   "outputs": [
    {
     "data": {
      "text/plain": [
       "0      Mr\n",
       "1     Mrs\n",
       "2    Miss\n",
       "3     Mrs\n",
       "4      Mr\n",
       "Name: Title, dtype: object"
      ]
     },
     "execution_count": 70,
     "metadata": {},
     "output_type": "execute_result"
    }
   ],
   "source": [
    "title = [i.split(\",\")[1].split(\".\")[0].strip() for i in df_titanic[\"Name\"]]\n",
    "df_titanic[\"Title\"] = pd.Series(title)\n",
    "df_titanic[\"Title\"].head()"
   ]
  },
  {
   "cell_type": "markdown",
   "metadata": {
    "id": "25vBSowvLLx8"
   },
   "source": [
    "Title에 따른 생존율을 비교해보세요."
   ]
  },
  {
   "cell_type": "code",
   "execution_count": 71,
   "metadata": {
    "colab": {
     "base_uri": "https://localhost:8080/",
     "height": 614
    },
    "executionInfo": {
     "elapsed": 302,
     "status": "ok",
     "timestamp": 1686980526086,
     "user": {
      "displayName": "최재진",
      "userId": "14104918437285699837"
     },
     "user_tz": -540
    },
    "id": "7vMKzi42Gkq-",
    "outputId": "1b940dfa-b5e0-40f3-a8e3-da5a80443ba1",
    "trusted": true
   },
   "outputs": [
    {
     "data": {
      "text/html": [
       "<div>\n",
       "<style scoped>\n",
       "    .dataframe tbody tr th:only-of-type {\n",
       "        vertical-align: middle;\n",
       "    }\n",
       "\n",
       "    .dataframe tbody tr th {\n",
       "        vertical-align: top;\n",
       "    }\n",
       "\n",
       "    .dataframe thead th {\n",
       "        text-align: right;\n",
       "    }\n",
       "</style>\n",
       "<table border=\"1\" class=\"dataframe\">\n",
       "  <thead>\n",
       "    <tr style=\"text-align: right;\">\n",
       "      <th></th>\n",
       "      <th>Survived</th>\n",
       "    </tr>\n",
       "    <tr>\n",
       "      <th>Title</th>\n",
       "      <th></th>\n",
       "    </tr>\n",
       "  </thead>\n",
       "  <tbody>\n",
       "    <tr>\n",
       "      <th>Capt</th>\n",
       "      <td>0.000000</td>\n",
       "    </tr>\n",
       "    <tr>\n",
       "      <th>Col</th>\n",
       "      <td>0.500000</td>\n",
       "    </tr>\n",
       "    <tr>\n",
       "      <th>Don</th>\n",
       "      <td>0.000000</td>\n",
       "    </tr>\n",
       "    <tr>\n",
       "      <th>Dr</th>\n",
       "      <td>0.428571</td>\n",
       "    </tr>\n",
       "    <tr>\n",
       "      <th>Jonkheer</th>\n",
       "      <td>0.000000</td>\n",
       "    </tr>\n",
       "    <tr>\n",
       "      <th>Lady</th>\n",
       "      <td>1.000000</td>\n",
       "    </tr>\n",
       "    <tr>\n",
       "      <th>Major</th>\n",
       "      <td>0.500000</td>\n",
       "    </tr>\n",
       "    <tr>\n",
       "      <th>Master</th>\n",
       "      <td>0.575000</td>\n",
       "    </tr>\n",
       "    <tr>\n",
       "      <th>Miss</th>\n",
       "      <td>0.697802</td>\n",
       "    </tr>\n",
       "    <tr>\n",
       "      <th>Mlle</th>\n",
       "      <td>1.000000</td>\n",
       "    </tr>\n",
       "    <tr>\n",
       "      <th>Mme</th>\n",
       "      <td>1.000000</td>\n",
       "    </tr>\n",
       "    <tr>\n",
       "      <th>Mr</th>\n",
       "      <td>0.156673</td>\n",
       "    </tr>\n",
       "    <tr>\n",
       "      <th>Mrs</th>\n",
       "      <td>0.792000</td>\n",
       "    </tr>\n",
       "    <tr>\n",
       "      <th>Ms</th>\n",
       "      <td>1.000000</td>\n",
       "    </tr>\n",
       "    <tr>\n",
       "      <th>Rev</th>\n",
       "      <td>0.000000</td>\n",
       "    </tr>\n",
       "    <tr>\n",
       "      <th>Sir</th>\n",
       "      <td>1.000000</td>\n",
       "    </tr>\n",
       "    <tr>\n",
       "      <th>the Countess</th>\n",
       "      <td>1.000000</td>\n",
       "    </tr>\n",
       "  </tbody>\n",
       "</table>\n",
       "</div>"
      ],
      "text/plain": [
       "              Survived\n",
       "Title                 \n",
       "Capt          0.000000\n",
       "Col           0.500000\n",
       "Don           0.000000\n",
       "Dr            0.428571\n",
       "Jonkheer      0.000000\n",
       "Lady          1.000000\n",
       "Major         0.500000\n",
       "Master        0.575000\n",
       "Miss          0.697802\n",
       "Mlle          1.000000\n",
       "Mme           1.000000\n",
       "Mr            0.156673\n",
       "Mrs           0.792000\n",
       "Ms            1.000000\n",
       "Rev           0.000000\n",
       "Sir           1.000000\n",
       "the Countess  1.000000"
      ]
     },
     "execution_count": 71,
     "metadata": {},
     "output_type": "execute_result"
    }
   ],
   "source": [
    "df_titanic[['Survived', 'Title']].groupby(['Title']).mean()"
   ]
  },
  {
   "cell_type": "markdown",
   "metadata": {
    "id": "cEZAKwRNLaF1"
   },
   "source": [
    "너무 빈도가 적은 Title은 묶어도 되지 않을까?"
   ]
  },
  {
   "cell_type": "markdown",
   "metadata": {
    "id": "rb18D8FGGkrA"
   },
   "source": [
    "Mr -> 1\n",
    "Miss -> 2\n",
    "Mrs -> 3\n",
    "Master, Dr -> 4\n",
    "Rev -> 5\n",
    "others -> 0"
   ]
  },
  {
   "cell_type": "code",
   "execution_count": 72,
   "metadata": {
    "colab": {
     "base_uri": "https://localhost:8080/"
    },
    "executionInfo": {
     "elapsed": 293,
     "status": "ok",
     "timestamp": 1686980533485,
     "user": {
      "displayName": "최재진",
      "userId": "14104918437285699837"
     },
     "user_tz": -540
    },
    "id": "BbxCmzfzGkrB",
    "outputId": "afe4f2db-230a-419b-f777-b5289a87319a",
    "trusted": true
   },
   "outputs": [
    {
     "data": {
      "text/plain": [
       "{' Capt',\n",
       " ' Col',\n",
       " ' Don',\n",
       " ' Dr',\n",
       " ' Jonkheer',\n",
       " ' Lady',\n",
       " ' Major',\n",
       " ' Master',\n",
       " ' Miss',\n",
       " ' Mlle',\n",
       " ' Mme',\n",
       " ' Mr',\n",
       " ' Mrs',\n",
       " ' Ms',\n",
       " ' Rev',\n",
       " ' Sir',\n",
       " ' the Countess'}"
      ]
     },
     "execution_count": 72,
     "metadata": {},
     "output_type": "execute_result"
    }
   ],
   "source": [
    "set([i.split(\",\")[1].split(\".\")[0] for i in df_titanic[\"Name\"]])"
   ]
  },
  {
   "cell_type": "code",
   "execution_count": 73,
   "metadata": {
    "colab": {
     "base_uri": "https://localhost:8080/"
    },
    "executionInfo": {
     "elapsed": 3,
     "status": "ok",
     "timestamp": 1686980534378,
     "user": {
      "displayName": "최재진",
      "userId": "14104918437285699837"
     },
     "user_tz": -540
    },
    "id": "i1Q2q8biGkrE",
    "outputId": "0782d5bf-fdc3-4405-b84f-9f819e3892f8",
    "trusted": true
   },
   "outputs": [
    {
     "data": {
      "text/plain": [
       "[' Mr',\n",
       " ' Mrs',\n",
       " ' Miss',\n",
       " ' Mrs',\n",
       " ' Mr',\n",
       " ' Mr',\n",
       " ' Mr',\n",
       " ' Master',\n",
       " ' Mrs',\n",
       " ' Mrs',\n",
       " ' Miss',\n",
       " ' Miss',\n",
       " ' Mr',\n",
       " ' Mr',\n",
       " ' Miss',\n",
       " ' Mrs',\n",
       " ' Master',\n",
       " ' Mr',\n",
       " ' Mrs',\n",
       " ' Mrs',\n",
       " ' Mr',\n",
       " ' Mr',\n",
       " ' Miss',\n",
       " ' Mr',\n",
       " ' Miss',\n",
       " ' Mrs',\n",
       " ' Mr',\n",
       " ' Mr',\n",
       " ' Miss',\n",
       " ' Mr',\n",
       " ' Don',\n",
       " ' Mrs',\n",
       " ' Miss',\n",
       " ' Mr',\n",
       " ' Mr',\n",
       " ' Mr',\n",
       " ' Mr',\n",
       " ' Mr',\n",
       " ' Miss',\n",
       " ' Miss',\n",
       " ' Mrs',\n",
       " ' Mrs',\n",
       " ' Mr',\n",
       " ' Miss',\n",
       " ' Miss',\n",
       " ' Mr',\n",
       " ' Mr',\n",
       " ' Miss',\n",
       " ' Mr',\n",
       " ' Mrs',\n",
       " ' Master',\n",
       " ' Mr',\n",
       " ' Mrs',\n",
       " ' Mrs',\n",
       " ' Mr',\n",
       " ' Mr',\n",
       " ' Miss',\n",
       " ' Mr',\n",
       " ' Miss',\n",
       " ' Master',\n",
       " ' Mr',\n",
       " ' Miss',\n",
       " ' Mr',\n",
       " ' Master',\n",
       " ' Mr',\n",
       " ' Master',\n",
       " ' Mrs',\n",
       " ' Mr',\n",
       " ' Miss',\n",
       " ' Mr',\n",
       " ' Mr',\n",
       " ' Miss',\n",
       " ' Mr',\n",
       " ' Mr',\n",
       " ' Mr',\n",
       " ' Mr',\n",
       " ' Mr',\n",
       " ' Mr',\n",
       " ' Master',\n",
       " ' Miss',\n",
       " ' Mr',\n",
       " ' Mr',\n",
       " ' Miss',\n",
       " ' Mr',\n",
       " ' Miss',\n",
       " ' Mrs',\n",
       " ' Mr',\n",
       " ' Mr',\n",
       " ' Miss',\n",
       " ' Mr',\n",
       " ' Mr',\n",
       " ' Mr',\n",
       " ' Mr',\n",
       " ' Mr',\n",
       " ' Mr',\n",
       " ' Mr',\n",
       " ' Mr',\n",
       " ' Mr',\n",
       " ' Mrs',\n",
       " ' Mr',\n",
       " ' Miss',\n",
       " ' Mr',\n",
       " ' Mr',\n",
       " ' Mr',\n",
       " ' Mr',\n",
       " ' Mr',\n",
       " ' Miss',\n",
       " ' Mr',\n",
       " ' Mr',\n",
       " ' Miss',\n",
       " ' Mr',\n",
       " ' Miss',\n",
       " ' Mr',\n",
       " ' Miss',\n",
       " ' Miss',\n",
       " ' Mr',\n",
       " ' Mr',\n",
       " ' Mr',\n",
       " ' Mr',\n",
       " ' Miss',\n",
       " ' Mr',\n",
       " ' Mr',\n",
       " ' Mr',\n",
       " ' Miss',\n",
       " ' Mr',\n",
       " ' Master',\n",
       " ' Mr',\n",
       " ' Mr',\n",
       " ' Miss',\n",
       " ' Mr',\n",
       " ' Mr',\n",
       " ' Mr',\n",
       " ' Mrs',\n",
       " ' Mrs',\n",
       " ' Mr',\n",
       " ' Mr',\n",
       " ' Miss',\n",
       " ' Mr',\n",
       " ' Mr',\n",
       " ' Mr',\n",
       " ' Mrs',\n",
       " ' Miss',\n",
       " ' Mrs',\n",
       " ' Mr',\n",
       " ' Mr',\n",
       " ' Mr',\n",
       " ' Mr',\n",
       " ' Miss',\n",
       " ' Mr',\n",
       " ' Rev',\n",
       " ' Rev',\n",
       " ' Mrs',\n",
       " ' Mr',\n",
       " ' Mr',\n",
       " ' Mr',\n",
       " ' Mr',\n",
       " ' Miss',\n",
       " ' Mr',\n",
       " ' Mr',\n",
       " ' Master',\n",
       " ' Mr',\n",
       " ' Mrs',\n",
       " ' Mr',\n",
       " ' Mr',\n",
       " ' Master',\n",
       " ' Master',\n",
       " ' Mrs',\n",
       " ' Mrs',\n",
       " ' Mr',\n",
       " ' Mr',\n",
       " ' Mr',\n",
       " ' Master',\n",
       " ' Miss',\n",
       " ' Mr',\n",
       " ' Mr',\n",
       " ' Mr',\n",
       " ' Master',\n",
       " ' Miss',\n",
       " ' Mr',\n",
       " ' Mr',\n",
       " ' Miss',\n",
       " ' Mr',\n",
       " ' Master',\n",
       " ' Master',\n",
       " ' Miss',\n",
       " ' Mr',\n",
       " ' Mrs',\n",
       " ' Mr',\n",
       " ' Mr',\n",
       " ' Mr',\n",
       " ' Mrs',\n",
       " ' Mr',\n",
       " ' Miss',\n",
       " ' Master',\n",
       " ' Mrs',\n",
       " ' Miss',\n",
       " ' Mr',\n",
       " ' Mr',\n",
       " ' Miss',\n",
       " ' Miss',\n",
       " ' Mr',\n",
       " ' Mr',\n",
       " ' Mr',\n",
       " ' Mr',\n",
       " ' Mr',\n",
       " ' Miss',\n",
       " ' Mr',\n",
       " ' Mr',\n",
       " ' Miss',\n",
       " ' Mr',\n",
       " ' Mr',\n",
       " ' Miss',\n",
       " ' Mr',\n",
       " ' Mr',\n",
       " ' Mr',\n",
       " ' Miss',\n",
       " ' Miss',\n",
       " ' Mr',\n",
       " ' Miss',\n",
       " ' Mr',\n",
       " ' Mr',\n",
       " ' Mr',\n",
       " ' Mr',\n",
       " ' Mr',\n",
       " ' Mr',\n",
       " ' Mr',\n",
       " ' Mr',\n",
       " ' Mr',\n",
       " ' Mr',\n",
       " ' Miss',\n",
       " ' Mrs',\n",
       " ' Mr',\n",
       " ' Mr',\n",
       " ' Miss',\n",
       " ' Mr',\n",
       " ' Miss',\n",
       " ' Mr',\n",
       " ' Miss',\n",
       " ' Mr',\n",
       " ' Mr',\n",
       " ' Miss',\n",
       " ' Miss',\n",
       " ' Mr',\n",
       " ' Mr',\n",
       " ' Mr',\n",
       " ' Dr',\n",
       " ' Miss',\n",
       " ' Mrs',\n",
       " ' Mr',\n",
       " ' Rev',\n",
       " ' Mr',\n",
       " ' Mrs',\n",
       " ' Mr',\n",
       " ' Mr',\n",
       " ' Mrs',\n",
       " ' Mrs',\n",
       " ' Mrs',\n",
       " ' Miss',\n",
       " ' Miss',\n",
       " ' Mrs',\n",
       " ' Mr',\n",
       " ' Master',\n",
       " ' Mr',\n",
       " ' Mr',\n",
       " ' Miss',\n",
       " ' Mr',\n",
       " ' Mr',\n",
       " ' Mr',\n",
       " ' Mrs',\n",
       " ' Miss',\n",
       " ' Mr',\n",
       " ' Mr',\n",
       " ' Mrs',\n",
       " ' Mr',\n",
       " ' Miss',\n",
       " ' Miss',\n",
       " ' Miss',\n",
       " ' Mr',\n",
       " ' Master',\n",
       " ' Mrs',\n",
       " ' Mr',\n",
       " ' Mr',\n",
       " ' Mr',\n",
       " ' Mr',\n",
       " ' Mr',\n",
       " ' Mr',\n",
       " ' Mr',\n",
       " ' Mr',\n",
       " ' Mr',\n",
       " ' Miss',\n",
       " ' Miss',\n",
       " ' Mrs',\n",
       " ' Mr',\n",
       " ' Miss',\n",
       " ' Mr',\n",
       " ' Mr',\n",
       " ' Mr',\n",
       " ' Miss',\n",
       " ' Mr',\n",
       " ' Mrs',\n",
       " ' Miss',\n",
       " ' Mr',\n",
       " ' Mr',\n",
       " ' Miss',\n",
       " ' Mr',\n",
       " ' Master',\n",
       " ' Miss',\n",
       " ' Mrs',\n",
       " ' Mr',\n",
       " ' Miss',\n",
       " ' Miss',\n",
       " ' Miss',\n",
       " ' Mrs',\n",
       " ' Mr',\n",
       " ' Mr',\n",
       " ' Miss',\n",
       " ' Mrs',\n",
       " ' Dr',\n",
       " ' Miss',\n",
       " ' Mrs',\n",
       " ' Mr',\n",
       " ' Mr',\n",
       " ' Miss',\n",
       " ' Mrs',\n",
       " ' Mr',\n",
       " ' Miss',\n",
       " ' Mr',\n",
       " ' Mrs',\n",
       " ' Mrs',\n",
       " ' Miss',\n",
       " ' Miss',\n",
       " ' Mr',\n",
       " ' Mr',\n",
       " ' Mr',\n",
       " ' Mrs',\n",
       " ' Mr',\n",
       " ' Mr',\n",
       " ' Miss',\n",
       " ' Mr',\n",
       " ' Mr',\n",
       " ' Master',\n",
       " ' Miss',\n",
       " ' Mr',\n",
       " ' Mr',\n",
       " ' Mr',\n",
       " ' Miss',\n",
       " ' Miss',\n",
       " ' Mrs',\n",
       " ' Master',\n",
       " ' Mr',\n",
       " ' Mr',\n",
       " ' Mr',\n",
       " ' Mr',\n",
       " ' Mr',\n",
       " ' Mr',\n",
       " ' Mr',\n",
       " ' Miss',\n",
       " ' Miss',\n",
       " ' Miss',\n",
       " ' Miss',\n",
       " ' Mr',\n",
       " ' Mr',\n",
       " ' Mrs',\n",
       " ' Mr',\n",
       " ' Mr',\n",
       " ' Mr',\n",
       " ' Mrs',\n",
       " ' Mrs',\n",
       " ' Miss',\n",
       " ' Mme',\n",
       " ' Mr',\n",
       " ' Mr',\n",
       " ' Mr',\n",
       " ' Mr',\n",
       " ' Miss',\n",
       " ' Mrs',\n",
       " ' Miss',\n",
       " ' Mr',\n",
       " ' Mr',\n",
       " ' Mr',\n",
       " ' Miss',\n",
       " ' Miss',\n",
       " ' Mr',\n",
       " ' Mrs',\n",
       " ' Mr',\n",
       " ' Mr',\n",
       " ' Master',\n",
       " ' Miss',\n",
       " ' Mr',\n",
       " ' Miss',\n",
       " ' Mr',\n",
       " ' Mr',\n",
       " ' Mr',\n",
       " ' Miss',\n",
       " ' Mrs',\n",
       " ' Mr',\n",
       " ' Miss',\n",
       " ' Mr',\n",
       " ' Dr',\n",
       " ' Mrs',\n",
       " ' Mr',\n",
       " ' Mr',\n",
       " ' Miss',\n",
       " ' Mr',\n",
       " ' Miss',\n",
       " ' Mr',\n",
       " ' Mr',\n",
       " ' Master',\n",
       " ' Mr',\n",
       " ' Miss',\n",
       " ' Mr',\n",
       " ' Mr',\n",
       " ' Miss',\n",
       " ' Mr',\n",
       " ' Mr',\n",
       " ' Mrs',\n",
       " ' Mrs',\n",
       " ' Miss',\n",
       " ' Mr',\n",
       " ' Miss',\n",
       " ' Mr',\n",
       " ' Mr',\n",
       " ' Mr',\n",
       " ' Mrs',\n",
       " ' Mr',\n",
       " ' Mr',\n",
       " ' Mrs',\n",
       " ' Miss',\n",
       " ' Mr',\n",
       " ' Mr',\n",
       " ' Mr',\n",
       " ' Mrs',\n",
       " ' Mrs',\n",
       " ' Mr',\n",
       " ' Mr',\n",
       " ' Miss',\n",
       " ' Miss',\n",
       " ' Mrs',\n",
       " ' Mr',\n",
       " ' Mr',\n",
       " ' Mrs',\n",
       " ' Mr',\n",
       " ' Mr',\n",
       " ' Ms',\n",
       " ' Mr',\n",
       " ' Master',\n",
       " ' Miss',\n",
       " ' Mr',\n",
       " ' Miss',\n",
       " ' Major',\n",
       " ' Mr',\n",
       " ' Mr',\n",
       " ' Mr',\n",
       " ' Mr',\n",
       " ' Mr',\n",
       " ' Mr',\n",
       " ' Mr',\n",
       " ' Mrs',\n",
       " ' Miss',\n",
       " ' Mr',\n",
       " ' Mr',\n",
       " ' Mr',\n",
       " ' Mr',\n",
       " ' Mr',\n",
       " ' Mr',\n",
       " ' Mr',\n",
       " ' Mr',\n",
       " ' Mr',\n",
       " ' Mr',\n",
       " ' Miss',\n",
       " ' Mr',\n",
       " ' Mr',\n",
       " ' Mrs',\n",
       " ' Mrs',\n",
       " ' Miss',\n",
       " ' Mr',\n",
       " ' Mr',\n",
       " ' Mr',\n",
       " ' Mr',\n",
       " ' Miss',\n",
       " ' Master',\n",
       " ' Mr',\n",
       " ' Mr',\n",
       " ' Mrs',\n",
       " ' Mr',\n",
       " ' Miss',\n",
       " ' Mrs',\n",
       " ' Mr',\n",
       " ' Mr',\n",
       " ' Master',\n",
       " ' Mr',\n",
       " ' Mr',\n",
       " ' Mr',\n",
       " ' Mr',\n",
       " ' Mr',\n",
       " ' Mr',\n",
       " ' Miss',\n",
       " ' Mr',\n",
       " ' Mrs',\n",
       " ' Mr',\n",
       " ' Mr',\n",
       " ' Miss',\n",
       " ' Miss',\n",
       " ' Miss',\n",
       " ' Miss',\n",
       " ' Mr',\n",
       " ' Mrs',\n",
       " ' Mr',\n",
       " ' Mr',\n",
       " ' Mr',\n",
       " ' Mr',\n",
       " ' Mr',\n",
       " ' Mr',\n",
       " ' Mrs',\n",
       " ' Mr',\n",
       " ' Mr',\n",
       " ' Mrs',\n",
       " ' Mr',\n",
       " ' Mrs',\n",
       " ' Mr',\n",
       " ' Miss',\n",
       " ' Mr',\n",
       " ' Mr',\n",
       " ' Mrs',\n",
       " ' Mr',\n",
       " ' Mr',\n",
       " ' Miss',\n",
       " ' Mr',\n",
       " ' Mr',\n",
       " ' Mr',\n",
       " ' Miss',\n",
       " ' Mr',\n",
       " ' Mr',\n",
       " ' Mrs',\n",
       " ' Miss',\n",
       " ' Miss',\n",
       " ' Major',\n",
       " ' Miss',\n",
       " ' Mr',\n",
       " ' Miss',\n",
       " ' Miss',\n",
       " ' Miss',\n",
       " ' Miss',\n",
       " ' Mr',\n",
       " ' Mr',\n",
       " ' Mr',\n",
       " ' Mrs',\n",
       " ' Mr',\n",
       " ' Mr',\n",
       " ' Master',\n",
       " ' Mr',\n",
       " ' Mr',\n",
       " ' Mr',\n",
       " ' Mr',\n",
       " ' Miss',\n",
       " ' Mr',\n",
       " ' Lady',\n",
       " ' Mr',\n",
       " ' Mrs',\n",
       " ' Mrs',\n",
       " ' Mr',\n",
       " ' Mr',\n",
       " ' Mr',\n",
       " ' Mr',\n",
       " ' Miss',\n",
       " ' Mr',\n",
       " ' Mr',\n",
       " ' Mrs',\n",
       " ' Mr',\n",
       " ' Mr',\n",
       " ' Mr',\n",
       " ' Mrs',\n",
       " ' Mr',\n",
       " ' Miss',\n",
       " ' Mr',\n",
       " ' Mr',\n",
       " ' Miss',\n",
       " ' Mrs',\n",
       " ' Mrs',\n",
       " ' Mr',\n",
       " ' Miss',\n",
       " ' Mrs',\n",
       " ' Mr',\n",
       " ' Mr',\n",
       " ' Mr',\n",
       " ' Miss',\n",
       " ' Mr',\n",
       " ' Mr',\n",
       " ' Mr',\n",
       " ' Mr',\n",
       " ' Mr',\n",
       " ' Mrs',\n",
       " ' Mr',\n",
       " ' Miss',\n",
       " ' Mr',\n",
       " ' Mr',\n",
       " ' Miss',\n",
       " ' Mr',\n",
       " ' Mr',\n",
       " ' Sir',\n",
       " ' Mrs',\n",
       " ' Mr',\n",
       " ' Mr',\n",
       " ' Mr',\n",
       " ' Mr',\n",
       " ' Mr',\n",
       " ' Mr',\n",
       " ' Mr',\n",
       " ' Mrs',\n",
       " ' Miss',\n",
       " ' Mrs',\n",
       " ' Mr',\n",
       " ' Miss',\n",
       " ' Mr',\n",
       " ' Mr',\n",
       " ' Miss',\n",
       " ' Mr',\n",
       " ' Mrs',\n",
       " ' Miss',\n",
       " ' Mr',\n",
       " ' Mr',\n",
       " ' Mr',\n",
       " ' Mr',\n",
       " ' Mr',\n",
       " ' Mr',\n",
       " ' Mr',\n",
       " ' Rev',\n",
       " ' Miss',\n",
       " ' Mr',\n",
       " ' Mr',\n",
       " ' Mr',\n",
       " ' Mr',\n",
       " ' Dr',\n",
       " ' Mr',\n",
       " ' Miss',\n",
       " ' Miss',\n",
       " ' Mr',\n",
       " ' Mr',\n",
       " ' Mrs',\n",
       " ' Mr',\n",
       " ' Mr',\n",
       " ' Mlle',\n",
       " ' Miss',\n",
       " ' Mr',\n",
       " ' Miss',\n",
       " ' Mr',\n",
       " ' Mr',\n",
       " ' Col',\n",
       " ' Mr',\n",
       " ' Miss',\n",
       " ' Mr',\n",
       " ' Miss',\n",
       " ' Mr',\n",
       " ' Miss',\n",
       " ' Miss',\n",
       " ' Mr',\n",
       " ' Mr',\n",
       " ' Mrs',\n",
       " ' Mr',\n",
       " ' Mr',\n",
       " ' Dr',\n",
       " ' Mr',\n",
       " ' Mr',\n",
       " ' Mr',\n",
       " ' Mr',\n",
       " ' Mr',\n",
       " ' Mr',\n",
       " ' Mr',\n",
       " ' Mr',\n",
       " ' Mrs',\n",
       " ' Mrs',\n",
       " ' Mr',\n",
       " ' Mr',\n",
       " ' Mr',\n",
       " ' Mr',\n",
       " ' Mr',\n",
       " ' Mr',\n",
       " ' Miss',\n",
       " ' Mrs',\n",
       " ' Mr',\n",
       " ' Miss',\n",
       " ' Mr',\n",
       " ' Mr',\n",
       " ' Mr',\n",
       " ' Mr',\n",
       " ' Mr',\n",
       " ' Mr',\n",
       " ' Mr',\n",
       " ' Mr',\n",
       " ' Miss',\n",
       " ' Mr',\n",
       " ' Miss',\n",
       " ' Mr',\n",
       " ' Mr',\n",
       " ' Col',\n",
       " ' Mr',\n",
       " ' Mr',\n",
       " ' Miss',\n",
       " ' Mr',\n",
       " ' Mr',\n",
       " ' Mrs',\n",
       " ' Mr',\n",
       " ' Miss',\n",
       " ' Mr',\n",
       " ' Mr',\n",
       " ' Mr',\n",
       " ' Mrs',\n",
       " ' Mr',\n",
       " ' Miss',\n",
       " ' Master',\n",
       " ' Mlle',\n",
       " ' Mr',\n",
       " ' Mr',\n",
       " ' Mr',\n",
       " ' Mr',\n",
       " ' Mr',\n",
       " ' Miss',\n",
       " ' Miss',\n",
       " ' Mr',\n",
       " ' Mr',\n",
       " ' Miss',\n",
       " ' Mr',\n",
       " ' Mr',\n",
       " ' Mr',\n",
       " ' Mr',\n",
       " ' Mr',\n",
       " ' Mrs',\n",
       " ' Miss',\n",
       " ' Mr',\n",
       " ' Miss',\n",
       " ' Miss',\n",
       " ' Mr',\n",
       " ' Mr',\n",
       " ' Mr',\n",
       " ' Mr',\n",
       " ' Mr',\n",
       " ' Mrs',\n",
       " ' Mr',\n",
       " ' Mr',\n",
       " ' Mr',\n",
       " ' Mr',\n",
       " ' Mr',\n",
       " ' Miss',\n",
       " ' Mr',\n",
       " ' Mr',\n",
       " ' Capt',\n",
       " ' Mr',\n",
       " ' Miss',\n",
       " ' Mr',\n",
       " ' Mr',\n",
       " ' Miss',\n",
       " ' Master',\n",
       " ' Mr',\n",
       " ' Mr',\n",
       " ' Mrs',\n",
       " ' Master',\n",
       " ' Mr',\n",
       " ' Mr',\n",
       " ' Mr',\n",
       " ' the Countess',\n",
       " ' Mr',\n",
       " ' Mr',\n",
       " ' Mr',\n",
       " ' Mrs',\n",
       " ' Mr',\n",
       " ' Mrs',\n",
       " ' Dr',\n",
       " ' Miss',\n",
       " ' Mr',\n",
       " ' Mr',\n",
       " ' Mr',\n",
       " ' Mr',\n",
       " ' Mrs',\n",
       " ' Mr',\n",
       " ' Mrs',\n",
       " ' Mr',\n",
       " ' Mr',\n",
       " ' Miss',\n",
       " ' Mr',\n",
       " ' Mrs',\n",
       " ' Miss',\n",
       " ' Mrs',\n",
       " ' Mr',\n",
       " ' Mr',\n",
       " ' Mr',\n",
       " ' Mr',\n",
       " ' Miss',\n",
       " ' Master',\n",
       " ' Master',\n",
       " ' Mr',\n",
       " ' Mr',\n",
       " ' Mr',\n",
       " ' Miss',\n",
       " ' Mr',\n",
       " ' Mr',\n",
       " ' Mr',\n",
       " ' Dr',\n",
       " ' Mrs',\n",
       " ' Mr',\n",
       " ' Mrs',\n",
       " ' Mr',\n",
       " ' Mrs',\n",
       " ' Master',\n",
       " ' Master',\n",
       " ' Mr',\n",
       " ' Mr',\n",
       " ' Mr',\n",
       " ' Miss',\n",
       " ' Mr',\n",
       " ' Mrs',\n",
       " ' Mr',\n",
       " ' Mr',\n",
       " ' Mr',\n",
       " ' Miss',\n",
       " ' Mr',\n",
       " ' Mr',\n",
       " ' Miss',\n",
       " ' Mr',\n",
       " ' Mr',\n",
       " ' Master',\n",
       " ' Mrs',\n",
       " ' Mr',\n",
       " ' Jonkheer',\n",
       " ' Mrs',\n",
       " ' Master',\n",
       " ' Mr',\n",
       " ' Mr',\n",
       " ' Master',\n",
       " ' Mr',\n",
       " ' Mrs',\n",
       " ' Mrs',\n",
       " ' Master',\n",
       " ' Mr',\n",
       " ' Mr',\n",
       " ' Mr',\n",
       " ' Miss',\n",
       " ' Mr',\n",
       " ' Mr',\n",
       " ' Mr',\n",
       " ' Mr',\n",
       " ' Mr',\n",
       " ' Mr',\n",
       " ' Miss',\n",
       " ' Mr',\n",
       " ' Mr',\n",
       " ' Mr',\n",
       " ' Mr',\n",
       " ' Mr',\n",
       " ' Rev',\n",
       " ' Mrs',\n",
       " ' Master',\n",
       " ' Mr',\n",
       " ' Miss',\n",
       " ' Miss',\n",
       " ' Mrs',\n",
       " ' Mrs',\n",
       " ' Mrs',\n",
       " ' Mr',\n",
       " ' Mrs',\n",
       " ' Mr',\n",
       " ' Mr',\n",
       " ' Mr',\n",
       " ' Mrs',\n",
       " ' Miss',\n",
       " ' Mr',\n",
       " ' Mrs',\n",
       " ' Miss',\n",
       " ' Mr',\n",
       " ' Mr',\n",
       " ' Master',\n",
       " ' Mr',\n",
       " ' Mrs',\n",
       " ' Mr',\n",
       " ' Mr',\n",
       " ' Mrs',\n",
       " ' Miss',\n",
       " ' Mr',\n",
       " ' Mr',\n",
       " ' Mr',\n",
       " ' Mrs',\n",
       " ' Mrs',\n",
       " ' Mr',\n",
       " ' Miss',\n",
       " ' Mr',\n",
       " ' Mr',\n",
       " ' Mrs',\n",
       " ' Rev',\n",
       " ' Miss',\n",
       " ' Miss',\n",
       " ' Mr',\n",
       " ' Mr']"
      ]
     },
     "execution_count": 73,
     "metadata": {},
     "output_type": "execute_result"
    }
   ],
   "source": [
    "[i.split(\",\")[1].split(\".\")[0] for i in df_titanic[\"Name\"]]"
   ]
  },
  {
   "cell_type": "markdown",
   "metadata": {
    "id": "Lj8x0GhFLlk6"
   },
   "source": [
    "이와 같이, Ticket과 Cabin도 분석해보세요."
   ]
  },
  {
   "cell_type": "code",
   "execution_count": 74,
   "metadata": {
    "colab": {
     "base_uri": "https://localhost:8080/"
    },
    "executionInfo": {
     "elapsed": 3,
     "status": "ok",
     "timestamp": 1686980536010,
     "user": {
      "displayName": "최재진",
      "userId": "14104918437285699837"
     },
     "user_tz": -540
    },
    "id": "TPWDW4NHGkrI",
    "outputId": "7d227400-3dfa-46b6-c930-d0bdef722a9d",
    "trusted": true
   },
   "outputs": [
    {
     "data": {
      "text/plain": [
       "0             A/5 21171\n",
       "1              PC 17599\n",
       "2      STON/O2. 3101282\n",
       "3                113803\n",
       "4                373450\n",
       "             ...       \n",
       "886              211536\n",
       "887              112053\n",
       "888          W./C. 6607\n",
       "889              111369\n",
       "890              370376\n",
       "Name: Ticket, Length: 891, dtype: object"
      ]
     },
     "execution_count": 74,
     "metadata": {},
     "output_type": "execute_result"
    }
   ],
   "source": [
    "df_titanic['Ticket']"
   ]
  },
  {
   "cell_type": "code",
   "execution_count": 75,
   "metadata": {
    "colab": {
     "base_uri": "https://localhost:8080/"
    },
    "executionInfo": {
     "elapsed": 1,
     "status": "ok",
     "timestamp": 1686980536444,
     "user": {
      "displayName": "최재진",
      "userId": "14104918437285699837"
     },
     "user_tz": -540
    },
    "id": "ryYTjcLMGkrL",
    "outputId": "6798f10b-a9b3-46b0-a4f3-84e904634a39",
    "trusted": true
   },
   "outputs": [
    {
     "data": {
      "text/plain": [
       "0       NaN\n",
       "1       C85\n",
       "2       NaN\n",
       "3      C123\n",
       "4       NaN\n",
       "       ... \n",
       "886     NaN\n",
       "887     B42\n",
       "888     NaN\n",
       "889    C148\n",
       "890     NaN\n",
       "Name: Cabin, Length: 891, dtype: object"
      ]
     },
     "execution_count": 75,
     "metadata": {},
     "output_type": "execute_result"
    }
   ],
   "source": [
    "df_titanic['Cabin']"
   ]
  },
  {
   "cell_type": "code",
   "execution_count": 76,
   "metadata": {
    "colab": {
     "base_uri": "https://localhost:8080/"
    },
    "executionInfo": {
     "elapsed": 2,
     "status": "ok",
     "timestamp": 1686980537582,
     "user": {
      "displayName": "최재진",
      "userId": "14104918437285699837"
     },
     "user_tz": -540
    },
    "id": "vML7gZZB8KWk",
    "outputId": "e79ce9b5-b84f-455c-d58e-83d8ca5933cd"
   },
   "outputs": [
    {
     "name": "stdout",
     "output_type": "stream",
     "text": [
      "C85\n",
      "C123\n",
      "E46\n",
      "G6\n",
      "C103\n",
      "D56\n",
      "A6\n",
      "C23 C25 C27\n",
      "B78\n",
      "D33\n",
      "B30\n",
      "C52\n",
      "B28\n",
      "C83\n",
      "F33\n",
      "F G73\n",
      "C23 C25 C27\n",
      "E31\n",
      "A5\n",
      "D10 D12\n",
      "D26\n",
      "C110\n",
      "B58 B60\n",
      "E101\n",
      "D26\n",
      "F E69\n",
      "D47\n",
      "C123\n",
      "B86\n",
      "F2\n",
      "C2\n",
      "E33\n",
      "B19\n",
      "A7\n",
      "C49\n",
      "F4\n",
      "A32\n",
      "F2\n",
      "B4\n",
      "B80\n",
      "G6\n",
      "A31\n",
      "D36\n",
      "D15\n",
      "C93\n",
      "C83\n",
      "C78\n",
      "D35\n",
      "G6\n",
      "C87\n",
      "B77\n",
      "E67\n",
      "B94\n",
      "C125\n",
      "C99\n",
      "C118\n",
      "D7\n",
      "A19\n",
      "B49\n",
      "D\n",
      "C22 C26\n",
      "C106\n",
      "B58 B60\n",
      "E101\n",
      "C22 C26\n",
      "C65\n",
      "E36\n",
      "C54\n",
      "B57 B59 B63 B66\n",
      "C7\n",
      "E34\n",
      "C32\n",
      "D\n",
      "B18\n",
      "C124\n",
      "C91\n",
      "C2\n",
      "E40\n",
      "T\n",
      "F2\n",
      "C23 C25 C27\n",
      "F33\n",
      "C128\n",
      "E33\n",
      "D37\n",
      "B35\n",
      "E50\n",
      "C82\n",
      "B96 B98\n",
      "D36\n",
      "G6\n",
      "C78\n",
      "E10\n",
      "C52\n",
      "E44\n",
      "B96 B98\n",
      "C23 C25 C27\n",
      "A34\n",
      "C104\n",
      "C111\n",
      "C92\n",
      "E38\n",
      "D21\n",
      "E12\n",
      "E63\n",
      "D\n",
      "A14\n",
      "B49\n",
      "C93\n",
      "B37\n",
      "C30\n",
      "D20\n",
      "C22 C26\n",
      "B79\n",
      "C65\n",
      "E25\n",
      "D46\n",
      "F33\n",
      "B73\n",
      "B18\n",
      "C95\n",
      "B38\n",
      "B39\n",
      "B22\n",
      "C86\n",
      "C70\n",
      "A16\n",
      "E67\n",
      "C101\n",
      "E25\n",
      "E44\n",
      "C68\n",
      "A10\n",
      "E68\n",
      "B41\n",
      "D20\n",
      "A20\n",
      "C125\n",
      "F4\n",
      "D19\n",
      "D50\n",
      "D9\n",
      "A23\n",
      "B50\n",
      "B35\n",
      "D33\n",
      "A26\n",
      "D48\n",
      "E58\n",
      "C126\n",
      "B71\n",
      "B51 B53 B55\n",
      "D49\n",
      "B5\n",
      "B20\n",
      "C68\n",
      "F G63\n",
      "C62 C64\n",
      "E24\n",
      "E24\n",
      "C90\n",
      "C124\n",
      "C126\n",
      "F G73\n",
      "C45\n",
      "E101\n",
      "E8\n",
      "B5\n",
      "B101\n",
      "D45\n",
      "C46\n",
      "B57 B59 B63 B66\n",
      "B22\n",
      "D30\n",
      "E121\n",
      "B77\n",
      "B96 B98\n",
      "D11\n",
      "E77\n",
      "F38\n",
      "B3\n",
      "B20\n",
      "D6\n",
      "B82 B84\n",
      "D17\n",
      "B96 B98\n",
      "A36\n",
      "E8\n",
      "B102\n",
      "B69\n",
      "E121\n",
      "B28\n",
      "E49\n",
      "C47\n",
      "C92\n",
      "D28\n",
      "E17\n",
      "D17\n",
      "A24\n",
      "D35\n",
      "B51 B53 B55\n",
      "C50\n",
      "B42\n",
      "C148\n"
     ]
    }
   ],
   "source": [
    "for cabin in df_titanic['Cabin'][df_titanic['Cabin'].notnull()]:\n",
    "    print(cabin)"
   ]
  },
  {
   "cell_type": "code",
   "execution_count": 77,
   "metadata": {
    "colab": {
     "base_uri": "https://localhost:8080/",
     "height": 249
    },
    "executionInfo": {
     "elapsed": 4616,
     "status": "ok",
     "timestamp": 1686980670273,
     "user": {
      "displayName": "최재진",
      "userId": "14104918437285699837"
     },
     "user_tz": -540
    },
    "id": "ccO5_rDCGkrP",
    "outputId": "5fcc7d0e-ceb1-4ad0-97f6-45683dcec6fb",
    "trusted": true
   },
   "outputs": [
    {
     "name": "stderr",
     "output_type": "stream",
     "text": [
      "C:\\Users\\USER\\AppData\\Local\\Temp\\ipykernel_1552\\1376004323.py:4: FutureWarning: \n",
      "\n",
      "Passing `palette` without assigning `hue` is deprecated and will be removed in v0.14.0. Assign the `x` variable to `hue` and set `legend=False` for the same effect.\n",
      "\n",
      "  sns.catplot(x=\"CabinCode\", col=\"SibSp\",  data=df_titanic,\n"
     ]
    },
    {
     "data": {
      "text/plain": [
       "<seaborn.axisgrid.FacetGrid at 0x1f918c639d0>"
      ]
     },
     "execution_count": 77,
     "metadata": {},
     "output_type": "execute_result"
    },
    {
     "data": {
      "image/png": "[encoded data removed]",
      "text/plain": [
       "<Figure size 5091.19x700 with 7 Axes>"
      ]
     },
     "metadata": {},
     "output_type": "display_data"
    }
   ],
   "source": [
    "cabin_num = [cabin.split()[0][0] for cabin in df_titanic['Cabin'][df_titanic['Cabin'].notnull()]]\n",
    "df_titanic[\"CabinCode\"] = pd.Series(cabin_num)\n",
    "sns.set(font_scale=2) # 폰트 크기 키우기\n",
    "sns.catplot(x=\"CabinCode\", col=\"SibSp\",  data=df_titanic,\n",
    "                 height=7,  kind=\"count\", palette=\"muted\")"
   ]
  }
 ],
 "metadata": {
  "colab": {
   "provenance": []
  },
  "kernelspec": {
   "display_name": "study",
   "language": "python",
   "name": "python3"
  },
  "language_info": {
   "codemirror_mode": {
    "name": "ipython",
    "version": 3
   },
   "file_extension": ".py",
   "mimetype": "text/x-python",
   "name": "python",
   "nbconvert_exporter": "python",
   "pygments_lexer": "ipython3",
   "version": "3.11.13"
  }
 },
 "nbformat": 4,
 "nbformat_minor": 0
}

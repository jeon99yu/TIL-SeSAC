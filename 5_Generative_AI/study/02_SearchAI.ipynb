{
 "cells": [
  {
   "cell_type": "markdown",
   "metadata": {},
   "source": [
    "## LangChain Tools\n",
    "\n",
    "- 각 검색 서비스들이 LangChain에 쉽게 통합될 수 있도록 래핑되어있음\n",
    "- [Tools](https://python.langchain.com/docs/integrations/tools/)\n",
    "    - DuckDuckgoSearch\n",
    "    - Google Serper\n",
    "    - Tavily Search"
   ]
  },
  {
   "cell_type": "code",
   "execution_count": null,
   "metadata": {},
   "outputs": [],
   "source": [
    "%pip install -U langchain-community ddgs tavily-python"
   ]
  },
  {
   "cell_type": "code",
   "execution_count": null,
   "metadata": {},
   "outputs": [],
   "source": [
    "# duckduckgo-search\n",
    "%pip install -U duckduckgo-search"
   ]
  },
  {
   "cell_type": "code",
   "execution_count": 8,
   "metadata": {},
   "outputs": [
    {
     "data": {
      "text/plain": [
       "True"
      ]
     },
     "execution_count": 8,
     "metadata": {},
     "output_type": "execute_result"
    }
   ],
   "source": [
    "from dotenv import load_dotenv\n",
    "# OPEN AI API 키 설정\n",
    "load_dotenv()"
   ]
  },
  {
   "cell_type": "markdown",
   "metadata": {},
   "source": [
    "### [DuckDuckGo](https://duckduckgo.com/)\n",
    "\n",
    "- 회원가입이 필요없는 검색엔진\n",
    "- 검색 결과를 문자열로 받아 context에 포함하여 활용"
   ]
  },
  {
   "cell_type": "code",
   "execution_count": 2,
   "metadata": {},
   "outputs": [],
   "source": [
    "from langchain.chat_models import ChatOpenAI\n",
    "from langchain.prompts import ChatPromptTemplate\n",
    "from langchain_core.output_parsers import StrOutputParser"
   ]
  },
  {
   "cell_type": "code",
   "execution_count": 3,
   "metadata": {},
   "outputs": [
    {
     "name": "stderr",
     "output_type": "stream",
     "text": [
      "C:\\Users\\USER\\AppData\\Local\\Temp\\ipykernel_18728\\597195285.py:8: LangChainDeprecationWarning: The class `ChatOpenAI` was deprecated in LangChain 0.0.10 and will be removed in 1.0. An updated version of the class exists in the :class:`~langchain-openai package and should be used instead. To use it run `pip install -U :class:`~langchain-openai` and import as `from :class:`~langchain_openai import ChatOpenAI``.\n",
      "  model = ChatOpenAI(model=\"gpt-4\")\n"
     ]
    }
   ],
   "source": [
    "template = \"\"\"You are an AI assistant. Answer the question.\n",
    "If you don't know the answer, just say you don't know.\n",
    "\n",
    "Question: {question}\n",
    "Answer:\"\"\"\n",
    "\n",
    "prompt = ChatPromptTemplate.from_template(template)\n",
    "model = ChatOpenAI(model=\"gpt-4\")\n",
    "parser = StrOutputParser()\n",
    "\n",
    "chain = prompt | model | parser"
   ]
  },
  {
   "cell_type": "code",
   "execution_count": 4,
   "metadata": {},
   "outputs": [
    {
     "name": "stdout",
     "output_type": "stream",
     "text": [
      "As of my last update, none of the BTS members have enlisted in the military yet. However, the group's management, Big Hit Entertainment, has stated that the members will fulfill their required service. The timing for each member will depend on various factors, including their age and the military's schedule.\n"
     ]
    }
   ],
   "source": [
    "result = chain.invoke({\"question\": \"Which BTS member was the last to go to the military?\"})\n",
    "print(result)"
   ]
  },
  {
   "cell_type": "code",
   "execution_count": 5,
   "metadata": {},
   "outputs": [],
   "source": [
    "## Adding Web Search Tools\n",
    "from langchain.tools import DuckDuckGoSearchRun\n",
    "from langchain_core.runnables import RunnablePassthrough\n",
    "\n",
    "search = DuckDuckGoSearchRun()\n",
    "\n",
    "## Provide \"the latest context information\" from web search\n",
    "template = \"\"\"Answer the question based on context.\n",
    "\n",
    "Question: {question}\n",
    "Context: {context}\n",
    "Answer:\"\"\"\n",
    "\n",
    "prompt = ChatPromptTemplate.from_template(template)\n",
    "model = ChatOpenAI(model=\"gpt-4\")\n",
    "parser = StrOutputParser()\n",
    "\n",
    "chain = (\n",
    "    {\"question\": RunnablePassthrough(), \"context\": RunnablePassthrough()}\n",
    "    | prompt \n",
    "    | model \n",
    "    | parser\n",
    ")"
   ]
  },
  {
   "cell_type": "code",
   "execution_count": 6,
   "metadata": {},
   "outputs": [
    {
     "name": "stdout",
     "output_type": "stream",
     "text": [
      "Apr 14, 2025 · The first member to embark in military service was Jin, who enlisted on December 13, 2023. A few months later, J-Hope was the second … Jun 23, 2025 · All seven members of BTS have officially completed their military service. In just one week, RM, V, Jung Kook and Jimin completed their … Apr 28, 2025 · With all seven members set to finish their mandatory military service by June 2025, their reunion will be more than just a comeback. Since … Jun 10, 2025 · Though each member varies in age, Big Hit confirmed that they are all expected to reunite as a group in 2025. Here is a list of when each BTS … Jan 2, 2025 · All members serving in the military will be discharged from the military and stand in front of fans in full. All BTS are serving in the military …\n"
     ]
    },
    {
     "name": "stderr",
     "output_type": "stream",
     "text": [
      "c:\\Users\\USER\\anaconda3\\envs\\llm\\Lib\\site-packages\\langchain_community\\utilities\\duckduckgo_search.py:63: RuntimeWarning: This package (`duckduckgo_search`) has been renamed to `ddgs`! Use `pip install ddgs` instead.\n",
      "  with DDGS() as ddgs:\n"
     ]
    }
   ],
   "source": [
    "# 검색 결과 확인\n",
    "search_result = search.run(\"Which BTS members are still serving in the military as of May 2025?\")\n",
    "\n",
    "# langchain.tools의 DuckDuckgoSearchRun class는 아직 duckduckgo-search 패키지를 사용하고 있어, ddgs로 수정한 뒤 사용\n",
    "print(search_result)"
   ]
  },
  {
   "cell_type": "code",
   "execution_count": 7,
   "metadata": {},
   "outputs": [
    {
     "name": "stderr",
     "output_type": "stream",
     "text": [
      "c:\\Users\\USER\\anaconda3\\envs\\llm\\Lib\\site-packages\\langchain_community\\utilities\\duckduckgo_search.py:63: RuntimeWarning: This package (`duckduckgo_search`) has been renamed to `ddgs`! Use `pip install ddgs` instead.\n",
      "  with DDGS() as ddgs:\n",
      "c:\\Users\\USER\\anaconda3\\envs\\llm\\Lib\\site-packages\\langchain_community\\chat_models\\openai.py:495: PydanticDeprecatedSince20: The `dict` method is deprecated; use `model_dump` instead. Deprecated in Pydantic V2.0 to be removed in V3.0. See Pydantic V2 Migration Guide at https://errors.pydantic.dev/2.11/migration/\n",
      "  response = response.dict()\n"
     ]
    },
    {
     "data": {
      "text/plain": [
       "'All seven members of BTS have officially completed their military service by May 2025.'"
      ]
     },
     "execution_count": 7,
     "metadata": {},
     "output_type": "execute_result"
    }
   ],
   "source": [
    "question = \"Which BTS members are still serving in the military as of May 2025?\"\n",
    "\n",
    "chain.invoke({\"question\": question, \"context\": search.run(question)})"
   ]
  },
  {
   "cell_type": "markdown",
   "metadata": {},
   "source": [
    "### [Tavily](https://www.tavily.com/)\n",
    "\n",
    "- 검색엔진으로 맞춤형 LLM, RAG를 위한 정확하고 실시간 검색 결과를 제공\n",
    "- 한 달에 1000회 요청 무료"
   ]
  },
  {
   "cell_type": "code",
   "execution_count": 9,
   "metadata": {},
   "outputs": [
    {
     "data": {
      "text/plain": [
       "True"
      ]
     },
     "execution_count": 9,
     "metadata": {},
     "output_type": "execute_result"
    }
   ],
   "source": [
    "from dotenv import load_dotenv\n",
    "# TAVILY_API 키 설정\n",
    "load_dotenv()"
   ]
  },
  {
   "cell_type": "code",
   "execution_count": 10,
   "metadata": {},
   "outputs": [],
   "source": [
    "from langchain_community.tools.tavily_search import TavilySearchResults"
   ]
  },
  {
   "cell_type": "code",
   "execution_count": 11,
   "metadata": {},
   "outputs": [
    {
     "name": "stderr",
     "output_type": "stream",
     "text": [
      "C:\\Users\\USER\\AppData\\Local\\Temp\\ipykernel_18728\\1722044080.py:3: LangChainDeprecationWarning: The class `TavilySearchResults` was deprecated in LangChain 0.3.25 and will be removed in 1.0. An updated version of the class exists in the :class:`~langchain-tavily package and should be used instead. To use it run `pip install -U :class:`~langchain-tavily` and import as `from :class:`~langchain_tavily import TavilySearch``.\n",
      "  search = TavilySearchResults(max_results=2)\n"
     ]
    }
   ],
   "source": [
    "from langchain_community.tools import TavilySearchResults\n",
    "\n",
    "search = TavilySearchResults(max_results=2)"
   ]
  },
  {
   "cell_type": "code",
   "execution_count": 12,
   "metadata": {},
   "outputs": [],
   "source": [
    "query = \"2025년 애플의 주가 전망에 대해서 분석하세요.\"\n",
    "search_results = search.invoke(query)"
   ]
  },
  {
   "cell_type": "code",
   "execution_count": 14,
   "metadata": {},
   "outputs": [
    {
     "data": {
      "text/plain": [
       "[{'title': '시총 3조달러 돌파한 애플, 2025년 4조달러도 가능 > 시애틀 뉴스/핫이슈',\n",
       "  'url': 'https://www.seattlen.com/hot/29561',\n",
       "  'content': '◇ 애플은 안전자산: 또 애플의 지난 분기 매출과 순익이 감소했지만 시장의 예상은 상회했다. 꾸준한 자사주 매입과 함께 이같은 실적은 글로벌 경제 불확실성의 시기에 투자자들 사이에서 애플이 안전한 투자처라는 명성을 재확인했다.\\n\\n이에 따라 마감가 기준으로도 시총 3조 달러를 돌파했다. 올 들어 애플은 45% 급등했다. 이는 나스닥의 상승률 32%보다 높은 것이다.\\n\\n◇2025년 4조 달러 돌파할 것: 애플이 이에 그치지 않고 시총 4조 달러를 돌파할 것이란 전망도 나왔다.\\n\\n미국 웨드부시 증권의 유명 애널리스트 대니얼 아이브스는 애플에 대한 투자 의견을 \\'매수\\'로, 목표주가를 220달러로 제시했다.\\n\\n아이브스는 \"월가는 애플의 성장 잠재력을 과소평가했다\"며 \"회의론자들은 2023년 애플 주식에 대해 성장 스토리가 깨졌다고 말했다\"고 주장했다. [...] 지난달 30일(현지시간) 뉴욕증시에서 애플은 전거래일보다 2.31% 급등한 193.97 달러를 기록했다. 이로써 시총이 3조510억 달러를 기록, 마침내 마감가 기준으로도 시총 3조 달러를 돌파했다.\\n\\nImage 8: 애플 일일 주가추이 - 야후 파이낸스 갈무리\\n애플 일일 주가추이 - 야후 파이낸스 갈무리\\n\\n애플은 그동안 장중 시총 3조 달러를 돌파한 적은 있으나 마감가 기준으로 시총 3조 달러를 돌파한 것은 이번이 처음이다.\\n\\n시총 3조 달러를 돌파한 기업은 인류역사상 애플이 처음이다.\\n\\n◇시티 매수 추천, 추가로 30% 랠리한다: 이는 전일 월가의 주요 투자은행인 시티가 애플에 대해 매수 추천을 했기 때문으로 풀이된다. 시티는 애플이 추가로 30% 상승할 여력이 있다며 \\'매수\\'를 추천했다.\\n\\n시티의 애플 담당 분석가 아티프 말릭은 애플에 매수 등급을 부여하고 목표가로 240 달러를 제시했다. 현재 애플의 주가는 193 달러다. 향후 30% 이상 더 상승할 수 있다는 얘기다. [...] 그는 \"그러나 애플은 팀 쿡 최고경영자(CEO)의 리더십 아래 지난 18개월 동안 중국 공급망 문제와 경기 둔화라는 도전을 헤쳐 나가며 시총 3조 달러를 돌파했다. 향후 12∼18개월 애플은 다시 성장세에 접어드는 등 예상과는 정반대의 일이 일어날 것\"이라고 말했다.\\n\\n아이브스는 \"비전 프로 출시의 핵심은 애플 앱 생태계와 진지를 구축하는 것\"이라며 \"비전 프로와 앱스토어는 애플이 생성형 인공지능(AI) 앱 생태계를 구축하기 위한 첫 번째 단계가 될 것\"이라고 덧붙였다.\\n\\n그러면서 2025 회계연도까지 애플의 시총이 4조 달러에 이를 것이라고 전망했다.\\n\\n기사제공=뉴스 1(시애틀 N 제휴사)\\n\\nImage 9: cristal banner AD\\n\\n목록\\n\\n등록된 댓글이 없습니다.\\n\\n로그인 후 댓글을 작성하실 수 있습니다.\\n\\n#### 한인 뉴스',\n",
       "  'score': 0.80014634},\n",
       " {'title': '애플 2025년 3분기 실적발표와 주가, 앞으로 전망 : 네이버 블로그',\n",
       "  'url': 'https://blog.naver.com/slplim/223956671720?fromRss=true&trackingCode=rss',\n",
       "  'content': '서비스 부문 고성장 (높은 마진 구조, 반복 수익 모델) · AI 생태계 투자 확대 (Apple Intelligence 등) · 글로벌 신흥시장 확장 (한국, 중국 등) · 생산기지',\n",
       "  'score': 0.73891455}]"
      ]
     },
     "execution_count": 14,
     "metadata": {},
     "output_type": "execute_result"
    }
   ],
   "source": [
    "search_results"
   ]
  },
  {
   "cell_type": "code",
   "execution_count": 13,
   "metadata": {},
   "outputs": [
    {
     "name": "stdout",
     "output_type": "stream",
     "text": [
      "{'title': '시총 3조달러 돌파한 애플, 2025년 4조달러도 가능 > 시애틀 뉴스/핫이슈', 'url': 'https://www.seattlen.com/hot/29561', 'content': '◇ 애플은 안전자산: 또 애플의 지난 분기 매출과 순익이 감소했지만 시장의 예상은 상회했다. 꾸준한 자사주 매입과 함께 이같은 실적은 글로벌 경제 불확실성의 시기에 투자자들 사이에서 애플이 안전한 투자처라는 명성을 재확인했다.\\n\\n이에 따라 마감가 기준으로도 시총 3조 달러를 돌파했다. 올 들어 애플은 45% 급등했다. 이는 나스닥의 상승률 32%보다 높은 것이다.\\n\\n◇2025년 4조 달러 돌파할 것: 애플이 이에 그치지 않고 시총 4조 달러를 돌파할 것이란 전망도 나왔다.\\n\\n미국 웨드부시 증권의 유명 애널리스트 대니얼 아이브스는 애플에 대한 투자 의견을 \\'매수\\'로, 목표주가를 220달러로 제시했다.\\n\\n아이브스는 \"월가는 애플의 성장 잠재력을 과소평가했다\"며 \"회의론자들은 2023년 애플 주식에 대해 성장 스토리가 깨졌다고 말했다\"고 주장했다. [...] 지난달 30일(현지시간) 뉴욕증시에서 애플은 전거래일보다 2.31% 급등한 193.97 달러를 기록했다. 이로써 시총이 3조510억 달러를 기록, 마침내 마감가 기준으로도 시총 3조 달러를 돌파했다.\\n\\nImage 8: 애플 일일 주가추이 - 야후 파이낸스 갈무리\\n애플 일일 주가추이 - 야후 파이낸스 갈무리\\n\\n애플은 그동안 장중 시총 3조 달러를 돌파한 적은 있으나 마감가 기준으로 시총 3조 달러를 돌파한 것은 이번이 처음이다.\\n\\n시총 3조 달러를 돌파한 기업은 인류역사상 애플이 처음이다.\\n\\n◇시티 매수 추천, 추가로 30% 랠리한다: 이는 전일 월가의 주요 투자은행인 시티가 애플에 대해 매수 추천을 했기 때문으로 풀이된다. 시티는 애플이 추가로 30% 상승할 여력이 있다며 \\'매수\\'를 추천했다.\\n\\n시티의 애플 담당 분석가 아티프 말릭은 애플에 매수 등급을 부여하고 목표가로 240 달러를 제시했다. 현재 애플의 주가는 193 달러다. 향후 30% 이상 더 상승할 수 있다는 얘기다. [...] 그는 \"그러나 애플은 팀 쿡 최고경영자(CEO)의 리더십 아래 지난 18개월 동안 중국 공급망 문제와 경기 둔화라는 도전을 헤쳐 나가며 시총 3조 달러를 돌파했다. 향후 12∼18개월 애플은 다시 성장세에 접어드는 등 예상과는 정반대의 일이 일어날 것\"이라고 말했다.\\n\\n아이브스는 \"비전 프로 출시의 핵심은 애플 앱 생태계와 진지를 구축하는 것\"이라며 \"비전 프로와 앱스토어는 애플이 생성형 인공지능(AI) 앱 생태계를 구축하기 위한 첫 번째 단계가 될 것\"이라고 덧붙였다.\\n\\n그러면서 2025 회계연도까지 애플의 시총이 4조 달러에 이를 것이라고 전망했다.\\n\\n기사제공=뉴스 1(시애틀 N 제휴사)\\n\\nImage 9: cristal banner AD\\n\\n목록\\n\\n등록된 댓글이 없습니다.\\n\\n로그인 후 댓글을 작성하실 수 있습니다.\\n\\n#### 한인 뉴스', 'score': 0.80014634}\n",
      "----------------------------------------------------------------------------------------------------\n",
      "{'title': '애플 2025년 3분기 실적발표와 주가, 앞으로 전망 : 네이버 블로그', 'url': 'https://blog.naver.com/slplim/223956671720?fromRss=true&trackingCode=rss', 'content': '서비스 부문 고성장 (높은 마진 구조, 반복 수익 모델) · AI 생태계 투자 확대 (Apple Intelligence 등) · 글로벌 신흥시장 확장 (한국, 중국 등) · 생산기지', 'score': 0.73891455}\n",
      "----------------------------------------------------------------------------------------------------\n"
     ]
    }
   ],
   "source": [
    "for result in search_results:\n",
    "    print(result)\n",
    "    print(\"-\" * 100)"
   ]
  },
  {
   "cell_type": "markdown",
   "metadata": {},
   "source": [
    "### Serper API (Google)\n",
    "\n",
    "- [Serper](https://serper.dev/)에서 회원가입\n",
    "     - 초기 2500 크레딧 무료\n"
   ]
  },
  {
   "cell_type": "code",
   "execution_count": 15,
   "metadata": {},
   "outputs": [
    {
     "data": {
      "text/plain": [
       "True"
      ]
     },
     "execution_count": 15,
     "metadata": {},
     "output_type": "execute_result"
    }
   ],
   "source": [
    "from dotenv import load_dotenv\n",
    "# SERPER_API 키 설정\n",
    "load_dotenv()"
   ]
  },
  {
   "cell_type": "code",
   "execution_count": 16,
   "metadata": {},
   "outputs": [],
   "source": [
    "from langchain_community.utilities import GoogleSerperAPIWrapper\n",
    "\n",
    "# type 파라미터를 통해 news, images, places를 검색가능\n",
    "search = GoogleSerperAPIWrapper()"
   ]
  },
  {
   "cell_type": "code",
   "execution_count": 17,
   "metadata": {},
   "outputs": [
    {
     "data": {
      "text/plain": [
       "'Barack Obama: 44th U.S. President. Barack Hussein Obama II is an American politician who was the 44th president of the United States from 2009 to 2017. A member of the Democratic Party, he was the first African American president. Barack Obama Born: August 4, 1961 (age 64 years), Kapiʻolani Medical Center for Women & Children, Honolulu, HI. Barack Obama Vice president: Joe Biden (2009–2017). Barack Obama Party: Democratic Party. Barack Obama Presidential term: January 20, 2009 – January 20, 2017. Barack Obama Children: Malia Ann Obama and Sasha Obama. Barack Obama Parents: Stanley Ann Dunham and Barack Obama Sr.. Full Name of Father. BARACK. 9. HUSSEIN. OBAMA. 10. Age of Father. 11. Birthplace (Island, State ... Barack Hussein Obama II was born August 4, 1961, in Honolulu, Hawaii, to parents Barack H. Obama, Sr., and Stanley Ann Dunham. it specifically asks for \"Full former name(s). Obama put “None”, when in fact he went by the name Barry Soetoro, and Barry Obama. It is further believed ... Barack Hussein Obama II is an American politician and attorney. He was the 44th president of the United States from 2009 to 2017. He was the first ... In full: Barack Hussein Obama II · Born: August 4, 1961, Honolulu, Hawaii, U.S. (age 64) · Title / Office: presidency of the United States of America (2009-2017), ... I am still curious about the name change from Barry Soetoro to Barack Obama. When he moved from Jakarta to Hawaii to attend high school, he was ... Hussein, Obama\\'s middle name, is a very common Arabic name, meaning \"good,\" \"handsome,\" or \"beautiful.\" Barack Obama is named after his father, who was a Kenyan economist (called under the same name). He\\'s first real given name is “Barak”, also spelled Baraq. Barack Hussein Obama has a Swahili first name, a Luo surname, and that notorious middle name. He was born in Hawai\\'i and raised there and in Indonesia. Only ...'"
      ]
     },
     "execution_count": 17,
     "metadata": {},
     "output_type": "execute_result"
    }
   ],
   "source": [
    "search.run(\"Obama's first name?\")"
   ]
  },
  {
   "cell_type": "code",
   "execution_count": 18,
   "metadata": {},
   "outputs": [
    {
     "name": "stdout",
     "output_type": "stream",
     "text": [
      "2025년에는 인공지능(AI)이 기술 분야에서 가장 중요한 핵심 기술로 꼽히며, 예측형 AI, 생성형 AI, 기계학습, 자연어처리 등이 주도할 것으로 예상됩니다. AI와 예측 분석 기술은 마케터의 비즈니스 성장을 재정의하며 고객 니즈 예측과 성과 측정을 가능하게 합니다. 2024년에는 AI가 파일럿 단계에서 생산 단계로 넘어갔으며, 2025년에는 전사적 규모로 확산될 전망입니다. 특히 생성형 AI는 가장 빠르게 발전 중입니다. AI 기술은 실용적 에이전트 확산, 검색·증강 기술 진화, 산업별 맞춤형 솔루션, 과도한 AI 현상 해결 등 다양한 분야에 영향을 미치고 있으며, AI의 거버넌스와 규제, AI 주도형 자율주행, 범용 AI 로봇 등도 중요한 이슈입니다. 또한, AI는 누구나 쉽게 쓸 수 있게 발전하며, 대화형 인터페이스는 더욱 직관적이 되고, 고객 경험 분야도 근본적으로 변화하고 있습니다. 앞으로는 기초 모델의 진화와 AI 에이전트의 발전이 두드러지고, 반도체 외 다른 산업에서도 AI 관련 기술이 떠오를 것으로 전망됩니다.\n"
     ]
    }
   ],
   "source": [
    "from langchain_openai import ChatOpenAI\n",
    "from langchain_core.prompts import ChatPromptTemplate\n",
    "from langchain_core.runnables import RunnableLambda \n",
    "\n",
    "search = GoogleSerperAPIWrapper()\n",
    "\n",
    "llm = ChatOpenAI(model=\"gpt-4.1-nano\")\n",
    "\n",
    "prompt = ChatPromptTemplate.from_template(\n",
    "    \"다음 검색 결과를 한글로 요약해줘:\\n{search_results}\"\n",
    ")\n",
    "\n",
    "chain = {'search_results': RunnableLambda(search.run)} | prompt | llm\n",
    "\n",
    "result = chain.invoke(\"2025년 인공지능 트렌드\")\n",
    "print(result.content)"
   ]
  },
  {
   "cell_type": "markdown",
   "metadata": {},
   "source": [
    "#### 구글 이미지 검색"
   ]
  },
  {
   "cell_type": "code",
   "execution_count": 24,
   "metadata": {},
   "outputs": [
    {
     "name": "stdout",
     "output_type": "stream",
     "text": [
      "{'searchParameters': {'q': 'Lion',\n",
      "                      'gl': 'us',\n",
      "                      'hl': 'en',\n",
      "                      'type': 'images',\n",
      "                      'num': 10,\n",
      "                      'engine': 'google'},\n",
      " 'images': [{'title': 'Lion - Wikipedia',\n",
      "             'imageUrl': 'https://upload.wikimedia.org/wikipedia/commons/a/a6/020_The_lion_king_Snyggve_in_the_Serengeti_National_Park_Photo_by_Giles_Laurent.jpg',\n",
      "             'imageWidth': 5168,\n",
      "             'imageHeight': 3448,\n",
      "             'thumbnailUrl': 'https://encrypted-tbn0.gstatic.com/images?q=tbn:ANd9GcR_HGdbfaRDdKJpWDDdD0AkS58dHashCEbqH9yTMz4j7lQIC6iD&s',\n",
      "             'thumbnailWidth': 275,\n",
      "             'thumbnailHeight': 183,\n",
      "             'source': 'Wikipedia, the free encyclopedia',\n",
      "             'domain': 'en.wikipedia.org',\n",
      "             'link': 'https://en.wikipedia.org/wiki/Lion',\n",
      "             'googleUrl': 'https://www.google.com/imgres?imgurl=https%3A%2F%2Fupload.wikimedia.org%2Fwikipedia%2Fcommons%2Fa%2Fa6%2F020_The_lion_king_Snyggve_in_the_Serengeti_National_Park_Photo_by_Giles_Laurent.jpg&tbnid=iu_QQ3Z8fGxRvM&imgrefurl=https%3A%2F%2Fen.wikipedia.org%2Fwiki%2FLion&docid=0P9ZPIi_HU4dMM&w=5168&h=3448&ved=0ahUKEwjK76KPmPWOAxU8LzQIHYGmC-MQvFcIAigA',\n",
      "             'position': 1},\n",
      "            {'title': 'Lion | Characteristics, Habitat, & Facts | Britannica',\n",
      "             'imageUrl': 'https://cdn.britannica.com/29/150929-050-547070A1/lion-Kenya-Masai-Mara-National-Reserve.jpg',\n",
      "             'imageWidth': 1600,\n",
      "             'imageHeight': 1085,\n",
      "             'thumbnailUrl': 'https://encrypted-tbn0.gstatic.com/images?q=tbn:ANd9GcSCqaKY_THr0IBZN8c-2VApnnbuvKmnsWjfrwKoWHFR9w3eN5o&s',\n",
      "             'thumbnailWidth': 273,\n",
      "             'thumbnailHeight': 185,\n",
      "             'source': 'Britannica',\n",
      "             'domain': 'www.britannica.com',\n",
      "             'link': 'https://www.britannica.com/animal/lion',\n",
      "             'googleUrl': 'https://www.google.com/imgres?imgurl=https%3A%2F%2Fcdn.britannica.com%2F29%2F150929-050-547070A1%2Flion-Kenya-Masai-Mara-National-Reserve.jpg&tbnid=DBk5Qx3rVV587M&imgrefurl=https%3A%2F%2Fwww.britannica.com%2Fanimal%2Flion&docid=Zp2R2-BbubSvqM&w=1600&h=1085&ved=0ahUKEwjK76KPmPWOAxU8LzQIHYGmC-MQvFcIAygB',\n",
      "             'position': 2},\n",
      "            {'title': 'Endangered Animal Spotlight: African Lion — In Our '\n",
      "                      'Nature',\n",
      "             'imageUrl': 'https://images.squarespace-cdn.com/content/v1/5b061f0e0dbda31446baccc0/1527893082224-1QNG73UB18IXT2MF3XNV/image-asset.jpeg?format=2500w',\n",
      "             'imageWidth': 1920,\n",
      "             'imageHeight': 1200,\n",
      "             'thumbnailUrl': 'https://encrypted-tbn0.gstatic.com/images?q=tbn:ANd9GcQyhRtvS7gpn_Y09AVOeBF97QNtkfRwu_3AKj27VKtGJa8uv34&s',\n",
      "             'thumbnailWidth': 284,\n",
      "             'thumbnailHeight': 177,\n",
      "             'source': 'In Our Nature',\n",
      "             'domain': 'www.inournaturemag.com',\n",
      "             'link': 'https://www.inournaturemag.com/all/african-lion-the-next-endangered-animal',\n",
      "             'googleUrl': 'https://www.google.com/imgres?imgurl=https%3A%2F%2Fimages.squarespace-cdn.com%2Fcontent%2Fv1%2F5b061f0e0dbda31446baccc0%2F1527893082224-1QNG73UB18IXT2MF3XNV%2Fimage-asset.jpeg%3Fformat%3D2500w&tbnid=PSEgt_r2M_nVmM&imgrefurl=https%3A%2F%2Fwww.inournaturemag.com%2Fall%2Fafrican-lion-the-next-endangered-animal&docid=TWsjEhaqyvqzKM&w=1920&h=1200&ved=0ahUKEwjK76KPmPWOAxU8LzQIHYGmC-MQvFcIBCgC',\n",
      "             'position': 3},\n",
      "            {'title': 'Lion | National Geographic Kids',\n",
      "             'imageUrl': 'https://i.natgeofe.com/k/1d33938b-3d02-4773-91e3-70b113c3b8c7/lion-male-roar.jpg?wp=1&w=1084.125&h=609',\n",
      "             'imageWidth': 1083,\n",
      "             'imageHeight': 609,\n",
      "             'thumbnailUrl': 'https://encrypted-tbn0.gstatic.com/images?q=tbn:ANd9GcQDDPsOQpmuAhyuNY28gdM0msnIfqxIlLi01CudMaojO5w0xmM&s',\n",
      "             'thumbnailWidth': 300,\n",
      "             'thumbnailHeight': 168,\n",
      "             'source': 'National Geographic Kids',\n",
      "             'domain': 'kids.nationalgeographic.com',\n",
      "             'link': 'https://kids.nationalgeographic.com/animals/mammals/facts/lion',\n",
      "             'googleUrl': 'https://www.google.com/imgres?imgurl=https%3A%2F%2Fi.natgeofe.com%2Fk%2F1d33938b-3d02-4773-91e3-70b113c3b8c7%2Flion-male-roar.jpg%3Fwp%3D1%26w%3D1084.125%26h%3D609&tbnid=P9Vzzl57Ow4obM&imgrefurl=https%3A%2F%2Fkids.nationalgeographic.com%2Fanimals%2Fmammals%2Ffacts%2Flion&docid=r48PKzcCogU0oM&w=1083&h=609&ved=0ahUKEwjK76KPmPWOAxU8LzQIHYGmC-MQvFcIBSgD',\n",
      "             'position': 4},\n",
      "            {'title': \"The Life Cycle and Significance of the Lion's Mane - \"\n",
      "                      'Lions Tigers ...',\n",
      "             'imageUrl': 'https://www.lionstigersandbears.org/wp-content/uploads/2023/10/Lion-on-savannah-grass-illustrating-the-significance-of-mane-for-mating-dominance-and-as-health-indicators_161967581.jpg',\n",
      "             'imageWidth': 1000,\n",
      "             'imageHeight': 750,\n",
      "             'thumbnailUrl': 'https://encrypted-tbn0.gstatic.com/images?q=tbn:ANd9GcSIRWf1ev4BvELKNeIN30NGiM9ZLYTQsMNsKYlP9vh3VftuvvJP&s',\n",
      "             'thumbnailWidth': 259,\n",
      "             'thumbnailHeight': 194,\n",
      "             'source': 'Lions Tigers and Bears',\n",
      "             'domain': 'www.lionstigersandbears.org',\n",
      "             'link': 'https://www.lionstigersandbears.org/the-life-cycle-and-significance-of-the-lions-mane/',\n",
      "             'googleUrl': 'https://www.google.com/imgres?imgurl=https%3A%2F%2Fwww.lionstigersandbears.org%2Fwp-content%2Fuploads%2F2023%2F10%2FLion-on-savannah-grass-illustrating-the-significance-of-mane-for-mating-dominance-and-as-health-indicators_161967581.jpg&tbnid=5UPadWayYuE6ZM&imgrefurl=https%3A%2F%2Fwww.lionstigersandbears.org%2Fthe-life-cycle-and-significance-of-the-lions-mane%2F&docid=Ho-6kmd8jAlOaM&w=1000&h=750&ved=0ahUKEwjK76KPmPWOAxU8LzQIHYGmC-MQvFcIBigE',\n",
      "             'copyright': 'Copyright (c) 2013 PHOTOCREO Michal '\n",
      "                          'Bednarek/Shutterstock.  No use without permission.',\n",
      "             'creator': 'PHOTOCREO Michal Bednarek',\n",
      "             'credit': 'Shutterstock',\n",
      "             'position': 5},\n",
      "            {'title': 'Lion - Leo Panthera - African Lion',\n",
      "             'imageUrl': 'https://www.krugerpark.co.za/images/black-maned-lion-shem-compion-786x500.jpg',\n",
      "             'imageWidth': 786,\n",
      "             'imageHeight': 500,\n",
      "             'thumbnailUrl': 'https://encrypted-tbn0.gstatic.com/images?q=tbn:ANd9GcQa7s_vlp-ISIqq-3yBFRJUL1FR6TETbCfCsdmKnrfYiLLbgc7q&s',\n",
      "             'thumbnailWidth': 282,\n",
      "             'thumbnailHeight': 179,\n",
      "             'source': 'Kruger National Park',\n",
      "             'domain': 'www.krugerpark.co.za',\n",
      "             'link': 'https://www.krugerpark.co.za/africa_lion.html',\n",
      "             'googleUrl': 'https://www.google.com/imgres?imgurl=https%3A%2F%2Fwww.krugerpark.co.za%2Fimages%2Fblack-maned-lion-shem-compion-786x500.jpg&tbnid=mWX-Q9GKarndFM&imgrefurl=https%3A%2F%2Fwww.krugerpark.co.za%2Fafrica_lion.html&docid=rMaII8vDRWCrRM&w=786&h=500&ved=0ahUKEwjK76KPmPWOAxU8LzQIHYGmC-MQvFcIBygF',\n",
      "             'position': 6},\n",
      "            {'title': 'Lion Stock Photos, Images and Backgrounds for Free '\n",
      "                      'Download',\n",
      "             'imageUrl': 'https://static.vecteezy.com/system/resources/previews/026/525/162/non_2x/lion-animal-isolated-photo.jpg',\n",
      "             'imageWidth': 1057,\n",
      "             'imageHeight': 980,\n",
      "             'thumbnailUrl': 'https://encrypted-tbn0.gstatic.com/images?q=tbn:ANd9GcQmopZFBxXjg3Oc9fbYDDDeKdOrbdKiV64ZyhQnWqTonxrvaOyA&s',\n",
      "             'thumbnailWidth': 233,\n",
      "             'thumbnailHeight': 216,\n",
      "             'source': 'Vecteezy',\n",
      "             'domain': 'www.vecteezy.com',\n",
      "             'link': 'https://www.vecteezy.com/free-photos/lion',\n",
      "             'googleUrl': 'https://www.google.com/imgres?imgurl=https%3A%2F%2Fstatic.vecteezy.com%2Fsystem%2Fresources%2Fpreviews%2F026%2F525%2F162%2Fnon_2x%2Flion-animal-isolated-photo.jpg&tbnid=wigBtP8h7H7RwM&imgrefurl=https%3A%2F%2Fwww.vecteezy.com%2Ffree-photos%2Flion&docid=B8winAzCOwwTnM&w=1057&h=980&ved=0ahUKEwjK76KPmPWOAxU8LzQIHYGmC-MQvFcICCgG',\n",
      "             'position': 7},\n",
      "            {'title': 'Lion | Characteristics, Habitat, & Facts | Britannica',\n",
      "             'imageUrl': 'https://cdn.britannica.com/55/2155-050-604F5A4A/lion.jpg',\n",
      "             'imageWidth': 754,\n",
      "             'imageHeight': 752,\n",
      "             'thumbnailUrl': 'https://encrypted-tbn0.gstatic.com/images?q=tbn:ANd9GcS3fnDub1GSojI0hJ-ZGS8Tv-hkNNloXh98DOwXZoZ_nUs3GWSd&s',\n",
      "             'thumbnailWidth': 225,\n",
      "             'thumbnailHeight': 224,\n",
      "             'source': 'Britannica',\n",
      "             'domain': 'www.britannica.com',\n",
      "             'link': 'https://www.britannica.com/animal/lion',\n",
      "             'googleUrl': 'https://www.google.com/imgres?imgurl=https%3A%2F%2Fcdn.britannica.com%2F55%2F2155-050-604F5A4A%2Flion.jpg&tbnid=IhlRPXpsi9aDnM&imgrefurl=https%3A%2F%2Fwww.britannica.com%2Fanimal%2Flion&docid=Zp2R2-BbubSvqM&w=754&h=752&ved=0ahUKEwjK76KPmPWOAxU8LzQIHYGmC-MQvFcICSgH',\n",
      "             'position': 8},\n",
      "            {'title': 'Everything you need to know about lions - Born Free',\n",
      "             'imageUrl': 'https://www.bornfree.org.uk/wp-content/uploads/2023/09/Web-image-iStock-492611032.jpg',\n",
      "             'imageWidth': 1080,\n",
      "             'imageHeight': 720,\n",
      "             'thumbnailUrl': 'https://encrypted-tbn0.gstatic.com/images?q=tbn:ANd9GcQdXkv_iW99dqLv4uYKoJd41UouAfb3J-w-5miAH0z4VJ9W_xgQ&s',\n",
      "             'thumbnailWidth': 275,\n",
      "             'thumbnailHeight': 183,\n",
      "             'source': 'Born Free Foundation',\n",
      "             'domain': 'www.bornfree.org.uk',\n",
      "             'link': 'https://www.bornfree.org.uk/animals/lions/',\n",
      "             'googleUrl': 'https://www.google.com/imgres?imgurl=https%3A%2F%2Fwww.bornfree.org.uk%2Fwp-content%2Fuploads%2F2023%2F09%2FWeb-image-iStock-492611032.jpg&tbnid=4vmBsqtvAnjLXM&imgrefurl=https%3A%2F%2Fwww.bornfree.org.uk%2Fanimals%2Flions%2F&docid=4IXTVZ_jc17ebM&w=1080&h=720&ved=0ahUKEwjK76KPmPWOAxU8LzQIHYGmC-MQvFcICigI',\n",
      "             'position': 9},\n",
      "            {'title': '271,900+ Lion Stock Photos, Pictures & Royalty-Free '\n",
      "                      'Images ...',\n",
      "             'imageUrl': 'https://media.istockphoto.com/id/877369086/photo/lion-panthera-leo-10-years-old-isolated-on-white.jpg?s=612x612&w=0&k=20&c=J__Jx_BX_FN7iehO965TJtPFYUl0A-bwFgIYaK32R3Y=',\n",
      "             'imageWidth': 612,\n",
      "             'imageHeight': 527,\n",
      "             'thumbnailUrl': 'https://encrypted-tbn0.gstatic.com/images?q=tbn:ANd9GcQNXCI7damJui7Vvf6TQi0ixg_kgvbGQcl9L01u4Rx6ZCI7lqyR&s',\n",
      "             'thumbnailWidth': 242,\n",
      "             'thumbnailHeight': 208,\n",
      "             'source': 'iStock',\n",
      "             'domain': 'www.istockphoto.com',\n",
      "             'link': 'https://www.istockphoto.com/photos/lion',\n",
      "             'googleUrl': 'https://www.google.com/imgres?imgurl=https%3A%2F%2Fmedia.istockphoto.com%2Fid%2F877369086%2Fphoto%2Flion-panthera-leo-10-years-old-isolated-on-white.jpg%3Fs%3D612x612%26w%3D0%26k%3D20%26c%3DJ__Jx_BX_FN7iehO965TJtPFYUl0A-bwFgIYaK32R3Y%3D&tbnid=UbVNtrUwB3qvSM&imgrefurl=https%3A%2F%2Fwww.istockphoto.com%2Fphotos%2Flion&docid=GsZstfPbzotKIM&w=612&h=527&ved=0ahUKEwjK76KPmPWOAxU8LzQIHYGmC-MQvFcICygJ',\n",
      "             'creator': 'GlobalP',\n",
      "             'credit': 'Getty Images/iStockphoto',\n",
      "             'position': 10}],\n",
      " 'credits': 1}\n"
     ]
    }
   ],
   "source": [
    "import pprint\n",
    "search = GoogleSerperAPIWrapper(type=\"images\")\n",
    "results = search.results(\"Lion\")\n",
    "pprint.pp(results)"
   ]
  },
  {
   "cell_type": "code",
   "execution_count": 25,
   "metadata": {},
   "outputs": [],
   "source": [
    "import requests\n",
    "\n",
    "image_url = results['images'][0]['imageUrl']\n",
    "\n",
    "res = requests.get(image_url, headers={\n",
    "    'user-agent': 'Mozilla 5.0'\n",
    "})\n",
    "with open('./lion.jpg', 'wb') as f:\n",
    "    f.write(res.content)"
   ]
  },
  {
   "cell_type": "markdown",
   "metadata": {},
   "source": [
    "#### 구글 뉴스 검색"
   ]
  },
  {
   "cell_type": "code",
   "execution_count": 20,
   "metadata": {},
   "outputs": [
    {
     "name": "stdout",
     "output_type": "stream",
     "text": [
      "{'searchParameters': {'q': 'Tesla Inc.',\n",
      "                      'gl': 'us',\n",
      "                      'hl': 'en',\n",
      "                      'type': 'news',\n",
      "                      'num': 10,\n",
      "                      'page': 1,\n",
      "                      'engine': 'google'},\n",
      " 'news': [{'title': 'Tesla grants Musk massive pay deal to keep CEO on board '\n",
      "                    'amid legal battle',\n",
      "           'link': 'https://www.foxbusiness.com/markets/tesla-grants-musk-massive-pay-deal-keep-ceo-board-amid-legal-battle',\n",
      "           'section': 'Tesla grants Elon Musk $29 billion in stock options',\n",
      "           'date': '1 day ago',\n",
      "           'source': 'Fox Business',\n",
      "           'position': 1},\n",
      "          {'title': 'Tesla board awards $30bn of shares to ‘energise and '\n",
      "                    'focus’ Elon Musk',\n",
      "           'link': 'https://www.ft.com/content/ae085ae9-3d15-4d68-a28f-39c88e8bf8c8',\n",
      "           'section': 'Tesla grants Elon Musk $29 billion in stock options',\n",
      "           'date': '1 day ago',\n",
      "           'source': 'Financial Times',\n",
      "           'position': 1},\n",
      "          {'title': 'The charts show Tesla shares could be on the verge of a '\n",
      "                    'big swing, Katie Stockton says',\n",
      "           'link': 'https://www.cnbc.com/2025/08/04/the-charts-show-tesla-shares-could-be-on-the-verge-of-a-big-swing-katie-stockton-says.html',\n",
      "           'section': 'Tesla grants Elon Musk $29 billion in stock options',\n",
      "           'date': '1 day ago',\n",
      "           'source': 'CNBC',\n",
      "           'position': 1},\n",
      "          {'title': 'Tesla, Elon Musk sued by shareholders over Robotaxi '\n",
      "                    'claims',\n",
      "           'link': 'https://www.reuters.com/sustainability/boards-policy-regulation/tesla-elon-musk-sued-by-shareholders-over-robotaxi-claims-2025-08-05/',\n",
      "           'section': 'Tesla lawsuit filed by shareholders over robotaxi '\n",
      "                      'safety',\n",
      "           'date': '11 hours ago',\n",
      "           'source': 'Reuters',\n",
      "           'position': 2},\n",
      "          {'title': 'Shareholders sue Tesla and Elon Musk on heels of deadly '\n",
      "                    'autopilot crash verdict, alleging its robotaxi violates '\n",
      "                    'traffic laws',\n",
      "           'link': 'https://www.businessinsider.com/tesla-musk-sued-shareholders-robotaxi-breaks-traffic-laws-2025-8',\n",
      "           'section': 'Tesla lawsuit filed by shareholders over robotaxi '\n",
      "                      'safety',\n",
      "           'date': '11 hours ago',\n",
      "           'source': 'Business Insider',\n",
      "           'position': 2},\n",
      "          {'title': 'Shareholders Slam Tesla (TSLA) and Musk with Class Action '\n",
      "                    'Lawsuit over Risky Robotaxi Rollout',\n",
      "           'link': 'https://www.tipranks.com/news/shareholders-slam-tesla-tsla-and-musk-with-class-action-lawsuit-over-risky-robotaxi-rollout',\n",
      "           'section': 'Tesla lawsuit filed by shareholders over robotaxi '\n",
      "                      'safety',\n",
      "           'date': '11 hours ago',\n",
      "           'source': 'TipRanks',\n",
      "           'position': 2},\n",
      "          {'title': 'Tesla China Shipments Fall Again as Competition Heats Up',\n",
      "           'link': 'https://www.bloomberg.com/news/articles/2025-08-04/tesla-china-shipments-fall-again-in-slow-summer-period',\n",
      "           'snippet': \"Shipments from Tesla Inc.'s Shanghai factory slipped \"\n",
      "                      'back into decline on intense competition in China and '\n",
      "                      'global trade uncertainties.',\n",
      "           'date': '1 day ago',\n",
      "           'source': 'Bloomberg.com',\n",
      "           'position': 3},\n",
      "          {'title': 'Tesla’s poor stock performance has slashed Elon Musk’s '\n",
      "                    'wealth by $80 billion—another tumble like that could '\n",
      "                    'dethrone the world’s richest man',\n",
      "           'link': 'https://finance.yahoo.com/news/tesla-poor-stock-performance-slashed-154905612.html',\n",
      "           'snippet': \"If the Tesla billionaire's wealth drops by another $60 \"\n",
      "                      'billion, he will lose his crown as the richest person '\n",
      "                      \"on the planet to Oracle's Larry...\",\n",
      "           'date': '1 day ago',\n",
      "           'source': 'Yahoo Finance',\n",
      "           'position': 4},\n",
      "          {'title': 'Tesla’s UK sales plummet 60% as BYD surges',\n",
      "           'link': 'https://www.ft.com/content/e05dc9a3-1e93-4fcd-8164-7f41e3e733aa',\n",
      "           'section': \"Tesla's German sales plummet 55% in July, despite EV \"\n",
      "                      'market growth',\n",
      "           'date': '17 hours ago',\n",
      "           'source': 'Financial Times',\n",
      "           'position': 5},\n",
      "          {'title': \"Tesla's July China-made EV sales fall 8.4%\",\n",
      "           'link': 'https://www.reuters.com/business/autos-transportation/teslas-july-china-made-ev-sales-fall-84-2025-08-04/',\n",
      "           'section': \"Tesla's German sales plummet 55% in July, despite EV \"\n",
      "                      'market growth',\n",
      "           'date': '1 day ago',\n",
      "           'source': 'Reuters',\n",
      "           'position': 5},\n",
      "          {'title': 'BMW Strikes Back at Tesla With Longer-Range EVs',\n",
      "           'link': 'https://www.bloomberg.com/news/features/2025-08-04/bmw-strikes-back-at-tesla-with-longer-range-electric-vehicles',\n",
      "           'section': \"Tesla's German sales plummet 55% in July, despite EV \"\n",
      "                      'market growth',\n",
      "           'date': '1 day ago',\n",
      "           'source': 'Bloomberg.com',\n",
      "           'position': 5},\n",
      "          {'title': \"What's going up at Mason and Williamson in Daytona? \"\n",
      "                    \"Answer: Tesla, and that's not all\",\n",
      "           'link': 'https://www.news-journalonline.com/story/news/2025/08/04/tesla-coming-soon-to-daytona-restaurants-shops-could-follow/85510316007/',\n",
      "           'snippet': 'Construction update on a new retail project in Daytona '\n",
      "                      'Beach that will include a Tesla electric vehicle '\n",
      "                      'showroom, and more, including a...',\n",
      "           'date': '1 day ago',\n",
      "           'source': 'Daytona Beach News-Journal',\n",
      "           'position': 6},\n",
      "          {'title': 'Tesla: Robotaxi Questions Mount (NASDAQ:TSLA)',\n",
      "           'link': 'https://seekingalpha.com/article/4808432-tesla-robotaxi-questions-mount',\n",
      "           'snippet': \"Tesla, Inc.'s robotaxi launch remains underwhelming, \"\n",
      "                      'with delays, regulatory issues, and only supervised '\n",
      "                      'services.',\n",
      "           'date': '1 day ago',\n",
      "           'source': 'Seeking Alpha',\n",
      "           'position': 7},\n",
      "          {'title': \"Elon Musk's Tesla leases 33,000 sq ft commercial space in \"\n",
      "                    'Gurugram',\n",
      "           'link': 'https://www.hindustantimes.com/india-news/elon-musks-tesla-leases-33-000-sq-ft-commercial-space-in-gurugram-101754412723222.html',\n",
      "           'snippet': 'Tesla, which has a showroom in Mumbai and is set to '\n",
      "                      'open a second one in New Delhi soon, will be paying a '\n",
      "                      'starting rent of ₹40 lakh for the...',\n",
      "           'date': '10 hours ago',\n",
      "           'source': 'Hindustan Times',\n",
      "           'position': 8},\n",
      "          {'title': 'Radical Tesla aero patent may make new Roadster’s ~1-sec '\n",
      "                    '0-60 mph launch feasible',\n",
      "           'link': 'https://www.teslarati.com/tesla-aero-patent-new-roadster-sub-1-sec-0-60-mph-launch-feasible/',\n",
      "           'snippet': 'Elon Musk also added that Tesla is now looking to '\n",
      "                      'achieve a 0-60 mph time in less than one second with '\n",
      "                      'the new Roadster.',\n",
      "           'date': '14 hours ago',\n",
      "           'source': 'Teslarati',\n",
      "           'position': 9},\n",
      "          {'title': '‘Overpromising and Underdelivering,’ Says Top Investor '\n",
      "                    'About Tesla Stock',\n",
      "           'link': 'https://www.tipranks.com/news/overpromising-and-underdelivering-says-top-investor-about-tesla-stock',\n",
      "           'snippet': 'Listen to Tesla, Inc. (NASDAQ:TSLA) CEO Elon Musk for '\n",
      "                      'just a few minutes, and one recognizes an individual '\n",
      "                      'with some seriously audacious...',\n",
      "           'date': '12 hours ago',\n",
      "           'source': 'TipRanks',\n",
      "           'position': 10}],\n",
      " 'credits': 1}\n"
     ]
    }
   ],
   "source": [
    "search = GoogleSerperAPIWrapper(type=\"news\")\n",
    "results = search.results(\"Tesla Inc.\")\n",
    "pprint.pp(results)"
   ]
  },
  {
   "cell_type": "code",
   "execution_count": 26,
   "metadata": {},
   "outputs": [
    {
     "name": "stdout",
     "output_type": "stream",
     "text": [
      "{'searchParameters': {'q': 'Tesla Inc.',\n",
      "                      'gl': 'us',\n",
      "                      'hl': 'en',\n",
      "                      'type': 'news',\n",
      "                      'num': 10,\n",
      "                      'page': 1,\n",
      "                      'tbs': 'qdr:h',\n",
      "                      'engine': 'google'},\n",
      " 'news': [{'title': 'Tesla: Board announces new pay package for CEO Elon Musk',\n",
      "           'link': 'https://www.morningstar.com.au/stocks/tesla-board-announces-new-pay-package-ceo-elon-musk',\n",
      "           'snippet': 'A key provision of the new award is that Musk must '\n",
      "                      'remain in a senior leadership position at Tesla.',\n",
      "           'date': '33 minutes ago',\n",
      "           'source': 'Morningstar',\n",
      "           'position': 1},\n",
      "          {'title': 'UK Weighs Tough Choices As Borrowing Rises And Growth '\n",
      "                    'Slows',\n",
      "           'link': 'https://finimize.com/content/uk-weighs-tough-choices-as-borrowing-rises-and-growth-slows',\n",
      "           'snippet': 'British leaders face tax hikes or spending cuts to '\n",
      "                      'cover a $66 billion shortfall, with regulators, '\n",
      "                      'businesses, and wage policies also feeling the strain.',\n",
      "           'date': '56 minutes ago',\n",
      "           'source': 'Finimize',\n",
      "           'position': 2}],\n",
      " 'credits': 1}\n"
     ]
    }
   ],
   "source": [
    "# tbs 파라미터를 활용해 검색 결과의 시간을 제한 가능\n",
    "# qdr:h (past hour) qdr:d (past day) qdr:w (past week) qdr:m (past month) qdr:y (past year)\n",
    "\n",
    "# 특정 기간을 설정하는것도 가능\n",
    "# qdr:h12 (past 12 hours)\n",
    "# qdr:d3, qdr:w2, qdr:m6, qdr:y2\n",
    "search = GoogleSerperAPIWrapper(type=\"news\", tbs=\"qdr:h\")\n",
    "results = search.results(\"Tesla Inc.\")\n",
    "pprint.pp(results)"
   ]
  },
  {
   "cell_type": "markdown",
   "metadata": {},
   "source": [
    "#### 구글 장소 검색"
   ]
  },
  {
   "cell_type": "code",
   "execution_count": 27,
   "metadata": {},
   "outputs": [
    {
     "name": "stdout",
     "output_type": "stream",
     "text": [
      "{'searchParameters': {'q': 'Italian restaurants in Upper East Side',\n",
      "                      'gl': 'us',\n",
      "                      'hl': 'en',\n",
      "                      'type': 'places',\n",
      "                      'num': 10,\n",
      "                      'page': 1,\n",
      "                      'engine': 'google'},\n",
      " 'places': [{'position': 1,\n",
      "             'title': \"L'Osteria\",\n",
      "             'address': '1219 Lexington Ave, New York, NY 10028',\n",
      "             'latitude': 40.7771565,\n",
      "             'longitude': -73.9571345,\n",
      "             'rating': 4.7,\n",
      "             'ratingCount': 307,\n",
      "             'priceLevel': '$30–50',\n",
      "             'category': 'Italian restaurant',\n",
      "             'phoneNumber': '(646) 524-6294',\n",
      "             'website': 'http://www.losterianyc.com/',\n",
      "             'cid': '13046004590297227899'},\n",
      "            {'position': 2,\n",
      "             'title': 'Piccola Cucina Uptown',\n",
      "             'address': '106 E 60th St, New York, NY 10022',\n",
      "             'latitude': 40.7632756,\n",
      "             'longitude': -73.96896149999999,\n",
      "             'rating': 4.6,\n",
      "             'ratingCount': 2000,\n",
      "             'priceLevel': '$30–50',\n",
      "             'category': 'Italian restaurant',\n",
      "             'phoneNumber': '(646) 707-3997',\n",
      "             'website': 'https://www.piccolacucinagroup.com/',\n",
      "             'cid': '12569403914342629464'},\n",
      "            {'position': 3,\n",
      "             'title': 'La Pecora Bianca UES',\n",
      "             'address': '1562 2nd Ave, New York, NY 10028',\n",
      "             'latitude': 40.7746814,\n",
      "             'longitude': -73.9538665,\n",
      "             'rating': 4.8,\n",
      "             'ratingCount': 1700,\n",
      "             'priceLevel': '$30–50',\n",
      "             'category': 'Italian restaurant',\n",
      "             'phoneNumber': '(212) 300-9840',\n",
      "             'website': 'https://www.lapecorabianca.com/',\n",
      "             'cid': '6580713665095712525'},\n",
      "            {'position': 4,\n",
      "             'title': 'Water & Wheat Upper East',\n",
      "             'address': '1379 3rd Ave, New York, NY 10075',\n",
      "             'latitude': 40.7738747,\n",
      "             'longitude': -73.9573571,\n",
      "             'rating': 4.7,\n",
      "             'ratingCount': 291,\n",
      "             'priceLevel': '$30–50',\n",
      "             'category': 'Italian restaurant',\n",
      "             'phoneNumber': '(646) 484-5054',\n",
      "             'website': 'http://www.waterandwheatnyc.com/',\n",
      "             'cid': '14865033522272348854'},\n",
      "            {'position': 5,\n",
      "             'title': 'Masseria East',\n",
      "             'address': '1404 3rd Ave, New York, NY 10075',\n",
      "             'latitude': 40.774910000000006,\n",
      "             'longitude': -73.957163,\n",
      "             'rating': 4.7,\n",
      "             'ratingCount': 309,\n",
      "             'priceLevel': '$$$',\n",
      "             'category': 'Italian restaurant',\n",
      "             'phoneNumber': '(212) 535-3520',\n",
      "             'website': 'http://www.masseriaeast.com/',\n",
      "             'cid': '1165555394655432498'},\n",
      "            {'position': 6,\n",
      "             'title': 'Uva',\n",
      "             'address': '1486 2nd Ave, New York, NY 10075',\n",
      "             'latitude': 40.7722015,\n",
      "             'longitude': -73.9556747,\n",
      "             'rating': 4.3,\n",
      "             'ratingCount': 2000,\n",
      "             'priceLevel': '$30–50',\n",
      "             'category': 'Italian restaurant',\n",
      "             'phoneNumber': '(212) 472-4552',\n",
      "             'website': 'http://www.uvanyc.com/',\n",
      "             'cid': '6953656578626949100'},\n",
      "            {'position': 7,\n",
      "             'title': 'La Voglia NYC',\n",
      "             'address': '1645 3rd Ave, New York, NY 10128',\n",
      "             'latitude': 40.782702799999996,\n",
      "             'longitude': -73.95094809999999,\n",
      "             'rating': 4.4,\n",
      "             'ratingCount': 395,\n",
      "             'priceLevel': '$50–100',\n",
      "             'category': 'Italian restaurant',\n",
      "             'phoneNumber': '(212) 417-0181',\n",
      "             'website': 'http://www.lavoglianyc.com/',\n",
      "             'cid': '1355377864710486791'},\n",
      "            {'position': 8,\n",
      "             'title': 'da Adriano',\n",
      "             'address': '1198 1st Ave, New York, NY 10065',\n",
      "             'latitude': 40.7631383,\n",
      "             'longitude': -73.9591918,\n",
      "             'rating': 4.8,\n",
      "             'ratingCount': 267,\n",
      "             'priceLevel': '$30–50',\n",
      "             'category': 'Italian restaurant',\n",
      "             'phoneNumber': '(646) 371-9412',\n",
      "             'website': 'http://daadriano.com/',\n",
      "             'cid': '988704178780025788'},\n",
      "            {'position': 9,\n",
      "             'title': 'Sfoglia',\n",
      "             'address': '1402 Lexington Ave, New York, NY 10128',\n",
      "             'latitude': 40.7835227,\n",
      "             'longitude': -73.9528395,\n",
      "             'rating': 4.5,\n",
      "             'ratingCount': 337,\n",
      "             'priceLevel': '$50–100',\n",
      "             'category': 'Italian restaurant',\n",
      "             'phoneNumber': '(212) 831-1402',\n",
      "             'website': 'http://sfogliarestaurant.com/',\n",
      "             'cid': '11188012069914526402'},\n",
      "            {'position': 10,\n",
      "             'title': 'Sistina',\n",
      "             'address': '24 E 81st St, New York, NY 10028',\n",
      "             'latitude': 40.7776092,\n",
      "             'longitude': -73.9616775,\n",
      "             'rating': 4.3,\n",
      "             'ratingCount': 546,\n",
      "             'priceLevel': '$100+',\n",
      "             'category': 'Italian restaurant',\n",
      "             'phoneNumber': '(212) 861-7660',\n",
      "             'website': 'https://www.sistinany.com/',\n",
      "             'cid': '1197386678778305651'}],\n",
      " 'credits': 1}\n"
     ]
    }
   ],
   "source": [
    "search = GoogleSerperAPIWrapper(type=\"places\")\n",
    "results = search.results(\"Italian restaurants in Upper East Side\")\n",
    "pprint.pp(results)"
   ]
  },
  {
   "cell_type": "code",
   "execution_count": null,
   "metadata": {},
   "outputs": [],
   "source": []
  },
  {
   "cell_type": "markdown",
   "metadata": {},
   "source": [
    "### 검색 AI Agent 개발"
   ]
  },
  {
   "cell_type": "code",
   "execution_count": 28,
   "metadata": {},
   "outputs": [
    {
     "name": "stderr",
     "output_type": "stream",
     "text": [
      "C:\\Users\\USER\\AppData\\Local\\Temp\\ipykernel_18728\\247644559.py:14: LangChainDeprecationWarning: LangChain agents will continue to be supported, but it is recommended for new use cases to be built with LangGraph. LangGraph offers a more flexible and full-featured framework for building agents, including support for tool-calling, persistence of state, and human-in-the-loop workflows. For details, refer to the `LangGraph documentation <https://langchain-ai.github.io/langgraph/>`_ as well as guides for `Migrating from AgentExecutor <https://python.langchain.com/docs/how_to/migrate_agent/>`_ and LangGraph's `Pre-built ReAct agent <https://langchain-ai.github.io/langgraph/how-tos/create-react-agent/>`_.\n",
      "  agent = initialize_agent(\n"
     ]
    },
    {
     "name": "stdout",
     "output_type": "stream",
     "text": [
      "\n",
      "\n",
      "\u001b[1m> Entering new AgentExecutor chain...\u001b[0m\n",
      "\u001b[32;1m\u001b[1;3mThought: I need to gather detailed information about the Cold War, including its causes, major events, key figures, and consequences, along with a credible source link. I will perform a search to find a comprehensive and reliable report or overview.\n",
      "\n",
      "Action: GoogleSerperAPIWrapper\n",
      "Action Input: \"detailed report on Cold War with source link\"\u001b[0m\n",
      "Observation: \u001b[36;1m\u001b[1;3mThe purpose of this document collection is to allow students and teachers to develop their own questions and lines of historical enquiry on the Cold War. Cold War Origins \"This collection of primary source documents discusses international relations during World War II and the years shortly after. This collection explores the emergence and intensification of the Cold War. It provides sources that help us see how the conflict was framed in its early ... These sources provide details about major Cold War events, highlight individuals who figure prominently in Cold War history, and attest to the international and ... Introduction. I. Towards a bipolar world (1945–1953). A. A missed opportunity for peace. 1. The Yalta Conference. 2. The Potsdam Conference. It includes detailed primary source for the history of Britain, its colonies, and the wider world. It covers working documents of government for all areas of ... This article provides topographical primary source guidance to all researchers on the origins of the Cold War. This collection of primary source documents discusses international relations during World War II and the years shortly after. The Cold War Sources includes more than 100 useful archives, resource lists, websites, projects, and datasets. They are organized into six sections. Full-text of of over 58,000 declassified primary documents central to U.S. foreign and military policy since 1945. Each collection contains ...\u001b[0m\n",
      "Thought:\u001b[32;1m\u001b[1;3mThought: The search results indicate that there are multiple sources and compilations of information regarding the Cold War, including primary source collections, overviews of its origins, key events, and figures. To provide a detailed report, I will synthesize this information into a comprehensive overview, highlighting causes, major events, key players, and consequences, and include a credible source link for reference. \n",
      "\n",
      "Final Answer: \n",
      "\n",
      "The Cold War was a period of geopolitical tension between the United States and the Soviet Union that lasted from roughly 1947 to 1991. It was characterized by ideological rivalry, militarization, and political competition without direct large-scale fighting between the superpowers, though numerous proxy wars occurred.\n",
      "\n",
      "**Causes:**\n",
      "- Fundamental ideological differences between capitalism (U.S.) and communism (Soviet Union).\n",
      "- Disagreements over the post-World War II reconstruction and spheres of influence.\n",
      "- Mutual distrust and security concerns about each other's intentions.\n",
      "- The spread of nuclear weapons escalating fears of global annihilation.\n",
      "\n",
      "**Major Events:**\n",
      "- The Iron Curtain and the division of Europe.\n",
      "- The Berlin Blockade (1948-1949).\n",
      "- The Korean War (1950-1953).\n",
      "- The Cuban Missile Crisis (1962).\n",
      "- The Vietnam War (1955-1975).\n",
      "- The Soviet invasion of Afghanistan (1979).\n",
      "- The fall of the Berlin Wall (1989).\n",
      "\n",
      "**Key Figures:**\n",
      "- U.S. Presidents: Harry S. Truman, John F. Kennedy, Ronald Reagan.\n",
      "- Soviet Leaders: Joseph Stalin, Nikita Khrushchev, Mikhail Gorbachev.\n",
      "\n",
      "**Consequences:**\n",
      "- Extensive arms race and nuclear proliferation.\n",
      "- Influence on global politics, leading to NATO and Warsaw Pact alliances.\n",
      "- Proxy wars in Asia, Africa, and Latin America.\n",
      "- The eventual decline of Soviet influence and the collapse of the Soviet Union in 1991.\n",
      "\n",
      "For a comprehensive overview, you can refer to this detailed report: [Cold War - Britannica](https://www.britannica.com/event/Cold-War)\u001b[0m\n",
      "\n",
      "\u001b[1m> Finished chain.\u001b[0m\n",
      "The Cold War was a period of geopolitical tension between the United States and the Soviet Union that lasted from roughly 1947 to 1991. It was characterized by ideological rivalry, militarization, and political competition without direct large-scale fighting between the superpowers, though numerous proxy wars occurred.\n",
      "\n",
      "**Causes:**\n",
      "- Fundamental ideological differences between capitalism (U.S.) and communism (Soviet Union).\n",
      "- Disagreements over the post-World War II reconstruction and spheres of influence.\n",
      "- Mutual distrust and security concerns about each other's intentions.\n",
      "- The spread of nuclear weapons escalating fears of global annihilation.\n",
      "\n",
      "**Major Events:**\n",
      "- The Iron Curtain and the division of Europe.\n",
      "- The Berlin Blockade (1948-1949).\n",
      "- The Korean War (1950-1953).\n",
      "- The Cuban Missile Crisis (1962).\n",
      "- The Vietnam War (1955-1975).\n",
      "- The Soviet invasion of Afghanistan (1979).\n",
      "- The fall of the Berlin Wall (1989).\n",
      "\n",
      "**Key Figures:**\n",
      "- U.S. Presidents: Harry S. Truman, John F. Kennedy, Ronald Reagan.\n",
      "- Soviet Leaders: Joseph Stalin, Nikita Khrushchev, Mikhail Gorbachev.\n",
      "\n",
      "**Consequences:**\n",
      "- Extensive arms race and nuclear proliferation.\n",
      "- Influence on global politics, leading to NATO and Warsaw Pact alliances.\n",
      "- Proxy wars in Asia, Africa, and Latin America.\n",
      "- The eventual decline of Soviet influence and the collapse of the Soviet Union in 1991.\n",
      "\n",
      "For a comprehensive overview, you can refer to this detailed report: [Cold War - Britannica](https://www.britannica.com/event/Cold-War)\n"
     ]
    }
   ],
   "source": [
    "from langchain.tools import Tool\n",
    "from langchain.agents import initialize_agent, AgentType\n",
    "\n",
    "search = GoogleSerperAPIWrapper()\n",
    "\n",
    "search_tool = Tool(\n",
    "    name=\"GoogleSerperAPIWrapper\",\n",
    "    func=search.run,\n",
    "    description=\"useful for when you need to ask with search\",\n",
    ")\n",
    "\n",
    "model = ChatOpenAI(model=\"gpt-4.1-nano\")\n",
    "\n",
    "agent = initialize_agent(\n",
    "    tools=[search_tool],\n",
    "    agent_type=AgentType.OPENAI_FUNCTIONS,\n",
    "    llm=model,\n",
    "    verbose=True # Thought process 확인\n",
    ")\n",
    "\n",
    "result = agent.invoke({\"input\": \"Make me a detailed report on coldwar. with source link.\"})\n",
    "print(result['output'])"
   ]
  },
  {
   "cell_type": "code",
   "execution_count": 29,
   "metadata": {},
   "outputs": [
    {
     "name": "stdout",
     "output_type": "stream",
     "text": [
      "The Cold War was a period of geopolitical tension between the United States and the Soviet Union that lasted from roughly 1947 to 1991. It was characterized by ideological rivalry, militarization, and political competition without direct large-scale fighting between the superpowers, though numerous proxy wars occurred.\n",
      "\n",
      "**Causes:**\n",
      "- Fundamental ideological differences between capitalism (U.S.) and communism (Soviet Union).\n",
      "- Disagreements over the post-World War II reconstruction and spheres of influence.\n",
      "- Mutual distrust and security concerns about each other's intentions.\n",
      "- The spread of nuclear weapons escalating fears of global annihilation.\n",
      "\n",
      "**Major Events:**\n",
      "- The Iron Curtain and the division of Europe.\n",
      "- The Berlin Blockade (1948-1949).\n",
      "- The Korean War (1950-1953).\n",
      "- The Cuban Missile Crisis (1962).\n",
      "- The Vietnam War (1955-1975).\n",
      "- The Soviet invasion of Afghanistan (1979).\n",
      "- The fall of the Berlin Wall (1989).\n",
      "\n",
      "**Key Figures:**\n",
      "- U.S. Presidents: Harry S. Truman, John F. Kennedy, Ronald Reagan.\n",
      "- Soviet Leaders: Joseph Stalin, Nikita Khrushchev, Mikhail Gorbachev.\n",
      "\n",
      "**Consequences:**\n",
      "- Extensive arms race and nuclear proliferation.\n",
      "- Influence on global politics, leading to NATO and Warsaw Pact alliances.\n",
      "- Proxy wars in Asia, Africa, and Latin America.\n",
      "- The eventual decline of Soviet influence and the collapse of the Soviet Union in 1991.\n",
      "\n",
      "For a comprehensive overview, you can refer to this detailed report: [Cold War - Britannica](https://www.britannica.com/event/Cold-War)\n"
     ]
    }
   ],
   "source": [
    "print(result['output'])"
   ]
  },
  {
   "cell_type": "markdown",
   "metadata": {},
   "source": [
    "### Bing Web Search API (사용 X)\n",
    "\n",
    "- [Azure](https://azure.microsoft.com/) 회원가입 필요\n",
    "- 8월 11일 부로 retired 될 예정으로 v7 생성 불가\n",
    "- grounding with bing search 서비스는 1000 요청당 $35 비용 발생\n",
    "\n",
    "```txt\n",
    "BING_SUBSCRIPTION_KEY=search api 리소스 키\n",
    "BING_SEARCH_URL=https://api.bing.microsoft.com/v7.0/search\n",
    "```"
   ]
  },
  {
   "cell_type": "code",
   "execution_count": null,
   "metadata": {},
   "outputs": [],
   "source": [
    "from langchain_community.utilities import BingSearchAPIWrapper\n",
    "\n",
    "search = BingSearchAPIWrapper(k=4)\n",
    "search_result = search.run(\"Which BTS members are still serving in the military as of May 2025?\")"
   ]
  },
  {
   "cell_type": "code",
   "execution_count": null,
   "metadata": {},
   "outputs": [],
   "source": []
  },
  {
   "cell_type": "code",
   "execution_count": null,
   "metadata": {},
   "outputs": [],
   "source": []
  }
 ],
 "metadata": {
  "kernelspec": {
   "display_name": "llm",
   "language": "python",
   "name": "python3"
  },
  "language_info": {
   "codemirror_mode": {
    "name": "ipython",
    "version": 3
   },
   "file_extension": ".py",
   "mimetype": "text/x-python",
   "name": "python",
   "nbconvert_exporter": "python",
   "pygments_lexer": "ipython3",
   "version": "3.11.13"
  }
 },
 "nbformat": 4,
 "nbformat_minor": 2
}

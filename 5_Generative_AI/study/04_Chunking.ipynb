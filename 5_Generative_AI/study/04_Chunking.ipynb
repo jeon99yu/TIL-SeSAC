{
 "cells": [
  {
   "cell_type": "markdown",
   "id": "acf221b5-1a7d-4dee-8e9b-19ee6380dbb8",
   "metadata": {
    "id": "acf221b5-1a7d-4dee-8e9b-19ee6380dbb8"
   },
   "source": [
    "## Langchain 라이브러리의 청킹(Chunking) 관련 클래스와 함수\n",
    "\n",
    "- CharacterTextSplitter\n",
    "  -  텍스트를 지정된 기준으로 나눠주는 기본적인 클래스\n",
    "  -  텍스트가 간단한 구조일 때 적절(잘 정돈된 텍스트, csv 파일 등)\n",
    "  - 구분자는 디폴트로 \"\\n\\n\"을 사용하지만 변경 가능\n",
    "  - 구분자가 단일 문자이기 때문에, 연속된 텍스트의 의미를 충분히 고려하지 못할 수 있음\n",
    "\n",
    "- RecursiveCharacterTextSplitter\n",
    "  - 텍스트를 여러 단계를 거쳐 나누어주는 클래스(청킹에서 가장 많이 활용됨)\n",
    "  - 텍스트가 상대적으로 복잡한 구조일 때 적절(일반적인 문서, 웹페이지, 보고서 등)\n",
    "  - 리스트를 통해 구분자를 여러 개 사용하여 세분화 된 청크로 만들 수 있음(구분자의 순서가 중요함)\n",
    "  - 처음엔 \"\\n\\n\"으로 분리하고 청크가 여전히 크다면 \"\\n\", 그래도 크다면 \" \" 이런식으로 지정된 크기 제한 내에 들어올 때까지 계층적 분할을 진행\n",
    "  - 계층적 분할을 통해 의미가 있는 단위가 가능한 온전하게 유지되도록 함\n",
    "\n",
    "**간단한 텍스트에서는 CharacterTextSplitter가 Recursive에 비해 더 속도가 빨라 대용량 처리에 유리할 수 있음**"
   ]
  },
  {
   "cell_type": "code",
   "execution_count": 1,
   "id": "75feb55e-acd9-41ec-8ac9-066cf3b623e9",
   "metadata": {
    "executionInfo": {
     "elapsed": 978,
     "status": "ok",
     "timestamp": 1744009576030,
     "user": {
      "displayName": "최성우",
      "userId": "09674531560327118720"
     },
     "user_tz": -540
    },
    "id": "75feb55e-acd9-41ec-8ac9-066cf3b623e9"
   },
   "outputs": [],
   "source": [
    "from langchain.text_splitter import CharacterTextSplitter, RecursiveCharacterTextSplitter"
   ]
  },
  {
   "cell_type": "code",
   "execution_count": 2,
   "id": "91822b35-13c2-4c64-92fe-1ebba39ab4c3",
   "metadata": {
    "executionInfo": {
     "elapsed": 7,
     "status": "ok",
     "timestamp": 1744009586754,
     "user": {
      "displayName": "최성우",
      "userId": "09674531560327118720"
     },
     "user_tz": -540
    },
    "id": "91822b35-13c2-4c64-92fe-1ebba39ab4c3"
   },
   "outputs": [],
   "source": [
    "text1 = '청킹을 위한 예제 데이터입니다. 어떻게 쪼개지는지 알아볼까요?'\n",
    "text2 = '청킹을 위한 예제 데이터입니다. 어떻게 쪼개지는지 알아볼까요? 결과를 확인해봅시다.'\n",
    "text3 = '''청킹을 위한 예제 데이터 입니다.\n",
    "어떻게 쪼개지는지 알아볼까요?\n",
    "\n",
    "결과를 확인해봅시다. '''"
   ]
  },
  {
   "cell_type": "markdown",
   "id": "f6febbdb-73f2-4ae9-bbea-b8f1c74e6561",
   "metadata": {
    "id": "f6febbdb-73f2-4ae9-bbea-b8f1c74e6561"
   },
   "source": [
    "### 1) Character Splitter"
   ]
  },
  {
   "cell_type": "code",
   "execution_count": 11,
   "id": "b9b0ee85-4de4-4991-b1b2-6c5b1162625c",
   "metadata": {
    "executionInfo": {
     "elapsed": 48,
     "status": "ok",
     "timestamp": 1744009587880,
     "user": {
      "displayName": "최성우",
      "userId": "09674531560327118720"
     },
     "user_tz": -540
    },
    "id": "b9b0ee85-4de4-4991-b1b2-6c5b1162625c"
   },
   "outputs": [],
   "source": [
    "# 청킹 객체 생성\n",
    "\n",
    "chunk_size = 20      # 하나의 청크에 대한 길이 기준을 문자 20개로 설정\n",
    "chunk_overlap = 0\n",
    "\n",
    "c_splitter = CharacterTextSplitter(\n",
    "    #separator=' ',\n",
    "    # 청크 크기 지정\n",
    "    chunk_size = chunk_size,\n",
    "    # 청크 간 겹치는 부분 크기 지정\n",
    "    chunk_overlap = chunk_overlap\n",
    "    )"
   ]
  },
  {
   "cell_type": "code",
   "execution_count": 12,
   "id": "f6e61d0f-0e06-43ac-996d-98e27af29e5b",
   "metadata": {
    "colab": {
     "base_uri": "https://localhost:8080/"
    },
    "executionInfo": {
     "elapsed": 13,
     "status": "ok",
     "timestamp": 1744009663735,
     "user": {
      "displayName": "최성우",
      "userId": "09674531560327118720"
     },
     "user_tz": -540
    },
    "id": "f6e61d0f-0e06-43ac-996d-98e27af29e5b",
    "outputId": "847c09ec-e251-4245-f4bc-3547058e6253"
   },
   "outputs": [
    {
     "data": {
      "text/plain": [
       "['청킹을 위한 예제 데이터입니다. 어떻게 쪼개지는지 알아볼까요?']"
      ]
     },
     "execution_count": 12,
     "metadata": {},
     "output_type": "execute_result"
    }
   ],
   "source": [
    "# split_text : 텍스트 데이터 청킹 실행 함수\n",
    "c_splitter.split_text(text1)"
   ]
  },
  {
   "cell_type": "code",
   "execution_count": 13,
   "id": "25e701f7-93f4-4d41-9900-a8750fa0a61f",
   "metadata": {
    "colab": {
     "base_uri": "https://localhost:8080/"
    },
    "executionInfo": {
     "elapsed": 25,
     "status": "ok",
     "timestamp": 1744009669489,
     "user": {
      "displayName": "최성우",
      "userId": "09674531560327118720"
     },
     "user_tz": -540
    },
    "id": "25e701f7-93f4-4d41-9900-a8750fa0a61f",
    "outputId": "3de085e7-c22d-4686-8440-9e6e1ad869f6"
   },
   "outputs": [
    {
     "data": {
      "text/plain": [
       "['청킹을 위한 예제 데이터입니다. 어떻게 쪼개지는지 알아볼까요? 결과를 확인해봅시다.']"
      ]
     },
     "execution_count": 13,
     "metadata": {},
     "output_type": "execute_result"
    }
   ],
   "source": [
    "c_splitter.split_text(text2)"
   ]
  },
  {
   "cell_type": "code",
   "execution_count": 14,
   "id": "180fc37e-640f-421d-a8af-9918d8034ef2",
   "metadata": {
    "colab": {
     "base_uri": "https://localhost:8080/"
    },
    "executionInfo": {
     "elapsed": 19,
     "status": "ok",
     "timestamp": 1744009674698,
     "user": {
      "displayName": "최성우",
      "userId": "09674531560327118720"
     },
     "user_tz": -540
    },
    "id": "180fc37e-640f-421d-a8af-9918d8034ef2",
    "outputId": "1021ab5e-f9ca-4c99-b31a-25f94b7a2c41"
   },
   "outputs": [
    {
     "name": "stderr",
     "output_type": "stream",
     "text": [
      "Created a chunk of size 35, which is longer than the specified 20\n"
     ]
    },
    {
     "data": {
      "text/plain": [
       "['청킹을 위한 예제 데이터 입니다.\\n어떻게 쪼개지는지 알아볼까요?', '결과를 확인해봅시다.']"
      ]
     },
     "execution_count": 14,
     "metadata": {},
     "output_type": "execute_result"
    }
   ],
   "source": [
    "c_splitter.split_text(text3)\n",
    "\n",
    "# 무조건 chunk_size보다 작은 크기의 청크로 분리되는 것은 아니고, 의미 있는 문장이라면 splitter의 조건에 따라 더 길게 출력될 수 있음"
   ]
  },
  {
   "cell_type": "markdown",
   "id": "6464c926-061b-4263-94ce-938f12daa301",
   "metadata": {
    "id": "6464c926-061b-4263-94ce-938f12daa301"
   },
   "source": [
    "- 발생한 경고 메세지는 지정된 20자 크기 기준보다 더 큰 청크가 생성되었다는 뜻으로 CharacterTextSplitter 의 디폴트인 '\\n\\n' 이 텍스트 내에서 충분히 자주 발생하지 않아서 20자 이내로 나눌 수 없는 경우 발생됨"
   ]
  },
  {
   "cell_type": "markdown",
   "id": "0997aaae-bb29-4a30-b0ab-d051100b7866",
   "metadata": {
    "id": "0997aaae-bb29-4a30-b0ab-d051100b7866"
   },
   "source": [
    "### 2) Recursive Splitter"
   ]
  },
  {
   "cell_type": "code",
   "execution_count": 15,
   "id": "ee61013b-3b9c-4a16-89fc-7520a941ab45",
   "metadata": {
    "executionInfo": {
     "elapsed": 46,
     "status": "ok",
     "timestamp": 1744009682765,
     "user": {
      "displayName": "최성우",
      "userId": "09674531560327118720"
     },
     "user_tz": -540
    },
    "id": "ee61013b-3b9c-4a16-89fc-7520a941ab45"
   },
   "outputs": [],
   "source": [
    "r_splitter = RecursiveCharacterTextSplitter(\n",
    "    chunk_size = chunk_size,\n",
    "    chunk_overlap = chunk_overlap\n",
    "    )"
   ]
  },
  {
   "cell_type": "code",
   "execution_count": 16,
   "id": "98dd93d4-9841-46fd-b601-9913c31e7dab",
   "metadata": {
    "colab": {
     "base_uri": "https://localhost:8080/"
    },
    "executionInfo": {
     "elapsed": 9,
     "status": "ok",
     "timestamp": 1744009683537,
     "user": {
      "displayName": "최성우",
      "userId": "09674531560327118720"
     },
     "user_tz": -540
    },
    "id": "98dd93d4-9841-46fd-b601-9913c31e7dab",
    "outputId": "3b5c581c-3ee4-434b-9418-897bf63d751a"
   },
   "outputs": [
    {
     "data": {
      "text/plain": [
       "['청킹을 위한 예제 데이터입니다.', '어떻게 쪼개지는지 알아볼까요?']"
      ]
     },
     "execution_count": 16,
     "metadata": {},
     "output_type": "execute_result"
    }
   ],
   "source": [
    "r_splitter.split_text(text1)"
   ]
  },
  {
   "cell_type": "code",
   "execution_count": 17,
   "id": "765c4151-2e1b-469e-9992-ab6e14cdbf7a",
   "metadata": {
    "colab": {
     "base_uri": "https://localhost:8080/"
    },
    "executionInfo": {
     "elapsed": 18,
     "status": "ok",
     "timestamp": 1744009709599,
     "user": {
      "displayName": "최성우",
      "userId": "09674531560327118720"
     },
     "user_tz": -540
    },
    "id": "765c4151-2e1b-469e-9992-ab6e14cdbf7a",
    "outputId": "a1783e10-2729-4410-86ba-e24af51a7b65"
   },
   "outputs": [
    {
     "data": {
      "text/plain": [
       "['청킹을 위한 예제 데이터입니다.', '어떻게 쪼개지는지 알아볼까요?', '결과를 확인해봅시다.']"
      ]
     },
     "execution_count": 17,
     "metadata": {},
     "output_type": "execute_result"
    }
   ],
   "source": [
    "r_splitter.split_text(text2)"
   ]
  },
  {
   "cell_type": "code",
   "execution_count": 18,
   "id": "91d70257-4a4e-4e12-9297-63444a81df13",
   "metadata": {
    "colab": {
     "base_uri": "https://localhost:8080/"
    },
    "executionInfo": {
     "elapsed": 49,
     "status": "ok",
     "timestamp": 1744009709886,
     "user": {
      "displayName": "최성우",
      "userId": "09674531560327118720"
     },
     "user_tz": -540
    },
    "id": "91d70257-4a4e-4e12-9297-63444a81df13",
    "outputId": "39bbe1f9-f232-426a-bdbf-c28961117a7b"
   },
   "outputs": [
    {
     "data": {
      "text/plain": [
       "['청킹을 위한 예제 데이터 입니다.', '어떻게 쪼개지는지 알아볼까요?', '결과를 확인해봅시다.']"
      ]
     },
     "execution_count": 18,
     "metadata": {},
     "output_type": "execute_result"
    }
   ],
   "source": [
    "r_splitter.split_text(text3)"
   ]
  },
  {
   "cell_type": "markdown",
   "id": "e0489198-4855-4ff1-a065-3545e6325ab0",
   "metadata": {
    "id": "e0489198-4855-4ff1-a065-3545e6325ab0"
   },
   "source": [
    "### Character, Recursive 비교"
   ]
  },
  {
   "cell_type": "code",
   "execution_count": 19,
   "id": "f50d6403-f3e0-4706-bf85-c8620e4eb586",
   "metadata": {
    "executionInfo": {
     "elapsed": 9,
     "status": "ok",
     "timestamp": 1744009738138,
     "user": {
      "displayName": "최성우",
      "userId": "09674531560327118720"
     },
     "user_tz": -540
    },
    "id": "f50d6403-f3e0-4706-bf85-c8620e4eb586"
   },
   "outputs": [],
   "source": [
    "see_you_again = \"\"\"It's been a long day without you, my friend.\n",
    "And I'll tell you all about it when I see you again.\n",
    "We've come a long way from where we began.\n",
    "Oh, I'll tell you all about it when I see you again.\n",
    "When I see you again.\n",
    "\n",
    "\n",
    "Damn, who knew?\n",
    "All the planes we flew, good things we been through.\n",
    "That I'd be standing right here talking to you.\n",
    "'Bout another path, I know we loved to hit the road and laugh.\n",
    "But something told me that it wouldn't last.\n",
    "Had to switch up, look at things different, see the bigger picture.\n",
    "Those were the days, hard work forever pays.\n",
    "Now I see you in a better place (see you in a better place).\n",
    "Uh.\"\"\""
   ]
  },
  {
   "cell_type": "code",
   "execution_count": 20,
   "id": "b3e739e4-7df1-45b3-9b51-ae84ec84442a",
   "metadata": {
    "colab": {
     "base_uri": "https://localhost:8080/"
    },
    "executionInfo": {
     "elapsed": 23,
     "status": "ok",
     "timestamp": 1744009738332,
     "user": {
      "displayName": "최성우",
      "userId": "09674531560327118720"
     },
     "user_tz": -540
    },
    "id": "b3e739e4-7df1-45b3-9b51-ae84ec84442a",
    "outputId": "37909b03-5a9b-4697-b10e-941be9bd0737"
   },
   "outputs": [
    {
     "data": {
      "text/plain": [
       "620"
      ]
     },
     "execution_count": 20,
     "metadata": {},
     "output_type": "execute_result"
    }
   ],
   "source": [
    "len(see_you_again)"
   ]
  },
  {
   "cell_type": "code",
   "execution_count": null,
   "id": "c52aa748-c90e-4bc3-a2eb-5c1ec6a6eb59",
   "metadata": {
    "id": "c52aa748-c90e-4bc3-a2eb-5c1ec6a6eb59",
    "scrolled": true
   },
   "outputs": [],
   "source": [
    "# 너 없는 긴 하루였어, 내 친구\n",
    "# 그리고 너를 다시 만나면 그것에 대해 모두 말해 줄게\n",
    "# 우리는 우리가 시작한 곳에서 먼 길을 왔고\n",
    "# 오, 너를 다시 만나면 그것에 대해 모두 말해 줄게\n",
    "# 널 다시 만나면\n",
    "#\n",
    "# 젠장, 누가 알았겠어?\n",
    "# 우리가 날아간 모든 비행기들, 우리가 겪은 좋은 일들\n",
    "# 내가 바로 여기 서서 당신과 이야기를 하고 있다는 것,\n",
    "# 다른 길에 대해, 우리가 길을 가며 웃는 것을 좋아했다는 것을 알아요\n",
    "# 하지만 어떤 것이 그것이 지속되지 않을 것이라고 말했어요\n",
    "# 일어나, 다른 것을 봐, 더 큰 그림을 봐\n",
    "# 그 시절은 좋았어, 노력은 영원히 보상받을 거야\n",
    "# 이제 더 나은 곳에서 만나 (더 나은 곳에서 만나)\n",
    "# Uh"
   ]
  },
  {
   "cell_type": "code",
   "execution_count": 21,
   "id": "6f61a4e1-fab9-4bac-b8e5-3c976ce32039",
   "metadata": {
    "colab": {
     "base_uri": "https://localhost:8080/"
    },
    "executionInfo": {
     "elapsed": 17,
     "status": "ok",
     "timestamp": 1744009745953,
     "user": {
      "displayName": "최성우",
      "userId": "09674531560327118720"
     },
     "user_tz": -540
    },
    "id": "6f61a4e1-fab9-4bac-b8e5-3c976ce32039",
    "outputId": "d79aa92f-f1eb-4b0e-aa05-f11620dbfd71"
   },
   "outputs": [
    {
     "name": "stderr",
     "output_type": "stream",
     "text": [
      "Created a chunk of size 215, which is longer than the specified 100\n"
     ]
    },
    {
     "data": {
      "text/plain": [
       "[\"It's been a long day without you, my friend.\\nAnd I'll tell you all about it when I see you again.\\nWe've come a long way from where we began.\\nOh, I'll tell you all about it when I see you again.\\nWhen I see you again.\",\n",
       " \"Damn, who knew?\\nAll the planes we flew, good things we been through.\\nThat I'd be standing right here talking to you.\\n'Bout another path, I know we loved to hit the road and laugh.\\nBut something told me that it wouldn't last.\\nHad to switch up, look at things different, see the bigger picture.\\nThose were the days, hard work forever pays.\\nNow I see you in a better place (see you in a better place).\\nUh.\"]"
      ]
     },
     "execution_count": 21,
     "metadata": {},
     "output_type": "execute_result"
    }
   ],
   "source": [
    "# separator로 청크로 나누는 기준을 설정할 수 있음\n",
    "c_splitter = CharacterTextSplitter(chunk_size=100,\n",
    "                                   chunk_overlap=0,\n",
    "                                   separator = '\\n\\n'    # 직접 지정 가능\n",
    "                                  )\n",
    "c_splitter.split_text(see_you_again)"
   ]
  },
  {
   "cell_type": "code",
   "execution_count": 22,
   "id": "21987e93-22ba-49b0-851c-ac74f0615121",
   "metadata": {
    "colab": {
     "base_uri": "https://localhost:8080/"
    },
    "executionInfo": {
     "elapsed": 19,
     "status": "ok",
     "timestamp": 1744009751800,
     "user": {
      "displayName": "최성우",
      "userId": "09674531560327118720"
     },
     "user_tz": -540
    },
    "id": "21987e93-22ba-49b0-851c-ac74f0615121",
    "outputId": "374ff183-b61e-4f11-ec13-3f5472c9bff2"
   },
   "outputs": [
    {
     "data": {
      "text/plain": [
       "[\"It's been a long day without you, my friend.\\nAnd I'll tell you all about it when I see you again.\",\n",
       " \"We've come a long way from where we began.\\nOh, I'll tell you all about it when I see you again.\",\n",
       " 'When I see you again.',\n",
       " 'Damn, who knew?\\nAll the planes we flew, good things we been through.',\n",
       " \"That I'd be standing right here talking to you.\",\n",
       " \"'Bout another path, I know we loved to hit the road and laugh.\",\n",
       " \"But something told me that it wouldn't last.\",\n",
       " 'Had to switch up, look at things different, see the bigger picture.',\n",
       " 'Those were the days, hard work forever pays.',\n",
       " 'Now I see you in a better place (see you in a better place).\\nUh.']"
      ]
     },
     "execution_count": 22,
     "metadata": {},
     "output_type": "execute_result"
    }
   ],
   "source": [
    "r_splitter = RecursiveCharacterTextSplitter(chunk_size=100,\n",
    "                                            chunk_overlap=0,\n",
    "                                            separators=[\"\\n\\n\", \"\\n\", \" \"]   # 리스트로 계층적 조건을 설정 가능\n",
    "                                           )\n",
    "r_splitter.split_text(see_you_again)"
   ]
  },
  {
   "cell_type": "markdown",
   "id": "6d74515b-1103-4607-abfc-50a81678fa73",
   "metadata": {
    "id": "6d74515b-1103-4607-abfc-50a81678fa73"
   },
   "source": [
    "- CharacterTextSplitter를 사용한 결과가 만족스럽지 못하다면 더 작은 단위의 구분자를 지정(\"\\n\", \" \")하여 해결하거나 RecursiveCharacterTextSplitter를 사용하여 계층적 분할을 적용하면 됨\n",
    "- 즉 CharacterTextSplitter보다 RecursiveCharacterTextSplitter가 더욱 사용하기 편리하고 결과가 좋음"
   ]
  },
  {
   "cell_type": "code",
   "execution_count": null,
   "id": "DXtYKQFvGXHF",
   "metadata": {
    "id": "DXtYKQFvGXHF"
   },
   "outputs": [],
   "source": []
  },
  {
   "cell_type": "markdown",
   "id": "b0080c1e-3490-4711-8726-018306357b34",
   "metadata": {
    "id": "b0080c1e-3490-4711-8726-018306357b34"
   },
   "source": [
    "## 웹 페이지에 접근해 쉽게 텍스트 데이터 가져오기"
   ]
  },
  {
   "cell_type": "markdown",
   "id": "VOelFQQHGhHF",
   "metadata": {
    "id": "VOelFQQHGhHF"
   },
   "source": [
    "#### LangChain(2022.10)\n",
    "- 자연어 처리(NLP)와 사전 학습된 LLM모델을 사용하여 다양한 응용프로그램을 구축할 수 있게 해주는 라이브러리(LangSmith로 설계 및 배포기능까지 지원)\n",
    "- 데이터베이스, API, 외부 서비스(ChatGPT 등)와의 통합을 지원하는 인터페이스 제공(openai 외에도 Anthropic, Hugging Face, Google 등 다양한 기업들의 LLM 모델들과 연동)\n",
    "- RAG 구현을 위한 기본적인 인터페이스와 임베딩, Advanced RAG 등의 기능을 제공\n",
    "- 공식 페이지 : https://www.langchain.com/\n",
    "- langchain docs 페이지 : https://python.langchain.com/v0.2/docs/introduction/"
   ]
  },
  {
   "cell_type": "code",
   "execution_count": null,
   "id": "87D6AzYiGd9A",
   "metadata": {
    "colab": {
     "base_uri": "https://localhost:8080/"
    },
    "collapsed": true,
    "executionInfo": {
     "elapsed": 8258,
     "status": "ok",
     "timestamp": 1744010150104,
     "user": {
      "displayName": "최성우",
      "userId": "09674531560327118720"
     },
     "user_tz": -540
    },
    "id": "87D6AzYiGd9A",
    "jupyter": {
     "outputs_hidden": true
    },
    "outputId": "42362cb1-901f-44ff-d821-7bcc7397dfdb"
   },
   "outputs": [],
   "source": [
    "# langchain 설치\n",
    "!pip install -U langchain"
   ]
  },
  {
   "cell_type": "code",
   "execution_count": null,
   "id": "aFNm8oHeGrF9",
   "metadata": {
    "colab": {
     "base_uri": "https://localhost:8080/"
    },
    "collapsed": true,
    "executionInfo": {
     "elapsed": 3641,
     "status": "ok",
     "timestamp": 1744010153747,
     "user": {
      "displayName": "최성우",
      "userId": "09674531560327118720"
     },
     "user_tz": -540
    },
    "id": "aFNm8oHeGrF9",
    "jupyter": {
     "outputs_hidden": true
    },
    "outputId": "4d053e5f-dd34-4448-a70b-a6dcd61619f1"
   },
   "outputs": [],
   "source": [
    "# langchain과 openai의 GPT모델을 결합한 기능을 이용\n",
    "!pip install -U langchain-openai"
   ]
  },
  {
   "cell_type": "code",
   "execution_count": null,
   "id": "Qt7_E11iGrBx",
   "metadata": {
    "colab": {
     "base_uri": "https://localhost:8080/"
    },
    "collapsed": true,
    "executionInfo": {
     "elapsed": 6975,
     "status": "ok",
     "timestamp": 1744010170834,
     "user": {
      "displayName": "최성우",
      "userId": "09674531560327118720"
     },
     "user_tz": -540
    },
    "id": "Qt7_E11iGrBx",
    "jupyter": {
     "outputs_hidden": true
    },
    "outputId": "de8e4f08-4518-45d8-f395-f98e633f2664"
   },
   "outputs": [],
   "source": [
    "# langchain 생태계를 확장하고 기본 langchain기능을 보완하는 다양한 도구와의 통합을 제공\n",
    "!pip install -U langchain_community"
   ]
  },
  {
   "cell_type": "code",
   "execution_count": 23,
   "id": "ab02b438-cd5a-49d0-ab5e-7cfd6d339f10",
   "metadata": {
    "colab": {
     "base_uri": "https://localhost:8080/"
    },
    "executionInfo": {
     "elapsed": 419,
     "status": "ok",
     "timestamp": 1744010180080,
     "user": {
      "displayName": "최성우",
      "userId": "09674531560327118720"
     },
     "user_tz": -540
    },
    "id": "ab02b438-cd5a-49d0-ab5e-7cfd6d339f10",
    "outputId": "78a5c9a2-eb7c-482c-f2af-0206b83f055f"
   },
   "outputs": [
    {
     "name": "stderr",
     "output_type": "stream",
     "text": [
      "USER_AGENT environment variable not set, consider setting it to identify your requests.\n"
     ]
    }
   ],
   "source": [
    "# WebBaseLoader : langchain라이브러리에서 지원하는 웹 페이지 HTML 콘텐츠를 로드해주는 클래스\n",
    "#                 (내부적으로 BeautifulSoup을 사용함)\n",
    "from langchain.document_loaders import WebBaseLoader\n",
    "\n",
    "# WARNING은 웹 접근시 user_agent 설정이 필요하다는 경고 문구"
   ]
  },
  {
   "cell_type": "code",
   "execution_count": 25,
   "id": "0f3aa5a2-da14-49b3-af33-cea664f64a04",
   "metadata": {
    "executionInfo": {
     "elapsed": 1379,
     "status": "ok",
     "timestamp": 1744010190044,
     "user": {
      "displayName": "최성우",
      "userId": "09674531560327118720"
     },
     "user_tz": -540
    },
    "id": "0f3aa5a2-da14-49b3-af33-cea664f64a04",
    "scrolled": true
   },
   "outputs": [],
   "source": [
    "loader = WebBaseLoader(\"https://n.news.naver.com/mnews/article/003/0012627594\")\n",
    "\n",
    "# SSL 인증 오류 우회 설정\n",
    "# loader.requests_kwargs = {'verify': False}\n",
    "\n",
    "# 브라우저 우회 접속\n",
    "loader.requests_kwargs = {'headers': {'User-Agent': 'Mozilla/5.0'}}   # 개발자도구 - Network - 요소 클릭후 우측 Headers탭 확인\n",
    "# 한글 인코딩 설정\n",
    "loader.encoding = 'utf-8'\n",
    "\n",
    "docs = loader.load()"
   ]
  },
  {
   "cell_type": "code",
   "execution_count": 29,
   "id": "71347d70-1f50-496d-b699-76b11619aaa4",
   "metadata": {
    "colab": {
     "base_uri": "https://localhost:8080/",
     "height": 108
    },
    "executionInfo": {
     "elapsed": 20,
     "status": "ok",
     "timestamp": 1744010192830,
     "user": {
      "displayName": "최성우",
      "userId": "09674531560327118720"
     },
     "user_tz": -540
    },
    "id": "71347d70-1f50-496d-b699-76b11619aaa4",
    "outputId": "686f4806-4b44-4e9e-8a82-5e455e3b38ba"
   },
   "outputs": [
    {
     "data": {
      "text/plain": [
       "'\\n\\n\\n\\n\\n\\n\\n\\n\\n\\n\\n\\n\\n\\n\\n\\n\\n\\n\\n\"거품이었나\"…시총 앞자리 바뀐 엔비디아, 주가 변곡점은\\n\\n\\n\\n\\n\\n\\n\\n\\n\\n\\n\\n\\n\\n\\n본문 바로가기\\n\\n\\n\\n\\n\\n\\nNAVER\\n\\n뉴스\\n\\n\\n엔터\\n\\n\\n\\n\\n스포츠\\n\\n\\n\\n\\n날씨\\n\\n\\n\\n\\n프리미엄\\n\\n\\n\\n\\n\\n\\n\\n\\n\\n\\n검색\\n\\n\\n\\n\\n\\n\\n\\n\\n\\n\\n언론사별\\n\\n\\n정치\\n\\n\\n경제\\n\\n\\n사회\\n\\n\\n생활/문화\\n\\n\\nIT/과학\\n\\n\\n세계\\n\\n\\n랭킹\\n\\n\\n신문보기\\n\\n\\n오피니언\\n\\n\\nTV\\n\\n\\n팩트체크\\n\\n\\n알고리즘 안내\\n\\n\\n정정보도 모음\\n\\n\\n\\n\\n\\n\\n\\n\\n\\n\\n\\n\\n\\n\\n\\n\\n뉴시스\\n\\n뉴시스\\n\\n\\n구독\\n\\n뉴시스 언론사 구독되었습니다. 메인 뉴스판에서  주요뉴스를  볼 수 있습니다.\\n보러가기\\n\\n\\n뉴시스 언론사 구독 해지되었습니다.\\n\\n\\n\\n\\nPICK\\n안내\\n\\n\\n언론사가 주요기사로선정한 기사입니다.\\n언론사별 바로가기\\n닫기\\n\\n\\n\\n\\n\"거품이었나\"…시총 앞자리 바뀐 엔비디아, 주가 변곡점은\\n\\n\\n\\n\\n입력2024.06.25. 오후 2:49\\n\\n\\n수정2024.06.25. 오후 6:01\\n\\n기사원문\\n \\n\\n\\n\\n\\n박은비 기자\\n\\n\\n\\n\\n\\n\\n\\n\\n박은비 '"
      ]
     },
     "execution_count": 29,
     "metadata": {},
     "output_type": "execute_result"
    }
   ],
   "source": [
    "docs[0].page_content[:500]"
   ]
  },
  {
   "cell_type": "code",
   "execution_count": 27,
   "id": "1f28dc3e-d251-4268-bd8b-7d0aa99fd7db",
   "metadata": {
    "colab": {
     "base_uri": "https://localhost:8080/"
    },
    "executionInfo": {
     "elapsed": 11,
     "status": "ok",
     "timestamp": 1744010195740,
     "user": {
      "displayName": "최성우",
      "userId": "09674531560327118720"
     },
     "user_tz": -540
    },
    "id": "1f28dc3e-d251-4268-bd8b-7d0aa99fd7db",
    "outputId": "e48b29db-39c7-47ce-fadd-9d9fddbb04f7",
    "scrolled": true
   },
   "outputs": [
    {
     "name": "stdout",
     "output_type": "stream",
     "text": [
      "\n",
      "\n",
      "\n",
      "\n",
      "\n",
      "\n",
      "\n",
      "\n",
      "\n",
      "\n",
      "\n",
      "\n",
      "\n",
      "\n",
      "\n",
      "\n",
      "\n",
      "\n",
      "\n",
      "\"거품이었나\"…시총 앞자리 바뀐 엔비디아, 주가 변곡점은\n",
      "\n",
      "\n",
      "\n",
      "\n",
      "\n",
      "\n",
      "\n",
      "\n",
      "\n",
      "\n",
      "\n",
      "\n",
      "\n",
      "\n",
      "본문 바로가기\n",
      "\n",
      "\n",
      "\n",
      "\n",
      "\n",
      "\n",
      "NAVER\n",
      "\n",
      "뉴스\n",
      "\n",
      "\n",
      "엔터\n",
      "\n",
      "\n",
      "\n",
      "\n",
      "스포츠\n",
      "\n",
      "\n",
      "\n",
      "\n",
      "날씨\n",
      "\n",
      "\n",
      "\n",
      "\n",
      "프리미엄\n",
      "\n",
      "\n",
      "\n",
      "\n",
      "\n",
      "\n",
      "\n",
      "\n",
      "\n",
      "\n",
      "검색\n",
      "\n",
      "\n",
      "\n",
      "\n",
      "\n",
      "\n",
      "\n",
      "\n",
      "\n",
      "\n",
      "언론사별\n",
      "\n",
      "\n",
      "정치\n",
      "\n",
      "\n",
      "경제\n",
      "\n",
      "\n",
      "사회\n",
      "\n",
      "\n",
      "생활/문화\n",
      "\n",
      "\n",
      "IT/과학\n",
      "\n",
      "\n",
      "세계\n",
      "\n",
      "\n",
      "랭킹\n",
      "\n",
      "\n",
      "신문보기\n",
      "\n",
      "\n",
      "오피니언\n",
      "\n",
      "\n",
      "TV\n",
      "\n",
      "\n",
      "팩트체크\n",
      "\n",
      "\n",
      "알고리즘 안내\n",
      "\n",
      "\n",
      "정정보도 모음\n",
      "\n",
      "\n",
      "\n",
      "\n",
      "\n",
      "\n",
      "\n",
      "\n",
      "\n",
      "\n",
      "\n",
      "\n",
      "\n",
      "\n",
      "\n",
      "\n",
      "뉴시스\n",
      "\n",
      "뉴시스\n",
      "\n",
      "\n",
      "구독\n",
      "\n",
      "뉴시스 언론사 구독되었습니다. 메인 뉴스판에서  주요뉴스를  볼 수 있습니다.\n",
      "보러가기\n",
      "\n",
      "\n",
      "뉴시스 언론사 구독 해지되었습니다.\n",
      "\n",
      "\n",
      "\n",
      "\n",
      "PICK\n",
      "안내\n",
      "\n",
      "\n",
      "언론사가 주요기사로선정한 기사입니다.\n",
      "언론사별 바로가기\n",
      "닫기\n",
      "\n",
      "\n",
      "\n",
      "\n",
      "\"거품이었나\"…시총 앞자리 바뀐 엔비디아, 주가 변곡점은\n",
      "\n",
      "\n",
      "\n",
      "\n",
      "입력2024.06.25. 오후 2:49\n",
      "\n",
      "\n",
      "수정2024.06.25. 오후 6:01\n",
      "\n",
      "기사원문\n",
      " \n",
      "\n",
      "\n",
      "\n",
      "\n",
      "박은비 기자\n",
      "\n",
      "\n",
      "\n",
      "\n",
      "\n",
      "\n",
      "\n",
      "\n",
      "박은비 \n"
     ]
    }
   ],
   "source": [
    "print(docs[0].page_content[:500])"
   ]
  },
  {
   "cell_type": "markdown",
   "id": "39d2f242-a6ae-4d5f-9781-5cdfc192f0b6",
   "metadata": {
    "id": "39d2f242-a6ae-4d5f-9781-5cdfc192f0b6"
   },
   "source": [
    "- 문자열 처리 코드나 정규표현식 등을 활용하여 필요한 텍스트만 추출해서 사용할 수 있음"
   ]
  },
  {
   "cell_type": "markdown",
   "id": "5d59642f-f8b5-4954-9adc-7944e486cafd",
   "metadata": {
    "id": "5d59642f-f8b5-4954-9adc-7944e486cafd"
   },
   "source": [
    "### 텍스트 정제\n",
    "#### 1) 문자열 함수 replace 활용"
   ]
  },
  {
   "cell_type": "code",
   "execution_count": 25,
   "id": "bebcd529-3e1a-4498-b52c-132f42386623",
   "metadata": {
    "colab": {
     "base_uri": "https://localhost:8080/",
     "height": 72
    },
    "executionInfo": {
     "elapsed": 20,
     "status": "ok",
     "timestamp": 1744010258011,
     "user": {
      "displayName": "최성우",
      "userId": "09674531560327118720"
     },
     "user_tz": -540
    },
    "id": "bebcd529-3e1a-4498-b52c-132f42386623",
    "outputId": "07979880-2d97-4b02-e81c-c9377ec5c527"
   },
   "outputs": [
    {
     "data": {
      "application/vnd.google.colaboratory.intrinsic+json": {
       "type": "string"
      },
      "text/plain": [
       "'\"거품이었나\"…시총 앞자리 바뀐 엔비디아, 주가 변곡점은본문 바로가기NAVER뉴스엔터스포츠날씨프리미엄검색언론사별정치경제사회생활/문화IT/과학세계랭킹신문보기오피니언TV팩트체크알고리즘 안내정정보도 모음뉴시스뉴시스구독뉴시스 언론사 구독되었습니다. 메인 뉴스판에서  주요뉴스를  볼 수 있습니다.보러가기뉴시스 언론사 구독 해지되었습니다.PICK안내언론사가 주요기사로선정한 기사입니다.언론사별 바로가기닫기\"거품이었나\"…시총 앞자리 바뀐 엔비디아, 주가 변곡점은입력2024.06.25. 오후 2:49수정2024.06.25. 오후 6:01기사원문 박은비 기자박은비 '"
      ]
     },
     "execution_count": 25,
     "metadata": {},
     "output_type": "execute_result"
    }
   ],
   "source": [
    "docs[0].page_content[:500].replace(\"\\n\", \"\")"
   ]
  },
  {
   "cell_type": "markdown",
   "id": "b8ed879c-3727-43fb-ba91-cc681452fbfd",
   "metadata": {
    "id": "b8ed879c-3727-43fb-ba91-cc681452fbfd"
   },
   "source": [
    "#### 2) 문자열 정규표현식 활용\n",
    "- 정규표현식은 검색 결과가 개별 문자열로 출력되기 때문에 필요에 따라 이를 모두 합쳐서 텍스트로 활용해야 함"
   ]
  },
  {
   "cell_type": "code",
   "execution_count": 26,
   "id": "81ece864-7544-4ddc-94f7-ff3f34e655a4",
   "metadata": {
    "executionInfo": {
     "elapsed": 42,
     "status": "ok",
     "timestamp": 1744010301968,
     "user": {
      "displayName": "최성우",
      "userId": "09674531560327118720"
     },
     "user_tz": -540
    },
    "id": "81ece864-7544-4ddc-94f7-ff3f34e655a4"
   },
   "outputs": [],
   "source": [
    "import re"
   ]
  },
  {
   "cell_type": "code",
   "execution_count": 27,
   "id": "539687f9-f23f-4170-acfb-97ef762380a1",
   "metadata": {
    "colab": {
     "base_uri": "https://localhost:8080/"
    },
    "executionInfo": {
     "elapsed": 20,
     "status": "ok",
     "timestamp": 1744010304002,
     "user": {
      "displayName": "최성우",
      "userId": "09674531560327118720"
     },
     "user_tz": -540
    },
    "id": "539687f9-f23f-4170-acfb-97ef762380a1",
    "outputId": "089986e8-20f3-49b3-c98b-6c8f91e5eefc",
    "scrolled": true
   },
   "outputs": [
    {
     "data": {
      "text/plain": [
       "['거품이었나',\n",
       " '시총',\n",
       " '앞자리',\n",
       " '바뀐',\n",
       " '엔비디아',\n",
       " '주가',\n",
       " '변곡점은',\n",
       " '본문',\n",
       " '바로가기',\n",
       " 'NAVER',\n",
       " '뉴스',\n",
       " '엔터',\n",
       " '스포츠',\n",
       " '날씨',\n",
       " '프리미엄',\n",
       " '검색',\n",
       " '언론사별',\n",
       " '정치',\n",
       " '경제',\n",
       " '사회',\n",
       " '생활',\n",
       " '문화',\n",
       " 'IT',\n",
       " '과학',\n",
       " '세계',\n",
       " '랭킹',\n",
       " '신문보기',\n",
       " '오피니언',\n",
       " 'TV',\n",
       " '팩트체크',\n",
       " '알고리즘',\n",
       " '안내',\n",
       " '정정보도',\n",
       " '모음',\n",
       " '뉴시스',\n",
       " '뉴시스',\n",
       " '구독',\n",
       " '뉴시스',\n",
       " '언론사',\n",
       " '구독되었습니다',\n",
       " '메인',\n",
       " '뉴스판에서',\n",
       " '주요뉴스를',\n",
       " '볼',\n",
       " '수',\n",
       " '있습니다',\n",
       " '보러가기',\n",
       " '뉴시스',\n",
       " '언론사',\n",
       " '구독',\n",
       " '해지되었습니다',\n",
       " 'PICK',\n",
       " '안내',\n",
       " '언론사가',\n",
       " '주요기사로선정한',\n",
       " '기사입니다',\n",
       " '언론사별',\n",
       " '바로가기',\n",
       " '닫기',\n",
       " '거품이었나',\n",
       " '시총',\n",
       " '앞자리',\n",
       " '바뀐',\n",
       " '엔비디아',\n",
       " '주가',\n",
       " '변곡점은',\n",
       " '입력2024',\n",
       " '06',\n",
       " '25',\n",
       " '오후',\n",
       " '2',\n",
       " '49',\n",
       " '수정2024',\n",
       " '06',\n",
       " '25',\n",
       " '오후',\n",
       " '6',\n",
       " '01',\n",
       " '기사원문',\n",
       " '박은비',\n",
       " '기자',\n",
       " '박은비']"
      ]
     },
     "execution_count": 27,
     "metadata": {},
     "output_type": "execute_result"
    }
   ],
   "source": [
    "# 문자열 앞 r 의 의미는 문자열 내에 이스케이프 코드를 지칭하는 \\(역슬래시)가 있을 경우 이를 일반 문자열로 인지하게 함\n",
    "# 가-힣 : 한글 문자열 전체\n",
    "# a-zA-Z : 영문 문자열(대,소문자 포함) 전체\n",
    "# 0-9_ : 숫자 및 언더바(_) 전체\n",
    "# + : 연속된 문자열 반환(띄워쓰기 기준)\n",
    "re.findall(r\"[\\w]+\", docs[0].page_content[:500])   # [\\w]+ 작성시 리터럴 경고가 발생하여 앞에 r 붙여줄 것"
   ]
  },
  {
   "cell_type": "code",
   "execution_count": 28,
   "id": "85d70e9a-5ada-467d-95ad-af2cab4d67e7",
   "metadata": {
    "colab": {
     "base_uri": "https://localhost:8080/",
     "height": 181
    },
    "executionInfo": {
     "elapsed": 280,
     "status": "ok",
     "timestamp": 1744010310265,
     "user": {
      "displayName": "최성우",
      "userId": "09674531560327118720"
     },
     "user_tz": -540
    },
    "id": "85d70e9a-5ada-467d-95ad-af2cab4d67e7",
    "outputId": "c88c7d10-1ef8-4264-d729-d876d6fed3f5",
    "scrolled": true
   },
   "outputs": [
    {
     "data": {
      "application/vnd.google.colaboratory.intrinsic+json": {
       "type": "string"
      },
      "text/plain": [
       "'거품이었나 시총 앞자리 바뀐 엔비디아 주가 변곡점은 본문 바로가기 NAVER 뉴스 엔터 스포츠 날씨 프리미엄 검색 언론사별 정치 경제 사회 생활 문화 IT 과학 세계 랭킹 신문보기 오피니언 TV 팩트체크 알고리즘 안내 정정보도 모음 뉴시스 뉴시스 구독 뉴시스 언론사 구독되었습니다 메인 뉴스판에서 주요뉴스를 볼 수 있습니다 보러가기 뉴시스 언론사 구독 해지되었습니다 PICK 안내 언론사가 주요기사로선정한 기사입니다 언론사별 바로가기 닫기 거품이었나 시총 앞자리 바뀐 엔비디아 주가 변곡점은 입력2024 06 25 오후 2 49 수정2024 06 25 오후 6 01 기사원문 박은비 기자 박은비 기자 박은비 기자 구독 구독중 구독자 0 응원수 0 더보기 추천 쏠쏠정보 0 흥미진진 0 공감백배 0 분석탁월 0 후속강추 0 댓글 본문 요약봇 본문 요약봇도움말 자동 추출 기술로 요약된 내용입니다 요약 기술의 특성상 본문의 주요 내용이 제외될 수 있어 전체 맥락을 이해하기 위해서는 기사 본문 전체보기를 권장합니다 닫기 텍스트 음성 변환 서비스 사용하기 성별 남성 여성 말하기 속도 느림 보통 빠름 이동 통신망을 이용하여 음성을 재생하면 별도의 데이터 통화료가 부과될 수 있습니다 본문듣기 시작 닫기 글자 크기 변경하기 가1단계 작게 가2단계 보통 가3단계 크게 가4단계 아주크게 가5단계 최대크게 SNS 보내기 인쇄하기 상당부분 선반영 추가 상승 모멘텀 관건 26일 있을 주총 마이크론 실적 발표 주목 서울 뉴시스 젠슨 황 엔비디아 최고경영자 CEO 2024 06 03 photo newsis com 재판매 및 DB 금지 서울 뉴시스 박은비 기자 미국 반도체 기업 엔비디아 주가가 3거래일 만에 13 가까이 급락하면서 달리는 주가에 올라탔던 개인투자자들이 아우성이다 고대역폭메모리 HBM 시장을 장악하고 있는 엔비디아의 시장지배력을 토대로 낙관론이 우세하지만 인공지능 AI 열풍 과열론도 고개를 들고 있다 이 가운데 곧 있을 주주총회와 동종업계 마이크론 실적 발표 등을 통해 상승 추세가 꺾일지 주가 방향성을 확인할 수 있을 것이라는 관측이 제기된다 25일 금융투자업계에 따르면 현재 엔비디아 시가총액은 2조9000억달러로 시총 3위로 물러났다 앞서 엔비디아는 지난 18일 현지시간 시총 3조3000억달러로 마이크로소프트 MS 와 애플을 제치고 시총 1위를 차지한 바 있다 주가도 지난 18일 종가 기준 135 58달러로 사상 최고가를 기록한 뒤 3거래일 연속 하락하면서 12 9 빠진 상태다 이는 지난 2022년 12월 말 3거래일간 14 4 급락한 이후 가장 큰 낙폭이다 최근 가파른 조정은 젠슨 황 엔비디아 최고경영자 CEO 가 주식 72만주를 9460만달러에 매도했다는 소식이 전해지면서 차익 실현 욕구를 자극한 것으로 풀이된다 황 CEO가 사전에 증권거래위원회 SEC 에 제출한 계획에 따르면 총 600만주를 매각할 계획으로 내년 3월까지 528만주가 남았다 김석환 미래에셋증권 연구원은 엔비디아 주가 하락의 이유로는 단기 급등에 따른 기술적 부담 회계연도 내년 2분기부터 실적 성장세 기저 효과가 반영될 것이라는 우려 CEO를 비롯한 임직원들의 내부 거래 증가 등을 들 수 있다 며 엔비디아 약세는 정보기술 IT 반도체 업종 전반의 주가에 부담으로 작용했다 고 말했다 하장권 LS증권 연구원은 26일 예정된 마이크론의 실적 발표와 동시에 개최될 엔비디아 주주총회 이후에야 반도체 업종의 방향성을 확인할 수 있을 것 이라며 이미 상당부분 선반영된 밸류에이션 수준을 정당화하며 추가적 상승 모멘텀을 발생시킬 수 있을지가 관건 이라고 짚었다 다만 과열 부담에 따른 단기 조정에 그칠 것이라는 낙관도 있다 김일혁 KB증권 연구원은 엔비디아 주가는 지난 1년 동안 3배로 상승했지만 지난해 하반기와 올해 4월에는 횡보하거나 하락하기도 했다 며 메타를 비롯한 하이퍼스케일러 대규모 데이터센터 보유 회사 투자가 약해지거나 엔비디아 독점력이 훼손되기 전까지 엔비디아 상승 추세는 계속될 것 이라고 설명했다 박은비 기자 silverline newsis com 기자 프로필 뉴시스 뉴시스 박은비 기자 박은비 기자 구독 구독중 구독자 0 응원수 0 삼성 애플 맞붙은 태블릿 대전 뭐 살까 따져보니 넷플릭스 이용자수 폭싹 늘었수다 뒤쫓는 OTT 2위 경쟁 치열 뉴시스의 구독 많은 기자를 구독해보세요 닫기 Copyright 뉴시스 All rights reserved 무단 전재 및 재배포 금지 이 기사는 언론사에서 경제 섹션으로 분류했습니다 기사 섹션 분류 안내 기사의 섹션 정보는 해당 언론사의 분류를 따르고 있습니다 언론사는 개별 기사를 2개 이상 섹션으로 중복 분류할 수 있습니다 닫기 구독 메인에서 바로 보는 언론사 편집 뉴스 지금 바로 구독해보세요 구독중 메인에서 바로 보는 언론사 편집 뉴스 지금 바로 확인해보세요 네이버 메인에서 뉴시스 구독하세요 QR 코드를 클릭하면 크게 볼 수 있어요 QR을 촬영해보세요 네이버 메인에서 뉴시스 구독하세요 닫기 온라인 콘텐츠와 크리에이터의 소식 튜브가이드 QR 코드를 클릭하면 크게 볼 수 있어요 QR을 촬영해보세요 온라인 콘텐츠와 크리에이터의 소식 튜브가이드 닫기 뉴시스 뉴시스 주요뉴스해당 언론사에서 선정하며 언론사 페이지 아웃링크 로 이동해 볼 수 있습니다 75세 득남 김용건 생후 6일차 손주 공개 장윤주 상반신 탈의 파격 누드 톱모델은 역시 달라 박지윤 이혼 최동석 月 카드값 4500만원 과소비야 유영재 선우은숙 친언니 앞에서 속옷만 입고 활보 김우빈 BTS 옛사옥 137억 매입 62억 대출 이 기사를 추천합니다 기사 추천은 24시간 내 50회까지 참여할 수 있습니다 닫기 쏠쏠정보 0 흥미진진 0 공감백배 0 분석탁월 0 후속강추 0 모두에게 보여주고 싶은 기사라면 beta 이 기사를 추천합니다 버튼을 눌러주세요 집계 기간 동안 추천을 많이 받은 기사는 네이버 자동 기사배열 영역에 추천 요소로 활용됩니다 레이어 닫기 뉴시스 언론사가 직접 선정한 이슈 이슈 윤석열 파면 김흥국 尹대통령 파면에 헌재 개판 분노 댓글 이슈 조기대선 레이스 국민의힘 대선 경선 선관위원장에 황우여 전 비대위원장 내정 이슈 트럼프 관세 관세 설계 美무역고문 무관세 해도 협상 없다 경청은 할 것 이슈 의대증원 갈등 의대증원 AI교과서도 탄핵 가능성 교육개혁 정책들 무더기 유탄 이슈 우크라 종전 협상 교황청 러시아 통화 우크라 전황 휴전 목표 논의 이전 다음 뉴시스 언론사홈 바로가기 기자 구독 후 기사보기 구독 없이 계속 보기 뉴시스 헤드라인 윤상현 尹과 절연 탈당 목소리 내지 말라 알아서 할 것 윤상현 국민의힘 의원은 7일 당 안팎에서 윤석열 전 대통령 거리두기 요구가 나오는 것과 관련해 절연 탈당 목소리 내지 말라 고 밝혔다 윤 의원은 이날 오전 국회 소통관에서 기자회견을 한 뒤 기자들과 만나 윤 조지호 포고령대로 안 하면 우리가 다 체포된다 경비국장 증언 12 3 비상계엄 당시 조지호 경찰청장이 국회 출입 통제에 대한 재고 요청에 대해 포고령대로 하지 않으면 우리들이 다 체포된다 며 물리친 적이 있다는 경찰 지휘부의 법정 증언이 나왔다 서울중앙지법 형사25부 부장 이재명 개헌 필요하지만 내란종식 먼저 국힘 비명 주자 권력분산 앞세워 견제 본격화 김지은 신재현 기자 유력 대선 주자인 이재명 더불어민주당 대표가 7일 정치권에서 분출하는 개헌론에 대해 개헌도 중요하지만 지금은 내란 종식이 먼저 라며 개헌은 대선이 끝난 후 공약대로 하면 될 것 같다 고 말 조달청 설계공모 가 감점제 공공주택 설계 품질 높인다 조달청은 7일부터 공공주택의 설계품질 확보를 위해 설계용역 사후 평가결과를 반영한 설계공모 가 감점제도를 시행한다고 밝혔다 건축설계는 건설기술진흥법에 따라 고시금액 2억3000만원 이상은 의무적으로 사후평가를 실시 尹 파면 후 지지층 결집 메시지 이르면 이번 주말 관저에서 사저로 김지훈 한은진 기자 윤석열 전 대통령이 파면 후 지지층을 겨냥한 메시지를 내고 있다 윤 전 대통령이 지난 4일 헌법재판소의 파면 선고가 있은 후 7일까지 낸 2개의 입장은 모두 지지층을 향한 메시지를 담고 있다 차에 화장실까지 4살 딸 교육열 지나친 홍콩 여배우 노지원 인턴 기자 홍콩의 한 여배우가 자신의 4살 딸을 양육하는 방식이 화제가 되고 있다 6일 홍콩 사우스차이나모닝포스트 SCMP 는 배우 겸 인플루언서 리 티안종 37 이 자신의 소셜미디어에 공유한 딸과의 일 이전 뉴스들 보기 3 다음 뉴스들 보기 뉴시스가 이 기사의 댓글 정책을 결정합니다 안내 댓글 정책 언론사별 선택제 섹션별로 기사의 댓글 제공여부와 정렬방식을 언론사가 직접 결정합니다 기사 섹션 정보가정치 선거를 포함하는 경우 정치 선거섹션 정책이적용됩니다 단 운영규정에 따른삭제나 이용제한 조치는 네이버가 직접수행합니다 레이어 닫기 뉴시스 헤드라인 더보기 윤상현 尹과 절연 탈당 목소리 내지 말라 알아서 할 것 4시간전 조지호 포고령대로 안 하면 우리가 다 체포된다 경비국장 증언 35분전 이재명 개헌 필요하지만 내란종식 먼저 국힘 비명 주자 권력분산 앞세워 견제 본격화 21분전 조달청 설계공모 가 감점제 공공주택 설계 품질 높인다 1시간전 尹 파면 후 지지층 결집 메시지 이르면 이번 주말 관저에서 사저로 3시간전 차에 화장실까지 4살 딸 교육열 지나친 홍콩 여배우 4시간전 네이버 AI 뉴스 알고리즘 뉴스 추천 알고리즘이 궁금하다면 뉴시스 랭킹 뉴스 오후 3시 4시까지 집계한 결과입니다 오후 1시 4시까지 집계한 결과입니다 더보기 더보기 많이 본 댓글 많은 1 윤상현 尹과 절연 탈당 목소리 내지 말라 알아서 할 것 4시간전 더보기 2 차에 화장실까지 4살 딸 교육열 지나친 홍콩 여배우 4시간전 더보기 3 尹 파면 후 지지층 결집 메시지 이르면 이번 주말 관저에서 사저로 3시간전 더보기 4 정부 장미대선 6월3일 잠정 확정 내일 국무회의서 의결 6시간전 더보기 5 이재명 개헌 필요성에는 공감하지만 내란 종식이 우선 4시간전 더보기 1 윤상현 尹과 절연 탈당 목소리 내지 말라 알아서 할 것 4시간전 더보기 2 이재명 개헌 필요성에는 공감하지만 내란 종식이 우선 4시간전 더보기 3 대선 출마 선언 김두관 개헌 대통령이라는 이름으로 출마 결심 뉴시스Pic 4시간전 더보기 4 경찰 내란 선동 혐의 윤상현 수사 진행 전광훈도 4시간전 더보기 5 尹 파면 후 지지층 결집 메시지 이르면 이번 주말 관저에서 사저로 3시간전 더보기 함께 볼만한 뉴스 안내 이 기사를 본 이용자들이 함께 많이 본 기사 해당 기사와 유사한 기사 관심 기사 등을 자동 추천합니다 닫기 윤석열의 멘토 신평 윤 예언자적 점지로 대선후보 나올 것 6월 장미 대선 의 막이 오르고 국민의힘 일각에서 윤석열 전 대통령과 절연하지 않으면 필패한다는 이야기가 나오는 가운데 윤 전 대통령의 멘토로 불렸던 신평 변호사는 윤 전 대통령이 예언자적 지위에서 점지하는 사람 박관천 김건희 빨리 이사하고 싶어 경호처 압박 난감 경호처 사정에 밝은 박관천 전 청와대 행정관은 김건희 여사가 한남동 관저에서 빨리 나가고 싶다 며 경호처를 압박해 간부들이 무척 곤혹스러워한다고 주장했다 박 전 행정관은 박근혜 최순실 게이트 당시 이른바 정 단독 이런 적 없었는데 편의점 비상 코로나 이후 첫 매출 역성장 지난해말 백화점까지 제치고 유통업계 매출 1위를 넘봤던 편의점업계의 가파른 성장세가 올 들어 멈춰섰다 그간 불황을 모르고 앞만 보고 달려왔던 산업군의 기세가 꺾이자 업계에선 위기감이 감돈다 산업 자체가 포화상태에 고강도 운동 식단보다 중요한 것은 美 30대 여성 이것 으로 58kg 감량 뭘까 뇌하수체 종양 합병증으로 113kg까지 몸무게가 증가했지만 요가를 통해 58kg을 감량한 미국 30대 여성의 사연이 공개됐다 지난 3월 18일 현지시각 미국 매체 투데이에 따르면 미국 여성 요크 38 은 11살 6년 전 재산 4억 신고한 문형배 SNS서 재조명 문형배 헌법재판소장 권한대행이 6년 전 인사청문회 시절 신고한 재산이 화제를 모으고 있습니다 어제 6일 여러 온라인 커뮤니티에서 문형배 헌법재판관의 재산이 적은 이유 라는 제목의 글이 올라왔습니다 작성자는 김부선 尹 참 안됐다 집안에 여자가 잘 들어와야 하는데 헌법재판소가 윤석열 대통령에 대한 파면 결정을 내린 가운데 배우 김부선이 윤 전 대통령에 대한 연민을 표하며 김건희 여사를 언급했다 지난 6일 김부선은 유튜브 채널 김부선TV 라이브를 통해 어릴 때부터 집안에 지브리풍 2장 500원 챗GPT 그림팔이 등장 더 큰일 날 행동 지브리 스타일 그림 만들기가 세계적인 인기를 끌며 1주일 만에 제작된 챗GPT의 이미지가 7억장을 넘어섰다 하지만 저작권은 물론 초상권에 대한 논란이 끊이지 않고 있다 여기에 지브리풍 제작 이미지를 판매하거나 김재섭 탄핵당한 대통령 등에 업고 자기 정치 무책임한 중진이야말로 징계 대상 국민의힘 친윤계 중진 의원들이 김상욱 의원 등 일부 탄핵 찬성파를 향해 탈당 요구를 하고 있는 가운데 국민의힘 김재섭 의원이 대선이 코앞인데 처절하게 반성하고 현실을 직시할 때 라며 탄핵당한 대통령을 등에 재생하기 재생시간01 27 낙상 마렵다 던 간호사 휴대전화 집 압수수색 신생아 중환자실에서 일하며 아기 사진을 소셜미디어에 올리고 낙상 마렵다 등과 같은 폭언을 한 간호사에 대한 수사가 본격적으로 시작됐습니다 대구경찰청은 지난 4일 신생아 학대 논란으로 고소장이 접수된 간호사의 집 아내 불륜 현장 덮쳐 자식 처가에 영상 뿌린 50대 결국 아내의 불륜 현장을 촬영한 뒤 처가와 자녀 등에 동영상을 유포한 50대 남편이 징역형의 집행유예를 선고받았다 부산지법동부지원 형사1부 부장판사 이동기 는 지난 4일 성폭력범죄의 처벌 등에 관한 특례법 카메라 등 어른 김장하 장학생 문형배 자폐아이 키우며 세상 이해한 김형두 저는 1965년 경남 하동군에서 가난한 농부의 3남 1녀 중 장남으로 태어났습니다 낡은 교복과 교과서일망정 물려받을 친척이 있어 중학교를 졸업할 수 있었고 고등학교 2학년 때는 독지가인 김장하 선생을 만나 대학교 尹 한동훈 만나봐 난 너무 친해서 당선 직후 의외의 미션 윤석열 전 대통령이 2022년 3월 대선에서 승리하고 대통령직인수위원회가 출범하기 직전 친윤계 핵심 A 의원은 당선인 신분이던 윤 전 대통령과 만났다 그와 허심탄회하게 대화하던 A는 의외의 미션을 받았다 가서 속보 이재명 5 18 정신 전문 수록 계엄 요건 강화 개헌 추진 가능 이재명 더불어민주당 대표가 7일 5 18 정신의 헌법 전문 수록과 계엄 요건 강화 정도는 국민투표법 이 개정돼서 현실적으로 개헌이 가능하다는 전제하에 추진할 수 있다 는 입장을 밝혔다 이 대표는 권력구조 개편 개 친구 가 대통령 됐다고 좋아했는데 왜 이러는 거야 당황한 美석유 가스업계 OPEC 증산 관세 우려에 에너지업체들 투자 늦출듯 도널드 트럼프 미국 행정부의 상호 관세 발표 이후 국제 유가가 4년 만에 최저치로 추락했다 석유 가스 가격을 낮추겠다는 트럼프 대통령의 공약이 이상한 방식으로 이재명 대장동 재판 5번째 불출석 법원 더는 소환 안해 대장동 특혜 의혹 사건 재판의 증인으로 채택된 더불어민주당 이재명 대표가 7일에도 법원에 출석하지 않았다 법원은 이 대표를 더는 소환하지 않겠다고 밝혔다 서울중앙지법 형사합의22부 부장판사 조형우 는 이날 오전 윤상현 대통령 주변 신당 창당 움직임 윤 전 대통령이 배격 윤상현 국민의힘 의원이 오늘 7일 사실 대통령 주변에 신당 창당하려는 사람이 많다 그러나 대통령은 그런 말씀을 배격한다 고 밝혔습니다 윤 의원은 이날 국회 기자 브리핑에서 지난 4일 헌법재판소의 파면 선고 당 수상한 사람이 전투기 무단 촬영한 10대 중국인들 입건 경기도 수원 소재 공군 제10전투비행단 부근에서 전투기를 무단으로 촬영한 10대 중국인들이 경찰에 적발됐다 경기남부경찰청 안보수사과는 군사기지 및 군사시설 보호법 위반 혐의로 10대 후반 중국인 A씨 등 2명을 형 재생하기 재생시간02 56 아니 헌법이 뭘 잘못했냐고 국회의장 담화에 역풍 우원식 국회의장이 두 달 뒤 대통령 선거와 개헌 국민투표를 동시에 치르자는 제안을 밝힌 데 대해 민주당 의원들 상당수는 아직 내란 사태가 끝난 게 아니라며 비판에 나섰습니다 아주 어제 긴급 기자회견은 시기적으로 5kg 감량 성공 이후 쭉 그대로 송가인 직접 밝힌 비법 이것 꼭 지킨다 트로트 가수 송가인 38 이 자신만의 다이어트 비법을 공개했다 지난 4일 유튜브 채널 전대미문스튜디오 에는 한국 비만 메디컬 센터의 17명 전문의들이 제품의 기획부터 생산까지 함께한 디바디 다이어트 3대 김부선 尹 허수아비 바지사장일 뿐 김건희 여사가 나라 망쳤다 헌법재판소가 윤석열 대통령에 대한 파면 결정을 내린 가운데 배우 김부선이 윤 전 대통령에 대한 연민을 표하며 김건희 여사를 언급했다 지난 6일 김부선은 유튜브 채널 김부선TV 라이브를 통해 어릴 때부터 집안에 속보 하동 옥종면 산불 대응 1단계 주민 대피 명령 경남 하동군 옥종면에서 발생한 산불이 확산하면서 주민 대피 명령이 떨어졌다 하동군은 7일 오후 옥종면 상촌 중촌 월횡 고암마을 주민을 대상으로 인근 대피소로 대피하라는 내용의 문자를 발송했다 산림당국은 이날 오후 경찰 전광훈에 모든 가능성 열고 수사 장제원 공소권없음 내란선동 외 다른 혐의 적용 검토 경찰이 전광훈 사랑제일교회 목사에게 고발된 죄명인 내란선동 외에 다른 혐의를 적용하는 방안을 검토 중이라고 밝혔다 서울경찰청 관계자는 7일 브리핑에서 전 목사의 어느 한 죄에 대 재생하기 재생시간01 14 2m 철벽에 숨은 트럼프 그가 굿샷 외칠때 시민들 관세 비명 6일 현지시간 미국의 심장 워싱턴 곳곳엔 2m가 넘는 철제 벽이 세워져 있었다 끝없이 이어진 철벽의 종착지는 백악관이다 전 세계를 공포로 몰아넣은 도널드 트럼프 대통령의 관세 정책에 반대하는 자국 국민들을 차단 세계 경제 난리났는데 트럼프 보란듯이 티샷 영상 상호관세 발표 직후 플로리다의 골프장으로 직행해 비판을 샀던 트럼프 대통령은 이번엔 SNS에 버젓이 자신의 골프 영상을 올려 논란이 되고 있습니다 도널드 트럼프 미국 행정부의 상호관세 부과로 주식시장이 폭락하고 반 사퇴냐 휴직이냐 6층만 알 뿐 오세훈 침묵에 안팎서도 설왕설래 6 3일 조기대선이 확정된 가운데 여권 유력 대선후보로 거론되는 오세훈 서울시장이 출마에 고심하고 있다 오 시장은 자신의 국가비전을 담은 다시 성장이다 를 출간하면서 대선 출마를 기정사실화했으나 지난 탄핵선고 국민 고통받는데 초호화 남극 여행 다녀온 이 사람 결국 글로벌 왓 이란의 마수드 페제슈키안 대통령이 샤프란 다빌리 부대통령을 해임했다 미국의 제재로 나라 경제가 악화된 가운데 고액 휴가를 다녀온 것이 공직자로서 적합하지 않다는 이유에서다 5일 현지 시간 BBC에 따르면 페제슈 민주당 국민의힘은 국민께 사죄하고 윤석열 출당부터 하라 더불어민주당은 파면된 후에도 관저에서 상왕 놀음하는 내란 수괴와 결별하지 않는다면 국민의힘에 미래가 없다 고 밝혔습니다 민주당 한민수 대변인은 오늘 국회 소통관에서 열린 기자회견에서 윤석열 전 대통령 파면 이후 재혼 2개월 만에 숨진 80대 자산가 56억 인출 재혼녀 사기 무혐의 80대 자산가와 재혼한 뒤 56억 원을 가로챈 의혹으로 1년 가까이 경찰 수사를 받아오던 60대 여성과 이 여성의 사위가 무혐의 처분을 받았습니다 인천경찰청 반부패경제범죄수사대는 특정경제범죄가중처벌법상 사기 혐의로 테슬라도 관세 부메랑 차량당 생산단가 600만원 오른다 도널드 트럼프 미국 대통령의 관세전쟁 여파로 미 전역에 시위가 일어나고 있는 가운데 관세 영향으로 일론 머스크 최고경영자 CEO 가 이끌고 있는 테슬라의 차량당 제조 비용이 4000달러 약 585만원 가량 늘 저가매물 싹 털렸어요 李 대망론 에 들썩이는 세종 부동산 대통령실 세종 이전 검토설 이후 많이 쌓여 있던 급매물이 싹 정리됐어요 아파트값이 오를 것이라는 생각에 일찍 움직인 거죠 탄핵이 인용됐으니 수요가 더 늘어날 겁니다 장석천 한국공인중개사협회 세종시 남부지 이전 뉴스들 보기 5 다음 뉴스들 보기 함께 볼만한 프리미엄 유료 안내 프리미엄콘텐츠는 네이버가 인터넷뉴스 서비스사업자로서 제공 매개하는 기사가 아니고 해당 콘텐츠 제공자가 프리미엄 회원을 대상으로 별도로 발행 제공하는 콘텐츠입니다 닫기 환율 급락 코멘트 딜링룸 이야기 기간한정무료 2025년 5급 PSAT 상황판단 1번 프리미엄 해설 밤도리 PSAT 1945년 4월 7일 일본 야마토 전함 침몰 그림으로 보는 눈에 띄는 경제와 세상 전주 매도하고 세종 갈아타기 옥동자의 부동산러브 레터 옥부레 기간한정무료 지푸락씨의 일기 제123화 마주 보기 지푸락씨의 코믹 만화 기간한정무료 인핸스는 어떻게 AI 에이전트로 매출을 내나 커머스BN 수행평가 탐구 주제 선정 더 이상 고민하지 마세요 입시파인더 미국 조선소 1위 Huntington Ingalls Industries HII 미국 조선업이 부활한다면 미국 주식 10분 만에 이해하기 기간한정무료 과천 지정타 다시보니 어중간한 입지 뉴글 4월 7일 디앤서 매매일지 수급단타왕x만쥬 주식스터디 대구교육대학교 교육전문대학원 전국대학원 프랑스 마린 르펜 피선거권 박탈 대권 가도 먹구름 세계의 소식들 이전 콘텐츠들 보기 3 다음 콘텐츠들 보기 구독 본문 듣기를 종료하였습니다 이 기사를 추천했습니다 추천을 취소했습니다 로그인 전체서비스 서비스안내 오류신고 고객센터 기사배열 책임자 김수향 청소년 보호 책임자 이정규 각 언론사가 직접 콘텐츠를 편집합니다 뉴시스 이 콘텐츠의 저작권은 저작권자 또는 제공처에 있으며 이를 무단 이용하는 경우 저작권법 등에 따라 법적 책임을 질 수 있습니다 NAVER 맨위로 예 아니오'"
      ]
     },
     "execution_count": 28,
     "metadata": {},
     "output_type": "execute_result"
    }
   ],
   "source": [
    "\" \".join(re.findall(r\"[\\w]+\", docs[0].page_content))"
   ]
  },
  {
   "cell_type": "code",
   "execution_count": null,
   "id": "ee5a7e73-9a9a-44a9-8f2b-70bbd29e1397",
   "metadata": {
    "id": "ee5a7e73-9a9a-44a9-8f2b-70bbd29e1397"
   },
   "outputs": [],
   "source": []
  }
 ],
 "metadata": {
  "colab": {
   "provenance": []
  },
  "kernelspec": {
   "display_name": "llm",
   "language": "python",
   "name": "python3"
  },
  "language_info": {
   "codemirror_mode": {
    "name": "ipython",
    "version": 3
   },
   "file_extension": ".py",
   "mimetype": "text/x-python",
   "name": "python",
   "nbconvert_exporter": "python",
   "pygments_lexer": "ipython3",
   "version": "3.11.13"
  },
  "widgets": {
   "application/vnd.jupyter.widget-state+json": {
    "state": {},
    "version_major": 2,
    "version_minor": 0
   }
  }
 },
 "nbformat": 4,
 "nbformat_minor": 5
}

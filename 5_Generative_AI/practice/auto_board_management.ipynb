{
 "cells": [
  {
   "cell_type": "markdown",
   "metadata": {},
   "source": [
    "## 실전 1. 게시판 관리 자동화\n",
    "\n",
    "- 상황 : 하루에 1000건 정도 게시글이 올라오는 취업준비생 카페를 관리하는 운영자로써 작성되는 게시물의 종류를 구분하고, 작성되는 게시물에 따라 적절하게 반응하는 자동화 AI 서비스를 개발하고자 합니다.\n",
    "\n",
    "- 제약사항\n",
    "    1. 게시물은 제목없이 250자의 내용만으로 구성되어있습니다.\n",
    "    2. 게시물의 종류는 홍보 글, 고민 상담 글, 신규 채용공고 글, 합격 후기 글 등이 있습니다.\n",
    "\n",
    "- 응용분야 : 고객 문의 관리 자동화"
   ]
  },
  {
   "cell_type": "code",
   "execution_count": null,
   "metadata": {},
   "outputs": [],
   "source": [
    "from openai import OpenAI\n",
    "from dotenv import load_dotenv\n",
    "import os\n",
    "\n",
    "load_dotenv() # OPEN AI API 키 설정\n",
    "\n",
    "MY_API_KEY = os.environ['OPENAI_API_KEY']\n",
    "client = OpenAI(api_key=MY_API_KEY)"
   ]
  },
  {
   "cell_type": "code",
   "execution_count": 30,
   "metadata": {},
   "outputs": [
    {
     "name": "stdout",
     "output_type": "stream",
     "text": [
      "게시물: \"이번에 새로 오픈한 학원에서 취업 준비를 위한 특별 강의를 진행합니다. 관심 있으신 분들은 연락 주세요!\"\n",
      "종류: \"홍보 글\"\n"
     ]
    }
   ],
   "source": [
    "contents=\"\"\n",
    "category=\"\"\n",
    "\n",
    "system_prompt = \"\"\" \n",
    "- 상황 : 하루에 1000건 정도 게시글이 올라오는 취업준비생 카페를 관리하는 운영자로써 작성되는 게시물의 종류를 구분하고, 작성되는 게시물에 따라 적절하게 반응하는 자동화 AI 서비스를 개발하고자 합니다.\n",
    "\n",
    "- 제약사항\n",
    "    1. 게시물은 제목없이 250자의 내용만으로 구성되어있습니다.\n",
    "    2. 게시물의 종류는 홍보 글, 고민 상담 글, 신규 채용공고 글, 합격 후기 글 등이 있습니다.\n",
    "\n",
    "- 응용분야 : 고객 문의 관리 자동화\n",
    "\"\"\"\n",
    "\n",
    "output_format = \"\"\" \n",
    "출력 형식은 마크다운을 제외한 JSON포맷으로\n",
    "게시물: {contents}\n",
    "종류: {category}\n",
    "\"\"\"\n",
    "\n",
    "response = client.chat.completions.create(\n",
    "    model=\"gpt-4.1-mini\",\n",
    "    messages=[\n",
    "        {'role': 'system', 'content': system_prompt},\n",
    "        {'role': 'user', 'content': output_format},\n",
    "    ],\n",
    "    max_tokens=150,\n",
    "    temperature=0\n",
    ")\n",
    "\n",
    "print(response.choices[0].message.content)"
   ]
  },
  {
   "cell_type": "code",
   "execution_count": null,
   "metadata": {},
   "outputs": [],
   "source": []
  }
 ],
 "metadata": {
  "kernelspec": {
   "display_name": "llm",
   "language": "python",
   "name": "python3"
  },
  "language_info": {
   "codemirror_mode": {
    "name": "ipython",
    "version": 3
   },
   "file_extension": ".py",
   "mimetype": "text/x-python",
   "name": "python",
   "nbconvert_exporter": "python",
   "pygments_lexer": "ipython3",
   "version": "3.11.13"
  }
 },
 "nbformat": 4,
 "nbformat_minor": 2
}

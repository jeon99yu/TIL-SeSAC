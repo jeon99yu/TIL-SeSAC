{
 "cells": [
  {
   "cell_type": "code",
   "execution_count": 1,
   "id": "df1e7575",
   "metadata": {},
   "outputs": [
    {
     "name": "stdout",
     "output_type": "stream",
     "text": [
      "Collecting pymysql\n",
      "  Downloading PyMySQL-1.1.1-py3-none-any.whl.metadata (4.4 kB)\n",
      "Downloading PyMySQL-1.1.1-py3-none-any.whl (44 kB)\n",
      "Installing collected packages: pymysql\n",
      "Successfully installed pymysql-1.1.1\n",
      "Note: you may need to restart the kernel to use updated packages.\n"
     ]
    }
   ],
   "source": [
    "%pip install pymysql"
   ]
  },
  {
   "cell_type": "code",
   "execution_count": 17,
   "id": "afc08504",
   "metadata": {},
   "outputs": [],
   "source": [
    "import pymysql"
   ]
  },
  {
   "cell_type": "code",
   "execution_count": 18,
   "id": "8c9eef32",
   "metadata": {},
   "outputs": [
    {
     "data": {
      "text/plain": [
       "{'DB_HOST': 'localhost',\n",
       " 'DB_PORT': '3306',\n",
       " 'DB_USER': 'jeon99yu',\n",
       " 'DB_PASSWORD': 'test1234',\n",
       " 'DB_DATABASE': 'study',\n",
       " 'GPT_API_KEY': 'asfdagfdshmgpfdskfpasnfodfsapki'}"
      ]
     },
     "execution_count": 18,
     "metadata": {},
     "output_type": "execute_result"
    }
   ],
   "source": [
    "# 1. '.env'파일을 읽어와서, 키=값으로 이뤄진 딕셔너리 생성\n",
    "envs = {}\n",
    "\n",
    "with open('.env', 'r') as f:\n",
    "    for l in f.readlines():\n",
    "        k, v = l.rstrip().split('=')\n",
    "        envs[k] = v\n",
    "        \n",
    "envs    "
   ]
  },
  {
   "cell_type": "code",
   "execution_count": 19,
   "id": "064b57aa",
   "metadata": {},
   "outputs": [],
   "source": [
    "# 2. 접속정보 envs 활용해서 넣기 (port는 정수형으로)\n",
    "conn = pymysql.connect(\n",
    "    host=envs['DB_HOST'], # 19.222.124.233\n",
    "    port=int(envs['DB_PORT']),\n",
    "    user=envs['DB_USER'], \n",
    "    password=envs['DB_PASSWORD'], \n",
    "    database=envs['DB_DATABASE'], \n",
    "    charset='utf8mb4'\n",
    ")"
   ]
  },
  {
   "cell_type": "code",
   "execution_count": null,
   "id": "c4b52021",
   "metadata": {},
   "outputs": [
    {
     "name": "stdout",
     "output_type": "stream",
     "text": [
      "DB_HOST localhost\n",
      "host localhost\n",
      "DB_PORT 3306\n",
      "port 3306\n",
      "DB_USER jeon99yu\n",
      "user jeon99yu\n",
      "DB_PASSWORD test1234\n",
      "password test1234\n",
      "DB_DATABASE study\n",
      "database study\n",
      "GPT_API_KEY asfdagfdshmgpfdskfpasnfodfsapki\n"
     ]
    },
    {
     "data": {
      "text/plain": [
       "{'host': 'localhost',\n",
       " 'port': 3306,\n",
       " 'user': 'jeon99yu',\n",
       " 'password': 'test1234',\n",
       " 'database': 'study'}"
      ]
     },
     "execution_count": 20,
     "metadata": {},
     "output_type": "execute_result"
    }
   ],
   "source": [
    "# 3. envs를 활용하여 db 정보만 담고있는 db_config를 만든 뒤, 다음의 코드가 실행되도록 하기\n",
    "db_config = {} \n",
    "# db_config = {\n",
    "#     'host': envs['DB_HOST'],\n",
    "#     'port': int(envs['DB_PORT']),\n",
    "#     'user': envs['DB_USER'],\n",
    "#     'password': envs['DB_PASSWORD'],\n",
    "#     'database': envs['DB_DATABASE']\n",
    "# }\n",
    "\n",
    "for k, v in envs.items():\n",
    "    print(k,v)\n",
    "\n",
    "    if 'DB' not in k: # 키에 db가 없으면 넘어가고\n",
    "        continue\n",
    "    # _로 분리하여 connect에 필요한 인자이름으로 바꿔줌 (host, port, user, password, database)\n",
    "    k = k.split('_')[1].lower()\n",
    "    print(k,v)\n",
    "    # port 인 경우, v에 대해 int 처리\n",
    "    if k == 'port':\n",
    "        v = int(v)\n",
    "        \n",
    "    db_config[k] = v\n",
    "\n",
    "conn = pymysql.connect(**db_config)\n",
    "db_config"
   ]
  },
  {
   "cell_type": "code",
   "execution_count": 23,
   "id": "d954ca94",
   "metadata": {},
   "outputs": [
    {
     "data": {
      "text/plain": [
       "{'DB_HOST': 'localhost',\n",
       " 'DB_PORT': '3306',\n",
       " 'DB_USER': 'jeon99yu',\n",
       " 'DB_PASSWORD': 'test1234',\n",
       " 'DB_DATABASE': 'study',\n",
       " 'GPT_API_KEY': 'asfdagfdshmgpfdskfpasnfodfsapki'}"
      ]
     },
     "execution_count": 23,
     "metadata": {},
     "output_type": "execute_result"
    }
   ],
   "source": [
    "envs"
   ]
  },
  {
   "cell_type": "code",
   "execution_count": null,
   "id": "1fc1ec5f",
   "metadata": {},
   "outputs": [],
   "source": [
    "with conn.cursor() as cur:\n",
    "    result = cur.execute('INSERT INTO Students (Name, Age, Address) VALUES (%s, %s, %s);', # SQL\n",
    "                         ('david', 34, '경기') #Value\n",
    "                         )\n",
    "conn.commit()"
   ]
  },
  {
   "cell_type": "code",
   "execution_count": 28,
   "id": "0a0534e4",
   "metadata": {},
   "outputs": [],
   "source": [
    "# 한 SQL문을 여러번 실행하고 싶을 때 executemany\n",
    "with conn.cursor() as cur:\n",
    "    result = cur.executemany('INSERT INTO Students (Name, Age, Address) VALUES (%s, %s, %s);', # SQL\n",
    "                         [('david', 34, '경기'),('Joe', 22, '서울'),('zero', 17, '서울')] #Value\n",
    "                         )\n",
    "conn.commit()"
   ]
  },
  {
   "cell_type": "code",
   "execution_count": 32,
   "id": "6e48589e",
   "metadata": {},
   "outputs": [
    {
     "data": {
      "text/plain": [
       "9"
      ]
     },
     "execution_count": 32,
     "metadata": {},
     "output_type": "execute_result"
    }
   ],
   "source": [
    "import pymysql.cursors\n",
    "\n",
    "with conn.cursor(cursor=pymysql.cursors.DictCursor) as cur:\n",
    "    result = cur.execute('SELECT * FROM Students')\n",
    "    datas = cur.fetchall() # fetchmany(size), fetchone()\n",
    "result"
   ]
  },
  {
   "cell_type": "code",
   "execution_count": 33,
   "id": "6f171677",
   "metadata": {},
   "outputs": [
    {
     "data": {
      "text/plain": [
       "[{'StudentID': 1, 'Name': '홍길동', 'Age': 30, 'Address': '인천'},\n",
       " {'StudentID': 2, 'Name': '이연걸', 'Age': 60, 'Address': '서울'},\n",
       " {'StudentID': 3, 'Name': '이몽룡', 'Age': 42, 'Address': '대전'},\n",
       " {'StudentID': 4, 'Name': '성춘향', 'Age': 27, 'Address': '경기'},\n",
       " {'StudentID': 5, 'Name': 'Jason', 'Age': 55, 'Address': '서울'},\n",
       " {'StudentID': 6, 'Name': 'david', 'Age': 34, 'Address': '경기'},\n",
       " {'StudentID': 7, 'Name': 'david', 'Age': 34, 'Address': '경기'},\n",
       " {'StudentID': 8, 'Name': 'Joe', 'Age': 22, 'Address': '서울'},\n",
       " {'StudentID': 9, 'Name': 'zero', 'Age': 17, 'Address': '서울'}]"
      ]
     },
     "execution_count": 33,
     "metadata": {},
     "output_type": "execute_result"
    }
   ],
   "source": [
    "datas"
   ]
  },
  {
   "cell_type": "code",
   "execution_count": 34,
   "id": "f2c0cbee",
   "metadata": {},
   "outputs": [],
   "source": [
    "def insert_student(name, age, address):\n",
    "    with conn.cursor() as cur:\n",
    "        result = cur.execute(\n",
    "            'INSERT INTO Students (Name, Age, Address) VALUES (%s, %s, %s);', # SQL\n",
    "            (name, age, address))\n",
    "    conn.commit()\n",
    "insert_student('이름', 22, '')"
   ]
  },
  {
   "cell_type": "code",
   "execution_count": 35,
   "id": "d3aeb188",
   "metadata": {},
   "outputs": [],
   "source": [
    "conn.close()"
   ]
  },
  {
   "cell_type": "code",
   "execution_count": null,
   "id": "143f5bbf",
   "metadata": {},
   "outputs": [],
   "source": []
  }
 ],
 "metadata": {
  "kernelspec": {
   "display_name": "study",
   "language": "python",
   "name": "study"
  },
  "language_info": {
   "codemirror_mode": {
    "name": "ipython",
    "version": 3
   },
   "file_extension": ".py",
   "mimetype": "text/x-python",
   "name": "python",
   "nbconvert_exporter": "python",
   "pygments_lexer": "ipython3",
   "version": "3.11.13"
  }
 },
 "nbformat": 4,
 "nbformat_minor": 5
}

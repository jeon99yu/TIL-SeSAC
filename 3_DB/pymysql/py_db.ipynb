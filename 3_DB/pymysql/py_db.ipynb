{
 "cells": [
  {
   "cell_type": "code",
   "execution_count": null,
   "id": "df1e7575",
   "metadata": {},
   "outputs": [],
   "source": [
    "%pip install pymysql"
   ]
  },
  {
   "cell_type": "code",
   "execution_count": null,
   "id": "afc08504",
   "metadata": {},
   "outputs": [],
   "source": [
    "import pymysql"
   ]
  },
  {
   "cell_type": "markdown",
   "id": "4030463a",
   "metadata": {},
   "source": [
    "- `.env` 파일을 읽어 envs라는 딕셔너리에 DB_HOST, DB_USER 등 환경 변수 저장"
   ]
  },
  {
   "cell_type": "code",
   "execution_count": null,
   "id": "8c9eef32",
   "metadata": {},
   "outputs": [],
   "source": [
    "# 1. '.env'파일을 읽어와서, 키=값으로 이뤄진 딕셔너리 생성\n",
    "envs = {}\n",
    "\n",
    "with open('.env', 'r') as f:\n",
    "    for l in f.readlines():\n",
    "        k, v = l.rstrip().split('=')\n",
    "        envs[k] = v\n",
    "        \n",
    "envs    "
   ]
  },
  {
   "cell_type": "markdown",
   "id": "1940b28f",
   "metadata": {},
   "source": [
    "- `envs`를 이용해 pymysql로 DB 연결 (conn 객체 생성)"
   ]
  },
  {
   "cell_type": "code",
   "execution_count": null,
   "id": "064b57aa",
   "metadata": {},
   "outputs": [],
   "source": [
    "# 2. 접속정보 envs 활용해서 넣기 (port는 정수형으로)\n",
    "conn = pymysql.connect(\n",
    "    host=envs['DB_HOST'], # 19.222.124.233\n",
    "    port=int(envs['DB_PORT']),\n",
    "    user=envs['DB_USER'], \n",
    "    password=envs['DB_PASSWORD'], \n",
    "    database=envs['DB_DATABASE'], \n",
    "    charset='utf8mb4'\n",
    ")"
   ]
  },
  {
   "cell_type": "markdown",
   "id": "3dedc138",
   "metadata": {},
   "source": [
    "- `envs`에서 DB_로 시작하는 값만 추출해 db_config 딕셔너리로 정리 후 DB 재연결"
   ]
  },
  {
   "cell_type": "code",
   "execution_count": null,
   "id": "c4b52021",
   "metadata": {},
   "outputs": [],
   "source": [
    "# 3. envs를 활용하여 db 정보만 담고있는 db_config를 만든 뒤, 다음의 코드가 실행되도록 하기\n",
    "db_config = {} \n",
    "# db_config = {\n",
    "#     'host': envs['DB_HOST'],\n",
    "#     'port': int(envs['DB_PORT']),\n",
    "#     'user': envs['DB_USER'],\n",
    "#     'password': envs['DB_PASSWORD'],\n",
    "#     'database': envs['DB_DATABASE']\n",
    "# }\n",
    "\n",
    "for k, v in envs.items():\n",
    "    print(k,v)\n",
    "\n",
    "    if 'DB' not in k: # 키에 db가 없으면 넘어가고\n",
    "        continue\n",
    "    # _로 분리하여 connect에 필요한 인자이름으로 바꿔줌 (host, port, user, password, database)\n",
    "    k = k.split('_')[1].lower()\n",
    "    print(k,v)\n",
    "    # port 인 경우, v에 대해 int 처리\n",
    "    if k == 'port':\n",
    "        v = int(v)\n",
    "        \n",
    "    db_config[k] = v\n",
    "\n",
    "conn = pymysql.connect(**db_config)\n",
    "db_config"
   ]
  },
  {
   "cell_type": "code",
   "execution_count": null,
   "id": "d954ca94",
   "metadata": {},
   "outputs": [],
   "source": [
    "envs"
   ]
  },
  {
   "cell_type": "markdown",
   "id": "756f4e34",
   "metadata": {},
   "source": [
    "- `INSERT` 문을 실행하여 학생 1명 추가"
   ]
  },
  {
   "cell_type": "code",
   "execution_count": null,
   "id": "1fc1ec5f",
   "metadata": {},
   "outputs": [],
   "source": [
    "with conn.cursor() as cur:\n",
    "    result = cur.execute('INSERT INTO Students (Name, Age, Address) VALUES (%s, %s, %s);', # SQL\n",
    "                         ('david', 34, '경기') #Value\n",
    "                         )\n",
    "conn.commit()"
   ]
  },
  {
   "cell_type": "markdown",
   "id": "0d3800d1",
   "metadata": {},
   "source": [
    "- `executemany()`로 여러 학생을 한 번에 추가"
   ]
  },
  {
   "cell_type": "code",
   "execution_count": null,
   "id": "0a0534e4",
   "metadata": {},
   "outputs": [],
   "source": [
    "# 한 SQL문을 여러번 실행하고 싶을 때 executemany\n",
    "with conn.cursor() as cur:\n",
    "    result = cur.executemany('INSERT INTO Students (Name, Age, Address) VALUES (%s, %s, %s);', # SQL\n",
    "                         [('david', 34, '경기'),('Joe', 22, '서울'),('zero', 17, '서울')] #Value\n",
    "                         )\n",
    "conn.commit()"
   ]
  },
  {
   "cell_type": "markdown",
   "id": "ab24f683",
   "metadata": {},
   "source": [
    "- `SELECT * FROM Students`로 전체 데이터 조회 (DictCursor로 딕셔너리 형태 반환)"
   ]
  },
  {
   "cell_type": "code",
   "execution_count": null,
   "id": "6e48589e",
   "metadata": {},
   "outputs": [],
   "source": [
    "import pymysql.cursors\n",
    "\n",
    "with conn.cursor(cursor=pymysql.cursors.DictCursor) as cur:\n",
    "    result = cur.execute('SELECT * FROM Students')\n",
    "    datas = cur.fetchall() # fetchmany(size), fetchone()\n",
    "result"
   ]
  },
  {
   "cell_type": "code",
   "execution_count": null,
   "id": "6f171677",
   "metadata": {},
   "outputs": [],
   "source": [
    "datas"
   ]
  },
  {
   "cell_type": "markdown",
   "id": "6b75bb9c",
   "metadata": {},
   "source": [
    "- `insert_student()` 함수를 통해 재사용 가능한 삽입 기능 정의"
   ]
  },
  {
   "cell_type": "code",
   "execution_count": null,
   "id": "f2c0cbee",
   "metadata": {},
   "outputs": [],
   "source": [
    "def insert_student(name, age, address):\n",
    "    with conn.cursor() as cur:\n",
    "        result = cur.execute(\n",
    "            'INSERT INTO Students (Name, Age, Address) VALUES (%s, %s, %s);', # SQL\n",
    "            (name, age, address))\n",
    "    conn.commit()\n",
    "insert_student('이름', 22, '')"
   ]
  },
  {
   "cell_type": "markdown",
   "id": "25a731cf",
   "metadata": {},
   "source": [
    "- `conn.close()`로 연결 종료"
   ]
  },
  {
   "cell_type": "code",
   "execution_count": null,
   "id": "d3aeb188",
   "metadata": {},
   "outputs": [],
   "source": [
    "conn.close()"
   ]
  },
  {
   "cell_type": "code",
   "execution_count": null,
   "id": "143f5bbf",
   "metadata": {},
   "outputs": [],
   "source": []
  }
 ],
 "metadata": {
  "kernelspec": {
   "display_name": "study",
   "language": "python",
   "name": "study"
  },
  "language_info": {
   "codemirror_mode": {
    "name": "ipython",
    "version": 3
   },
   "file_extension": ".py",
   "mimetype": "text/x-python",
   "name": "python",
   "nbconvert_exporter": "python",
   "pygments_lexer": "ipython3",
   "version": "3.11.13"
  }
 },
 "nbformat": 4,
 "nbformat_minor": 5
}

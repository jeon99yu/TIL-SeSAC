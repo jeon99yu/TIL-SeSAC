{
 "cells": [
  {
   "cell_type": "markdown",
   "id": "cd1be877",
   "metadata": {},
   "source": [
    "# Selenium\n",
    "- 셀레니움은 웹드라이버를 활용해 웹사이트를 탐색, 수집, 조작할 수 있는 라이브러리"
   ]
  },
  {
   "cell_type": "code",
   "execution_count": 4,
   "id": "f74fb5d7",
   "metadata": {},
   "outputs": [],
   "source": [
    "from selenium import webdriver\n",
    "from selenium.webdriver.chrome.service import Service\n",
    "from webdriver_manager.chrome import ChromeDriverManager\n",
    "from selenium.webdriver.common.by import By\n",
    "\n",
    "driver = webdriver.Chrome(\n",
    "    service=Service(ChromeDriverManager().install()) )\n"
   ]
  },
  {
   "cell_type": "markdown",
   "id": "f48446c3",
   "metadata": {},
   "source": [
    "#### driver.get(): driver 객체에서 get 메소드를 통해 특정 웹사이트에 접속가능\n",
    "#### find_element(): 한개의 태그만 선택\n",
    "#### find_elements(): 일치하는 모든 태그 선택\n",
    "#### By\n",
    "- CSS_SELECTOR\n",
    "- TAG_NAME\n",
    "- ID\n",
    "- CLASS_NAME\n",
    "- XPATH ★"
   ]
  },
  {
   "cell_type": "markdown",
   "id": "eb070e71",
   "metadata": {},
   "source": [
    "- Selenium은 request에 비해 속도가 느리고 쓰는만큼 메모리를 잡아먹기 때문에 너무 많은 요청을 불러올 경우 중간에 꺼질 수 있는 위험이 있다"
   ]
  },
  {
   "cell_type": "markdown",
   "id": "b3629d85",
   "metadata": {},
   "source": [
    "### 예제01\n",
    "> 디자인정글 메인페이지 데이터셀레니움으로 크롤링"
   ]
  },
  {
   "cell_type": "code",
   "execution_count": 5,
   "id": "e1648e9c",
   "metadata": {},
   "outputs": [],
   "source": [
    "driver.get('https://www.jungle.co.kr/')"
   ]
  },
  {
   "cell_type": "code",
   "execution_count": null,
   "id": "67278cf4",
   "metadata": {},
   "outputs": [
    {
     "data": {
      "text/plain": [
       "35"
      ]
     },
     "execution_count": 13,
     "metadata": {},
     "output_type": "execute_result"
    }
   ],
   "source": [
    "elem = driver.find_element(By.CLASS_NAME, 'thumb_list')\n",
    "elem.find_elements(By.TAG_NAME, 'li')\n",
    "\n",
    "elems = driver.find_elements(By.CSS_SELECTOR, '.thumb_list > li')\n",
    "len(elems)"
   ]
  },
  {
   "cell_type": "code",
   "execution_count": null,
   "id": "1902754e",
   "metadata": {},
   "outputs": [
    {
     "name": "stdout",
     "output_type": "stream",
     "text": [
      "[디자인이슈] 203인포그래픽연구소, 미국 PRINT Awards 2025 데이터 시각화 부문 2·3위 쾌거 \n",
      "https://www.jungle.co.kr/magazine/206904\n",
      "[디자인정글 칼럼] “유럽의 농촌 마을은 왜 이렇게 아름다울까?”\n",
      "https://www.jungle.co.kr/magazine/206903\n",
      "[디자인정글 칼럼] 대통령실 로고 교체, ‘실용주의 디자인’의 한 걸음\n",
      "https://www.jungle.co.kr/magazine/206902\n",
      "테디 베어에서 영감받은 엑소 카이와 구찌의 컬래버레이션 \n",
      "https://www.jungle.co.kr/magazine/202570\n",
      "2025 보조기기 아이디어 공모전025 보조기기 아이디어 공모전\n",
      "https://www.jungle.co.kr/contest/208759\n",
      "서울디자인어워드 2024\n",
      "https://www.jungle.co.kr/exhibit/21266\n",
      "문화, 예술가로 구성된 FC더조이플러스 축구단, 스포츠 및 문화예술 분야 민간 교류 활동 펼쳐 \n",
      "https://www.jungle.co.kr/magazine/206246\n",
      "락앤락, 세계 환경의 날 기념 ‘라인프렌즈 에디션’ 출시\n",
      "https://www.jungle.co.kr/magazine/206245\n",
      "광주요, 맑은 소리로 마음을 울리는 구슬잔 출시\n",
      "https://www.jungle.co.kr/magazine/206243\n",
      "'보브(VOV)' 서핑 브랜드 체험 공간 오픈\n",
      "https://www.jungle.co.kr/magazine/206242\n",
      "[다이슨] 국제 엔지니어링 및 디자인 공모전 제임스 다이슨 어워드 2024 참가자 모집\n",
      "https://www.jungle.co.kr/contest/207280\n",
      "[추천공모전] 2025 대한민국 편지쓰기 공모전(~7. 21)\n",
      "https://www.jungle.co.kr/contest/208805\n",
      "[포커스 인터뷰] ‘뮤지엄의 하이브리드화’ 통해 ‘공동(Public)의 뮤지엄’ 이끌어 갈 것_ 애니메이션박물관 최경희 관장\n",
      "https://www.jungle.co.kr/magazine/206906\n",
      "[문화체육관광부] 2025년 문화 디지털혁신 및 데이터 활용 공모전\n",
      "https://www.jungle.co.kr/contest/208804\n",
      "[추천공모전] 2025 서울교통공사 AI 그림 공모전(~7/14)\n",
      "https://www.jungle.co.kr/contest/208803\n",
      "2025년 청소년 안전홍보단 모집 안내\n",
      "https://www.jungle.co.kr/contest/208802\n",
      "[강남구X문화예술] 강남구 문화예술 기획자 양성과정\n",
      "https://www.jungle.co.kr/contest/208801\n",
      "[추천공모전] 제8회 팩트체킹 공모전(~09.28)\n",
      "https://www.jungle.co.kr/contest/208800\n",
      "2025 라이징스타를 찾아라\n",
      "https://www.jungle.co.kr/contest/208799\n",
      "[추천공모전] 2025 한걸음센터 홍보콘텐츠 공모전 (~07.11)\n",
      "https://www.jungle.co.kr/contest/208798\n",
      "[고용노동부x한국취업센터] 실무진 멘토링+포트폴리오 완성! AI·마케팅 프로젝트 청년 모집\n",
      "https://www.jungle.co.kr/contest/208797\n",
      "전주 ICT 디지털신기술 아이디어 공모전\n",
      "https://www.jungle.co.kr/contest/208796\n",
      "2025년 대구 웹툰기업 지원사업(제작지원 2차) 참가기업 모집공고\n",
      "https://www.jungle.co.kr/contest/208795\n",
      "제2회 이달의 멸종위기 야생생물 세밀화 공모전\n",
      "https://www.jungle.co.kr/contest/208794\n",
      "[포커스 인터뷰] “새로운 관점과 경험을 제공하다”, 로얄앤코의 문화예술사업 - 로얄앤코 박소영 문화사업본부장\n",
      "https://www.jungle.co.kr/magazine/206905\n",
      "2025 길사진 공모전\n",
      "https://www.jungle.co.kr/contest/208793\n",
      "2025 세계신안보포럼 서포터즈 모집\n",
      "https://www.jungle.co.kr/contest/208792\n",
      "2025 리바이스 테일러 디자인 콘테스트\n",
      "https://www.jungle.co.kr/contest/208790\n",
      "[유아 공모전] 제10회 유아흡연위해예방교육 우수사례 공모전\n",
      "https://www.jungle.co.kr/contest/208789\n",
      "[MBC] 디지털 선도기업 ACADEMY 교육생 모집 (~07/25) 전액 무료!!\n",
      "https://www.jungle.co.kr/contest/208788\n",
      "2025 청년포럼 하계 워크샵\n",
      "https://www.jungle.co.kr/contest/208787\n",
      "제1회 대한민국 등대 그림 공모전\n",
      "https://www.jungle.co.kr/contest/208786\n",
      "[추천공모전] 2025 뉴스빅데이터 해커톤 (~07.30)\n",
      "https://www.jungle.co.kr/contest/208784\n",
      "[굿네이버스] 취업준비 원스탑 대외활동 인성업클 15기 모집(~7/28)\n",
      "https://www.jungle.co.kr/contest/208783\n",
      "[굿네이버스 서울북부사업본부] 캠페이너 모집 (~7월 13일)\n",
      "https://www.jungle.co.kr/contest/208782\n"
     ]
    }
   ],
   "source": [
    "for elem in elems:\n",
    "    title_elem = elem.find_element(By.CSS_SELECTOR, '.title')\n",
    "    a_elem = elem.find_element(By.CSS_SELECTOR, 'a')\n",
    "    \n",
    "    print(title_elem.text)\n",
    "    print(a_elem.get_attribute('href'))\n",
    "    # a_tag.atts['href']"
   ]
  },
  {
   "cell_type": "code",
   "execution_count": 22,
   "id": "151aaacd",
   "metadata": {},
   "outputs": [],
   "source": [
    "driver.find_element(By.CSS_SELECTOR, '#more').click()"
   ]
  },
  {
   "cell_type": "code",
   "execution_count": 25,
   "id": "e0bbaf02",
   "metadata": {},
   "outputs": [],
   "source": [
    "driver.find_element(By.CSS_SELECTOR, '#top-search').click()"
   ]
  },
  {
   "cell_type": "code",
   "execution_count": 26,
   "id": "c002a98e",
   "metadata": {},
   "outputs": [],
   "source": [
    "driver.find_element(By.CSS_SELECTOR, '#top-search-keyword').send_keys('파이썬')"
   ]
  },
  {
   "cell_type": "code",
   "execution_count": 29,
   "id": "dc2c7966",
   "metadata": {},
   "outputs": [],
   "source": [
    "from selenium.webdriver.common.keys import Keys\n",
    "\n",
    "driver.find_element(By.CSS_SELECTOR, '#top-search-keyword').send_keys(Keys.ENTER)"
   ]
  },
  {
   "cell_type": "code",
   "execution_count": 31,
   "id": "801221fa",
   "metadata": {},
   "outputs": [],
   "source": [
    "driver.execute_script('window.scrollTo(0,document.body.scrollHeight);')"
   ]
  },
  {
   "cell_type": "code",
   "execution_count": 32,
   "id": "55459715",
   "metadata": {},
   "outputs": [],
   "source": [
    "driver.quit()"
   ]
  },
  {
   "cell_type": "code",
   "execution_count": null,
   "id": "a8db2f7a",
   "metadata": {},
   "outputs": [],
   "source": [
    "try:\n",
    "    driver = webdriver.Chrome(\n",
    "        service=Service( (ChromeDriverManager().install()))\n",
    "    )\n",
    "    # 디자인 정글 접속\n",
    "    driver.get('https://www.jungle.co.kr/')\n",
    "    \n",
    "    # 스크롤, 더보기 버튼 클릭\n",
    "    driver.execute_script('window.scrollTo(0,document.body.scrollHeight);')\n",
    "    driver.find_element(By.CSS_SELECTOR, '#more').click()\n",
    "    \n",
    "    # 데이터 가져오기 (find_elements)\n",
    "    elems = driver.find_elements(By.CSS_SELECTOR, '.thumb_list > li')\n",
    "    print(len(elems))\n",
    "    \n",
    "except Exception as e:\n",
    "    \n",
    "    # 특정 코드 실행 이전의 실행된 코드를 출력\n",
    "    import traceback\n",
    "    traceback.print_exc(elems)\n",
    "    print('오류가 발생했습니다', e)"
   ]
  },
  {
   "cell_type": "markdown",
   "id": "c74b055c",
   "metadata": {},
   "source": [
    "### 예제02\n",
    "> 로켓펀치 채용페이지 총10페이지 셀레니움으로 크롤링\\\n",
    "> (회사명, 회사설명, 채용정보(회사별 여러개))"
   ]
  },
  {
   "cell_type": "code",
   "execution_count": 11,
   "id": "d090f0f7",
   "metadata": {},
   "outputs": [
    {
     "data": {
      "text/plain": [
       "8"
      ]
     },
     "execution_count": 11,
     "metadata": {},
     "output_type": "execute_result"
    }
   ],
   "source": [
    "from selenium import webdriver\n",
    "from selenium.webdriver.chrome.service import Service\n",
    "from webdriver_manager.chrome import ChromeDriverManager\n",
    "from selenium.webdriver.common.by import By\n",
    "import time\n",
    "\n",
    "driver = webdriver.Chrome(\n",
    "    service=Service(ChromeDriverManager().install()) )\n",
    "\n",
    "driver.get('https://www.rocketpunch.com/jobs')\n",
    "\n",
    "time.sleep(2) # WebdriverWait\n",
    "\n",
    "# 첫페이지 데이터 체크\n",
    "elems = driver.find_elements(By.CSS_SELECTOR, '#job-list > div > div > div')\n",
    "len(elems)"
   ]
  },
  {
   "cell_type": "code",
   "execution_count": 12,
   "id": "01eb192a",
   "metadata": {},
   "outputs": [],
   "source": [
    "\n",
    "# elems = len(driver.find_elements(By.CSS_SELECTOR, '#job-list > div > div > div'))\n",
    "# elems[-1].text.split('\\n')\n",
    "\n",
    "# 첫 페이지의 데이터를 저장한다\n",
    "result = []\n",
    "\n",
    "result.extend(elems) # 반복문 돌려서 append 써도 됨"
   ]
  },
  {
   "cell_type": "code",
   "execution_count": null,
   "id": "b2b8f1b1",
   "metadata": {},
   "outputs": [],
   "source": [
    "# 스크롤 1회 수행\n",
    "elem = len(driver.find_elements(By.CSS_SELECTOR, '#job-list > div > div > div:last-child'))\n",
    "driver.execute_script('arguments[0].scrollIntoView();',elem)\n",
    "# 방법 2\n",
    "# elem = driver.find_element(By.CSS_SELECTOR, '#job-list')\n",
    "# driver.execute_script('arguments[0].scrollTop = arguments[0].scrollHeight', elem)"
   ]
  },
  {
   "cell_type": "code",
   "execution_count": 14,
   "id": "b6c7b0b7",
   "metadata": {},
   "outputs": [],
   "source": [
    "# 로그인 창 닫기\n",
    "login_elem = driver.find_element(By.CSS_SELECTOR, '.pos_fixed')\n",
    "driver.execute_script('arguments[0].remove()', login_elem)"
   ]
  },
  {
   "cell_type": "code",
   "execution_count": null,
   "id": "5ea12584",
   "metadata": {},
   "outputs": [],
   "source": [
    "# 사라진 부분 제외하고 새로 추가된 부분의 데이터를 저장한다\n",
    "elems = len(driver.find_elements(By.CSS_SELECTOR, '#job-list > div > div > div'))\n",
    "result.extend(elems)"
   ]
  },
  {
   "cell_type": "code",
   "execution_count": null,
   "id": "9e1bea49",
   "metadata": {},
   "outputs": [],
   "source": [
    "from selenium import webdriver\n",
    "from selenium.webdriver.chrome.service import Service\n",
    "from webdriver_manager.chrome import ChromeDriverManager\n",
    "from selenium.webdriver.common.by import By\n",
    "import time\n",
    "\n",
    "driver = webdriver.Chrome(\n",
    "    service=Service(ChromeDriverManager().install()) )\n",
    "\n",
    "driver.get('https://www.rocketpunch.com/jobs')\n",
    "\n",
    "time.sleep(2) # WebdriverWait\n",
    "\n",
    "# 첫번째 공고는 들\n",
    "elems = driver.find_elements(By.CSS_SELECTOR, '#job-list > div > div > div')\n",
    "len(elems)\n",
    "\n",
    "result = []\n",
    "\n",
    "for i in range(10):\n",
    "    \n",
    "    # 공고 추가로 가져오고\n",
    "    elems = len(driver.find_elements(By.CSS_SELECTOR, '#job-list > div > div > div'))\n",
    "    len(elems)\n",
    "    \n",
    "    print(elems[-1].text)\n",
    "    # 결과 담아주고 -> 디버깅 중 오류발생\n",
    "    # 원인) 요소는 스크롤이 되면 사용할 수 없는 상태가 됨(로켓펀치 기준) StaleElementReferenceException 에러발생\n",
    "    # 결과) 그 안에 있는 .text 속성을 뽑아서 문자열을 저장해놓는다\n",
    "    for elem in elems:\n",
    "        # 중복체크\n",
    "        if elem.text not in result:\n",
    "            result.append(elem.text) # 문자열 자체를 그냥 넣음 (후처리 필요)\n",
    "            \n",
    "        print(elem.get_attribute('data-index'))\n",
    "        \n",
    "        p_tags = elem.find_elements(By.CSS_SELECTOR, 'p')\n",
    "        company_name = p_tags[0].text\n",
    "        job_name = p_tags[1].text\n",
    "        \n",
    "            \n",
    "        # 중복 체크 방안2    \n",
    "        # my_data = set()\n",
    "        # my_data.add(elem.text)\n",
    "        \n",
    "        temp = elem.text.split('\\n')\n",
    "        company_name = temp[0]\n",
    "        job_name = temp[1]\n",
    "        \n",
    "        if len(temp) == 7:\n",
    "            skills = temp[2]\n",
    "        else:\n",
    "            skills = ''\n",
    "\n",
    "        result.append({\n",
    "            'company_name': company_name,\n",
    "            'job_name': job_name,\n",
    "            'skills': skills\n",
    "        })\n",
    "        \n",
    "    # 스크롤\n",
    "    elem = driver.find_element(By.CSS_SELECTOR, '#job-list > div > div > div:last-child')\n",
    "    driver.execute_script('arguments[0].scrollIntoView();', elem)\n",
    "    \n",
    "    time.sleep(1) # time은 스크롤 시 데이터가 스크롤보다 더 빨리 가져올때 사용    \n",
    "\n",
    "len(result)\n"
   ]
  },
  {
   "cell_type": "code",
   "execution_count": null,
   "id": "29e19cbd",
   "metadata": {},
   "outputs": [],
   "source": [
    "duplicate_checker = set()\n",
    "final_result = []\n",
    "\n",
    "for r in result:\n",
    "    if ''.join(r.values()) in duplicate_checker:\n",
    "        continue\n",
    "    else:\n",
    "        duplicate_checker.add(''.join(r.values()))\n",
    "        final_result.append(r)"
   ]
  }
 ],
 "metadata": {
  "kernelspec": {
   "display_name": "study",
   "language": "python",
   "name": "python3"
  },
  "language_info": {
   "codemirror_mode": {
    "name": "ipython",
    "version": 3
   },
   "file_extension": ".py",
   "mimetype": "text/x-python",
   "name": "python",
   "nbconvert_exporter": "python",
   "pygments_lexer": "ipython3",
   "version": "3.11.13"
  }
 },
 "nbformat": 4,
 "nbformat_minor": 5
}

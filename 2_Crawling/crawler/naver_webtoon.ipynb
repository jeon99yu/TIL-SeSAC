{
 "cells": [
  {
   "cell_type": "markdown",
   "id": "27a9fee8",
   "metadata": {},
   "source": [
    "### 1. 네이버 웹툰 크롤링"
   ]
  },
  {
   "cell_type": "markdown",
   "id": "e9fdfc06",
   "metadata": {},
   "source": [
    "- 크롤링 과정"
   ]
  },
  {
   "cell_type": "code",
   "execution_count": null,
   "id": "68858e59",
   "metadata": {},
   "outputs": [
    {
     "data": {
      "text/plain": [
       "200"
      ]
     },
     "execution_count": 5,
     "metadata": {},
     "output_type": "execute_result"
    }
   ],
   "source": [
    "import requests\n",
    "\n",
    "# 동적웹은 url을 network에서 확인\n",
    "res = requests.get('https://comic.naver.com/api/webtoon/titlelist/weekday?order=user')\n",
    "res.status_code "
   ]
  },
  {
   "cell_type": "code",
   "execution_count": 6,
   "id": "45c8dd86",
   "metadata": {},
   "outputs": [
    {
     "data": {
      "text/plain": [
       "418"
      ]
     },
     "execution_count": 6,
     "metadata": {},
     "output_type": "execute_result"
    }
   ],
   "source": [
    "res.text.find('김부장') # 동적 웹/정적 웹 여부 확인"
   ]
  },
  {
   "cell_type": "code",
   "execution_count": null,
   "id": "4d2acc5d",
   "metadata": {},
   "outputs": [],
   "source": [
    "res.json()"
   ]
  },
  {
   "cell_type": "code",
   "execution_count": null,
   "id": "7e13c1ea",
   "metadata": {},
   "outputs": [],
   "source": [
    "res.json()['titleListMap']"
   ]
  },
  {
   "cell_type": "markdown",
   "id": "9266f911",
   "metadata": {},
   "source": [
    "##### 전체코드"
   ]
  },
  {
   "cell_type": "code",
   "execution_count": null,
   "id": "18344b0f",
   "metadata": {},
   "outputs": [],
   "source": [
    "import requests\n",
    "\n",
    "res = requests.get('https://comic.naver.com/api/webtoon/titlelist/weekday?order=user')\n",
    "contents = res.json()['titleListMap']\n",
    "\n",
    "result = []\n",
    "\n",
    "for day, webtoons in contents.items():\n",
    "    week = {\n",
    "        'MONDAY': '월', 'TUESDAY': '화', 'WEDNESDAY': '수',\n",
    "        'THURSDAY': '목', 'FRIDAY': '금', 'SATURDAY': '토', 'SUNDAY': '일'\n",
    "    }\n",
    "\n",
    "    for webtoon in webtoons:\n",
    "        result.append({\n",
    "            '제목': webtoon['titleName'],\n",
    "            '링크': f\"https://comic.naver.com/webtoon/list?titleId={webtoon['titleId']}\",\n",
    "            '요일': week\n",
    "        })\n",
    "\n",
    "result\n"
   ]
  },
  {
   "cell_type": "markdown",
   "id": "dd9b0fb7",
   "metadata": {},
   "source": [
    "### 2. 로켓펀치 채용 크롤링"
   ]
  },
  {
   "cell_type": "markdown",
   "id": "2942a03e",
   "metadata": {},
   "source": [
    "hint)\n",
    "- headers에 키-값이 더 필요함 (x-...)\n",
    "- 결과물은 기업명, 채용공고명만 정리할 것\n",
    "- 다음 페이지 가져올 때 pageToken이 어디에 담겨있는지 확인\n",
    "- 맨 첫 번째 페이지는 pageToken이 필요한지 확인"
   ]
  },
  {
   "cell_type": "markdown",
   "id": "47d48859",
   "metadata": {},
   "source": [
    "> 채용공고"
   ]
  },
  {
   "cell_type": "code",
   "execution_count": null,
   "id": "0bf26e4d",
   "metadata": {},
   "outputs": [],
   "source": [
    "import json\n",
    "\n",
    "res = requests.get('https://www.rocketpunch.com/api/proxy/jobs?sort=DATE_DESC&pageToken=HWXBoL3REcVBZwjByQ8-HQn052uJ-7tFzzh-kxHkhP56f5H_SvyQIKal2hSz7Hld',\n",
    "                   headers = {\n",
    "                       'user-agent' : 'Mozilla/5.0 (Windows NT 10.0; Win64; x64) AppleWebKit/537.36 (KHTML, like Gecko) Chrome/138.0.0.0 Safari/537.36 Edg/138.0.0.0',\n",
    "                   'x-rocket-client-id' : '63c20c18-7a24-4b2e-994e-ebec8c6139ce',\n",
    "                    'x-rocket-client-type' : 'WEB',\n",
    "                     'x-rocket-device-type' : 'PC',\n",
    "                      'x-rocket-os-type' : 'WIN' ,\n",
    "                      'x-rocket-api-version': ''})\n",
    "res.status_code\n",
    "\n",
    "data = json.loads(res.text)\n",
    "jobs = data['items']\n",
    "result = []\n",
    "\n",
    "for job in jobs:\n",
    "    result.append({\n",
    "        'name':job['companyName'],\n",
    "        'description':job['description'],\n",
    "        'jobs': job['title']\n",
    "    })\n",
    "    \n",
    "result"
   ]
  },
  {
   "cell_type": "markdown",
   "id": "9e941b0e",
   "metadata": {},
   "source": [
    "### 3. 로켓펀치 채용 크롤링"
   ]
  },
  {
   "cell_type": "markdown",
   "id": "03dab92d",
   "metadata": {},
   "source": [
    "> 광고 채용공고 + 총 10페이지 "
   ]
  },
  {
   "cell_type": "code",
   "execution_count": null,
   "id": "318f381f",
   "metadata": {},
   "outputs": [],
   "source": [
    "result = []\n",
    "data[\"pageToken\"] = ''\n",
    "\n",
    "for i in range(10):\n",
    "    res = requests.get(f'https://www.rocketpunch.com/api/proxy/jobs?sort=DATE_DESC&pageToken={data[\"pageToken\"]}',\n",
    "                   headers = {\n",
    "                       'user-agent' : 'Mozilla/5.0 (Windows NT 10.0; Win64; x64) AppleWebKit/537.36 (KHTML, like Gecko) Chrome/138.0.0.0 Safari/537.36 Edg/138.0.0.0',\n",
    "                       'x-rocket-client-id' : '63c20c18-7a24-4b2e-994e-ebec8c6139ce',\n",
    "                       'x-rocket-client-type' : 'WEB',\n",
    "                       'x-rocket-device-type' : 'PC',\n",
    "                       'x-rocket-os-type' : 'WIN' ,\n",
    "                       'x-rocket-api-version': ''})\n",
    "    \n",
    "    data = json.loads(res.text)\n",
    "    jobs = data['items']\n",
    "\n",
    "    for job in jobs:\n",
    "        result.append({\n",
    "            'name':job['companyName'],\n",
    "            'description':job['description'],\n",
    "            'jobs': job['title']\n",
    "        })\n",
    "    \n",
    "result"
   ]
  },
  {
   "cell_type": "code",
   "execution_count": null,
   "id": "c3524f14",
   "metadata": {},
   "outputs": [],
   "source": []
  }
 ],
 "metadata": {
  "kernelspec": {
   "display_name": "study",
   "language": "python",
   "name": "study"
  },
  "language_info": {
   "codemirror_mode": {
    "name": "ipython",
    "version": 3
   },
   "file_extension": ".py",
   "mimetype": "text/x-python",
   "name": "python",
   "nbconvert_exporter": "python",
   "pygments_lexer": "ipython3",
   "version": "3.7.16"
  }
 },
 "nbformat": 4,
 "nbformat_minor": 5
}
